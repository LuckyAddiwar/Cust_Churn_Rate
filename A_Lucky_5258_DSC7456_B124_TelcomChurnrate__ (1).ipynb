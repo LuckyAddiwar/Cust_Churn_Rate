{
  "nbformat": 4,
  "nbformat_minor": 0,
  "metadata": {
    "colab": {
      "provenance": []
    },
    "kernelspec": {
      "name": "python3",
      "display_name": "Python 3"
    },
    "language_info": {
      "name": "python"
    }
  },
  "cells": [
    {
      "cell_type": "markdown",
      "source": [
        "This dataset belongs telcom_customers .This is Binary Classification problem as we have predict for churn rate of Customers\n",
        "\n"
      ],
      "metadata": {
        "id": "pM8APWht-Wg7"
      }
    },
    {
      "cell_type": "markdown",
      "source": [
        "**Problem Statement**: A telecom company has the data related to its subscribers. We wants to find\n",
        "out potential churn customers to find out the potential churners and to turn them into regular customers\n",
        "by retaining them"
      ],
      "metadata": {
        "id": "93D-T0Cr93Cq"
      }
    },
    {
      "cell_type": "markdown",
      "source": [
        "Error Matric To Check :Recall ,as we want to know who are churning out from matric so we hav to check where model is predicting there not churning out but actually they are churning out.\n",
        "\n",
        "\n"
      ],
      "metadata": {
        "id": "9HUwha4IlJ10"
      }
    },
    {
      "cell_type": "code",
      "execution_count": null,
      "metadata": {
        "id": "QwOQlMPOe91a"
      },
      "outputs": [],
      "source": [
        "#Importing Libraries\n",
        "import pandas as pd\n",
        "import numpy as np\n",
        "import matplotlib.pyplot as plot\n",
        "import seaborn as sns"
      ]
    },
    {
      "cell_type": "code",
      "source": [
        "import warnings\n",
        "warnings.filterwarnings(\"ignore\")"
      ],
      "metadata": {
        "id": "NHWV1P6Hfce7"
      },
      "execution_count": null,
      "outputs": []
    },
    {
      "cell_type": "code",
      "source": [
        "##Importing drive and mounting \n",
        "from google.colab import drive\n",
        "drive.mount('/content/drive')"
      ],
      "metadata": {
        "colab": {
          "base_uri": "https://localhost:8080/"
        },
        "id": "ugmMHaj3ov5X",
        "outputId": "fea278f9-88e1-479e-fbbd-6b008254573d"
      },
      "execution_count": null,
      "outputs": [
        {
          "output_type": "stream",
          "name": "stdout",
          "text": [
            "Mounted at /content/drive\n"
          ]
        }
      ]
    },
    {
      "cell_type": "markdown",
      "source": [
        "We have 4 dataset which are belongs to same set."
      ],
      "metadata": {
        "id": "SXGOEiZX-6WU"
      }
    },
    {
      "cell_type": "code",
      "source": [
        "Telco_Cust_1=pd.read_csv(\"/content/drive/MyDrive/ML_Project1/Telco_Customer_Call_Details1.csv\")\n",
        "Telco_Cust_2=pd.read_csv(\"/content/drive/MyDrive/ML_Project1/Telco_Customer_Call_Details2.csv\")\n",
        "Telco_churn_1=pd.read_csv(\"/content/drive/MyDrive/ML_Project1/Telco_Churn_Details1.csv\")\n",
        "Telco_churn_2=pd.read_csv(\"/content/drive/MyDrive/ML_Project1/Telco_Churn_Details2.csv\")"
      ],
      "metadata": {
        "id": "-HSqJyJmpFYW"
      },
      "execution_count": null,
      "outputs": []
    },
    {
      "cell_type": "code",
      "source": [
        "print(Telco_Cust_1.shape)\n",
        "print(Telco_Cust_2.shape)\n",
        "print(Telco_churn_1.shape)\n",
        "print(Telco_churn_2.shape)"
      ],
      "metadata": {
        "colab": {
          "base_uri": "https://localhost:8080/"
        },
        "id": "0UiZ0ShHqDZ2",
        "outputId": "bb26b6cf-8192-4341-d972-7698be378605"
      },
      "execution_count": null,
      "outputs": [
        {
          "output_type": "stream",
          "name": "stdout",
          "text": [
            "(500, 13)\n",
            "(4500, 13)\n",
            "(500, 7)\n",
            "(4500, 7)\n"
          ]
        }
      ]
    },
    {
      "cell_type": "markdown",
      "source": [
        "Merging data Two datasets on basis of  Cust_ID ##Inner Join"
      ],
      "metadata": {
        "id": "uNWPEdMT_XLk"
      }
    },
    {
      "cell_type": "code",
      "source": [
        "Telco_data1=pd.merge(Telco_Cust_1,Telco_churn_1,on=\"Cust_ID\")"
      ],
      "metadata": {
        "id": "ojQSmqVhqzPv"
      },
      "execution_count": null,
      "outputs": []
    },
    {
      "cell_type": "code",
      "source": [
        "Telco_data2=pd.merge(Telco_Cust_2,Telco_churn_2,on=\"Cust_ID\")"
      ],
      "metadata": {
        "id": "z8IWAisRtlSb"
      },
      "execution_count": null,
      "outputs": []
    },
    {
      "cell_type": "code",
      "source": [
        "print(Telco_data1.shape)\n",
        "print(Telco_data2.shape)"
      ],
      "metadata": {
        "colab": {
          "base_uri": "https://localhost:8080/"
        },
        "id": "bEq5BDWiuzoy",
        "outputId": "e142d25e-6f29-43db-c661-e162c1822151"
      },
      "execution_count": null,
      "outputs": [
        {
          "output_type": "stream",
          "name": "stdout",
          "text": [
            "(500, 19)\n",
            "(4500, 19)\n"
          ]
        }
      ]
    },
    {
      "cell_type": "code",
      "source": [
        "Telco_data1.tail()"
      ],
      "metadata": {
        "colab": {
          "base_uri": "https://localhost:8080/",
          "height": 270
        },
        "id": "Q7tneJowu527",
        "outputId": "623b89ba-72b7-482a-a35c-32bdbd69e1b0"
      },
      "execution_count": null,
      "outputs": [
        {
          "output_type": "execute_result",
          "data": {
            "text/plain": [
              "     Cust_ID  Total.Day.Minutes  Total.Day.Calls  Total.Day.Charge  \\\n",
              "495      596              156.1              114             26.54   \n",
              "496      597              178.7              134             30.38   \n",
              "497      598              177.5               93             30.18   \n",
              "498      599              211.3               61             35.92   \n",
              "499      600              175.2               91             29.78   \n",
              "\n",
              "     Total.Eve.Minutes  Total.Eve.Calls  Total.Eve.Charge  \\\n",
              "495              180.3               63             15.33   \n",
              "496              178.6              102             15.18   \n",
              "497              287.4               75             24.43   \n",
              "498              105.6              119              8.98   \n",
              "499              244.4              109             20.77   \n",
              "\n",
              "     Total.Night.Minutes  Total.Night.Calls  Total.Night.Charge  \\\n",
              "495                179.6                115                8.08   \n",
              "496                126.8                 82                5.71   \n",
              "497                180.5                118                8.12   \n",
              "498                175.9                 63                7.92   \n",
              "499                 75.8                 95                3.41   \n",
              "\n",
              "     Total.Intl.Minutes  Total.Intl.Calls  Total.Intl.Charge  \\\n",
              "495                11.1                 9               3.00   \n",
              "496                 8.0                 4               2.16   \n",
              "497                11.9                 3               3.21   \n",
              "498                 9.7                 4               2.62   \n",
              "499                 7.5                 2               2.03   \n",
              "\n",
              "    International.Plan Voice.Mail.Plan  X..Vmail.Messages  \\\n",
              "495                yes              no                  0   \n",
              "496                 no             yes                 36   \n",
              "497                 no              no                  0   \n",
              "498                yes              no                  0   \n",
              "499                 no              no                  0   \n",
              "\n",
              "     X..customer.Service.Calls   Churn trainrows  \n",
              "495                          2  False.       Yes  \n",
              "496                          2  False.       Yes  \n",
              "497                          2  False.       Yes  \n",
              "498                          4   True.       Yes  \n",
              "499                          1  False.        No  "
            ],
            "text/html": [
              "\n",
              "  <div id=\"df-bcbe8ef8-e4d3-44bd-9e9b-553fff3ba3db\">\n",
              "    <div class=\"colab-df-container\">\n",
              "      <div>\n",
              "<style scoped>\n",
              "    .dataframe tbody tr th:only-of-type {\n",
              "        vertical-align: middle;\n",
              "    }\n",
              "\n",
              "    .dataframe tbody tr th {\n",
              "        vertical-align: top;\n",
              "    }\n",
              "\n",
              "    .dataframe thead th {\n",
              "        text-align: right;\n",
              "    }\n",
              "</style>\n",
              "<table border=\"1\" class=\"dataframe\">\n",
              "  <thead>\n",
              "    <tr style=\"text-align: right;\">\n",
              "      <th></th>\n",
              "      <th>Cust_ID</th>\n",
              "      <th>Total.Day.Minutes</th>\n",
              "      <th>Total.Day.Calls</th>\n",
              "      <th>Total.Day.Charge</th>\n",
              "      <th>Total.Eve.Minutes</th>\n",
              "      <th>Total.Eve.Calls</th>\n",
              "      <th>Total.Eve.Charge</th>\n",
              "      <th>Total.Night.Minutes</th>\n",
              "      <th>Total.Night.Calls</th>\n",
              "      <th>Total.Night.Charge</th>\n",
              "      <th>Total.Intl.Minutes</th>\n",
              "      <th>Total.Intl.Calls</th>\n",
              "      <th>Total.Intl.Charge</th>\n",
              "      <th>International.Plan</th>\n",
              "      <th>Voice.Mail.Plan</th>\n",
              "      <th>X..Vmail.Messages</th>\n",
              "      <th>X..customer.Service.Calls</th>\n",
              "      <th>Churn</th>\n",
              "      <th>trainrows</th>\n",
              "    </tr>\n",
              "  </thead>\n",
              "  <tbody>\n",
              "    <tr>\n",
              "      <th>495</th>\n",
              "      <td>596</td>\n",
              "      <td>156.1</td>\n",
              "      <td>114</td>\n",
              "      <td>26.54</td>\n",
              "      <td>180.3</td>\n",
              "      <td>63</td>\n",
              "      <td>15.33</td>\n",
              "      <td>179.6</td>\n",
              "      <td>115</td>\n",
              "      <td>8.08</td>\n",
              "      <td>11.1</td>\n",
              "      <td>9</td>\n",
              "      <td>3.00</td>\n",
              "      <td>yes</td>\n",
              "      <td>no</td>\n",
              "      <td>0</td>\n",
              "      <td>2</td>\n",
              "      <td>False.</td>\n",
              "      <td>Yes</td>\n",
              "    </tr>\n",
              "    <tr>\n",
              "      <th>496</th>\n",
              "      <td>597</td>\n",
              "      <td>178.7</td>\n",
              "      <td>134</td>\n",
              "      <td>30.38</td>\n",
              "      <td>178.6</td>\n",
              "      <td>102</td>\n",
              "      <td>15.18</td>\n",
              "      <td>126.8</td>\n",
              "      <td>82</td>\n",
              "      <td>5.71</td>\n",
              "      <td>8.0</td>\n",
              "      <td>4</td>\n",
              "      <td>2.16</td>\n",
              "      <td>no</td>\n",
              "      <td>yes</td>\n",
              "      <td>36</td>\n",
              "      <td>2</td>\n",
              "      <td>False.</td>\n",
              "      <td>Yes</td>\n",
              "    </tr>\n",
              "    <tr>\n",
              "      <th>497</th>\n",
              "      <td>598</td>\n",
              "      <td>177.5</td>\n",
              "      <td>93</td>\n",
              "      <td>30.18</td>\n",
              "      <td>287.4</td>\n",
              "      <td>75</td>\n",
              "      <td>24.43</td>\n",
              "      <td>180.5</td>\n",
              "      <td>118</td>\n",
              "      <td>8.12</td>\n",
              "      <td>11.9</td>\n",
              "      <td>3</td>\n",
              "      <td>3.21</td>\n",
              "      <td>no</td>\n",
              "      <td>no</td>\n",
              "      <td>0</td>\n",
              "      <td>2</td>\n",
              "      <td>False.</td>\n",
              "      <td>Yes</td>\n",
              "    </tr>\n",
              "    <tr>\n",
              "      <th>498</th>\n",
              "      <td>599</td>\n",
              "      <td>211.3</td>\n",
              "      <td>61</td>\n",
              "      <td>35.92</td>\n",
              "      <td>105.6</td>\n",
              "      <td>119</td>\n",
              "      <td>8.98</td>\n",
              "      <td>175.9</td>\n",
              "      <td>63</td>\n",
              "      <td>7.92</td>\n",
              "      <td>9.7</td>\n",
              "      <td>4</td>\n",
              "      <td>2.62</td>\n",
              "      <td>yes</td>\n",
              "      <td>no</td>\n",
              "      <td>0</td>\n",
              "      <td>4</td>\n",
              "      <td>True.</td>\n",
              "      <td>Yes</td>\n",
              "    </tr>\n",
              "    <tr>\n",
              "      <th>499</th>\n",
              "      <td>600</td>\n",
              "      <td>175.2</td>\n",
              "      <td>91</td>\n",
              "      <td>29.78</td>\n",
              "      <td>244.4</td>\n",
              "      <td>109</td>\n",
              "      <td>20.77</td>\n",
              "      <td>75.8</td>\n",
              "      <td>95</td>\n",
              "      <td>3.41</td>\n",
              "      <td>7.5</td>\n",
              "      <td>2</td>\n",
              "      <td>2.03</td>\n",
              "      <td>no</td>\n",
              "      <td>no</td>\n",
              "      <td>0</td>\n",
              "      <td>1</td>\n",
              "      <td>False.</td>\n",
              "      <td>No</td>\n",
              "    </tr>\n",
              "  </tbody>\n",
              "</table>\n",
              "</div>\n",
              "      <button class=\"colab-df-convert\" onclick=\"convertToInteractive('df-bcbe8ef8-e4d3-44bd-9e9b-553fff3ba3db')\"\n",
              "              title=\"Convert this dataframe to an interactive table.\"\n",
              "              style=\"display:none;\">\n",
              "        \n",
              "  <svg xmlns=\"http://www.w3.org/2000/svg\" height=\"24px\"viewBox=\"0 0 24 24\"\n",
              "       width=\"24px\">\n",
              "    <path d=\"M0 0h24v24H0V0z\" fill=\"none\"/>\n",
              "    <path d=\"M18.56 5.44l.94 2.06.94-2.06 2.06-.94-2.06-.94-.94-2.06-.94 2.06-2.06.94zm-11 1L8.5 8.5l.94-2.06 2.06-.94-2.06-.94L8.5 2.5l-.94 2.06-2.06.94zm10 10l.94 2.06.94-2.06 2.06-.94-2.06-.94-.94-2.06-.94 2.06-2.06.94z\"/><path d=\"M17.41 7.96l-1.37-1.37c-.4-.4-.92-.59-1.43-.59-.52 0-1.04.2-1.43.59L10.3 9.45l-7.72 7.72c-.78.78-.78 2.05 0 2.83L4 21.41c.39.39.9.59 1.41.59.51 0 1.02-.2 1.41-.59l7.78-7.78 2.81-2.81c.8-.78.8-2.07 0-2.86zM5.41 20L4 18.59l7.72-7.72 1.47 1.35L5.41 20z\"/>\n",
              "  </svg>\n",
              "      </button>\n",
              "      \n",
              "  <style>\n",
              "    .colab-df-container {\n",
              "      display:flex;\n",
              "      flex-wrap:wrap;\n",
              "      gap: 12px;\n",
              "    }\n",
              "\n",
              "    .colab-df-convert {\n",
              "      background-color: #E8F0FE;\n",
              "      border: none;\n",
              "      border-radius: 50%;\n",
              "      cursor: pointer;\n",
              "      display: none;\n",
              "      fill: #1967D2;\n",
              "      height: 32px;\n",
              "      padding: 0 0 0 0;\n",
              "      width: 32px;\n",
              "    }\n",
              "\n",
              "    .colab-df-convert:hover {\n",
              "      background-color: #E2EBFA;\n",
              "      box-shadow: 0px 1px 2px rgba(60, 64, 67, 0.3), 0px 1px 3px 1px rgba(60, 64, 67, 0.15);\n",
              "      fill: #174EA6;\n",
              "    }\n",
              "\n",
              "    [theme=dark] .colab-df-convert {\n",
              "      background-color: #3B4455;\n",
              "      fill: #D2E3FC;\n",
              "    }\n",
              "\n",
              "    [theme=dark] .colab-df-convert:hover {\n",
              "      background-color: #434B5C;\n",
              "      box-shadow: 0px 1px 3px 1px rgba(0, 0, 0, 0.15);\n",
              "      filter: drop-shadow(0px 1px 2px rgba(0, 0, 0, 0.3));\n",
              "      fill: #FFFFFF;\n",
              "    }\n",
              "  </style>\n",
              "\n",
              "      <script>\n",
              "        const buttonEl =\n",
              "          document.querySelector('#df-bcbe8ef8-e4d3-44bd-9e9b-553fff3ba3db button.colab-df-convert');\n",
              "        buttonEl.style.display =\n",
              "          google.colab.kernel.accessAllowed ? 'block' : 'none';\n",
              "\n",
              "        async function convertToInteractive(key) {\n",
              "          const element = document.querySelector('#df-bcbe8ef8-e4d3-44bd-9e9b-553fff3ba3db');\n",
              "          const dataTable =\n",
              "            await google.colab.kernel.invokeFunction('convertToInteractive',\n",
              "                                                     [key], {});\n",
              "          if (!dataTable) return;\n",
              "\n",
              "          const docLinkHtml = 'Like what you see? Visit the ' +\n",
              "            '<a target=\"_blank\" href=https://colab.research.google.com/notebooks/data_table.ipynb>data table notebook</a>'\n",
              "            + ' to learn more about interactive tables.';\n",
              "          element.innerHTML = '';\n",
              "          dataTable['output_type'] = 'display_data';\n",
              "          await google.colab.output.renderOutput(dataTable, element);\n",
              "          const docLink = document.createElement('div');\n",
              "          docLink.innerHTML = docLinkHtml;\n",
              "          element.appendChild(docLink);\n",
              "        }\n",
              "      </script>\n",
              "    </div>\n",
              "  </div>\n",
              "  "
            ]
          },
          "metadata": {},
          "execution_count": 9
        }
      ]
    },
    {
      "cell_type": "code",
      "source": [
        "Telco_data2.tail(5)"
      ],
      "metadata": {
        "colab": {
          "base_uri": "https://localhost:8080/",
          "height": 270
        },
        "id": "FcRc7HHf0hpP",
        "outputId": "d58d09ea-4fdc-400f-e6de-d0de97e388e3"
      },
      "execution_count": null,
      "outputs": [
        {
          "output_type": "execute_result",
          "data": {
            "text/plain": [
              "      Cust_ID  Total.Day.Minutes  Total.Day.Calls  Total.Day.Charge  \\\n",
              "4495     5096              235.7              127             40.07   \n",
              "4496     5097              184.2               90             31.31   \n",
              "4497     5098              140.6               89             23.90   \n",
              "4498     5099              188.8               67             32.10   \n",
              "4499     5100              129.4              102             22.00   \n",
              "\n",
              "      Total.Eve.Minutes  Total.Eve.Calls  Total.Eve.Charge  \\\n",
              "4495              223.0              126             18.96   \n",
              "4496              256.8               73             21.83   \n",
              "4497              172.8              128             14.69   \n",
              "4498              171.7               92             14.59   \n",
              "4499              267.1              104             22.70   \n",
              "\n",
              "      Total.Night.Minutes  Total.Night.Calls  Total.Night.Charge  \\\n",
              "4495                297.5                116               13.39   \n",
              "4496                213.6                113                9.61   \n",
              "4497                212.4                 97                9.56   \n",
              "4498                224.4                 89               10.10   \n",
              "4499                154.8                100                6.97   \n",
              "\n",
              "      Total.Intl.Minutes  Total.Intl.Calls  Total.Intl.Charge  \\\n",
              "4495                 9.9                 5               2.67   \n",
              "4496                14.7                 2               3.97   \n",
              "4497                13.6                 4               3.67   \n",
              "4498                 8.5                 6               2.30   \n",
              "4499                 9.3                16               2.51   \n",
              "\n",
              "     International.Plan Voice.Mail.Plan  X..Vmail.Messages  \\\n",
              "4495                 no             yes                 40   \n",
              "4496                 no              no                  0   \n",
              "4497                 no              no                  0   \n",
              "4498                 no              no                  0   \n",
              "4499                 no             yes                 34   \n",
              "\n",
              "      X..customer.Service.Calls   Churn trainrows  \n",
              "4495                          2  False.       Yes  \n",
              "4496                          3   True.       Yes  \n",
              "4497                          1  False.       Yes  \n",
              "4498                          0  False.       Yes  \n",
              "4499                          0  False.       Yes  "
            ],
            "text/html": [
              "\n",
              "  <div id=\"df-37358f83-3011-4e30-bd1a-0df0a34325cb\">\n",
              "    <div class=\"colab-df-container\">\n",
              "      <div>\n",
              "<style scoped>\n",
              "    .dataframe tbody tr th:only-of-type {\n",
              "        vertical-align: middle;\n",
              "    }\n",
              "\n",
              "    .dataframe tbody tr th {\n",
              "        vertical-align: top;\n",
              "    }\n",
              "\n",
              "    .dataframe thead th {\n",
              "        text-align: right;\n",
              "    }\n",
              "</style>\n",
              "<table border=\"1\" class=\"dataframe\">\n",
              "  <thead>\n",
              "    <tr style=\"text-align: right;\">\n",
              "      <th></th>\n",
              "      <th>Cust_ID</th>\n",
              "      <th>Total.Day.Minutes</th>\n",
              "      <th>Total.Day.Calls</th>\n",
              "      <th>Total.Day.Charge</th>\n",
              "      <th>Total.Eve.Minutes</th>\n",
              "      <th>Total.Eve.Calls</th>\n",
              "      <th>Total.Eve.Charge</th>\n",
              "      <th>Total.Night.Minutes</th>\n",
              "      <th>Total.Night.Calls</th>\n",
              "      <th>Total.Night.Charge</th>\n",
              "      <th>Total.Intl.Minutes</th>\n",
              "      <th>Total.Intl.Calls</th>\n",
              "      <th>Total.Intl.Charge</th>\n",
              "      <th>International.Plan</th>\n",
              "      <th>Voice.Mail.Plan</th>\n",
              "      <th>X..Vmail.Messages</th>\n",
              "      <th>X..customer.Service.Calls</th>\n",
              "      <th>Churn</th>\n",
              "      <th>trainrows</th>\n",
              "    </tr>\n",
              "  </thead>\n",
              "  <tbody>\n",
              "    <tr>\n",
              "      <th>4495</th>\n",
              "      <td>5096</td>\n",
              "      <td>235.7</td>\n",
              "      <td>127</td>\n",
              "      <td>40.07</td>\n",
              "      <td>223.0</td>\n",
              "      <td>126</td>\n",
              "      <td>18.96</td>\n",
              "      <td>297.5</td>\n",
              "      <td>116</td>\n",
              "      <td>13.39</td>\n",
              "      <td>9.9</td>\n",
              "      <td>5</td>\n",
              "      <td>2.67</td>\n",
              "      <td>no</td>\n",
              "      <td>yes</td>\n",
              "      <td>40</td>\n",
              "      <td>2</td>\n",
              "      <td>False.</td>\n",
              "      <td>Yes</td>\n",
              "    </tr>\n",
              "    <tr>\n",
              "      <th>4496</th>\n",
              "      <td>5097</td>\n",
              "      <td>184.2</td>\n",
              "      <td>90</td>\n",
              "      <td>31.31</td>\n",
              "      <td>256.8</td>\n",
              "      <td>73</td>\n",
              "      <td>21.83</td>\n",
              "      <td>213.6</td>\n",
              "      <td>113</td>\n",
              "      <td>9.61</td>\n",
              "      <td>14.7</td>\n",
              "      <td>2</td>\n",
              "      <td>3.97</td>\n",
              "      <td>no</td>\n",
              "      <td>no</td>\n",
              "      <td>0</td>\n",
              "      <td>3</td>\n",
              "      <td>True.</td>\n",
              "      <td>Yes</td>\n",
              "    </tr>\n",
              "    <tr>\n",
              "      <th>4497</th>\n",
              "      <td>5098</td>\n",
              "      <td>140.6</td>\n",
              "      <td>89</td>\n",
              "      <td>23.90</td>\n",
              "      <td>172.8</td>\n",
              "      <td>128</td>\n",
              "      <td>14.69</td>\n",
              "      <td>212.4</td>\n",
              "      <td>97</td>\n",
              "      <td>9.56</td>\n",
              "      <td>13.6</td>\n",
              "      <td>4</td>\n",
              "      <td>3.67</td>\n",
              "      <td>no</td>\n",
              "      <td>no</td>\n",
              "      <td>0</td>\n",
              "      <td>1</td>\n",
              "      <td>False.</td>\n",
              "      <td>Yes</td>\n",
              "    </tr>\n",
              "    <tr>\n",
              "      <th>4498</th>\n",
              "      <td>5099</td>\n",
              "      <td>188.8</td>\n",
              "      <td>67</td>\n",
              "      <td>32.10</td>\n",
              "      <td>171.7</td>\n",
              "      <td>92</td>\n",
              "      <td>14.59</td>\n",
              "      <td>224.4</td>\n",
              "      <td>89</td>\n",
              "      <td>10.10</td>\n",
              "      <td>8.5</td>\n",
              "      <td>6</td>\n",
              "      <td>2.30</td>\n",
              "      <td>no</td>\n",
              "      <td>no</td>\n",
              "      <td>0</td>\n",
              "      <td>0</td>\n",
              "      <td>False.</td>\n",
              "      <td>Yes</td>\n",
              "    </tr>\n",
              "    <tr>\n",
              "      <th>4499</th>\n",
              "      <td>5100</td>\n",
              "      <td>129.4</td>\n",
              "      <td>102</td>\n",
              "      <td>22.00</td>\n",
              "      <td>267.1</td>\n",
              "      <td>104</td>\n",
              "      <td>22.70</td>\n",
              "      <td>154.8</td>\n",
              "      <td>100</td>\n",
              "      <td>6.97</td>\n",
              "      <td>9.3</td>\n",
              "      <td>16</td>\n",
              "      <td>2.51</td>\n",
              "      <td>no</td>\n",
              "      <td>yes</td>\n",
              "      <td>34</td>\n",
              "      <td>0</td>\n",
              "      <td>False.</td>\n",
              "      <td>Yes</td>\n",
              "    </tr>\n",
              "  </tbody>\n",
              "</table>\n",
              "</div>\n",
              "      <button class=\"colab-df-convert\" onclick=\"convertToInteractive('df-37358f83-3011-4e30-bd1a-0df0a34325cb')\"\n",
              "              title=\"Convert this dataframe to an interactive table.\"\n",
              "              style=\"display:none;\">\n",
              "        \n",
              "  <svg xmlns=\"http://www.w3.org/2000/svg\" height=\"24px\"viewBox=\"0 0 24 24\"\n",
              "       width=\"24px\">\n",
              "    <path d=\"M0 0h24v24H0V0z\" fill=\"none\"/>\n",
              "    <path d=\"M18.56 5.44l.94 2.06.94-2.06 2.06-.94-2.06-.94-.94-2.06-.94 2.06-2.06.94zm-11 1L8.5 8.5l.94-2.06 2.06-.94-2.06-.94L8.5 2.5l-.94 2.06-2.06.94zm10 10l.94 2.06.94-2.06 2.06-.94-2.06-.94-.94-2.06-.94 2.06-2.06.94z\"/><path d=\"M17.41 7.96l-1.37-1.37c-.4-.4-.92-.59-1.43-.59-.52 0-1.04.2-1.43.59L10.3 9.45l-7.72 7.72c-.78.78-.78 2.05 0 2.83L4 21.41c.39.39.9.59 1.41.59.51 0 1.02-.2 1.41-.59l7.78-7.78 2.81-2.81c.8-.78.8-2.07 0-2.86zM5.41 20L4 18.59l7.72-7.72 1.47 1.35L5.41 20z\"/>\n",
              "  </svg>\n",
              "      </button>\n",
              "      \n",
              "  <style>\n",
              "    .colab-df-container {\n",
              "      display:flex;\n",
              "      flex-wrap:wrap;\n",
              "      gap: 12px;\n",
              "    }\n",
              "\n",
              "    .colab-df-convert {\n",
              "      background-color: #E8F0FE;\n",
              "      border: none;\n",
              "      border-radius: 50%;\n",
              "      cursor: pointer;\n",
              "      display: none;\n",
              "      fill: #1967D2;\n",
              "      height: 32px;\n",
              "      padding: 0 0 0 0;\n",
              "      width: 32px;\n",
              "    }\n",
              "\n",
              "    .colab-df-convert:hover {\n",
              "      background-color: #E2EBFA;\n",
              "      box-shadow: 0px 1px 2px rgba(60, 64, 67, 0.3), 0px 1px 3px 1px rgba(60, 64, 67, 0.15);\n",
              "      fill: #174EA6;\n",
              "    }\n",
              "\n",
              "    [theme=dark] .colab-df-convert {\n",
              "      background-color: #3B4455;\n",
              "      fill: #D2E3FC;\n",
              "    }\n",
              "\n",
              "    [theme=dark] .colab-df-convert:hover {\n",
              "      background-color: #434B5C;\n",
              "      box-shadow: 0px 1px 3px 1px rgba(0, 0, 0, 0.15);\n",
              "      filter: drop-shadow(0px 1px 2px rgba(0, 0, 0, 0.3));\n",
              "      fill: #FFFFFF;\n",
              "    }\n",
              "  </style>\n",
              "\n",
              "      <script>\n",
              "        const buttonEl =\n",
              "          document.querySelector('#df-37358f83-3011-4e30-bd1a-0df0a34325cb button.colab-df-convert');\n",
              "        buttonEl.style.display =\n",
              "          google.colab.kernel.accessAllowed ? 'block' : 'none';\n",
              "\n",
              "        async function convertToInteractive(key) {\n",
              "          const element = document.querySelector('#df-37358f83-3011-4e30-bd1a-0df0a34325cb');\n",
              "          const dataTable =\n",
              "            await google.colab.kernel.invokeFunction('convertToInteractive',\n",
              "                                                     [key], {});\n",
              "          if (!dataTable) return;\n",
              "\n",
              "          const docLinkHtml = 'Like what you see? Visit the ' +\n",
              "            '<a target=\"_blank\" href=https://colab.research.google.com/notebooks/data_table.ipynb>data table notebook</a>'\n",
              "            + ' to learn more about interactive tables.';\n",
              "          element.innerHTML = '';\n",
              "          dataTable['output_type'] = 'display_data';\n",
              "          await google.colab.output.renderOutput(dataTable, element);\n",
              "          const docLink = document.createElement('div');\n",
              "          docLink.innerHTML = docLinkHtml;\n",
              "          element.appendChild(docLink);\n",
              "        }\n",
              "      </script>\n",
              "    </div>\n",
              "  </div>\n",
              "  "
            ]
          },
          "metadata": {},
          "execution_count": 10
        }
      ]
    },
    {
      "cell_type": "code",
      "source": [
        "Telco_data=pd.concat([Telco_data1,Telco_data2],axis=0,ignore_index=True)"
      ],
      "metadata": {
        "id": "r5CPd7_Z0nqd"
      },
      "execution_count": null,
      "outputs": []
    },
    {
      "cell_type": "markdown",
      "source": [
        "***EDA###***"
      ],
      "metadata": {
        "id": "UO6pcblNl0xs"
      }
    },
    {
      "cell_type": "code",
      "source": [
        "Telco_data.shape"
      ],
      "metadata": {
        "colab": {
          "base_uri": "https://localhost:8080/"
        },
        "id": "yxpN7jD81L3X",
        "outputId": "40d311f9-49e3-4658-cdca-b27109a1a32a"
      },
      "execution_count": null,
      "outputs": [
        {
          "output_type": "execute_result",
          "data": {
            "text/plain": [
              "(5000, 19)"
            ]
          },
          "metadata": {},
          "execution_count": 12
        }
      ]
    },
    {
      "cell_type": "code",
      "source": [
        "Telco_data.head(4)"
      ],
      "metadata": {
        "colab": {
          "base_uri": "https://localhost:8080/",
          "height": 239
        },
        "id": "FxkQp1NCHxBH",
        "outputId": "32a981b1-a832-4593-b432-ad4f1d3706f7"
      },
      "execution_count": null,
      "outputs": [
        {
          "output_type": "execute_result",
          "data": {
            "text/plain": [
              "   Cust_ID  Total.Day.Minutes  Total.Day.Calls  Total.Day.Charge  \\\n",
              "0      101              265.1              110             45.07   \n",
              "1      102              161.6              123             27.47   \n",
              "2      103              243.4              114             41.38   \n",
              "3      104              299.4               71             50.90   \n",
              "\n",
              "   Total.Eve.Minutes  Total.Eve.Calls  Total.Eve.Charge  Total.Night.Minutes  \\\n",
              "0              197.4               99             16.78                244.7   \n",
              "1              195.5              103             16.62                254.4   \n",
              "2              121.2              110             10.30                162.6   \n",
              "3               61.9               88              5.26                196.9   \n",
              "\n",
              "   Total.Night.Calls  Total.Night.Charge  Total.Intl.Minutes  \\\n",
              "0                 91               11.01                10.0   \n",
              "1                103               11.45                13.7   \n",
              "2                104                7.32                12.2   \n",
              "3                 89                8.86                 6.6   \n",
              "\n",
              "   Total.Intl.Calls  Total.Intl.Charge International.Plan Voice.Mail.Plan  \\\n",
              "0                 3               2.70                 no             yes   \n",
              "1                 3               3.70                 no             yes   \n",
              "2                 5               3.29                 no              no   \n",
              "3                 7               1.78                yes              no   \n",
              "\n",
              "   X..Vmail.Messages  X..customer.Service.Calls   Churn trainrows  \n",
              "0                 25                          1  False.        No  \n",
              "1                 26                          1  False.       Yes  \n",
              "2                  0                          0  False.       Yes  \n",
              "3                  0                          2  False.       Yes  "
            ],
            "text/html": [
              "\n",
              "  <div id=\"df-b8e82fec-f3b9-4983-9533-1769f5e82034\">\n",
              "    <div class=\"colab-df-container\">\n",
              "      <div>\n",
              "<style scoped>\n",
              "    .dataframe tbody tr th:only-of-type {\n",
              "        vertical-align: middle;\n",
              "    }\n",
              "\n",
              "    .dataframe tbody tr th {\n",
              "        vertical-align: top;\n",
              "    }\n",
              "\n",
              "    .dataframe thead th {\n",
              "        text-align: right;\n",
              "    }\n",
              "</style>\n",
              "<table border=\"1\" class=\"dataframe\">\n",
              "  <thead>\n",
              "    <tr style=\"text-align: right;\">\n",
              "      <th></th>\n",
              "      <th>Cust_ID</th>\n",
              "      <th>Total.Day.Minutes</th>\n",
              "      <th>Total.Day.Calls</th>\n",
              "      <th>Total.Day.Charge</th>\n",
              "      <th>Total.Eve.Minutes</th>\n",
              "      <th>Total.Eve.Calls</th>\n",
              "      <th>Total.Eve.Charge</th>\n",
              "      <th>Total.Night.Minutes</th>\n",
              "      <th>Total.Night.Calls</th>\n",
              "      <th>Total.Night.Charge</th>\n",
              "      <th>Total.Intl.Minutes</th>\n",
              "      <th>Total.Intl.Calls</th>\n",
              "      <th>Total.Intl.Charge</th>\n",
              "      <th>International.Plan</th>\n",
              "      <th>Voice.Mail.Plan</th>\n",
              "      <th>X..Vmail.Messages</th>\n",
              "      <th>X..customer.Service.Calls</th>\n",
              "      <th>Churn</th>\n",
              "      <th>trainrows</th>\n",
              "    </tr>\n",
              "  </thead>\n",
              "  <tbody>\n",
              "    <tr>\n",
              "      <th>0</th>\n",
              "      <td>101</td>\n",
              "      <td>265.1</td>\n",
              "      <td>110</td>\n",
              "      <td>45.07</td>\n",
              "      <td>197.4</td>\n",
              "      <td>99</td>\n",
              "      <td>16.78</td>\n",
              "      <td>244.7</td>\n",
              "      <td>91</td>\n",
              "      <td>11.01</td>\n",
              "      <td>10.0</td>\n",
              "      <td>3</td>\n",
              "      <td>2.70</td>\n",
              "      <td>no</td>\n",
              "      <td>yes</td>\n",
              "      <td>25</td>\n",
              "      <td>1</td>\n",
              "      <td>False.</td>\n",
              "      <td>No</td>\n",
              "    </tr>\n",
              "    <tr>\n",
              "      <th>1</th>\n",
              "      <td>102</td>\n",
              "      <td>161.6</td>\n",
              "      <td>123</td>\n",
              "      <td>27.47</td>\n",
              "      <td>195.5</td>\n",
              "      <td>103</td>\n",
              "      <td>16.62</td>\n",
              "      <td>254.4</td>\n",
              "      <td>103</td>\n",
              "      <td>11.45</td>\n",
              "      <td>13.7</td>\n",
              "      <td>3</td>\n",
              "      <td>3.70</td>\n",
              "      <td>no</td>\n",
              "      <td>yes</td>\n",
              "      <td>26</td>\n",
              "      <td>1</td>\n",
              "      <td>False.</td>\n",
              "      <td>Yes</td>\n",
              "    </tr>\n",
              "    <tr>\n",
              "      <th>2</th>\n",
              "      <td>103</td>\n",
              "      <td>243.4</td>\n",
              "      <td>114</td>\n",
              "      <td>41.38</td>\n",
              "      <td>121.2</td>\n",
              "      <td>110</td>\n",
              "      <td>10.30</td>\n",
              "      <td>162.6</td>\n",
              "      <td>104</td>\n",
              "      <td>7.32</td>\n",
              "      <td>12.2</td>\n",
              "      <td>5</td>\n",
              "      <td>3.29</td>\n",
              "      <td>no</td>\n",
              "      <td>no</td>\n",
              "      <td>0</td>\n",
              "      <td>0</td>\n",
              "      <td>False.</td>\n",
              "      <td>Yes</td>\n",
              "    </tr>\n",
              "    <tr>\n",
              "      <th>3</th>\n",
              "      <td>104</td>\n",
              "      <td>299.4</td>\n",
              "      <td>71</td>\n",
              "      <td>50.90</td>\n",
              "      <td>61.9</td>\n",
              "      <td>88</td>\n",
              "      <td>5.26</td>\n",
              "      <td>196.9</td>\n",
              "      <td>89</td>\n",
              "      <td>8.86</td>\n",
              "      <td>6.6</td>\n",
              "      <td>7</td>\n",
              "      <td>1.78</td>\n",
              "      <td>yes</td>\n",
              "      <td>no</td>\n",
              "      <td>0</td>\n",
              "      <td>2</td>\n",
              "      <td>False.</td>\n",
              "      <td>Yes</td>\n",
              "    </tr>\n",
              "  </tbody>\n",
              "</table>\n",
              "</div>\n",
              "      <button class=\"colab-df-convert\" onclick=\"convertToInteractive('df-b8e82fec-f3b9-4983-9533-1769f5e82034')\"\n",
              "              title=\"Convert this dataframe to an interactive table.\"\n",
              "              style=\"display:none;\">\n",
              "        \n",
              "  <svg xmlns=\"http://www.w3.org/2000/svg\" height=\"24px\"viewBox=\"0 0 24 24\"\n",
              "       width=\"24px\">\n",
              "    <path d=\"M0 0h24v24H0V0z\" fill=\"none\"/>\n",
              "    <path d=\"M18.56 5.44l.94 2.06.94-2.06 2.06-.94-2.06-.94-.94-2.06-.94 2.06-2.06.94zm-11 1L8.5 8.5l.94-2.06 2.06-.94-2.06-.94L8.5 2.5l-.94 2.06-2.06.94zm10 10l.94 2.06.94-2.06 2.06-.94-2.06-.94-.94-2.06-.94 2.06-2.06.94z\"/><path d=\"M17.41 7.96l-1.37-1.37c-.4-.4-.92-.59-1.43-.59-.52 0-1.04.2-1.43.59L10.3 9.45l-7.72 7.72c-.78.78-.78 2.05 0 2.83L4 21.41c.39.39.9.59 1.41.59.51 0 1.02-.2 1.41-.59l7.78-7.78 2.81-2.81c.8-.78.8-2.07 0-2.86zM5.41 20L4 18.59l7.72-7.72 1.47 1.35L5.41 20z\"/>\n",
              "  </svg>\n",
              "      </button>\n",
              "      \n",
              "  <style>\n",
              "    .colab-df-container {\n",
              "      display:flex;\n",
              "      flex-wrap:wrap;\n",
              "      gap: 12px;\n",
              "    }\n",
              "\n",
              "    .colab-df-convert {\n",
              "      background-color: #E8F0FE;\n",
              "      border: none;\n",
              "      border-radius: 50%;\n",
              "      cursor: pointer;\n",
              "      display: none;\n",
              "      fill: #1967D2;\n",
              "      height: 32px;\n",
              "      padding: 0 0 0 0;\n",
              "      width: 32px;\n",
              "    }\n",
              "\n",
              "    .colab-df-convert:hover {\n",
              "      background-color: #E2EBFA;\n",
              "      box-shadow: 0px 1px 2px rgba(60, 64, 67, 0.3), 0px 1px 3px 1px rgba(60, 64, 67, 0.15);\n",
              "      fill: #174EA6;\n",
              "    }\n",
              "\n",
              "    [theme=dark] .colab-df-convert {\n",
              "      background-color: #3B4455;\n",
              "      fill: #D2E3FC;\n",
              "    }\n",
              "\n",
              "    [theme=dark] .colab-df-convert:hover {\n",
              "      background-color: #434B5C;\n",
              "      box-shadow: 0px 1px 3px 1px rgba(0, 0, 0, 0.15);\n",
              "      filter: drop-shadow(0px 1px 2px rgba(0, 0, 0, 0.3));\n",
              "      fill: #FFFFFF;\n",
              "    }\n",
              "  </style>\n",
              "\n",
              "      <script>\n",
              "        const buttonEl =\n",
              "          document.querySelector('#df-b8e82fec-f3b9-4983-9533-1769f5e82034 button.colab-df-convert');\n",
              "        buttonEl.style.display =\n",
              "          google.colab.kernel.accessAllowed ? 'block' : 'none';\n",
              "\n",
              "        async function convertToInteractive(key) {\n",
              "          const element = document.querySelector('#df-b8e82fec-f3b9-4983-9533-1769f5e82034');\n",
              "          const dataTable =\n",
              "            await google.colab.kernel.invokeFunction('convertToInteractive',\n",
              "                                                     [key], {});\n",
              "          if (!dataTable) return;\n",
              "\n",
              "          const docLinkHtml = 'Like what you see? Visit the ' +\n",
              "            '<a target=\"_blank\" href=https://colab.research.google.com/notebooks/data_table.ipynb>data table notebook</a>'\n",
              "            + ' to learn more about interactive tables.';\n",
              "          element.innerHTML = '';\n",
              "          dataTable['output_type'] = 'display_data';\n",
              "          await google.colab.output.renderOutput(dataTable, element);\n",
              "          const docLink = document.createElement('div');\n",
              "          docLink.innerHTML = docLinkHtml;\n",
              "          element.appendChild(docLink);\n",
              "        }\n",
              "      </script>\n",
              "    </div>\n",
              "  </div>\n",
              "  "
            ]
          },
          "metadata": {},
          "execution_count": 13
        }
      ]
    },
    {
      "cell_type": "code",
      "source": [
        "Telco_data.tail()"
      ],
      "metadata": {
        "id": "Ya_zfeWb1ydQ",
        "colab": {
          "base_uri": "https://localhost:8080/",
          "height": 270
        },
        "outputId": "6a637287-fd38-42b1-fae6-b16c36074bc5"
      },
      "execution_count": null,
      "outputs": [
        {
          "output_type": "execute_result",
          "data": {
            "text/plain": [
              "      Cust_ID  Total.Day.Minutes  Total.Day.Calls  Total.Day.Charge  \\\n",
              "4995     5096              235.7              127             40.07   \n",
              "4996     5097              184.2               90             31.31   \n",
              "4997     5098              140.6               89             23.90   \n",
              "4998     5099              188.8               67             32.10   \n",
              "4999     5100              129.4              102             22.00   \n",
              "\n",
              "      Total.Eve.Minutes  Total.Eve.Calls  Total.Eve.Charge  \\\n",
              "4995              223.0              126             18.96   \n",
              "4996              256.8               73             21.83   \n",
              "4997              172.8              128             14.69   \n",
              "4998              171.7               92             14.59   \n",
              "4999              267.1              104             22.70   \n",
              "\n",
              "      Total.Night.Minutes  Total.Night.Calls  Total.Night.Charge  \\\n",
              "4995                297.5                116               13.39   \n",
              "4996                213.6                113                9.61   \n",
              "4997                212.4                 97                9.56   \n",
              "4998                224.4                 89               10.10   \n",
              "4999                154.8                100                6.97   \n",
              "\n",
              "      Total.Intl.Minutes  Total.Intl.Calls  Total.Intl.Charge  \\\n",
              "4995                 9.9                 5               2.67   \n",
              "4996                14.7                 2               3.97   \n",
              "4997                13.6                 4               3.67   \n",
              "4998                 8.5                 6               2.30   \n",
              "4999                 9.3                16               2.51   \n",
              "\n",
              "     International.Plan Voice.Mail.Plan  X..Vmail.Messages  \\\n",
              "4995                 no             yes                 40   \n",
              "4996                 no              no                  0   \n",
              "4997                 no              no                  0   \n",
              "4998                 no              no                  0   \n",
              "4999                 no             yes                 34   \n",
              "\n",
              "      X..customer.Service.Calls   Churn trainrows  \n",
              "4995                          2  False.       Yes  \n",
              "4996                          3   True.       Yes  \n",
              "4997                          1  False.       Yes  \n",
              "4998                          0  False.       Yes  \n",
              "4999                          0  False.       Yes  "
            ],
            "text/html": [
              "\n",
              "  <div id=\"df-98a056cc-27f0-4338-b4a4-819f1e99ea1e\">\n",
              "    <div class=\"colab-df-container\">\n",
              "      <div>\n",
              "<style scoped>\n",
              "    .dataframe tbody tr th:only-of-type {\n",
              "        vertical-align: middle;\n",
              "    }\n",
              "\n",
              "    .dataframe tbody tr th {\n",
              "        vertical-align: top;\n",
              "    }\n",
              "\n",
              "    .dataframe thead th {\n",
              "        text-align: right;\n",
              "    }\n",
              "</style>\n",
              "<table border=\"1\" class=\"dataframe\">\n",
              "  <thead>\n",
              "    <tr style=\"text-align: right;\">\n",
              "      <th></th>\n",
              "      <th>Cust_ID</th>\n",
              "      <th>Total.Day.Minutes</th>\n",
              "      <th>Total.Day.Calls</th>\n",
              "      <th>Total.Day.Charge</th>\n",
              "      <th>Total.Eve.Minutes</th>\n",
              "      <th>Total.Eve.Calls</th>\n",
              "      <th>Total.Eve.Charge</th>\n",
              "      <th>Total.Night.Minutes</th>\n",
              "      <th>Total.Night.Calls</th>\n",
              "      <th>Total.Night.Charge</th>\n",
              "      <th>Total.Intl.Minutes</th>\n",
              "      <th>Total.Intl.Calls</th>\n",
              "      <th>Total.Intl.Charge</th>\n",
              "      <th>International.Plan</th>\n",
              "      <th>Voice.Mail.Plan</th>\n",
              "      <th>X..Vmail.Messages</th>\n",
              "      <th>X..customer.Service.Calls</th>\n",
              "      <th>Churn</th>\n",
              "      <th>trainrows</th>\n",
              "    </tr>\n",
              "  </thead>\n",
              "  <tbody>\n",
              "    <tr>\n",
              "      <th>4995</th>\n",
              "      <td>5096</td>\n",
              "      <td>235.7</td>\n",
              "      <td>127</td>\n",
              "      <td>40.07</td>\n",
              "      <td>223.0</td>\n",
              "      <td>126</td>\n",
              "      <td>18.96</td>\n",
              "      <td>297.5</td>\n",
              "      <td>116</td>\n",
              "      <td>13.39</td>\n",
              "      <td>9.9</td>\n",
              "      <td>5</td>\n",
              "      <td>2.67</td>\n",
              "      <td>no</td>\n",
              "      <td>yes</td>\n",
              "      <td>40</td>\n",
              "      <td>2</td>\n",
              "      <td>False.</td>\n",
              "      <td>Yes</td>\n",
              "    </tr>\n",
              "    <tr>\n",
              "      <th>4996</th>\n",
              "      <td>5097</td>\n",
              "      <td>184.2</td>\n",
              "      <td>90</td>\n",
              "      <td>31.31</td>\n",
              "      <td>256.8</td>\n",
              "      <td>73</td>\n",
              "      <td>21.83</td>\n",
              "      <td>213.6</td>\n",
              "      <td>113</td>\n",
              "      <td>9.61</td>\n",
              "      <td>14.7</td>\n",
              "      <td>2</td>\n",
              "      <td>3.97</td>\n",
              "      <td>no</td>\n",
              "      <td>no</td>\n",
              "      <td>0</td>\n",
              "      <td>3</td>\n",
              "      <td>True.</td>\n",
              "      <td>Yes</td>\n",
              "    </tr>\n",
              "    <tr>\n",
              "      <th>4997</th>\n",
              "      <td>5098</td>\n",
              "      <td>140.6</td>\n",
              "      <td>89</td>\n",
              "      <td>23.90</td>\n",
              "      <td>172.8</td>\n",
              "      <td>128</td>\n",
              "      <td>14.69</td>\n",
              "      <td>212.4</td>\n",
              "      <td>97</td>\n",
              "      <td>9.56</td>\n",
              "      <td>13.6</td>\n",
              "      <td>4</td>\n",
              "      <td>3.67</td>\n",
              "      <td>no</td>\n",
              "      <td>no</td>\n",
              "      <td>0</td>\n",
              "      <td>1</td>\n",
              "      <td>False.</td>\n",
              "      <td>Yes</td>\n",
              "    </tr>\n",
              "    <tr>\n",
              "      <th>4998</th>\n",
              "      <td>5099</td>\n",
              "      <td>188.8</td>\n",
              "      <td>67</td>\n",
              "      <td>32.10</td>\n",
              "      <td>171.7</td>\n",
              "      <td>92</td>\n",
              "      <td>14.59</td>\n",
              "      <td>224.4</td>\n",
              "      <td>89</td>\n",
              "      <td>10.10</td>\n",
              "      <td>8.5</td>\n",
              "      <td>6</td>\n",
              "      <td>2.30</td>\n",
              "      <td>no</td>\n",
              "      <td>no</td>\n",
              "      <td>0</td>\n",
              "      <td>0</td>\n",
              "      <td>False.</td>\n",
              "      <td>Yes</td>\n",
              "    </tr>\n",
              "    <tr>\n",
              "      <th>4999</th>\n",
              "      <td>5100</td>\n",
              "      <td>129.4</td>\n",
              "      <td>102</td>\n",
              "      <td>22.00</td>\n",
              "      <td>267.1</td>\n",
              "      <td>104</td>\n",
              "      <td>22.70</td>\n",
              "      <td>154.8</td>\n",
              "      <td>100</td>\n",
              "      <td>6.97</td>\n",
              "      <td>9.3</td>\n",
              "      <td>16</td>\n",
              "      <td>2.51</td>\n",
              "      <td>no</td>\n",
              "      <td>yes</td>\n",
              "      <td>34</td>\n",
              "      <td>0</td>\n",
              "      <td>False.</td>\n",
              "      <td>Yes</td>\n",
              "    </tr>\n",
              "  </tbody>\n",
              "</table>\n",
              "</div>\n",
              "      <button class=\"colab-df-convert\" onclick=\"convertToInteractive('df-98a056cc-27f0-4338-b4a4-819f1e99ea1e')\"\n",
              "              title=\"Convert this dataframe to an interactive table.\"\n",
              "              style=\"display:none;\">\n",
              "        \n",
              "  <svg xmlns=\"http://www.w3.org/2000/svg\" height=\"24px\"viewBox=\"0 0 24 24\"\n",
              "       width=\"24px\">\n",
              "    <path d=\"M0 0h24v24H0V0z\" fill=\"none\"/>\n",
              "    <path d=\"M18.56 5.44l.94 2.06.94-2.06 2.06-.94-2.06-.94-.94-2.06-.94 2.06-2.06.94zm-11 1L8.5 8.5l.94-2.06 2.06-.94-2.06-.94L8.5 2.5l-.94 2.06-2.06.94zm10 10l.94 2.06.94-2.06 2.06-.94-2.06-.94-.94-2.06-.94 2.06-2.06.94z\"/><path d=\"M17.41 7.96l-1.37-1.37c-.4-.4-.92-.59-1.43-.59-.52 0-1.04.2-1.43.59L10.3 9.45l-7.72 7.72c-.78.78-.78 2.05 0 2.83L4 21.41c.39.39.9.59 1.41.59.51 0 1.02-.2 1.41-.59l7.78-7.78 2.81-2.81c.8-.78.8-2.07 0-2.86zM5.41 20L4 18.59l7.72-7.72 1.47 1.35L5.41 20z\"/>\n",
              "  </svg>\n",
              "      </button>\n",
              "      \n",
              "  <style>\n",
              "    .colab-df-container {\n",
              "      display:flex;\n",
              "      flex-wrap:wrap;\n",
              "      gap: 12px;\n",
              "    }\n",
              "\n",
              "    .colab-df-convert {\n",
              "      background-color: #E8F0FE;\n",
              "      border: none;\n",
              "      border-radius: 50%;\n",
              "      cursor: pointer;\n",
              "      display: none;\n",
              "      fill: #1967D2;\n",
              "      height: 32px;\n",
              "      padding: 0 0 0 0;\n",
              "      width: 32px;\n",
              "    }\n",
              "\n",
              "    .colab-df-convert:hover {\n",
              "      background-color: #E2EBFA;\n",
              "      box-shadow: 0px 1px 2px rgba(60, 64, 67, 0.3), 0px 1px 3px 1px rgba(60, 64, 67, 0.15);\n",
              "      fill: #174EA6;\n",
              "    }\n",
              "\n",
              "    [theme=dark] .colab-df-convert {\n",
              "      background-color: #3B4455;\n",
              "      fill: #D2E3FC;\n",
              "    }\n",
              "\n",
              "    [theme=dark] .colab-df-convert:hover {\n",
              "      background-color: #434B5C;\n",
              "      box-shadow: 0px 1px 3px 1px rgba(0, 0, 0, 0.15);\n",
              "      filter: drop-shadow(0px 1px 2px rgba(0, 0, 0, 0.3));\n",
              "      fill: #FFFFFF;\n",
              "    }\n",
              "  </style>\n",
              "\n",
              "      <script>\n",
              "        const buttonEl =\n",
              "          document.querySelector('#df-98a056cc-27f0-4338-b4a4-819f1e99ea1e button.colab-df-convert');\n",
              "        buttonEl.style.display =\n",
              "          google.colab.kernel.accessAllowed ? 'block' : 'none';\n",
              "\n",
              "        async function convertToInteractive(key) {\n",
              "          const element = document.querySelector('#df-98a056cc-27f0-4338-b4a4-819f1e99ea1e');\n",
              "          const dataTable =\n",
              "            await google.colab.kernel.invokeFunction('convertToInteractive',\n",
              "                                                     [key], {});\n",
              "          if (!dataTable) return;\n",
              "\n",
              "          const docLinkHtml = 'Like what you see? Visit the ' +\n",
              "            '<a target=\"_blank\" href=https://colab.research.google.com/notebooks/data_table.ipynb>data table notebook</a>'\n",
              "            + ' to learn more about interactive tables.';\n",
              "          element.innerHTML = '';\n",
              "          dataTable['output_type'] = 'display_data';\n",
              "          await google.colab.output.renderOutput(dataTable, element);\n",
              "          const docLink = document.createElement('div');\n",
              "          docLink.innerHTML = docLinkHtml;\n",
              "          element.appendChild(docLink);\n",
              "        }\n",
              "      </script>\n",
              "    </div>\n",
              "  </div>\n",
              "  "
            ]
          },
          "metadata": {},
          "execution_count": 14
        }
      ]
    },
    {
      "cell_type": "code",
      "source": [
        "Telco_data.info()"
      ],
      "metadata": {
        "colab": {
          "base_uri": "https://localhost:8080/"
        },
        "id": "F-jfM6BxqU1v",
        "outputId": "d5a62ec4-1465-43aa-b7ac-a5c8c5137980"
      },
      "execution_count": null,
      "outputs": [
        {
          "output_type": "stream",
          "name": "stdout",
          "text": [
            "<class 'pandas.core.frame.DataFrame'>\n",
            "RangeIndex: 5000 entries, 0 to 4999\n",
            "Data columns (total 19 columns):\n",
            " #   Column                     Non-Null Count  Dtype  \n",
            "---  ------                     --------------  -----  \n",
            " 0   Cust_ID                    5000 non-null   int64  \n",
            " 1   Total.Day.Minutes          5000 non-null   float64\n",
            " 2   Total.Day.Calls            5000 non-null   int64  \n",
            " 3   Total.Day.Charge           5000 non-null   float64\n",
            " 4   Total.Eve.Minutes          5000 non-null   float64\n",
            " 5   Total.Eve.Calls            5000 non-null   int64  \n",
            " 6   Total.Eve.Charge           5000 non-null   float64\n",
            " 7   Total.Night.Minutes        5000 non-null   float64\n",
            " 8   Total.Night.Calls          5000 non-null   int64  \n",
            " 9   Total.Night.Charge         5000 non-null   float64\n",
            " 10  Total.Intl.Minutes         5000 non-null   float64\n",
            " 11  Total.Intl.Calls           5000 non-null   int64  \n",
            " 12  Total.Intl.Charge          5000 non-null   float64\n",
            " 13  International.Plan         5000 non-null   object \n",
            " 14  Voice.Mail.Plan            5000 non-null   object \n",
            " 15  X..Vmail.Messages          5000 non-null   int64  \n",
            " 16  X..customer.Service.Calls  5000 non-null   int64  \n",
            " 17  Churn                      5000 non-null   object \n",
            " 18  trainrows                  5000 non-null   object \n",
            "dtypes: float64(8), int64(7), object(4)\n",
            "memory usage: 742.3+ KB\n"
          ]
        }
      ]
    },
    {
      "cell_type": "markdown",
      "source": [
        "There is no null values in Above datasets.."
      ],
      "metadata": {
        "id": "SVwhBYHm2du3"
      }
    },
    {
      "cell_type": "markdown",
      "source": [
        "*Lets check for Duplicate values if there any..*"
      ],
      "metadata": {
        "id": "2bDj3pDD2S0r"
      }
    },
    {
      "cell_type": "code",
      "source": [
        "Telco_data.duplicated().sum()"
      ],
      "metadata": {
        "colab": {
          "base_uri": "https://localhost:8080/"
        },
        "id": "6gbEWqsO2K_b",
        "outputId": "c1e3ed7e-a08b-40f4-8b49-7bb544e01bc8"
      },
      "execution_count": null,
      "outputs": [
        {
          "output_type": "execute_result",
          "data": {
            "text/plain": [
              "0"
            ]
          },
          "metadata": {},
          "execution_count": 16
        }
      ]
    },
    {
      "cell_type": "code",
      "source": [
        "Telco_data.describe()"
      ],
      "metadata": {
        "colab": {
          "base_uri": "https://localhost:8080/",
          "height": 364
        },
        "id": "8nM852vsVIj4",
        "outputId": "f7f6357d-3fcf-41f2-9fe8-304e0414fb90"
      },
      "execution_count": null,
      "outputs": [
        {
          "output_type": "execute_result",
          "data": {
            "text/plain": [
              "           Cust_ID  Total.Day.Minutes  Total.Day.Calls  Total.Day.Charge  \\\n",
              "count  5000.000000        5000.000000      5000.000000       5000.000000   \n",
              "mean   2600.500000         180.288900       100.029400         30.649668   \n",
              "std    1443.520003          53.894699        19.831197          9.162069   \n",
              "min     101.000000           0.000000         0.000000          0.000000   \n",
              "25%    1350.750000         143.700000        87.000000         24.430000   \n",
              "50%    2600.500000         180.100000       100.000000         30.620000   \n",
              "75%    3850.250000         216.200000       113.000000         36.750000   \n",
              "max    5100.000000         351.500000       165.000000         59.760000   \n",
              "\n",
              "       Total.Eve.Minutes  Total.Eve.Calls  Total.Eve.Charge  \\\n",
              "count        5000.000000      5000.000000       5000.000000   \n",
              "mean          200.636560       100.191000         17.054322   \n",
              "std            50.551309        19.826496          4.296843   \n",
              "min             0.000000         0.000000          0.000000   \n",
              "25%           166.375000        87.000000         14.140000   \n",
              "50%           201.000000       100.000000         17.090000   \n",
              "75%           234.100000       114.000000         19.900000   \n",
              "max           363.700000       170.000000         30.910000   \n",
              "\n",
              "       Total.Night.Minutes  Total.Night.Calls  Total.Night.Charge  \\\n",
              "count          5000.000000        5000.000000         5000.000000   \n",
              "mean            200.391620          99.919200            9.017732   \n",
              "std              50.527789          19.958686            2.273763   \n",
              "min               0.000000           0.000000            0.000000   \n",
              "25%             166.900000          87.000000            7.510000   \n",
              "50%             200.400000         100.000000            9.020000   \n",
              "75%             234.700000         113.000000           10.560000   \n",
              "max             395.000000         175.000000           17.770000   \n",
              "\n",
              "       Total.Intl.Minutes  Total.Intl.Calls  Total.Intl.Charge  \\\n",
              "count         5000.000000       5000.000000        5000.000000   \n",
              "mean            10.261780          4.435200           2.771196   \n",
              "std              2.761396          2.456788           0.745514   \n",
              "min              0.000000          0.000000           0.000000   \n",
              "25%              8.500000          3.000000           2.300000   \n",
              "50%             10.300000          4.000000           2.780000   \n",
              "75%             12.000000          6.000000           3.240000   \n",
              "max             20.000000         20.000000           5.400000   \n",
              "\n",
              "       X..Vmail.Messages  X..customer.Service.Calls  \n",
              "count        5000.000000                5000.000000  \n",
              "mean            7.755200                   1.570400  \n",
              "std            13.546393                   1.306363  \n",
              "min             0.000000                   0.000000  \n",
              "25%             0.000000                   1.000000  \n",
              "50%             0.000000                   1.000000  \n",
              "75%            17.000000                   2.000000  \n",
              "max            52.000000                   9.000000  "
            ],
            "text/html": [
              "\n",
              "  <div id=\"df-213481ea-d5f8-49d4-a866-05b26a7c6b60\">\n",
              "    <div class=\"colab-df-container\">\n",
              "      <div>\n",
              "<style scoped>\n",
              "    .dataframe tbody tr th:only-of-type {\n",
              "        vertical-align: middle;\n",
              "    }\n",
              "\n",
              "    .dataframe tbody tr th {\n",
              "        vertical-align: top;\n",
              "    }\n",
              "\n",
              "    .dataframe thead th {\n",
              "        text-align: right;\n",
              "    }\n",
              "</style>\n",
              "<table border=\"1\" class=\"dataframe\">\n",
              "  <thead>\n",
              "    <tr style=\"text-align: right;\">\n",
              "      <th></th>\n",
              "      <th>Cust_ID</th>\n",
              "      <th>Total.Day.Minutes</th>\n",
              "      <th>Total.Day.Calls</th>\n",
              "      <th>Total.Day.Charge</th>\n",
              "      <th>Total.Eve.Minutes</th>\n",
              "      <th>Total.Eve.Calls</th>\n",
              "      <th>Total.Eve.Charge</th>\n",
              "      <th>Total.Night.Minutes</th>\n",
              "      <th>Total.Night.Calls</th>\n",
              "      <th>Total.Night.Charge</th>\n",
              "      <th>Total.Intl.Minutes</th>\n",
              "      <th>Total.Intl.Calls</th>\n",
              "      <th>Total.Intl.Charge</th>\n",
              "      <th>X..Vmail.Messages</th>\n",
              "      <th>X..customer.Service.Calls</th>\n",
              "    </tr>\n",
              "  </thead>\n",
              "  <tbody>\n",
              "    <tr>\n",
              "      <th>count</th>\n",
              "      <td>5000.000000</td>\n",
              "      <td>5000.000000</td>\n",
              "      <td>5000.000000</td>\n",
              "      <td>5000.000000</td>\n",
              "      <td>5000.000000</td>\n",
              "      <td>5000.000000</td>\n",
              "      <td>5000.000000</td>\n",
              "      <td>5000.000000</td>\n",
              "      <td>5000.000000</td>\n",
              "      <td>5000.000000</td>\n",
              "      <td>5000.000000</td>\n",
              "      <td>5000.000000</td>\n",
              "      <td>5000.000000</td>\n",
              "      <td>5000.000000</td>\n",
              "      <td>5000.000000</td>\n",
              "    </tr>\n",
              "    <tr>\n",
              "      <th>mean</th>\n",
              "      <td>2600.500000</td>\n",
              "      <td>180.288900</td>\n",
              "      <td>100.029400</td>\n",
              "      <td>30.649668</td>\n",
              "      <td>200.636560</td>\n",
              "      <td>100.191000</td>\n",
              "      <td>17.054322</td>\n",
              "      <td>200.391620</td>\n",
              "      <td>99.919200</td>\n",
              "      <td>9.017732</td>\n",
              "      <td>10.261780</td>\n",
              "      <td>4.435200</td>\n",
              "      <td>2.771196</td>\n",
              "      <td>7.755200</td>\n",
              "      <td>1.570400</td>\n",
              "    </tr>\n",
              "    <tr>\n",
              "      <th>std</th>\n",
              "      <td>1443.520003</td>\n",
              "      <td>53.894699</td>\n",
              "      <td>19.831197</td>\n",
              "      <td>9.162069</td>\n",
              "      <td>50.551309</td>\n",
              "      <td>19.826496</td>\n",
              "      <td>4.296843</td>\n",
              "      <td>50.527789</td>\n",
              "      <td>19.958686</td>\n",
              "      <td>2.273763</td>\n",
              "      <td>2.761396</td>\n",
              "      <td>2.456788</td>\n",
              "      <td>0.745514</td>\n",
              "      <td>13.546393</td>\n",
              "      <td>1.306363</td>\n",
              "    </tr>\n",
              "    <tr>\n",
              "      <th>min</th>\n",
              "      <td>101.000000</td>\n",
              "      <td>0.000000</td>\n",
              "      <td>0.000000</td>\n",
              "      <td>0.000000</td>\n",
              "      <td>0.000000</td>\n",
              "      <td>0.000000</td>\n",
              "      <td>0.000000</td>\n",
              "      <td>0.000000</td>\n",
              "      <td>0.000000</td>\n",
              "      <td>0.000000</td>\n",
              "      <td>0.000000</td>\n",
              "      <td>0.000000</td>\n",
              "      <td>0.000000</td>\n",
              "      <td>0.000000</td>\n",
              "      <td>0.000000</td>\n",
              "    </tr>\n",
              "    <tr>\n",
              "      <th>25%</th>\n",
              "      <td>1350.750000</td>\n",
              "      <td>143.700000</td>\n",
              "      <td>87.000000</td>\n",
              "      <td>24.430000</td>\n",
              "      <td>166.375000</td>\n",
              "      <td>87.000000</td>\n",
              "      <td>14.140000</td>\n",
              "      <td>166.900000</td>\n",
              "      <td>87.000000</td>\n",
              "      <td>7.510000</td>\n",
              "      <td>8.500000</td>\n",
              "      <td>3.000000</td>\n",
              "      <td>2.300000</td>\n",
              "      <td>0.000000</td>\n",
              "      <td>1.000000</td>\n",
              "    </tr>\n",
              "    <tr>\n",
              "      <th>50%</th>\n",
              "      <td>2600.500000</td>\n",
              "      <td>180.100000</td>\n",
              "      <td>100.000000</td>\n",
              "      <td>30.620000</td>\n",
              "      <td>201.000000</td>\n",
              "      <td>100.000000</td>\n",
              "      <td>17.090000</td>\n",
              "      <td>200.400000</td>\n",
              "      <td>100.000000</td>\n",
              "      <td>9.020000</td>\n",
              "      <td>10.300000</td>\n",
              "      <td>4.000000</td>\n",
              "      <td>2.780000</td>\n",
              "      <td>0.000000</td>\n",
              "      <td>1.000000</td>\n",
              "    </tr>\n",
              "    <tr>\n",
              "      <th>75%</th>\n",
              "      <td>3850.250000</td>\n",
              "      <td>216.200000</td>\n",
              "      <td>113.000000</td>\n",
              "      <td>36.750000</td>\n",
              "      <td>234.100000</td>\n",
              "      <td>114.000000</td>\n",
              "      <td>19.900000</td>\n",
              "      <td>234.700000</td>\n",
              "      <td>113.000000</td>\n",
              "      <td>10.560000</td>\n",
              "      <td>12.000000</td>\n",
              "      <td>6.000000</td>\n",
              "      <td>3.240000</td>\n",
              "      <td>17.000000</td>\n",
              "      <td>2.000000</td>\n",
              "    </tr>\n",
              "    <tr>\n",
              "      <th>max</th>\n",
              "      <td>5100.000000</td>\n",
              "      <td>351.500000</td>\n",
              "      <td>165.000000</td>\n",
              "      <td>59.760000</td>\n",
              "      <td>363.700000</td>\n",
              "      <td>170.000000</td>\n",
              "      <td>30.910000</td>\n",
              "      <td>395.000000</td>\n",
              "      <td>175.000000</td>\n",
              "      <td>17.770000</td>\n",
              "      <td>20.000000</td>\n",
              "      <td>20.000000</td>\n",
              "      <td>5.400000</td>\n",
              "      <td>52.000000</td>\n",
              "      <td>9.000000</td>\n",
              "    </tr>\n",
              "  </tbody>\n",
              "</table>\n",
              "</div>\n",
              "      <button class=\"colab-df-convert\" onclick=\"convertToInteractive('df-213481ea-d5f8-49d4-a866-05b26a7c6b60')\"\n",
              "              title=\"Convert this dataframe to an interactive table.\"\n",
              "              style=\"display:none;\">\n",
              "        \n",
              "  <svg xmlns=\"http://www.w3.org/2000/svg\" height=\"24px\"viewBox=\"0 0 24 24\"\n",
              "       width=\"24px\">\n",
              "    <path d=\"M0 0h24v24H0V0z\" fill=\"none\"/>\n",
              "    <path d=\"M18.56 5.44l.94 2.06.94-2.06 2.06-.94-2.06-.94-.94-2.06-.94 2.06-2.06.94zm-11 1L8.5 8.5l.94-2.06 2.06-.94-2.06-.94L8.5 2.5l-.94 2.06-2.06.94zm10 10l.94 2.06.94-2.06 2.06-.94-2.06-.94-.94-2.06-.94 2.06-2.06.94z\"/><path d=\"M17.41 7.96l-1.37-1.37c-.4-.4-.92-.59-1.43-.59-.52 0-1.04.2-1.43.59L10.3 9.45l-7.72 7.72c-.78.78-.78 2.05 0 2.83L4 21.41c.39.39.9.59 1.41.59.51 0 1.02-.2 1.41-.59l7.78-7.78 2.81-2.81c.8-.78.8-2.07 0-2.86zM5.41 20L4 18.59l7.72-7.72 1.47 1.35L5.41 20z\"/>\n",
              "  </svg>\n",
              "      </button>\n",
              "      \n",
              "  <style>\n",
              "    .colab-df-container {\n",
              "      display:flex;\n",
              "      flex-wrap:wrap;\n",
              "      gap: 12px;\n",
              "    }\n",
              "\n",
              "    .colab-df-convert {\n",
              "      background-color: #E8F0FE;\n",
              "      border: none;\n",
              "      border-radius: 50%;\n",
              "      cursor: pointer;\n",
              "      display: none;\n",
              "      fill: #1967D2;\n",
              "      height: 32px;\n",
              "      padding: 0 0 0 0;\n",
              "      width: 32px;\n",
              "    }\n",
              "\n",
              "    .colab-df-convert:hover {\n",
              "      background-color: #E2EBFA;\n",
              "      box-shadow: 0px 1px 2px rgba(60, 64, 67, 0.3), 0px 1px 3px 1px rgba(60, 64, 67, 0.15);\n",
              "      fill: #174EA6;\n",
              "    }\n",
              "\n",
              "    [theme=dark] .colab-df-convert {\n",
              "      background-color: #3B4455;\n",
              "      fill: #D2E3FC;\n",
              "    }\n",
              "\n",
              "    [theme=dark] .colab-df-convert:hover {\n",
              "      background-color: #434B5C;\n",
              "      box-shadow: 0px 1px 3px 1px rgba(0, 0, 0, 0.15);\n",
              "      filter: drop-shadow(0px 1px 2px rgba(0, 0, 0, 0.3));\n",
              "      fill: #FFFFFF;\n",
              "    }\n",
              "  </style>\n",
              "\n",
              "      <script>\n",
              "        const buttonEl =\n",
              "          document.querySelector('#df-213481ea-d5f8-49d4-a866-05b26a7c6b60 button.colab-df-convert');\n",
              "        buttonEl.style.display =\n",
              "          google.colab.kernel.accessAllowed ? 'block' : 'none';\n",
              "\n",
              "        async function convertToInteractive(key) {\n",
              "          const element = document.querySelector('#df-213481ea-d5f8-49d4-a866-05b26a7c6b60');\n",
              "          const dataTable =\n",
              "            await google.colab.kernel.invokeFunction('convertToInteractive',\n",
              "                                                     [key], {});\n",
              "          if (!dataTable) return;\n",
              "\n",
              "          const docLinkHtml = 'Like what you see? Visit the ' +\n",
              "            '<a target=\"_blank\" href=https://colab.research.google.com/notebooks/data_table.ipynb>data table notebook</a>'\n",
              "            + ' to learn more about interactive tables.';\n",
              "          element.innerHTML = '';\n",
              "          dataTable['output_type'] = 'display_data';\n",
              "          await google.colab.output.renderOutput(dataTable, element);\n",
              "          const docLink = document.createElement('div');\n",
              "          docLink.innerHTML = docLinkHtml;\n",
              "          element.appendChild(docLink);\n",
              "        }\n",
              "      </script>\n",
              "    </div>\n",
              "  </div>\n",
              "  "
            ]
          },
          "metadata": {},
          "execution_count": 17
        }
      ]
    },
    {
      "cell_type": "markdown",
      "source": [
        "By observing statical information we can say there no outliers in any attribute expect in X..Vmail.Messages we find than mean and median has some difference."
      ],
      "metadata": {
        "id": "uv-erVkanXVN"
      }
    },
    {
      "cell_type": "code",
      "source": [
        "Telco_data.describe(include = ['O']) # Describe all categorical columns"
      ],
      "metadata": {
        "colab": {
          "base_uri": "https://localhost:8080/",
          "height": 175
        },
        "id": "cusPJxNg2wLe",
        "outputId": "0a0185f7-b9a2-4e34-f6c8-5e3b0eefd4ea"
      },
      "execution_count": null,
      "outputs": [
        {
          "output_type": "execute_result",
          "data": {
            "text/plain": [
              "       International.Plan Voice.Mail.Plan   Churn trainrows\n",
              "count                5000            5000    5000      5000\n",
              "unique                  2               2       2         2\n",
              "top                    no              no  False.       Yes\n",
              "freq                 4527            3677    4293      3500"
            ],
            "text/html": [
              "\n",
              "  <div id=\"df-3b73f561-0a8a-4585-b30e-0ade7bc2b8e6\">\n",
              "    <div class=\"colab-df-container\">\n",
              "      <div>\n",
              "<style scoped>\n",
              "    .dataframe tbody tr th:only-of-type {\n",
              "        vertical-align: middle;\n",
              "    }\n",
              "\n",
              "    .dataframe tbody tr th {\n",
              "        vertical-align: top;\n",
              "    }\n",
              "\n",
              "    .dataframe thead th {\n",
              "        text-align: right;\n",
              "    }\n",
              "</style>\n",
              "<table border=\"1\" class=\"dataframe\">\n",
              "  <thead>\n",
              "    <tr style=\"text-align: right;\">\n",
              "      <th></th>\n",
              "      <th>International.Plan</th>\n",
              "      <th>Voice.Mail.Plan</th>\n",
              "      <th>Churn</th>\n",
              "      <th>trainrows</th>\n",
              "    </tr>\n",
              "  </thead>\n",
              "  <tbody>\n",
              "    <tr>\n",
              "      <th>count</th>\n",
              "      <td>5000</td>\n",
              "      <td>5000</td>\n",
              "      <td>5000</td>\n",
              "      <td>5000</td>\n",
              "    </tr>\n",
              "    <tr>\n",
              "      <th>unique</th>\n",
              "      <td>2</td>\n",
              "      <td>2</td>\n",
              "      <td>2</td>\n",
              "      <td>2</td>\n",
              "    </tr>\n",
              "    <tr>\n",
              "      <th>top</th>\n",
              "      <td>no</td>\n",
              "      <td>no</td>\n",
              "      <td>False.</td>\n",
              "      <td>Yes</td>\n",
              "    </tr>\n",
              "    <tr>\n",
              "      <th>freq</th>\n",
              "      <td>4527</td>\n",
              "      <td>3677</td>\n",
              "      <td>4293</td>\n",
              "      <td>3500</td>\n",
              "    </tr>\n",
              "  </tbody>\n",
              "</table>\n",
              "</div>\n",
              "      <button class=\"colab-df-convert\" onclick=\"convertToInteractive('df-3b73f561-0a8a-4585-b30e-0ade7bc2b8e6')\"\n",
              "              title=\"Convert this dataframe to an interactive table.\"\n",
              "              style=\"display:none;\">\n",
              "        \n",
              "  <svg xmlns=\"http://www.w3.org/2000/svg\" height=\"24px\"viewBox=\"0 0 24 24\"\n",
              "       width=\"24px\">\n",
              "    <path d=\"M0 0h24v24H0V0z\" fill=\"none\"/>\n",
              "    <path d=\"M18.56 5.44l.94 2.06.94-2.06 2.06-.94-2.06-.94-.94-2.06-.94 2.06-2.06.94zm-11 1L8.5 8.5l.94-2.06 2.06-.94-2.06-.94L8.5 2.5l-.94 2.06-2.06.94zm10 10l.94 2.06.94-2.06 2.06-.94-2.06-.94-.94-2.06-.94 2.06-2.06.94z\"/><path d=\"M17.41 7.96l-1.37-1.37c-.4-.4-.92-.59-1.43-.59-.52 0-1.04.2-1.43.59L10.3 9.45l-7.72 7.72c-.78.78-.78 2.05 0 2.83L4 21.41c.39.39.9.59 1.41.59.51 0 1.02-.2 1.41-.59l7.78-7.78 2.81-2.81c.8-.78.8-2.07 0-2.86zM5.41 20L4 18.59l7.72-7.72 1.47 1.35L5.41 20z\"/>\n",
              "  </svg>\n",
              "      </button>\n",
              "      \n",
              "  <style>\n",
              "    .colab-df-container {\n",
              "      display:flex;\n",
              "      flex-wrap:wrap;\n",
              "      gap: 12px;\n",
              "    }\n",
              "\n",
              "    .colab-df-convert {\n",
              "      background-color: #E8F0FE;\n",
              "      border: none;\n",
              "      border-radius: 50%;\n",
              "      cursor: pointer;\n",
              "      display: none;\n",
              "      fill: #1967D2;\n",
              "      height: 32px;\n",
              "      padding: 0 0 0 0;\n",
              "      width: 32px;\n",
              "    }\n",
              "\n",
              "    .colab-df-convert:hover {\n",
              "      background-color: #E2EBFA;\n",
              "      box-shadow: 0px 1px 2px rgba(60, 64, 67, 0.3), 0px 1px 3px 1px rgba(60, 64, 67, 0.15);\n",
              "      fill: #174EA6;\n",
              "    }\n",
              "\n",
              "    [theme=dark] .colab-df-convert {\n",
              "      background-color: #3B4455;\n",
              "      fill: #D2E3FC;\n",
              "    }\n",
              "\n",
              "    [theme=dark] .colab-df-convert:hover {\n",
              "      background-color: #434B5C;\n",
              "      box-shadow: 0px 1px 3px 1px rgba(0, 0, 0, 0.15);\n",
              "      filter: drop-shadow(0px 1px 2px rgba(0, 0, 0, 0.3));\n",
              "      fill: #FFFFFF;\n",
              "    }\n",
              "  </style>\n",
              "\n",
              "      <script>\n",
              "        const buttonEl =\n",
              "          document.querySelector('#df-3b73f561-0a8a-4585-b30e-0ade7bc2b8e6 button.colab-df-convert');\n",
              "        buttonEl.style.display =\n",
              "          google.colab.kernel.accessAllowed ? 'block' : 'none';\n",
              "\n",
              "        async function convertToInteractive(key) {\n",
              "          const element = document.querySelector('#df-3b73f561-0a8a-4585-b30e-0ade7bc2b8e6');\n",
              "          const dataTable =\n",
              "            await google.colab.kernel.invokeFunction('convertToInteractive',\n",
              "                                                     [key], {});\n",
              "          if (!dataTable) return;\n",
              "\n",
              "          const docLinkHtml = 'Like what you see? Visit the ' +\n",
              "            '<a target=\"_blank\" href=https://colab.research.google.com/notebooks/data_table.ipynb>data table notebook</a>'\n",
              "            + ' to learn more about interactive tables.';\n",
              "          element.innerHTML = '';\n",
              "          dataTable['output_type'] = 'display_data';\n",
              "          await google.colab.output.renderOutput(dataTable, element);\n",
              "          const docLink = document.createElement('div');\n",
              "          docLink.innerHTML = docLinkHtml;\n",
              "          element.appendChild(docLink);\n",
              "        }\n",
              "      </script>\n",
              "    </div>\n",
              "  </div>\n",
              "  "
            ]
          },
          "metadata": {},
          "execution_count": 18
        }
      ]
    },
    {
      "cell_type": "code",
      "source": [
        "Cat_cols=['International.Plan','Voice.Mail.Plan']"
      ],
      "metadata": {
        "id": "xYZsnK5Dm4HN"
      },
      "execution_count": null,
      "outputs": []
    },
    {
      "cell_type": "code",
      "source": [
        "Num_cols=['X..Vmail.Messages', 'Total.Day.Minutes', 'Total.Day.Calls','Total.Day.Charge', 'Total.Eve.Minutes', 'Total.Eve.Calls','Total.Eve.Charge', 'Total.Night.Minutes', 'Total.Night.Calls',\n",
        "'Total.Night.Charge', 'Total.Intl.Minutes', 'Total.Intl.Calls','Total.Intl.Charge','X..customer.Service.Calls']\n",
        "\n"
      ],
      "metadata": {
        "id": "BdfAeXxYDyuQ"
      },
      "execution_count": null,
      "outputs": []
    },
    {
      "cell_type": "code",
      "source": [
        "Num_cols\n"
      ],
      "metadata": {
        "colab": {
          "base_uri": "https://localhost:8080/"
        },
        "id": "P7_aVlYkLfri",
        "outputId": "952792fa-0c36-468c-acb1-4b775a2c81dc"
      },
      "execution_count": null,
      "outputs": [
        {
          "output_type": "execute_result",
          "data": {
            "text/plain": [
              "['X..Vmail.Messages',\n",
              " 'Total.Day.Minutes',\n",
              " 'Total.Day.Calls',\n",
              " 'Total.Day.Charge',\n",
              " 'Total.Eve.Minutes',\n",
              " 'Total.Eve.Calls',\n",
              " 'Total.Eve.Charge',\n",
              " 'Total.Night.Minutes',\n",
              " 'Total.Night.Calls',\n",
              " 'Total.Night.Charge',\n",
              " 'Total.Intl.Minutes',\n",
              " 'Total.Intl.Calls',\n",
              " 'Total.Intl.Charge',\n",
              " 'X..customer.Service.Calls']"
            ]
          },
          "metadata": {},
          "execution_count": 21
        }
      ]
    },
    {
      "cell_type": "code",
      "source": [
        "Telco_data[Cat_cols]= Telco_data[Cat_cols].astype('category')\n"
      ],
      "metadata": {
        "id": "KZVyiZFaBJHO"
      },
      "execution_count": null,
      "outputs": []
    },
    {
      "cell_type": "markdown",
      "source": [
        "Visualizations"
      ],
      "metadata": {
        "id": "qd5Ua0gcdJlh"
      }
    },
    {
      "cell_type": "code",
      "source": [
        "Telco_data[Num_cols].plot(kind='box',subplots=True,sharex=False,sharey=False,layout=(5,5),figsize=(15,15))"
      ],
      "metadata": {
        "colab": {
          "base_uri": "https://localhost:8080/",
          "height": 786
        },
        "id": "8IXLpISiPy2M",
        "outputId": "44883803-f554-45a1-a818-445cf4950f70"
      },
      "execution_count": null,
      "outputs": [
        {
          "output_type": "execute_result",
          "data": {
            "text/plain": [
              "X..Vmail.Messages               AxesSubplot(0.125,0.749828;0.133621x0.130172)\n",
              "Total.Day.Minutes            AxesSubplot(0.285345,0.749828;0.133621x0.130172)\n",
              "Total.Day.Calls               AxesSubplot(0.44569,0.749828;0.133621x0.130172)\n",
              "Total.Day.Charge             AxesSubplot(0.606034,0.749828;0.133621x0.130172)\n",
              "Total.Eve.Minutes            AxesSubplot(0.766379,0.749828;0.133621x0.130172)\n",
              "Total.Eve.Calls                 AxesSubplot(0.125,0.593621;0.133621x0.130172)\n",
              "Total.Eve.Charge             AxesSubplot(0.285345,0.593621;0.133621x0.130172)\n",
              "Total.Night.Minutes           AxesSubplot(0.44569,0.593621;0.133621x0.130172)\n",
              "Total.Night.Calls            AxesSubplot(0.606034,0.593621;0.133621x0.130172)\n",
              "Total.Night.Charge           AxesSubplot(0.766379,0.593621;0.133621x0.130172)\n",
              "Total.Intl.Minutes              AxesSubplot(0.125,0.437414;0.133621x0.130172)\n",
              "Total.Intl.Calls             AxesSubplot(0.285345,0.437414;0.133621x0.130172)\n",
              "Total.Intl.Charge             AxesSubplot(0.44569,0.437414;0.133621x0.130172)\n",
              "X..customer.Service.Calls    AxesSubplot(0.606034,0.437414;0.133621x0.130172)\n",
              "dtype: object"
            ]
          },
          "metadata": {},
          "execution_count": 23
        },
        {
          "output_type": "display_data",
          "data": {
            "text/plain": [
              "<Figure size 1080x1080 with 25 Axes>"
            ],
            "image/png": "[encoded data removed]"
          },
          "metadata": {
            "needs_background": "light"
          }
        }
      ]
    },
    {
      "cell_type": "code",
      "source": [
        "Telco_data[Num_cols].hist(figsize=(10,10),bins=10)"
      ],
      "metadata": {
        "colab": {
          "base_uri": "https://localhost:8080/",
          "height": 902
        },
        "id": "1xvQB0EZOxns",
        "outputId": "3b489b1d-85db-4bee-f41a-0dd177a33084"
      },
      "execution_count": null,
      "outputs": [
        {
          "output_type": "execute_result",
          "data": {
            "text/plain": [
              "array([[<matplotlib.axes._subplots.AxesSubplot object at 0x7f0ddb040e80>,\n",
              "        <matplotlib.axes._subplots.AxesSubplot object at 0x7f0ddaba6ee0>,\n",
              "        <matplotlib.axes._subplots.AxesSubplot object at 0x7f0ddab67340>,\n",
              "        <matplotlib.axes._subplots.AxesSubplot object at 0x7f0ddab94730>],\n",
              "       [<matplotlib.axes._subplots.AxesSubplot object at 0x7f0ddab42b20>,\n",
              "        <matplotlib.axes._subplots.AxesSubplot object at 0x7f0ddaaf0e50>,\n",
              "        <matplotlib.axes._subplots.AxesSubplot object at 0x7f0ddaaf0f40>,\n",
              "        <matplotlib.axes._subplots.AxesSubplot object at 0x7f0ddaaa1d30>],\n",
              "       [<matplotlib.axes._subplots.AxesSubplot object at 0x7f0ddaa81b20>,\n",
              "        <matplotlib.axes._subplots.AxesSubplot object at 0x7f0ddaa39280>,\n",
              "        <matplotlib.axes._subplots.AxesSubplot object at 0x7f0dda9e19a0>,\n",
              "        <matplotlib.axes._subplots.AxesSubplot object at 0x7f0ddaa0b160>],\n",
              "       [<matplotlib.axes._subplots.AxesSubplot object at 0x7f0dda9c4820>,\n",
              "        <matplotlib.axes._subplots.AxesSubplot object at 0x7f0dda970f40>,\n",
              "        <matplotlib.axes._subplots.AxesSubplot object at 0x7f0dda9275e0>,\n",
              "        <matplotlib.axes._subplots.AxesSubplot object at 0x7f0dda943eb0>]],\n",
              "      dtype=object)"
            ]
          },
          "metadata": {},
          "execution_count": 24
        },
        {
          "output_type": "display_data",
          "data": {
            "text/plain": [
              "<Figure size 720x720 with 16 Axes>"
            ],
            "image/png": "[encoded data removed]"
          },
          "metadata": {
            "needs_background": "light"
          }
        }
      ]
    },
    {
      "cell_type": "code",
      "source": [
        "sns.boxplot(x ='Churn', y ='Total.Day.Charge', data = Telco_data, palette ='plasma')\n",
        " "
      ],
      "metadata": {
        "colab": {
          "base_uri": "https://localhost:8080/",
          "height": 296
        },
        "id": "SHzgVgvwUOeF",
        "outputId": "c357f2b9-f375-4810-8409-e7fc40458c4c"
      },
      "execution_count": null,
      "outputs": [
        {
          "output_type": "execute_result",
          "data": {
            "text/plain": [
              "<matplotlib.axes._subplots.AxesSubplot at 0x7f0dda61e490>"
            ]
          },
          "metadata": {},
          "execution_count": 25
        },
        {
          "output_type": "display_data",
          "data": {
            "text/plain": [
              "<Figure size 432x288 with 1 Axes>"
            ],
            "image/png": "[encoded data removed]"
          },
          "metadata": {
            "needs_background": "light"
          }
        }
      ]
    },
    {
      "cell_type": "code",
      "source": [
        "plot.scatter(Telco_data[\"Total.Intl.Minutes\"], Telco_data[\"Total.Intl.Charge\"])\n",
        "plot.show()"
      ],
      "metadata": {
        "colab": {
          "base_uri": "https://localhost:8080/",
          "height": 265
        },
        "id": "e8Devq6vxkZ2",
        "outputId": "bfa7fbfc-53c4-481e-dbd5-15d0ab9cc8e5"
      },
      "execution_count": null,
      "outputs": [
        {
          "output_type": "display_data",
          "data": {
            "text/plain": [
              "<Figure size 432x288 with 1 Axes>"
            ],
            "image/png": "[encoded data removed]"
          },
          "metadata": {
            "needs_background": "light"
          }
        }
      ]
    },
    {
      "cell_type": "code",
      "source": [
        "sns.boxplot(x ='Churn', y ='Total.Intl.Charge', data = Telco_data)\n"
      ],
      "metadata": {
        "colab": {
          "base_uri": "https://localhost:8080/",
          "height": 296
        },
        "id": "Nw8CLVfiUOaq",
        "outputId": "1558d930-f1f9-4e03-a97e-efb927c5938a"
      },
      "execution_count": null,
      "outputs": [
        {
          "output_type": "execute_result",
          "data": {
            "text/plain": [
              "<matplotlib.axes._subplots.AxesSubplot at 0x7f0dda55eb80>"
            ]
          },
          "metadata": {},
          "execution_count": 27
        },
        {
          "output_type": "display_data",
          "data": {
            "text/plain": [
              "<Figure size 432x288 with 1 Axes>"
            ],
            "image/png": "[encoded data removed]"
          },
          "metadata": {
            "needs_background": "light"
          }
        }
      ]
    },
    {
      "cell_type": "code",
      "source": [
        "plot.figure(figsize = (15,10))\n",
        "for i in enumerate(Num_cols):\n",
        "    plot.subplot(3,5, i[0]+1)\n",
        "    _= sns.histplot(Telco_data, x=i[1], hue = 'Churn',multiple=\"dodge\")"
      ],
      "metadata": {
        "colab": {
          "base_uri": "https://localhost:8080/",
          "height": 608
        },
        "id": "PnQGy9wIGiYr",
        "outputId": "53a19957-917d-4bfe-d1b2-0976aa5933f1"
      },
      "execution_count": null,
      "outputs": [
        {
          "output_type": "display_data",
          "data": {
            "text/plain": [
              "<Figure size 1080x720 with 14 Axes>"
            ],
            "image/png": "[encoded data removed]"
          },
          "metadata": {
            "needs_background": "light"
          }
        }
      ]
    },
    {
      "cell_type": "markdown",
      "source": [
        "AS all the attributes all following normal distribution but in Total.Intl.Calls and X..customer.Service.calls we can find some extreme Spikes."
      ],
      "metadata": {
        "id": "zTf6FRUW08nG"
      }
    },
    {
      "cell_type": "code",
      "source": [
        "\n",
        "(Telco_data.groupby('International.Plan')['Churn'].value_counts(normalize=True).mul(100).rename('percent').reset_index()\n",
        ".pipe((sns.catplot,'data'), x='International.Plan',y='percent',hue='Churn',kind='bar'))\n"
      ],
      "metadata": {
        "colab": {
          "base_uri": "https://localhost:8080/",
          "height": 386
        },
        "id": "Idi0NRCTjweq",
        "outputId": "60ad36ae-f932-43e5-e01a-bd912d2e5b32"
      },
      "execution_count": null,
      "outputs": [
        {
          "output_type": "execute_result",
          "data": {
            "text/plain": [
              "<seaborn.axisgrid.FacetGrid at 0x7f0dd9bb8e50>"
            ]
          },
          "metadata": {},
          "execution_count": 29
        },
        {
          "output_type": "display_data",
          "data": {
            "text/plain": [
              "<Figure size 424.5x360 with 1 Axes>"
            ],
            "image/png": "[encoded data removed]"
          },
          "metadata": {
            "needs_background": "light"
          }
        }
      ]
    },
    {
      "cell_type": "code",
      "source": [
        "data=sns.heatmap(Telco_data[Num_cols].corr(), cmap=\"YlGnBu\", annot=True)\n",
        "plot.show()"
      ],
      "metadata": {
        "colab": {
          "base_uri": "https://localhost:8080/",
          "height": 386
        },
        "id": "BfH8QOGGmDD2",
        "outputId": "9daac606-e909-4a5a-a8b4-7228a00b8d5c"
      },
      "execution_count": null,
      "outputs": [
        {
          "output_type": "display_data",
          "data": {
            "text/plain": [
              "<Figure size 432x288 with 2 Axes>"
            ],
            "image/png": "[encoded data removed]"
          },
          "metadata": {
            "needs_background": "light"
          }
        }
      ]
    },
    {
      "cell_type": "markdown",
      "source": [
        "From above heatmap we find there is corelation bw Minutes and charges .As duration of minutes Increases we find thad charges also increasing."
      ],
      "metadata": {
        "id": "BROq1AHw0J47"
      }
    },
    {
      "cell_type": "markdown",
      "source": [
        "***Here Churn is dependent feature ***"
      ],
      "metadata": {
        "id": "zizX4PtKGIsw"
      }
    },
    {
      "cell_type": "code",
      "source": [
        "Telco_data['Churn']=np.where(Telco_data['Churn']=='False.',0,1)  ##replacing False with 0 and True with 1."
      ],
      "metadata": {
        "id": "Lp-N8AytxQbZ"
      },
      "execution_count": null,
      "outputs": []
    },
    {
      "cell_type": "code",
      "source": [
        "Telco_data['trainrows']=np.where(Telco_data['trainrows']=='No',0,1) #Based on this trainrows column we have to split data into trainrows and test rows."
      ],
      "metadata": {
        "id": "YCeXM8Fe2l5B"
      },
      "execution_count": null,
      "outputs": []
    },
    {
      "cell_type": "code",
      "source": [
        "Telco_data[Cat_cols]= Telco_data[Cat_cols].astype('category')\n"
      ],
      "metadata": {
        "id": "xlRWUUxa_hlN"
      },
      "execution_count": null,
      "outputs": []
    },
    {
      "cell_type": "code",
      "source": [
        "Telco_data.describe()"
      ],
      "metadata": {
        "colab": {
          "base_uri": "https://localhost:8080/",
          "height": 364
        },
        "id": "0TxnTn3K8xOM",
        "outputId": "f4a5446c-2b65-44e1-a387-f5a03409f9f6"
      },
      "execution_count": null,
      "outputs": [
        {
          "output_type": "execute_result",
          "data": {
            "text/plain": [
              "           Cust_ID  Total.Day.Minutes  Total.Day.Calls  Total.Day.Charge  \\\n",
              "count  5000.000000        5000.000000      5000.000000       5000.000000   \n",
              "mean   2600.500000         180.288900       100.029400         30.649668   \n",
              "std    1443.520003          53.894699        19.831197          9.162069   \n",
              "min     101.000000           0.000000         0.000000          0.000000   \n",
              "25%    1350.750000         143.700000        87.000000         24.430000   \n",
              "50%    2600.500000         180.100000       100.000000         30.620000   \n",
              "75%    3850.250000         216.200000       113.000000         36.750000   \n",
              "max    5100.000000         351.500000       165.000000         59.760000   \n",
              "\n",
              "       Total.Eve.Minutes  Total.Eve.Calls  Total.Eve.Charge  \\\n",
              "count        5000.000000      5000.000000       5000.000000   \n",
              "mean          200.636560       100.191000         17.054322   \n",
              "std            50.551309        19.826496          4.296843   \n",
              "min             0.000000         0.000000          0.000000   \n",
              "25%           166.375000        87.000000         14.140000   \n",
              "50%           201.000000       100.000000         17.090000   \n",
              "75%           234.100000       114.000000         19.900000   \n",
              "max           363.700000       170.000000         30.910000   \n",
              "\n",
              "       Total.Night.Minutes  Total.Night.Calls  Total.Night.Charge  \\\n",
              "count          5000.000000        5000.000000         5000.000000   \n",
              "mean            200.391620          99.919200            9.017732   \n",
              "std              50.527789          19.958686            2.273763   \n",
              "min               0.000000           0.000000            0.000000   \n",
              "25%             166.900000          87.000000            7.510000   \n",
              "50%             200.400000         100.000000            9.020000   \n",
              "75%             234.700000         113.000000           10.560000   \n",
              "max             395.000000         175.000000           17.770000   \n",
              "\n",
              "       Total.Intl.Minutes  Total.Intl.Calls  Total.Intl.Charge  \\\n",
              "count         5000.000000       5000.000000        5000.000000   \n",
              "mean            10.261780          4.435200           2.771196   \n",
              "std              2.761396          2.456788           0.745514   \n",
              "min              0.000000          0.000000           0.000000   \n",
              "25%              8.500000          3.000000           2.300000   \n",
              "50%             10.300000          4.000000           2.780000   \n",
              "75%             12.000000          6.000000           3.240000   \n",
              "max             20.000000         20.000000           5.400000   \n",
              "\n",
              "       X..Vmail.Messages  X..customer.Service.Calls        Churn    trainrows  \n",
              "count        5000.000000                5000.000000  5000.000000  5000.000000  \n",
              "mean            7.755200                   1.570400     0.141400     0.700000  \n",
              "std            13.546393                   1.306363     0.348469     0.458303  \n",
              "min             0.000000                   0.000000     0.000000     0.000000  \n",
              "25%             0.000000                   1.000000     0.000000     0.000000  \n",
              "50%             0.000000                   1.000000     0.000000     1.000000  \n",
              "75%            17.000000                   2.000000     0.000000     1.000000  \n",
              "max            52.000000                   9.000000     1.000000     1.000000  "
            ],
            "text/html": [
              "\n",
              "  <div id=\"df-1d904738-d3e9-440b-9de4-cb10f5ff23e6\">\n",
              "    <div class=\"colab-df-container\">\n",
              "      <div>\n",
              "<style scoped>\n",
              "    .dataframe tbody tr th:only-of-type {\n",
              "        vertical-align: middle;\n",
              "    }\n",
              "\n",
              "    .dataframe tbody tr th {\n",
              "        vertical-align: top;\n",
              "    }\n",
              "\n",
              "    .dataframe thead th {\n",
              "        text-align: right;\n",
              "    }\n",
              "</style>\n",
              "<table border=\"1\" class=\"dataframe\">\n",
              "  <thead>\n",
              "    <tr style=\"text-align: right;\">\n",
              "      <th></th>\n",
              "      <th>Cust_ID</th>\n",
              "      <th>Total.Day.Minutes</th>\n",
              "      <th>Total.Day.Calls</th>\n",
              "      <th>Total.Day.Charge</th>\n",
              "      <th>Total.Eve.Minutes</th>\n",
              "      <th>Total.Eve.Calls</th>\n",
              "      <th>Total.Eve.Charge</th>\n",
              "      <th>Total.Night.Minutes</th>\n",
              "      <th>Total.Night.Calls</th>\n",
              "      <th>Total.Night.Charge</th>\n",
              "      <th>Total.Intl.Minutes</th>\n",
              "      <th>Total.Intl.Calls</th>\n",
              "      <th>Total.Intl.Charge</th>\n",
              "      <th>X..Vmail.Messages</th>\n",
              "      <th>X..customer.Service.Calls</th>\n",
              "      <th>Churn</th>\n",
              "      <th>trainrows</th>\n",
              "    </tr>\n",
              "  </thead>\n",
              "  <tbody>\n",
              "    <tr>\n",
              "      <th>count</th>\n",
              "      <td>5000.000000</td>\n",
              "      <td>5000.000000</td>\n",
              "      <td>5000.000000</td>\n",
              "      <td>5000.000000</td>\n",
              "      <td>5000.000000</td>\n",
              "      <td>5000.000000</td>\n",
              "      <td>5000.000000</td>\n",
              "      <td>5000.000000</td>\n",
              "      <td>5000.000000</td>\n",
              "      <td>5000.000000</td>\n",
              "      <td>5000.000000</td>\n",
              "      <td>5000.000000</td>\n",
              "      <td>5000.000000</td>\n",
              "      <td>5000.000000</td>\n",
              "      <td>5000.000000</td>\n",
              "      <td>5000.000000</td>\n",
              "      <td>5000.000000</td>\n",
              "    </tr>\n",
              "    <tr>\n",
              "      <th>mean</th>\n",
              "      <td>2600.500000</td>\n",
              "      <td>180.288900</td>\n",
              "      <td>100.029400</td>\n",
              "      <td>30.649668</td>\n",
              "      <td>200.636560</td>\n",
              "      <td>100.191000</td>\n",
              "      <td>17.054322</td>\n",
              "      <td>200.391620</td>\n",
              "      <td>99.919200</td>\n",
              "      <td>9.017732</td>\n",
              "      <td>10.261780</td>\n",
              "      <td>4.435200</td>\n",
              "      <td>2.771196</td>\n",
              "      <td>7.755200</td>\n",
              "      <td>1.570400</td>\n",
              "      <td>0.141400</td>\n",
              "      <td>0.700000</td>\n",
              "    </tr>\n",
              "    <tr>\n",
              "      <th>std</th>\n",
              "      <td>1443.520003</td>\n",
              "      <td>53.894699</td>\n",
              "      <td>19.831197</td>\n",
              "      <td>9.162069</td>\n",
              "      <td>50.551309</td>\n",
              "      <td>19.826496</td>\n",
              "      <td>4.296843</td>\n",
              "      <td>50.527789</td>\n",
              "      <td>19.958686</td>\n",
              "      <td>2.273763</td>\n",
              "      <td>2.761396</td>\n",
              "      <td>2.456788</td>\n",
              "      <td>0.745514</td>\n",
              "      <td>13.546393</td>\n",
              "      <td>1.306363</td>\n",
              "      <td>0.348469</td>\n",
              "      <td>0.458303</td>\n",
              "    </tr>\n",
              "    <tr>\n",
              "      <th>min</th>\n",
              "      <td>101.000000</td>\n",
              "      <td>0.000000</td>\n",
              "      <td>0.000000</td>\n",
              "      <td>0.000000</td>\n",
              "      <td>0.000000</td>\n",
              "      <td>0.000000</td>\n",
              "      <td>0.000000</td>\n",
              "      <td>0.000000</td>\n",
              "      <td>0.000000</td>\n",
              "      <td>0.000000</td>\n",
              "      <td>0.000000</td>\n",
              "      <td>0.000000</td>\n",
              "      <td>0.000000</td>\n",
              "      <td>0.000000</td>\n",
              "      <td>0.000000</td>\n",
              "      <td>0.000000</td>\n",
              "      <td>0.000000</td>\n",
              "    </tr>\n",
              "    <tr>\n",
              "      <th>25%</th>\n",
              "      <td>1350.750000</td>\n",
              "      <td>143.700000</td>\n",
              "      <td>87.000000</td>\n",
              "      <td>24.430000</td>\n",
              "      <td>166.375000</td>\n",
              "      <td>87.000000</td>\n",
              "      <td>14.140000</td>\n",
              "      <td>166.900000</td>\n",
              "      <td>87.000000</td>\n",
              "      <td>7.510000</td>\n",
              "      <td>8.500000</td>\n",
              "      <td>3.000000</td>\n",
              "      <td>2.300000</td>\n",
              "      <td>0.000000</td>\n",
              "      <td>1.000000</td>\n",
              "      <td>0.000000</td>\n",
              "      <td>0.000000</td>\n",
              "    </tr>\n",
              "    <tr>\n",
              "      <th>50%</th>\n",
              "      <td>2600.500000</td>\n",
              "      <td>180.100000</td>\n",
              "      <td>100.000000</td>\n",
              "      <td>30.620000</td>\n",
              "      <td>201.000000</td>\n",
              "      <td>100.000000</td>\n",
              "      <td>17.090000</td>\n",
              "      <td>200.400000</td>\n",
              "      <td>100.000000</td>\n",
              "      <td>9.020000</td>\n",
              "      <td>10.300000</td>\n",
              "      <td>4.000000</td>\n",
              "      <td>2.780000</td>\n",
              "      <td>0.000000</td>\n",
              "      <td>1.000000</td>\n",
              "      <td>0.000000</td>\n",
              "      <td>1.000000</td>\n",
              "    </tr>\n",
              "    <tr>\n",
              "      <th>75%</th>\n",
              "      <td>3850.250000</td>\n",
              "      <td>216.200000</td>\n",
              "      <td>113.000000</td>\n",
              "      <td>36.750000</td>\n",
              "      <td>234.100000</td>\n",
              "      <td>114.000000</td>\n",
              "      <td>19.900000</td>\n",
              "      <td>234.700000</td>\n",
              "      <td>113.000000</td>\n",
              "      <td>10.560000</td>\n",
              "      <td>12.000000</td>\n",
              "      <td>6.000000</td>\n",
              "      <td>3.240000</td>\n",
              "      <td>17.000000</td>\n",
              "      <td>2.000000</td>\n",
              "      <td>0.000000</td>\n",
              "      <td>1.000000</td>\n",
              "    </tr>\n",
              "    <tr>\n",
              "      <th>max</th>\n",
              "      <td>5100.000000</td>\n",
              "      <td>351.500000</td>\n",
              "      <td>165.000000</td>\n",
              "      <td>59.760000</td>\n",
              "      <td>363.700000</td>\n",
              "      <td>170.000000</td>\n",
              "      <td>30.910000</td>\n",
              "      <td>395.000000</td>\n",
              "      <td>175.000000</td>\n",
              "      <td>17.770000</td>\n",
              "      <td>20.000000</td>\n",
              "      <td>20.000000</td>\n",
              "      <td>5.400000</td>\n",
              "      <td>52.000000</td>\n",
              "      <td>9.000000</td>\n",
              "      <td>1.000000</td>\n",
              "      <td>1.000000</td>\n",
              "    </tr>\n",
              "  </tbody>\n",
              "</table>\n",
              "</div>\n",
              "      <button class=\"colab-df-convert\" onclick=\"convertToInteractive('df-1d904738-d3e9-440b-9de4-cb10f5ff23e6')\"\n",
              "              title=\"Convert this dataframe to an interactive table.\"\n",
              "              style=\"display:none;\">\n",
              "        \n",
              "  <svg xmlns=\"http://www.w3.org/2000/svg\" height=\"24px\"viewBox=\"0 0 24 24\"\n",
              "       width=\"24px\">\n",
              "    <path d=\"M0 0h24v24H0V0z\" fill=\"none\"/>\n",
              "    <path d=\"M18.56 5.44l.94 2.06.94-2.06 2.06-.94-2.06-.94-.94-2.06-.94 2.06-2.06.94zm-11 1L8.5 8.5l.94-2.06 2.06-.94-2.06-.94L8.5 2.5l-.94 2.06-2.06.94zm10 10l.94 2.06.94-2.06 2.06-.94-2.06-.94-.94-2.06-.94 2.06-2.06.94z\"/><path d=\"M17.41 7.96l-1.37-1.37c-.4-.4-.92-.59-1.43-.59-.52 0-1.04.2-1.43.59L10.3 9.45l-7.72 7.72c-.78.78-.78 2.05 0 2.83L4 21.41c.39.39.9.59 1.41.59.51 0 1.02-.2 1.41-.59l7.78-7.78 2.81-2.81c.8-.78.8-2.07 0-2.86zM5.41 20L4 18.59l7.72-7.72 1.47 1.35L5.41 20z\"/>\n",
              "  </svg>\n",
              "      </button>\n",
              "      \n",
              "  <style>\n",
              "    .colab-df-container {\n",
              "      display:flex;\n",
              "      flex-wrap:wrap;\n",
              "      gap: 12px;\n",
              "    }\n",
              "\n",
              "    .colab-df-convert {\n",
              "      background-color: #E8F0FE;\n",
              "      border: none;\n",
              "      border-radius: 50%;\n",
              "      cursor: pointer;\n",
              "      display: none;\n",
              "      fill: #1967D2;\n",
              "      height: 32px;\n",
              "      padding: 0 0 0 0;\n",
              "      width: 32px;\n",
              "    }\n",
              "\n",
              "    .colab-df-convert:hover {\n",
              "      background-color: #E2EBFA;\n",
              "      box-shadow: 0px 1px 2px rgba(60, 64, 67, 0.3), 0px 1px 3px 1px rgba(60, 64, 67, 0.15);\n",
              "      fill: #174EA6;\n",
              "    }\n",
              "\n",
              "    [theme=dark] .colab-df-convert {\n",
              "      background-color: #3B4455;\n",
              "      fill: #D2E3FC;\n",
              "    }\n",
              "\n",
              "    [theme=dark] .colab-df-convert:hover {\n",
              "      background-color: #434B5C;\n",
              "      box-shadow: 0px 1px 3px 1px rgba(0, 0, 0, 0.15);\n",
              "      filter: drop-shadow(0px 1px 2px rgba(0, 0, 0, 0.3));\n",
              "      fill: #FFFFFF;\n",
              "    }\n",
              "  </style>\n",
              "\n",
              "      <script>\n",
              "        const buttonEl =\n",
              "          document.querySelector('#df-1d904738-d3e9-440b-9de4-cb10f5ff23e6 button.colab-df-convert');\n",
              "        buttonEl.style.display =\n",
              "          google.colab.kernel.accessAllowed ? 'block' : 'none';\n",
              "\n",
              "        async function convertToInteractive(key) {\n",
              "          const element = document.querySelector('#df-1d904738-d3e9-440b-9de4-cb10f5ff23e6');\n",
              "          const dataTable =\n",
              "            await google.colab.kernel.invokeFunction('convertToInteractive',\n",
              "                                                     [key], {});\n",
              "          if (!dataTable) return;\n",
              "\n",
              "          const docLinkHtml = 'Like what you see? Visit the ' +\n",
              "            '<a target=\"_blank\" href=https://colab.research.google.com/notebooks/data_table.ipynb>data table notebook</a>'\n",
              "            + ' to learn more about interactive tables.';\n",
              "          element.innerHTML = '';\n",
              "          dataTable['output_type'] = 'display_data';\n",
              "          await google.colab.output.renderOutput(dataTable, element);\n",
              "          const docLink = document.createElement('div');\n",
              "          docLink.innerHTML = docLinkHtml;\n",
              "          element.appendChild(docLink);\n",
              "        }\n",
              "      </script>\n",
              "    </div>\n",
              "  </div>\n",
              "  "
            ]
          },
          "metadata": {},
          "execution_count": 34
        }
      ]
    },
    {
      "cell_type": "code",
      "source": [
        "Q1=Telco_data[Num_cols].quantile(0.25)\n",
        "Q3=Telco_data[Num_cols].quantile(0.75)\n",
        "IQR=Q3-Q1"
      ],
      "metadata": {
        "id": "aPXtCOHl4Xr7"
      },
      "execution_count": null,
      "outputs": []
    },
    {
      "cell_type": "code",
      "source": [
        "\n",
        "lower_limit=Q1-1.5*IQR\n",
        "Upper_limit=Q3+1.5*IQR\n",
        "lower_limit"
      ],
      "metadata": {
        "colab": {
          "base_uri": "https://localhost:8080/"
        },
        "id": "TarLGX6K5HsK",
        "outputId": "4685e453-5622-4e9d-d7a9-460478d2b497"
      },
      "execution_count": null,
      "outputs": [
        {
          "output_type": "execute_result",
          "data": {
            "text/plain": [
              "X..Vmail.Messages           -25.5000\n",
              "Total.Day.Minutes            34.9500\n",
              "Total.Day.Calls              48.0000\n",
              "Total.Day.Charge              5.9500\n",
              "Total.Eve.Minutes            64.7875\n",
              "Total.Eve.Calls              46.5000\n",
              "Total.Eve.Charge              5.5000\n",
              "Total.Night.Minutes          65.2000\n",
              "Total.Night.Calls            48.0000\n",
              "Total.Night.Charge            2.9350\n",
              "Total.Intl.Minutes            3.2500\n",
              "Total.Intl.Calls             -1.5000\n",
              "Total.Intl.Charge             0.8900\n",
              "X..customer.Service.Calls    -0.5000\n",
              "dtype: float64"
            ]
          },
          "metadata": {},
          "execution_count": 36
        }
      ]
    },
    {
      "cell_type": "code",
      "source": [
        "Upper_limit"
      ],
      "metadata": {
        "colab": {
          "base_uri": "https://localhost:8080/"
        },
        "id": "WAUVYh3L8dkO",
        "outputId": "3ea06027-2e4f-440c-8469-3d9d584be9a4"
      },
      "execution_count": null,
      "outputs": [
        {
          "output_type": "execute_result",
          "data": {
            "text/plain": [
              "X..Vmail.Messages             42.5000\n",
              "Total.Day.Minutes            324.9500\n",
              "Total.Day.Calls              152.0000\n",
              "Total.Day.Charge              55.2300\n",
              "Total.Eve.Minutes            335.6875\n",
              "Total.Eve.Calls              154.5000\n",
              "Total.Eve.Charge              28.5400\n",
              "Total.Night.Minutes          336.4000\n",
              "Total.Night.Calls            152.0000\n",
              "Total.Night.Charge            15.1350\n",
              "Total.Intl.Minutes            17.2500\n",
              "Total.Intl.Calls              10.5000\n",
              "Total.Intl.Charge              4.6500\n",
              "X..customer.Service.Calls      3.5000\n",
              "dtype: float64"
            ]
          },
          "metadata": {},
          "execution_count": 37
        }
      ]
    },
    {
      "cell_type": "code",
      "source": [
        "#Telco_data_no_out=Telco_data.filter([(Telco_data[Num_cols]<lower_limit)|(Telco_data[Num_cols]>Upper_limit)])"
      ],
      "metadata": {
        "id": "bz4jzxaV5ucf"
      },
      "execution_count": null,
      "outputs": []
    },
    {
      "cell_type": "markdown",
      "source": [
        "##**Encoding**\n",
        "#As we Categorical Attributes in data set.That attributes are stored in Cat_cols so we do encoding.     \n",
        "#Ways to deal with categorical variables..\n",
        "#1.Using get_dummies function\n",
        "#2.One-hotEncoding \n",
        "#3.labelEncoding"
      ],
      "metadata": {
        "id": "j40mK-tkx0sr"
      }
    },
    {
      "cell_type": "code",
      "source": [
        "Telco_data1= pd.get_dummies(Telco_data,columns=Cat_cols,drop_first=True)"
      ],
      "metadata": {
        "id": "aC7bi4L2xhir"
      },
      "execution_count": null,
      "outputs": []
    },
    {
      "cell_type": "code",
      "source": [
        "Telco_data1.shape"
      ],
      "metadata": {
        "colab": {
          "base_uri": "https://localhost:8080/"
        },
        "id": "2eIn2xk3yzJB",
        "outputId": "d0588f14-079b-47c8-a718-8482d553220f"
      },
      "execution_count": null,
      "outputs": [
        {
          "output_type": "execute_result",
          "data": {
            "text/plain": [
              "(5000, 19)"
            ]
          },
          "metadata": {},
          "execution_count": 40
        }
      ]
    },
    {
      "cell_type": "code",
      "source": [
        "Telco_data1.drop(['Cust_ID'],axis=1,inplace=True)"
      ],
      "metadata": {
        "id": "QkX67CgcmaR7"
      },
      "execution_count": null,
      "outputs": []
    },
    {
      "cell_type": "code",
      "source": [
        "Telco_data2=Telco_data1.copy()"
      ],
      "metadata": {
        "id": "6AXYB7ji1TtE"
      },
      "execution_count": null,
      "outputs": []
    },
    {
      "cell_type": "markdown",
      "source": [
        "**Spliting Given data into train_rows and test_rows based on given attribute trainrows.. where X_train, X_val and X_test contains a predictors and Y_train ,Y_val and Y_test data contains Target column.**"
      ],
      "metadata": {
        "id": "89ftMinF0p94"
      }
    },
    {
      "cell_type": "markdown",
      "source": [
        "Since this is the only data available, we keep aside a test set to evaluate our model at the very end to estimate our chosen model's performance on unseen data. A validation set is also created, which we'll use in our baseline models to evaluate and tune our models:\n",
        "\n",
        "*italicized text*"
      ],
      "metadata": {
        "id": "8s63ZMckhweO"
      }
    },
    {
      "cell_type": "code",
      "source": [
        "train_rows=Telco_data1.loc[(Telco_data1['trainrows']!=0)]"
      ],
      "metadata": {
        "id": "vWc1ipDdC-8M"
      },
      "execution_count": null,
      "outputs": []
    },
    {
      "cell_type": "code",
      "source": [
        "test_rows=Telco_data1.loc[(Telco_data1['trainrows']==0)]"
      ],
      "metadata": {
        "id": "xJYnNucbDK7-"
      },
      "execution_count": null,
      "outputs": []
    },
    {
      "cell_type": "code",
      "source": [
        "X=train_rows.drop(['Churn'],axis=1)"
      ],
      "metadata": {
        "id": "6CkS9bJXZsdI"
      },
      "execution_count": null,
      "outputs": []
    },
    {
      "cell_type": "code",
      "source": [
        "Y=train_rows['Churn']"
      ],
      "metadata": {
        "id": "DFPMmDi_Z0yB"
      },
      "execution_count": null,
      "outputs": []
    },
    {
      "cell_type": "code",
      "source": [
        "from sklearn.model_selection import train_test_split\n"
      ],
      "metadata": {
        "id": "CDNLDgYMfbbU"
      },
      "execution_count": null,
      "outputs": []
    },
    {
      "cell_type": "code",
      "source": [
        "X_train,X_val,Y_train,Y_val=train_test_split(X,Y,test_size=0.30,random_state=999,stratify=Y)"
      ],
      "metadata": {
        "id": "0how0sizZfi8"
      },
      "execution_count": null,
      "outputs": []
    },
    {
      "cell_type": "code",
      "source": [
        "X_test=test_rows.drop(['Churn'],axis=1)"
      ],
      "metadata": {
        "id": "1Tua_7qVJFpK"
      },
      "execution_count": null,
      "outputs": []
    },
    {
      "cell_type": "code",
      "source": [
        "Y_test=test_rows['Churn']"
      ],
      "metadata": {
        "id": "Bj_u8FYbJYdQ"
      },
      "execution_count": null,
      "outputs": []
    },
    {
      "cell_type": "code",
      "source": [
        "X_train.shape"
      ],
      "metadata": {
        "colab": {
          "base_uri": "https://localhost:8080/"
        },
        "id": "I1vc-mFH8krE",
        "outputId": "88979b15-e108-4665-947e-75333ccb817d"
      },
      "execution_count": null,
      "outputs": [
        {
          "output_type": "execute_result",
          "data": {
            "text/plain": [
              "(2450, 17)"
            ]
          },
          "metadata": {},
          "execution_count": 51
        }
      ]
    },
    {
      "cell_type": "code",
      "source": [
        "X_train.tail(5)"
      ],
      "metadata": {
        "colab": {
          "base_uri": "https://localhost:8080/",
          "height": 270
        },
        "id": "rk5EafiDFxzj",
        "outputId": "09f562e5-b5ce-4f89-81fe-92f151f05da8"
      },
      "execution_count": null,
      "outputs": [
        {
          "output_type": "execute_result",
          "data": {
            "text/plain": [
              "      Total.Day.Minutes  Total.Day.Calls  Total.Day.Charge  Total.Eve.Minutes  \\\n",
              "1744              239.4               94             40.70              259.4   \n",
              "2286              148.7              105             25.28              167.3   \n",
              "3343              209.8               77             35.67              164.1   \n",
              "1047              144.4               87             24.55              266.5   \n",
              "1862              254.7              103             43.30              252.2   \n",
              "\n",
              "      Total.Eve.Calls  Total.Eve.Charge  Total.Night.Minutes  \\\n",
              "1744               88             22.05                238.0   \n",
              "2286              105             14.22                270.6   \n",
              "3343               90             13.95                159.7   \n",
              "1047              128             22.65                217.6   \n",
              "1862               80             21.44                178.1   \n",
              "\n",
              "      Total.Night.Calls  Total.Night.Charge  Total.Intl.Minutes  \\\n",
              "1744                132               10.71                 7.7   \n",
              "2286                105               12.18                10.4   \n",
              "3343                100                7.19                 9.0   \n",
              "1047                 59                9.79                 7.1   \n",
              "1862                103                8.01                 8.0   \n",
              "\n",
              "      Total.Intl.Calls  Total.Intl.Charge  X..Vmail.Messages  \\\n",
              "1744                 3               2.08                 26   \n",
              "2286                 7               2.81                 42   \n",
              "3343                 4               2.43                 39   \n",
              "1047                 7               1.92                  0   \n",
              "1862                 3               2.16                  0   \n",
              "\n",
              "      X..customer.Service.Calls  trainrows  International.Plan_yes  \\\n",
              "1744                          0          1                       0   \n",
              "2286                          0          1                       0   \n",
              "3343                          1          1                       0   \n",
              "1047                          0          1                       0   \n",
              "1862                          0          1                       1   \n",
              "\n",
              "      Voice.Mail.Plan_yes  \n",
              "1744                    1  \n",
              "2286                    1  \n",
              "3343                    1  \n",
              "1047                    0  \n",
              "1862                    0  "
            ],
            "text/html": [
              "\n",
              "  <div id=\"df-4019a1ec-70c6-46f2-8542-67539f76e710\">\n",
              "    <div class=\"colab-df-container\">\n",
              "      <div>\n",
              "<style scoped>\n",
              "    .dataframe tbody tr th:only-of-type {\n",
              "        vertical-align: middle;\n",
              "    }\n",
              "\n",
              "    .dataframe tbody tr th {\n",
              "        vertical-align: top;\n",
              "    }\n",
              "\n",
              "    .dataframe thead th {\n",
              "        text-align: right;\n",
              "    }\n",
              "</style>\n",
              "<table border=\"1\" class=\"dataframe\">\n",
              "  <thead>\n",
              "    <tr style=\"text-align: right;\">\n",
              "      <th></th>\n",
              "      <th>Total.Day.Minutes</th>\n",
              "      <th>Total.Day.Calls</th>\n",
              "      <th>Total.Day.Charge</th>\n",
              "      <th>Total.Eve.Minutes</th>\n",
              "      <th>Total.Eve.Calls</th>\n",
              "      <th>Total.Eve.Charge</th>\n",
              "      <th>Total.Night.Minutes</th>\n",
              "      <th>Total.Night.Calls</th>\n",
              "      <th>Total.Night.Charge</th>\n",
              "      <th>Total.Intl.Minutes</th>\n",
              "      <th>Total.Intl.Calls</th>\n",
              "      <th>Total.Intl.Charge</th>\n",
              "      <th>X..Vmail.Messages</th>\n",
              "      <th>X..customer.Service.Calls</th>\n",
              "      <th>trainrows</th>\n",
              "      <th>International.Plan_yes</th>\n",
              "      <th>Voice.Mail.Plan_yes</th>\n",
              "    </tr>\n",
              "  </thead>\n",
              "  <tbody>\n",
              "    <tr>\n",
              "      <th>1744</th>\n",
              "      <td>239.4</td>\n",
              "      <td>94</td>\n",
              "      <td>40.70</td>\n",
              "      <td>259.4</td>\n",
              "      <td>88</td>\n",
              "      <td>22.05</td>\n",
              "      <td>238.0</td>\n",
              "      <td>132</td>\n",
              "      <td>10.71</td>\n",
              "      <td>7.7</td>\n",
              "      <td>3</td>\n",
              "      <td>2.08</td>\n",
              "      <td>26</td>\n",
              "      <td>0</td>\n",
              "      <td>1</td>\n",
              "      <td>0</td>\n",
              "      <td>1</td>\n",
              "    </tr>\n",
              "    <tr>\n",
              "      <th>2286</th>\n",
              "      <td>148.7</td>\n",
              "      <td>105</td>\n",
              "      <td>25.28</td>\n",
              "      <td>167.3</td>\n",
              "      <td>105</td>\n",
              "      <td>14.22</td>\n",
              "      <td>270.6</td>\n",
              "      <td>105</td>\n",
              "      <td>12.18</td>\n",
              "      <td>10.4</td>\n",
              "      <td>7</td>\n",
              "      <td>2.81</td>\n",
              "      <td>42</td>\n",
              "      <td>0</td>\n",
              "      <td>1</td>\n",
              "      <td>0</td>\n",
              "      <td>1</td>\n",
              "    </tr>\n",
              "    <tr>\n",
              "      <th>3343</th>\n",
              "      <td>209.8</td>\n",
              "      <td>77</td>\n",
              "      <td>35.67</td>\n",
              "      <td>164.1</td>\n",
              "      <td>90</td>\n",
              "      <td>13.95</td>\n",
              "      <td>159.7</td>\n",
              "      <td>100</td>\n",
              "      <td>7.19</td>\n",
              "      <td>9.0</td>\n",
              "      <td>4</td>\n",
              "      <td>2.43</td>\n",
              "      <td>39</td>\n",
              "      <td>1</td>\n",
              "      <td>1</td>\n",
              "      <td>0</td>\n",
              "      <td>1</td>\n",
              "    </tr>\n",
              "    <tr>\n",
              "      <th>1047</th>\n",
              "      <td>144.4</td>\n",
              "      <td>87</td>\n",
              "      <td>24.55</td>\n",
              "      <td>266.5</td>\n",
              "      <td>128</td>\n",
              "      <td>22.65</td>\n",
              "      <td>217.6</td>\n",
              "      <td>59</td>\n",
              "      <td>9.79</td>\n",
              "      <td>7.1</td>\n",
              "      <td>7</td>\n",
              "      <td>1.92</td>\n",
              "      <td>0</td>\n",
              "      <td>0</td>\n",
              "      <td>1</td>\n",
              "      <td>0</td>\n",
              "      <td>0</td>\n",
              "    </tr>\n",
              "    <tr>\n",
              "      <th>1862</th>\n",
              "      <td>254.7</td>\n",
              "      <td>103</td>\n",
              "      <td>43.30</td>\n",
              "      <td>252.2</td>\n",
              "      <td>80</td>\n",
              "      <td>21.44</td>\n",
              "      <td>178.1</td>\n",
              "      <td>103</td>\n",
              "      <td>8.01</td>\n",
              "      <td>8.0</td>\n",
              "      <td>3</td>\n",
              "      <td>2.16</td>\n",
              "      <td>0</td>\n",
              "      <td>0</td>\n",
              "      <td>1</td>\n",
              "      <td>1</td>\n",
              "      <td>0</td>\n",
              "    </tr>\n",
              "  </tbody>\n",
              "</table>\n",
              "</div>\n",
              "      <button class=\"colab-df-convert\" onclick=\"convertToInteractive('df-4019a1ec-70c6-46f2-8542-67539f76e710')\"\n",
              "              title=\"Convert this dataframe to an interactive table.\"\n",
              "              style=\"display:none;\">\n",
              "        \n",
              "  <svg xmlns=\"http://www.w3.org/2000/svg\" height=\"24px\"viewBox=\"0 0 24 24\"\n",
              "       width=\"24px\">\n",
              "    <path d=\"M0 0h24v24H0V0z\" fill=\"none\"/>\n",
              "    <path d=\"M18.56 5.44l.94 2.06.94-2.06 2.06-.94-2.06-.94-.94-2.06-.94 2.06-2.06.94zm-11 1L8.5 8.5l.94-2.06 2.06-.94-2.06-.94L8.5 2.5l-.94 2.06-2.06.94zm10 10l.94 2.06.94-2.06 2.06-.94-2.06-.94-.94-2.06-.94 2.06-2.06.94z\"/><path d=\"M17.41 7.96l-1.37-1.37c-.4-.4-.92-.59-1.43-.59-.52 0-1.04.2-1.43.59L10.3 9.45l-7.72 7.72c-.78.78-.78 2.05 0 2.83L4 21.41c.39.39.9.59 1.41.59.51 0 1.02-.2 1.41-.59l7.78-7.78 2.81-2.81c.8-.78.8-2.07 0-2.86zM5.41 20L4 18.59l7.72-7.72 1.47 1.35L5.41 20z\"/>\n",
              "  </svg>\n",
              "      </button>\n",
              "      \n",
              "  <style>\n",
              "    .colab-df-container {\n",
              "      display:flex;\n",
              "      flex-wrap:wrap;\n",
              "      gap: 12px;\n",
              "    }\n",
              "\n",
              "    .colab-df-convert {\n",
              "      background-color: #E8F0FE;\n",
              "      border: none;\n",
              "      border-radius: 50%;\n",
              "      cursor: pointer;\n",
              "      display: none;\n",
              "      fill: #1967D2;\n",
              "      height: 32px;\n",
              "      padding: 0 0 0 0;\n",
              "      width: 32px;\n",
              "    }\n",
              "\n",
              "    .colab-df-convert:hover {\n",
              "      background-color: #E2EBFA;\n",
              "      box-shadow: 0px 1px 2px rgba(60, 64, 67, 0.3), 0px 1px 3px 1px rgba(60, 64, 67, 0.15);\n",
              "      fill: #174EA6;\n",
              "    }\n",
              "\n",
              "    [theme=dark] .colab-df-convert {\n",
              "      background-color: #3B4455;\n",
              "      fill: #D2E3FC;\n",
              "    }\n",
              "\n",
              "    [theme=dark] .colab-df-convert:hover {\n",
              "      background-color: #434B5C;\n",
              "      box-shadow: 0px 1px 3px 1px rgba(0, 0, 0, 0.15);\n",
              "      filter: drop-shadow(0px 1px 2px rgba(0, 0, 0, 0.3));\n",
              "      fill: #FFFFFF;\n",
              "    }\n",
              "  </style>\n",
              "\n",
              "      <script>\n",
              "        const buttonEl =\n",
              "          document.querySelector('#df-4019a1ec-70c6-46f2-8542-67539f76e710 button.colab-df-convert');\n",
              "        buttonEl.style.display =\n",
              "          google.colab.kernel.accessAllowed ? 'block' : 'none';\n",
              "\n",
              "        async function convertToInteractive(key) {\n",
              "          const element = document.querySelector('#df-4019a1ec-70c6-46f2-8542-67539f76e710');\n",
              "          const dataTable =\n",
              "            await google.colab.kernel.invokeFunction('convertToInteractive',\n",
              "                                                     [key], {});\n",
              "          if (!dataTable) return;\n",
              "\n",
              "          const docLinkHtml = 'Like what you see? Visit the ' +\n",
              "            '<a target=\"_blank\" href=https://colab.research.google.com/notebooks/data_table.ipynb>data table notebook</a>'\n",
              "            + ' to learn more about interactive tables.';\n",
              "          element.innerHTML = '';\n",
              "          dataTable['output_type'] = 'display_data';\n",
              "          await google.colab.output.renderOutput(dataTable, element);\n",
              "          const docLink = document.createElement('div');\n",
              "          docLink.innerHTML = docLinkHtml;\n",
              "          element.appendChild(docLink);\n",
              "        }\n",
              "      </script>\n",
              "    </div>\n",
              "  </div>\n",
              "  "
            ]
          },
          "metadata": {},
          "execution_count": 52
        }
      ]
    },
    {
      "cell_type": "code",
      "source": [
        "X_train.groupby('trainrows').count()"
      ],
      "metadata": {
        "colab": {
          "base_uri": "https://localhost:8080/",
          "height": 176
        },
        "id": "ui_HRVYqVqQQ",
        "outputId": "0ab900e2-9141-4ea9-a489-7ee2af130ff5"
      },
      "execution_count": null,
      "outputs": [
        {
          "output_type": "execute_result",
          "data": {
            "text/plain": [
              "           Total.Day.Minutes  Total.Day.Calls  Total.Day.Charge  \\\n",
              "trainrows                                                         \n",
              "1                       2450             2450              2450   \n",
              "\n",
              "           Total.Eve.Minutes  Total.Eve.Calls  Total.Eve.Charge  \\\n",
              "trainrows                                                         \n",
              "1                       2450             2450              2450   \n",
              "\n",
              "           Total.Night.Minutes  Total.Night.Calls  Total.Night.Charge  \\\n",
              "trainrows                                                               \n",
              "1                         2450               2450                2450   \n",
              "\n",
              "           Total.Intl.Minutes  Total.Intl.Calls  Total.Intl.Charge  \\\n",
              "trainrows                                                            \n",
              "1                        2450              2450               2450   \n",
              "\n",
              "           X..Vmail.Messages  X..customer.Service.Calls  \\\n",
              "trainrows                                                 \n",
              "1                       2450                       2450   \n",
              "\n",
              "           International.Plan_yes  Voice.Mail.Plan_yes  \n",
              "trainrows                                               \n",
              "1                            2450                 2450  "
            ],
            "text/html": [
              "\n",
              "  <div id=\"df-1e1bef92-ce8c-4521-9de5-ad6a1acb36de\">\n",
              "    <div class=\"colab-df-container\">\n",
              "      <div>\n",
              "<style scoped>\n",
              "    .dataframe tbody tr th:only-of-type {\n",
              "        vertical-align: middle;\n",
              "    }\n",
              "\n",
              "    .dataframe tbody tr th {\n",
              "        vertical-align: top;\n",
              "    }\n",
              "\n",
              "    .dataframe thead th {\n",
              "        text-align: right;\n",
              "    }\n",
              "</style>\n",
              "<table border=\"1\" class=\"dataframe\">\n",
              "  <thead>\n",
              "    <tr style=\"text-align: right;\">\n",
              "      <th></th>\n",
              "      <th>Total.Day.Minutes</th>\n",
              "      <th>Total.Day.Calls</th>\n",
              "      <th>Total.Day.Charge</th>\n",
              "      <th>Total.Eve.Minutes</th>\n",
              "      <th>Total.Eve.Calls</th>\n",
              "      <th>Total.Eve.Charge</th>\n",
              "      <th>Total.Night.Minutes</th>\n",
              "      <th>Total.Night.Calls</th>\n",
              "      <th>Total.Night.Charge</th>\n",
              "      <th>Total.Intl.Minutes</th>\n",
              "      <th>Total.Intl.Calls</th>\n",
              "      <th>Total.Intl.Charge</th>\n",
              "      <th>X..Vmail.Messages</th>\n",
              "      <th>X..customer.Service.Calls</th>\n",
              "      <th>International.Plan_yes</th>\n",
              "      <th>Voice.Mail.Plan_yes</th>\n",
              "    </tr>\n",
              "    <tr>\n",
              "      <th>trainrows</th>\n",
              "      <th></th>\n",
              "      <th></th>\n",
              "      <th></th>\n",
              "      <th></th>\n",
              "      <th></th>\n",
              "      <th></th>\n",
              "      <th></th>\n",
              "      <th></th>\n",
              "      <th></th>\n",
              "      <th></th>\n",
              "      <th></th>\n",
              "      <th></th>\n",
              "      <th></th>\n",
              "      <th></th>\n",
              "      <th></th>\n",
              "      <th></th>\n",
              "    </tr>\n",
              "  </thead>\n",
              "  <tbody>\n",
              "    <tr>\n",
              "      <th>1</th>\n",
              "      <td>2450</td>\n",
              "      <td>2450</td>\n",
              "      <td>2450</td>\n",
              "      <td>2450</td>\n",
              "      <td>2450</td>\n",
              "      <td>2450</td>\n",
              "      <td>2450</td>\n",
              "      <td>2450</td>\n",
              "      <td>2450</td>\n",
              "      <td>2450</td>\n",
              "      <td>2450</td>\n",
              "      <td>2450</td>\n",
              "      <td>2450</td>\n",
              "      <td>2450</td>\n",
              "      <td>2450</td>\n",
              "      <td>2450</td>\n",
              "    </tr>\n",
              "  </tbody>\n",
              "</table>\n",
              "</div>\n",
              "      <button class=\"colab-df-convert\" onclick=\"convertToInteractive('df-1e1bef92-ce8c-4521-9de5-ad6a1acb36de')\"\n",
              "              title=\"Convert this dataframe to an interactive table.\"\n",
              "              style=\"display:none;\">\n",
              "        \n",
              "  <svg xmlns=\"http://www.w3.org/2000/svg\" height=\"24px\"viewBox=\"0 0 24 24\"\n",
              "       width=\"24px\">\n",
              "    <path d=\"M0 0h24v24H0V0z\" fill=\"none\"/>\n",
              "    <path d=\"M18.56 5.44l.94 2.06.94-2.06 2.06-.94-2.06-.94-.94-2.06-.94 2.06-2.06.94zm-11 1L8.5 8.5l.94-2.06 2.06-.94-2.06-.94L8.5 2.5l-.94 2.06-2.06.94zm10 10l.94 2.06.94-2.06 2.06-.94-2.06-.94-.94-2.06-.94 2.06-2.06.94z\"/><path d=\"M17.41 7.96l-1.37-1.37c-.4-.4-.92-.59-1.43-.59-.52 0-1.04.2-1.43.59L10.3 9.45l-7.72 7.72c-.78.78-.78 2.05 0 2.83L4 21.41c.39.39.9.59 1.41.59.51 0 1.02-.2 1.41-.59l7.78-7.78 2.81-2.81c.8-.78.8-2.07 0-2.86zM5.41 20L4 18.59l7.72-7.72 1.47 1.35L5.41 20z\"/>\n",
              "  </svg>\n",
              "      </button>\n",
              "      \n",
              "  <style>\n",
              "    .colab-df-container {\n",
              "      display:flex;\n",
              "      flex-wrap:wrap;\n",
              "      gap: 12px;\n",
              "    }\n",
              "\n",
              "    .colab-df-convert {\n",
              "      background-color: #E8F0FE;\n",
              "      border: none;\n",
              "      border-radius: 50%;\n",
              "      cursor: pointer;\n",
              "      display: none;\n",
              "      fill: #1967D2;\n",
              "      height: 32px;\n",
              "      padding: 0 0 0 0;\n",
              "      width: 32px;\n",
              "    }\n",
              "\n",
              "    .colab-df-convert:hover {\n",
              "      background-color: #E2EBFA;\n",
              "      box-shadow: 0px 1px 2px rgba(60, 64, 67, 0.3), 0px 1px 3px 1px rgba(60, 64, 67, 0.15);\n",
              "      fill: #174EA6;\n",
              "    }\n",
              "\n",
              "    [theme=dark] .colab-df-convert {\n",
              "      background-color: #3B4455;\n",
              "      fill: #D2E3FC;\n",
              "    }\n",
              "\n",
              "    [theme=dark] .colab-df-convert:hover {\n",
              "      background-color: #434B5C;\n",
              "      box-shadow: 0px 1px 3px 1px rgba(0, 0, 0, 0.15);\n",
              "      filter: drop-shadow(0px 1px 2px rgba(0, 0, 0, 0.3));\n",
              "      fill: #FFFFFF;\n",
              "    }\n",
              "  </style>\n",
              "\n",
              "      <script>\n",
              "        const buttonEl =\n",
              "          document.querySelector('#df-1e1bef92-ce8c-4521-9de5-ad6a1acb36de button.colab-df-convert');\n",
              "        buttonEl.style.display =\n",
              "          google.colab.kernel.accessAllowed ? 'block' : 'none';\n",
              "\n",
              "        async function convertToInteractive(key) {\n",
              "          const element = document.querySelector('#df-1e1bef92-ce8c-4521-9de5-ad6a1acb36de');\n",
              "          const dataTable =\n",
              "            await google.colab.kernel.invokeFunction('convertToInteractive',\n",
              "                                                     [key], {});\n",
              "          if (!dataTable) return;\n",
              "\n",
              "          const docLinkHtml = 'Like what you see? Visit the ' +\n",
              "            '<a target=\"_blank\" href=https://colab.research.google.com/notebooks/data_table.ipynb>data table notebook</a>'\n",
              "            + ' to learn more about interactive tables.';\n",
              "          element.innerHTML = '';\n",
              "          dataTable['output_type'] = 'display_data';\n",
              "          await google.colab.output.renderOutput(dataTable, element);\n",
              "          const docLink = document.createElement('div');\n",
              "          docLink.innerHTML = docLinkHtml;\n",
              "          element.appendChild(docLink);\n",
              "        }\n",
              "      </script>\n",
              "    </div>\n",
              "  </div>\n",
              "  "
            ]
          },
          "metadata": {},
          "execution_count": 53
        }
      ]
    },
    {
      "cell_type": "code",
      "source": [
        "X_val.groupby('trainrows').count()"
      ],
      "metadata": {
        "colab": {
          "base_uri": "https://localhost:8080/",
          "height": 176
        },
        "id": "_A4Z57BWVqNa",
        "outputId": "19b1800b-9c02-4bc7-a8aa-467232d5f717"
      },
      "execution_count": null,
      "outputs": [
        {
          "output_type": "execute_result",
          "data": {
            "text/plain": [
              "           Total.Day.Minutes  Total.Day.Calls  Total.Day.Charge  \\\n",
              "trainrows                                                         \n",
              "1                       1050             1050              1050   \n",
              "\n",
              "           Total.Eve.Minutes  Total.Eve.Calls  Total.Eve.Charge  \\\n",
              "trainrows                                                         \n",
              "1                       1050             1050              1050   \n",
              "\n",
              "           Total.Night.Minutes  Total.Night.Calls  Total.Night.Charge  \\\n",
              "trainrows                                                               \n",
              "1                         1050               1050                1050   \n",
              "\n",
              "           Total.Intl.Minutes  Total.Intl.Calls  Total.Intl.Charge  \\\n",
              "trainrows                                                            \n",
              "1                        1050              1050               1050   \n",
              "\n",
              "           X..Vmail.Messages  X..customer.Service.Calls  \\\n",
              "trainrows                                                 \n",
              "1                       1050                       1050   \n",
              "\n",
              "           International.Plan_yes  Voice.Mail.Plan_yes  \n",
              "trainrows                                               \n",
              "1                            1050                 1050  "
            ],
            "text/html": [
              "\n",
              "  <div id=\"df-0bc6f0a9-53ce-49ad-99e2-a82465bf2b38\">\n",
              "    <div class=\"colab-df-container\">\n",
              "      <div>\n",
              "<style scoped>\n",
              "    .dataframe tbody tr th:only-of-type {\n",
              "        vertical-align: middle;\n",
              "    }\n",
              "\n",
              "    .dataframe tbody tr th {\n",
              "        vertical-align: top;\n",
              "    }\n",
              "\n",
              "    .dataframe thead th {\n",
              "        text-align: right;\n",
              "    }\n",
              "</style>\n",
              "<table border=\"1\" class=\"dataframe\">\n",
              "  <thead>\n",
              "    <tr style=\"text-align: right;\">\n",
              "      <th></th>\n",
              "      <th>Total.Day.Minutes</th>\n",
              "      <th>Total.Day.Calls</th>\n",
              "      <th>Total.Day.Charge</th>\n",
              "      <th>Total.Eve.Minutes</th>\n",
              "      <th>Total.Eve.Calls</th>\n",
              "      <th>Total.Eve.Charge</th>\n",
              "      <th>Total.Night.Minutes</th>\n",
              "      <th>Total.Night.Calls</th>\n",
              "      <th>Total.Night.Charge</th>\n",
              "      <th>Total.Intl.Minutes</th>\n",
              "      <th>Total.Intl.Calls</th>\n",
              "      <th>Total.Intl.Charge</th>\n",
              "      <th>X..Vmail.Messages</th>\n",
              "      <th>X..customer.Service.Calls</th>\n",
              "      <th>International.Plan_yes</th>\n",
              "      <th>Voice.Mail.Plan_yes</th>\n",
              "    </tr>\n",
              "    <tr>\n",
              "      <th>trainrows</th>\n",
              "      <th></th>\n",
              "      <th></th>\n",
              "      <th></th>\n",
              "      <th></th>\n",
              "      <th></th>\n",
              "      <th></th>\n",
              "      <th></th>\n",
              "      <th></th>\n",
              "      <th></th>\n",
              "      <th></th>\n",
              "      <th></th>\n",
              "      <th></th>\n",
              "      <th></th>\n",
              "      <th></th>\n",
              "      <th></th>\n",
              "      <th></th>\n",
              "    </tr>\n",
              "  </thead>\n",
              "  <tbody>\n",
              "    <tr>\n",
              "      <th>1</th>\n",
              "      <td>1050</td>\n",
              "      <td>1050</td>\n",
              "      <td>1050</td>\n",
              "      <td>1050</td>\n",
              "      <td>1050</td>\n",
              "      <td>1050</td>\n",
              "      <td>1050</td>\n",
              "      <td>1050</td>\n",
              "      <td>1050</td>\n",
              "      <td>1050</td>\n",
              "      <td>1050</td>\n",
              "      <td>1050</td>\n",
              "      <td>1050</td>\n",
              "      <td>1050</td>\n",
              "      <td>1050</td>\n",
              "      <td>1050</td>\n",
              "    </tr>\n",
              "  </tbody>\n",
              "</table>\n",
              "</div>\n",
              "      <button class=\"colab-df-convert\" onclick=\"convertToInteractive('df-0bc6f0a9-53ce-49ad-99e2-a82465bf2b38')\"\n",
              "              title=\"Convert this dataframe to an interactive table.\"\n",
              "              style=\"display:none;\">\n",
              "        \n",
              "  <svg xmlns=\"http://www.w3.org/2000/svg\" height=\"24px\"viewBox=\"0 0 24 24\"\n",
              "       width=\"24px\">\n",
              "    <path d=\"M0 0h24v24H0V0z\" fill=\"none\"/>\n",
              "    <path d=\"M18.56 5.44l.94 2.06.94-2.06 2.06-.94-2.06-.94-.94-2.06-.94 2.06-2.06.94zm-11 1L8.5 8.5l.94-2.06 2.06-.94-2.06-.94L8.5 2.5l-.94 2.06-2.06.94zm10 10l.94 2.06.94-2.06 2.06-.94-2.06-.94-.94-2.06-.94 2.06-2.06.94z\"/><path d=\"M17.41 7.96l-1.37-1.37c-.4-.4-.92-.59-1.43-.59-.52 0-1.04.2-1.43.59L10.3 9.45l-7.72 7.72c-.78.78-.78 2.05 0 2.83L4 21.41c.39.39.9.59 1.41.59.51 0 1.02-.2 1.41-.59l7.78-7.78 2.81-2.81c.8-.78.8-2.07 0-2.86zM5.41 20L4 18.59l7.72-7.72 1.47 1.35L5.41 20z\"/>\n",
              "  </svg>\n",
              "      </button>\n",
              "      \n",
              "  <style>\n",
              "    .colab-df-container {\n",
              "      display:flex;\n",
              "      flex-wrap:wrap;\n",
              "      gap: 12px;\n",
              "    }\n",
              "\n",
              "    .colab-df-convert {\n",
              "      background-color: #E8F0FE;\n",
              "      border: none;\n",
              "      border-radius: 50%;\n",
              "      cursor: pointer;\n",
              "      display: none;\n",
              "      fill: #1967D2;\n",
              "      height: 32px;\n",
              "      padding: 0 0 0 0;\n",
              "      width: 32px;\n",
              "    }\n",
              "\n",
              "    .colab-df-convert:hover {\n",
              "      background-color: #E2EBFA;\n",
              "      box-shadow: 0px 1px 2px rgba(60, 64, 67, 0.3), 0px 1px 3px 1px rgba(60, 64, 67, 0.15);\n",
              "      fill: #174EA6;\n",
              "    }\n",
              "\n",
              "    [theme=dark] .colab-df-convert {\n",
              "      background-color: #3B4455;\n",
              "      fill: #D2E3FC;\n",
              "    }\n",
              "\n",
              "    [theme=dark] .colab-df-convert:hover {\n",
              "      background-color: #434B5C;\n",
              "      box-shadow: 0px 1px 3px 1px rgba(0, 0, 0, 0.15);\n",
              "      filter: drop-shadow(0px 1px 2px rgba(0, 0, 0, 0.3));\n",
              "      fill: #FFFFFF;\n",
              "    }\n",
              "  </style>\n",
              "\n",
              "      <script>\n",
              "        const buttonEl =\n",
              "          document.querySelector('#df-0bc6f0a9-53ce-49ad-99e2-a82465bf2b38 button.colab-df-convert');\n",
              "        buttonEl.style.display =\n",
              "          google.colab.kernel.accessAllowed ? 'block' : 'none';\n",
              "\n",
              "        async function convertToInteractive(key) {\n",
              "          const element = document.querySelector('#df-0bc6f0a9-53ce-49ad-99e2-a82465bf2b38');\n",
              "          const dataTable =\n",
              "            await google.colab.kernel.invokeFunction('convertToInteractive',\n",
              "                                                     [key], {});\n",
              "          if (!dataTable) return;\n",
              "\n",
              "          const docLinkHtml = 'Like what you see? Visit the ' +\n",
              "            '<a target=\"_blank\" href=https://colab.research.google.com/notebooks/data_table.ipynb>data table notebook</a>'\n",
              "            + ' to learn more about interactive tables.';\n",
              "          element.innerHTML = '';\n",
              "          dataTable['output_type'] = 'display_data';\n",
              "          await google.colab.output.renderOutput(dataTable, element);\n",
              "          const docLink = document.createElement('div');\n",
              "          docLink.innerHTML = docLinkHtml;\n",
              "          element.appendChild(docLink);\n",
              "        }\n",
              "      </script>\n",
              "    </div>\n",
              "  </div>\n",
              "  "
            ]
          },
          "metadata": {},
          "execution_count": 54
        }
      ]
    },
    {
      "cell_type": "code",
      "source": [
        "print(X_train.shape)\n",
        "print(X_val.shape)\n",
        "print(Y_train.shape)\n",
        "print(Y_val.shape)\n",
        "print(X_test.shape)\n",
        "print(Y_test.shape)"
      ],
      "metadata": {
        "colab": {
          "base_uri": "https://localhost:8080/"
        },
        "id": "bdSDCL7n27M6",
        "outputId": "f48b5885-6be6-47de-c711-61473c777fc7"
      },
      "execution_count": null,
      "outputs": [
        {
          "output_type": "stream",
          "name": "stdout",
          "text": [
            "(2450, 17)\n",
            "(1050, 17)\n",
            "(2450,)\n",
            "(1050,)\n",
            "(1500, 17)\n",
            "(1500,)\n"
          ]
        }
      ]
    },
    {
      "cell_type": "code",
      "source": [
        "Y_val.value_counts(normalize=True)*100"
      ],
      "metadata": {
        "colab": {
          "base_uri": "https://localhost:8080/"
        },
        "id": "tbVnTJBW3EbP",
        "outputId": "ee917ef4-f95d-4ec8-97b1-03914750259a"
      },
      "execution_count": null,
      "outputs": [
        {
          "output_type": "execute_result",
          "data": {
            "text/plain": [
              "0    85.619048\n",
              "1    14.380952\n",
              "Name: Churn, dtype: float64"
            ]
          },
          "metadata": {},
          "execution_count": 56
        }
      ]
    },
    {
      "cell_type": "code",
      "source": [
        "Y_train.value_counts(normalize=True)*100"
      ],
      "metadata": {
        "colab": {
          "base_uri": "https://localhost:8080/"
        },
        "id": "zgPf4gj63MrG",
        "outputId": "03d1bd00-89d0-40c2-da8d-4e0c83f35668"
      },
      "execution_count": null,
      "outputs": [
        {
          "output_type": "execute_result",
          "data": {
            "text/plain": [
              "0    85.673469\n",
              "1    14.326531\n",
              "Name: Churn, dtype: float64"
            ]
          },
          "metadata": {},
          "execution_count": 57
        }
      ]
    },
    {
      "cell_type": "code",
      "source": [
        "Y_test.value_counts(normalize=True)*100"
      ],
      "metadata": {
        "colab": {
          "base_uri": "https://localhost:8080/"
        },
        "id": "a3t5MlWVnpER",
        "outputId": "a85244e0-9e4b-46cf-f6b4-7420167a546e"
      },
      "execution_count": null,
      "outputs": [
        {
          "output_type": "execute_result",
          "data": {
            "text/plain": [
              "0    86.333333\n",
              "1    13.666667\n",
              "Name: Churn, dtype: float64"
            ]
          },
          "metadata": {},
          "execution_count": 58
        }
      ]
    },
    {
      "cell_type": "markdown",
      "source": [
        "Standardization and Normalization are two ways to deal with numerical columns."
      ],
      "metadata": {
        "id": "zZPIz9PvC9aq"
      }
    },
    {
      "cell_type": "markdown",
      "source": [
        "*# #### Standardizing the data (numerical attributes only) -  Importing StandardScaler...This technique is to re-scale features values."
      ],
      "metadata": {
        "id": "MzAS-2uqJBin"
      }
    },
    {
      "cell_type": "code",
      "source": [
        "from sklearn.preprocessing import StandardScaler"
      ],
      "metadata": {
        "id": "bmMCQSRr3TwN"
      },
      "execution_count": null,
      "outputs": []
    },
    {
      "cell_type": "code",
      "source": [
        "scaler=StandardScaler()"
      ],
      "metadata": {
        "id": "FNq6ikU33f0z"
      },
      "execution_count": null,
      "outputs": []
    },
    {
      "cell_type": "code",
      "source": [
        "scaler.fit(X_train[Num_cols])"
      ],
      "metadata": {
        "colab": {
          "base_uri": "https://localhost:8080/"
        },
        "id": "tOejRpQj3jLc",
        "outputId": "eeee81c4-eb85-42b8-96e5-216ae8c8ab81"
      },
      "execution_count": null,
      "outputs": [
        {
          "output_type": "execute_result",
          "data": {
            "text/plain": [
              "StandardScaler()"
            ]
          },
          "metadata": {},
          "execution_count": 61
        }
      ]
    },
    {
      "cell_type": "code",
      "source": [
        "X_train[Num_cols]=scaler.transform(X_train[Num_cols])\n",
        "X_val[Num_cols]=scaler.transform(X_val[Num_cols])\n",
        "X_test[Num_cols]=scaler.transform(X_test[Num_cols])"
      ],
      "metadata": {
        "id": "T_9UAcPz5RwB"
      },
      "execution_count": null,
      "outputs": []
    },
    {
      "cell_type": "markdown",
      "source": [
        "As trainrows attribute is not useful at all we can drop from X_train,X_val and X_test"
      ],
      "metadata": {
        "id": "3fxZwJt9Z6Cy"
      }
    },
    {
      "cell_type": "code",
      "source": [
        "X_train=X_train.drop('trainrows',axis=1)"
      ],
      "metadata": {
        "id": "sn685Ht93rQI"
      },
      "execution_count": null,
      "outputs": []
    },
    {
      "cell_type": "code",
      "source": [
        "X_val=X_val.drop('trainrows',axis=1)"
      ],
      "metadata": {
        "id": "3lU2ZMnuoLoV"
      },
      "execution_count": null,
      "outputs": []
    },
    {
      "cell_type": "code",
      "source": [
        "X_test=X_test.drop('trainrows',axis=1)"
      ],
      "metadata": {
        "id": "oH_qwr9LaOtw"
      },
      "execution_count": null,
      "outputs": []
    },
    {
      "cell_type": "code",
      "source": [
        "X_train.head()"
      ],
      "metadata": {
        "id": "DvOtomV9aTY1",
        "colab": {
          "base_uri": "https://localhost:8080/",
          "height": 270
        },
        "outputId": "86a64913-16a6-4f0d-c4f1-5dcd430d9ef3"
      },
      "execution_count": null,
      "outputs": [
        {
          "output_type": "execute_result",
          "data": {
            "text/plain": [
              "      Total.Day.Minutes  Total.Day.Calls  Total.Day.Charge  Total.Eve.Minutes  \\\n",
              "1197           0.772207        -1.005230          0.771704           0.274438   \n",
              "3515           1.045079        -0.450735          1.045457           0.058447   \n",
              "349           -1.362179        -1.862176         -1.362242          -1.883476   \n",
              "3342          -0.038934         0.002942         -0.038558          -1.051509   \n",
              "425            0.243283         1.565609          0.242890          -0.287540   \n",
              "\n",
              "      Total.Eve.Calls  Total.Eve.Charge  Total.Night.Minutes  \\\n",
              "1197         0.171283          0.275344             1.820089   \n",
              "3515        -0.834091          0.058881             0.916653   \n",
              "349         -1.688659         -1.884580             0.853115   \n",
              "3342        -0.582748         -1.051668            -0.117831   \n",
              "425          0.020477         -0.286989             0.100582   \n",
              "\n",
              "      Total.Night.Calls  Total.Night.Charge  Total.Intl.Minutes  \\\n",
              "1197          -0.549673            1.819631            0.577800   \n",
              "3515          -0.953723            0.915093            0.577800   \n",
              "349           -1.307267            0.853320            0.902027   \n",
              "3342          -0.398154           -0.117404            0.577800   \n",
              "425            1.521083            0.098803            0.217548   \n",
              "\n",
              "      Total.Intl.Calls  Total.Intl.Charge  X..Vmail.Messages  \\\n",
              "1197         -0.576377           0.573166          -0.585889   \n",
              "3515         -0.172220           0.573166           1.517781   \n",
              "349          -0.576377           0.906760          -0.585889   \n",
              "3342         -1.384691           0.573166           2.533345   \n",
              "425          -0.172220           0.212885          -0.585889   \n",
              "\n",
              "      X..customer.Service.Calls  International.Plan_yes  Voice.Mail.Plan_yes  \n",
              "1197                   1.895440                       0                    0  \n",
              "3515                  -0.413773                       0                    1  \n",
              "349                    1.895440                       0                    0  \n",
              "3342                  -1.183511                       0                    1  \n",
              "425                   -0.413773                       1                    0  "
            ],
            "text/html": [
              "\n",
              "  <div id=\"df-97efc299-315f-443f-937a-5790a2b28c37\">\n",
              "    <div class=\"colab-df-container\">\n",
              "      <div>\n",
              "<style scoped>\n",
              "    .dataframe tbody tr th:only-of-type {\n",
              "        vertical-align: middle;\n",
              "    }\n",
              "\n",
              "    .dataframe tbody tr th {\n",
              "        vertical-align: top;\n",
              "    }\n",
              "\n",
              "    .dataframe thead th {\n",
              "        text-align: right;\n",
              "    }\n",
              "</style>\n",
              "<table border=\"1\" class=\"dataframe\">\n",
              "  <thead>\n",
              "    <tr style=\"text-align: right;\">\n",
              "      <th></th>\n",
              "      <th>Total.Day.Minutes</th>\n",
              "      <th>Total.Day.Calls</th>\n",
              "      <th>Total.Day.Charge</th>\n",
              "      <th>Total.Eve.Minutes</th>\n",
              "      <th>Total.Eve.Calls</th>\n",
              "      <th>Total.Eve.Charge</th>\n",
              "      <th>Total.Night.Minutes</th>\n",
              "      <th>Total.Night.Calls</th>\n",
              "      <th>Total.Night.Charge</th>\n",
              "      <th>Total.Intl.Minutes</th>\n",
              "      <th>Total.Intl.Calls</th>\n",
              "      <th>Total.Intl.Charge</th>\n",
              "      <th>X..Vmail.Messages</th>\n",
              "      <th>X..customer.Service.Calls</th>\n",
              "      <th>International.Plan_yes</th>\n",
              "      <th>Voice.Mail.Plan_yes</th>\n",
              "    </tr>\n",
              "  </thead>\n",
              "  <tbody>\n",
              "    <tr>\n",
              "      <th>1197</th>\n",
              "      <td>0.772207</td>\n",
              "      <td>-1.005230</td>\n",
              "      <td>0.771704</td>\n",
              "      <td>0.274438</td>\n",
              "      <td>0.171283</td>\n",
              "      <td>0.275344</td>\n",
              "      <td>1.820089</td>\n",
              "      <td>-0.549673</td>\n",
              "      <td>1.819631</td>\n",
              "      <td>0.577800</td>\n",
              "      <td>-0.576377</td>\n",
              "      <td>0.573166</td>\n",
              "      <td>-0.585889</td>\n",
              "      <td>1.895440</td>\n",
              "      <td>0</td>\n",
              "      <td>0</td>\n",
              "    </tr>\n",
              "    <tr>\n",
              "      <th>3515</th>\n",
              "      <td>1.045079</td>\n",
              "      <td>-0.450735</td>\n",
              "      <td>1.045457</td>\n",
              "      <td>0.058447</td>\n",
              "      <td>-0.834091</td>\n",
              "      <td>0.058881</td>\n",
              "      <td>0.916653</td>\n",
              "      <td>-0.953723</td>\n",
              "      <td>0.915093</td>\n",
              "      <td>0.577800</td>\n",
              "      <td>-0.172220</td>\n",
              "      <td>0.573166</td>\n",
              "      <td>1.517781</td>\n",
              "      <td>-0.413773</td>\n",
              "      <td>0</td>\n",
              "      <td>1</td>\n",
              "    </tr>\n",
              "    <tr>\n",
              "      <th>349</th>\n",
              "      <td>-1.362179</td>\n",
              "      <td>-1.862176</td>\n",
              "      <td>-1.362242</td>\n",
              "      <td>-1.883476</td>\n",
              "      <td>-1.688659</td>\n",
              "      <td>-1.884580</td>\n",
              "      <td>0.853115</td>\n",
              "      <td>-1.307267</td>\n",
              "      <td>0.853320</td>\n",
              "      <td>0.902027</td>\n",
              "      <td>-0.576377</td>\n",
              "      <td>0.906760</td>\n",
              "      <td>-0.585889</td>\n",
              "      <td>1.895440</td>\n",
              "      <td>0</td>\n",
              "      <td>0</td>\n",
              "    </tr>\n",
              "    <tr>\n",
              "      <th>3342</th>\n",
              "      <td>-0.038934</td>\n",
              "      <td>0.002942</td>\n",
              "      <td>-0.038558</td>\n",
              "      <td>-1.051509</td>\n",
              "      <td>-0.582748</td>\n",
              "      <td>-1.051668</td>\n",
              "      <td>-0.117831</td>\n",
              "      <td>-0.398154</td>\n",
              "      <td>-0.117404</td>\n",
              "      <td>0.577800</td>\n",
              "      <td>-1.384691</td>\n",
              "      <td>0.573166</td>\n",
              "      <td>2.533345</td>\n",
              "      <td>-1.183511</td>\n",
              "      <td>0</td>\n",
              "      <td>1</td>\n",
              "    </tr>\n",
              "    <tr>\n",
              "      <th>425</th>\n",
              "      <td>0.243283</td>\n",
              "      <td>1.565609</td>\n",
              "      <td>0.242890</td>\n",
              "      <td>-0.287540</td>\n",
              "      <td>0.020477</td>\n",
              "      <td>-0.286989</td>\n",
              "      <td>0.100582</td>\n",
              "      <td>1.521083</td>\n",
              "      <td>0.098803</td>\n",
              "      <td>0.217548</td>\n",
              "      <td>-0.172220</td>\n",
              "      <td>0.212885</td>\n",
              "      <td>-0.585889</td>\n",
              "      <td>-0.413773</td>\n",
              "      <td>1</td>\n",
              "      <td>0</td>\n",
              "    </tr>\n",
              "  </tbody>\n",
              "</table>\n",
              "</div>\n",
              "      <button class=\"colab-df-convert\" onclick=\"convertToInteractive('df-97efc299-315f-443f-937a-5790a2b28c37')\"\n",
              "              title=\"Convert this dataframe to an interactive table.\"\n",
              "              style=\"display:none;\">\n",
              "        \n",
              "  <svg xmlns=\"http://www.w3.org/2000/svg\" height=\"24px\"viewBox=\"0 0 24 24\"\n",
              "       width=\"24px\">\n",
              "    <path d=\"M0 0h24v24H0V0z\" fill=\"none\"/>\n",
              "    <path d=\"M18.56 5.44l.94 2.06.94-2.06 2.06-.94-2.06-.94-.94-2.06-.94 2.06-2.06.94zm-11 1L8.5 8.5l.94-2.06 2.06-.94-2.06-.94L8.5 2.5l-.94 2.06-2.06.94zm10 10l.94 2.06.94-2.06 2.06-.94-2.06-.94-.94-2.06-.94 2.06-2.06.94z\"/><path d=\"M17.41 7.96l-1.37-1.37c-.4-.4-.92-.59-1.43-.59-.52 0-1.04.2-1.43.59L10.3 9.45l-7.72 7.72c-.78.78-.78 2.05 0 2.83L4 21.41c.39.39.9.59 1.41.59.51 0 1.02-.2 1.41-.59l7.78-7.78 2.81-2.81c.8-.78.8-2.07 0-2.86zM5.41 20L4 18.59l7.72-7.72 1.47 1.35L5.41 20z\"/>\n",
              "  </svg>\n",
              "      </button>\n",
              "      \n",
              "  <style>\n",
              "    .colab-df-container {\n",
              "      display:flex;\n",
              "      flex-wrap:wrap;\n",
              "      gap: 12px;\n",
              "    }\n",
              "\n",
              "    .colab-df-convert {\n",
              "      background-color: #E8F0FE;\n",
              "      border: none;\n",
              "      border-radius: 50%;\n",
              "      cursor: pointer;\n",
              "      display: none;\n",
              "      fill: #1967D2;\n",
              "      height: 32px;\n",
              "      padding: 0 0 0 0;\n",
              "      width: 32px;\n",
              "    }\n",
              "\n",
              "    .colab-df-convert:hover {\n",
              "      background-color: #E2EBFA;\n",
              "      box-shadow: 0px 1px 2px rgba(60, 64, 67, 0.3), 0px 1px 3px 1px rgba(60, 64, 67, 0.15);\n",
              "      fill: #174EA6;\n",
              "    }\n",
              "\n",
              "    [theme=dark] .colab-df-convert {\n",
              "      background-color: #3B4455;\n",
              "      fill: #D2E3FC;\n",
              "    }\n",
              "\n",
              "    [theme=dark] .colab-df-convert:hover {\n",
              "      background-color: #434B5C;\n",
              "      box-shadow: 0px 1px 3px 1px rgba(0, 0, 0, 0.15);\n",
              "      filter: drop-shadow(0px 1px 2px rgba(0, 0, 0, 0.3));\n",
              "      fill: #FFFFFF;\n",
              "    }\n",
              "  </style>\n",
              "\n",
              "      <script>\n",
              "        const buttonEl =\n",
              "          document.querySelector('#df-97efc299-315f-443f-937a-5790a2b28c37 button.colab-df-convert');\n",
              "        buttonEl.style.display =\n",
              "          google.colab.kernel.accessAllowed ? 'block' : 'none';\n",
              "\n",
              "        async function convertToInteractive(key) {\n",
              "          const element = document.querySelector('#df-97efc299-315f-443f-937a-5790a2b28c37');\n",
              "          const dataTable =\n",
              "            await google.colab.kernel.invokeFunction('convertToInteractive',\n",
              "                                                     [key], {});\n",
              "          if (!dataTable) return;\n",
              "\n",
              "          const docLinkHtml = 'Like what you see? Visit the ' +\n",
              "            '<a target=\"_blank\" href=https://colab.research.google.com/notebooks/data_table.ipynb>data table notebook</a>'\n",
              "            + ' to learn more about interactive tables.';\n",
              "          element.innerHTML = '';\n",
              "          dataTable['output_type'] = 'display_data';\n",
              "          await google.colab.output.renderOutput(dataTable, element);\n",
              "          const docLink = document.createElement('div');\n",
              "          docLink.innerHTML = docLinkHtml;\n",
              "          element.appendChild(docLink);\n",
              "        }\n",
              "      </script>\n",
              "    </div>\n",
              "  </div>\n",
              "  "
            ]
          },
          "metadata": {},
          "execution_count": 66
        }
      ]
    },
    {
      "cell_type": "markdown",
      "source": [
        "Model Building using logistic Regression"
      ],
      "metadata": {
        "id": "0b7r5meKP49G"
      }
    },
    {
      "cell_type": "code",
      "source": [
        "from sklearn.linear_model import LogisticRegression\n"
      ],
      "metadata": {
        "id": "qUWHrS8mbJzF"
      },
      "execution_count": null,
      "outputs": []
    },
    {
      "cell_type": "code",
      "source": [
        "logistic_model=LogisticRegression(penalty='l2',solver='sag')"
      ],
      "metadata": {
        "id": "r3hJNScXP36D"
      },
      "execution_count": null,
      "outputs": []
    },
    {
      "cell_type": "code",
      "source": [
        "\n",
        "logistic_model.fit(X_train,Y_train)"
      ],
      "metadata": {
        "id": "a6M0KsycQD4h",
        "colab": {
          "base_uri": "https://localhost:8080/"
        },
        "outputId": "d6f06d56-5ddb-457f-84f4-dd29a267c7d2"
      },
      "execution_count": null,
      "outputs": [
        {
          "output_type": "execute_result",
          "data": {
            "text/plain": [
              "LogisticRegression(solver='sag')"
            ]
          },
          "metadata": {},
          "execution_count": 69
        }
      ]
    },
    {
      "cell_type": "code",
      "source": [
        "train_preds=logistic_model.predict(X_train)\n",
        "val_preds=logistic_model.predict(X_val)\n",
        "train_preds_prob=logistic_model.predict_proba(X_train)[:,1]\n",
        "val_preds_prob=logistic_model.predict_proba(X_val)[:,1]"
      ],
      "metadata": {
        "id": "OwQMHjfTQH_A"
      },
      "execution_count": null,
      "outputs": []
    },
    {
      "cell_type": "code",
      "source": [
        "\n",
        "logistic_model.coef_"
      ],
      "metadata": {
        "id": "rdmwnPxxQWC5",
        "colab": {
          "base_uri": "https://localhost:8080/"
        },
        "outputId": "263a34f6-1c5f-48db-c07c-599ab7401775"
      },
      "execution_count": null,
      "outputs": [
        {
          "output_type": "execute_result",
          "data": {
            "text/plain": [
              "array([[ 0.31751369, -0.04336251,  0.31665394,  0.17151775,  0.03869382,\n",
              "         0.17699417,  0.10350538, -0.01706757,  0.0983649 ,  0.11684774,\n",
              "        -0.18088851,  0.11532719,  0.42868601,  0.69758585,  2.26377096,\n",
              "        -1.93828178]])"
            ]
          },
          "metadata": {},
          "execution_count": 71
        }
      ]
    },
    {
      "cell_type": "code",
      "source": [
        "\n",
        "from sklearn.metrics import confusion_matrix,classification_report\n"
      ],
      "metadata": {
        "id": "TKsBiKpVQdE2"
      },
      "execution_count": null,
      "outputs": []
    },
    {
      "cell_type": "code",
      "source": [
        "confusion_matrix(Y_train,train_preds)"
      ],
      "metadata": {
        "id": "jVMlb25oQjdu",
        "colab": {
          "base_uri": "https://localhost:8080/"
        },
        "outputId": "f00d9b9a-0be6-4998-97be-78360eca9213"
      },
      "execution_count": null,
      "outputs": [
        {
          "output_type": "execute_result",
          "data": {
            "text/plain": [
              "array([[2042,   57],\n",
              "       [ 277,   74]])"
            ]
          },
          "metadata": {},
          "execution_count": 73
        }
      ]
    },
    {
      "cell_type": "markdown",
      "source": [
        "##lets import error matrices for computing the model perfomances."
      ],
      "metadata": {
        "id": "K9a63yOZpdTc"
      }
    },
    {
      "cell_type": "code",
      "source": [
        "from sklearn.metrics import accuracy_score,recall_score,precision_score,f1_score"
      ],
      "metadata": {
        "id": "2muwDW2EQnza"
      },
      "execution_count": null,
      "outputs": []
    },
    {
      "cell_type": "code",
      "source": [
        "def evaluate_model(act, pred):\n",
        "    print(\"Confusion Matrix \\n\", confusion_matrix(act, pred))\n",
        "    print(\"Accurcay : \", accuracy_score(act, pred))\n",
        "    print(\"Recall   : \", recall_score(act, pred))\n",
        "    print(\"Precision: \", precision_score(act, pred))    "
      ],
      "metadata": {
        "id": "Yqwg5ok6W2pb"
      },
      "execution_count": null,
      "outputs": []
    },
    {
      "cell_type": "code",
      "source": [
        "train_accuracy_1= accuracy_score(Y_train,train_preds)\n",
        "train_recall_1= recall_score(Y_train,train_preds)\n",
        "train_precision_1= precision_score(Y_train,train_preds)\n",
        "\n",
        "val_accuracy_1= accuracy_score(Y_val,val_preds)\n",
        "val_recall_1= recall_score(Y_val,val_preds)\n",
        "val_precision_1= precision_score(Y_val,val_preds)"
      ],
      "metadata": {
        "id": "mQFW3J5wclBU"
      },
      "execution_count": null,
      "outputs": []
    },
    {
      "cell_type": "code",
      "source": [
        "print(classification_report(Y_train,train_preds))"
      ],
      "metadata": {
        "id": "4f7QomC-czcj",
        "colab": {
          "base_uri": "https://localhost:8080/"
        },
        "outputId": "5afad86b-74f7-4d59-a43a-85d957f25f4f"
      },
      "execution_count": null,
      "outputs": [
        {
          "output_type": "stream",
          "name": "stdout",
          "text": [
            "              precision    recall  f1-score   support\n",
            "\n",
            "           0       0.88      0.97      0.92      2099\n",
            "           1       0.56      0.21      0.31       351\n",
            "\n",
            "    accuracy                           0.86      2450\n",
            "   macro avg       0.72      0.59      0.62      2450\n",
            "weighted avg       0.84      0.86      0.84      2450\n",
            "\n"
          ]
        }
      ]
    },
    {
      "cell_type": "code",
      "source": [
        "print(classification_report(Y_val,val_preds))"
      ],
      "metadata": {
        "id": "i06bUKSdc3M9",
        "colab": {
          "base_uri": "https://localhost:8080/"
        },
        "outputId": "05faf728-8428-4650-e811-54dfe100170a"
      },
      "execution_count": null,
      "outputs": [
        {
          "output_type": "stream",
          "name": "stdout",
          "text": [
            "              precision    recall  f1-score   support\n",
            "\n",
            "           0       0.88      0.96      0.92       899\n",
            "           1       0.50      0.23      0.32       151\n",
            "\n",
            "    accuracy                           0.86      1050\n",
            "   macro avg       0.69      0.60      0.62      1050\n",
            "weighted avg       0.83      0.86      0.83      1050\n",
            "\n"
          ]
        }
      ]
    },
    {
      "cell_type": "code",
      "source": [
        "model_performance = pd.DataFrame(np.array(['Logistic - Reg_Ridge',train_accuracy_1,train_recall_1,train_precision_1,\n",
        "                                           val_accuracy_1,val_recall_1,val_precision_1]).reshape(1,7))\n",
        "\n",
        "model_performance.columns = ['Model','Train Accuracy','Train Recall','Train Precision',\n",
        "                             'Val Accuracy','Val Recall','Val Precision']"
      ],
      "metadata": {
        "id": "zzcKogLAcTap"
      },
      "execution_count": null,
      "outputs": []
    },
    {
      "cell_type": "code",
      "source": [
        "model_performance"
      ],
      "metadata": {
        "id": "yRl3t-KfdHGa",
        "colab": {
          "base_uri": "https://localhost:8080/",
          "height": 81
        },
        "outputId": "addcbaf5-68fb-44ca-bb76-096fe1d0d568"
      },
      "execution_count": null,
      "outputs": [
        {
          "output_type": "execute_result",
          "data": {
            "text/plain": [
              "                  Model      Train Accuracy         Train Recall  \\\n",
              "0  Logistic - Reg_Ridge  0.8636734693877551  0.21082621082621084   \n",
              "\n",
              "      Train Precision        Val Accuracy           Val Recall Val Precision  \n",
              "0  0.5648854961832062  0.8561904761904762  0.23178807947019867           0.5  "
            ],
            "text/html": [
              "\n",
              "  <div id=\"df-ccb80a0b-6bd8-47cd-b2e9-fb934a035cde\">\n",
              "    <div class=\"colab-df-container\">\n",
              "      <div>\n",
              "<style scoped>\n",
              "    .dataframe tbody tr th:only-of-type {\n",
              "        vertical-align: middle;\n",
              "    }\n",
              "\n",
              "    .dataframe tbody tr th {\n",
              "        vertical-align: top;\n",
              "    }\n",
              "\n",
              "    .dataframe thead th {\n",
              "        text-align: right;\n",
              "    }\n",
              "</style>\n",
              "<table border=\"1\" class=\"dataframe\">\n",
              "  <thead>\n",
              "    <tr style=\"text-align: right;\">\n",
              "      <th></th>\n",
              "      <th>Model</th>\n",
              "      <th>Train Accuracy</th>\n",
              "      <th>Train Recall</th>\n",
              "      <th>Train Precision</th>\n",
              "      <th>Val Accuracy</th>\n",
              "      <th>Val Recall</th>\n",
              "      <th>Val Precision</th>\n",
              "    </tr>\n",
              "  </thead>\n",
              "  <tbody>\n",
              "    <tr>\n",
              "      <th>0</th>\n",
              "      <td>Logistic - Reg_Ridge</td>\n",
              "      <td>0.8636734693877551</td>\n",
              "      <td>0.21082621082621084</td>\n",
              "      <td>0.5648854961832062</td>\n",
              "      <td>0.8561904761904762</td>\n",
              "      <td>0.23178807947019867</td>\n",
              "      <td>0.5</td>\n",
              "    </tr>\n",
              "  </tbody>\n",
              "</table>\n",
              "</div>\n",
              "      <button class=\"colab-df-convert\" onclick=\"convertToInteractive('df-ccb80a0b-6bd8-47cd-b2e9-fb934a035cde')\"\n",
              "              title=\"Convert this dataframe to an interactive table.\"\n",
              "              style=\"display:none;\">\n",
              "        \n",
              "  <svg xmlns=\"http://www.w3.org/2000/svg\" height=\"24px\"viewBox=\"0 0 24 24\"\n",
              "       width=\"24px\">\n",
              "    <path d=\"M0 0h24v24H0V0z\" fill=\"none\"/>\n",
              "    <path d=\"M18.56 5.44l.94 2.06.94-2.06 2.06-.94-2.06-.94-.94-2.06-.94 2.06-2.06.94zm-11 1L8.5 8.5l.94-2.06 2.06-.94-2.06-.94L8.5 2.5l-.94 2.06-2.06.94zm10 10l.94 2.06.94-2.06 2.06-.94-2.06-.94-.94-2.06-.94 2.06-2.06.94z\"/><path d=\"M17.41 7.96l-1.37-1.37c-.4-.4-.92-.59-1.43-.59-.52 0-1.04.2-1.43.59L10.3 9.45l-7.72 7.72c-.78.78-.78 2.05 0 2.83L4 21.41c.39.39.9.59 1.41.59.51 0 1.02-.2 1.41-.59l7.78-7.78 2.81-2.81c.8-.78.8-2.07 0-2.86zM5.41 20L4 18.59l7.72-7.72 1.47 1.35L5.41 20z\"/>\n",
              "  </svg>\n",
              "      </button>\n",
              "      \n",
              "  <style>\n",
              "    .colab-df-container {\n",
              "      display:flex;\n",
              "      flex-wrap:wrap;\n",
              "      gap: 12px;\n",
              "    }\n",
              "\n",
              "    .colab-df-convert {\n",
              "      background-color: #E8F0FE;\n",
              "      border: none;\n",
              "      border-radius: 50%;\n",
              "      cursor: pointer;\n",
              "      display: none;\n",
              "      fill: #1967D2;\n",
              "      height: 32px;\n",
              "      padding: 0 0 0 0;\n",
              "      width: 32px;\n",
              "    }\n",
              "\n",
              "    .colab-df-convert:hover {\n",
              "      background-color: #E2EBFA;\n",
              "      box-shadow: 0px 1px 2px rgba(60, 64, 67, 0.3), 0px 1px 3px 1px rgba(60, 64, 67, 0.15);\n",
              "      fill: #174EA6;\n",
              "    }\n",
              "\n",
              "    [theme=dark] .colab-df-convert {\n",
              "      background-color: #3B4455;\n",
              "      fill: #D2E3FC;\n",
              "    }\n",
              "\n",
              "    [theme=dark] .colab-df-convert:hover {\n",
              "      background-color: #434B5C;\n",
              "      box-shadow: 0px 1px 3px 1px rgba(0, 0, 0, 0.15);\n",
              "      filter: drop-shadow(0px 1px 2px rgba(0, 0, 0, 0.3));\n",
              "      fill: #FFFFFF;\n",
              "    }\n",
              "  </style>\n",
              "\n",
              "      <script>\n",
              "        const buttonEl =\n",
              "          document.querySelector('#df-ccb80a0b-6bd8-47cd-b2e9-fb934a035cde button.colab-df-convert');\n",
              "        buttonEl.style.display =\n",
              "          google.colab.kernel.accessAllowed ? 'block' : 'none';\n",
              "\n",
              "        async function convertToInteractive(key) {\n",
              "          const element = document.querySelector('#df-ccb80a0b-6bd8-47cd-b2e9-fb934a035cde');\n",
              "          const dataTable =\n",
              "            await google.colab.kernel.invokeFunction('convertToInteractive',\n",
              "                                                     [key], {});\n",
              "          if (!dataTable) return;\n",
              "\n",
              "          const docLinkHtml = 'Like what you see? Visit the ' +\n",
              "            '<a target=\"_blank\" href=https://colab.research.google.com/notebooks/data_table.ipynb>data table notebook</a>'\n",
              "            + ' to learn more about interactive tables.';\n",
              "          element.innerHTML = '';\n",
              "          dataTable['output_type'] = 'display_data';\n",
              "          await google.colab.output.renderOutput(dataTable, element);\n",
              "          const docLink = document.createElement('div');\n",
              "          docLink.innerHTML = docLinkHtml;\n",
              "          element.appendChild(docLink);\n",
              "        }\n",
              "      </script>\n",
              "    </div>\n",
              "  </div>\n",
              "  "
            ]
          },
          "metadata": {},
          "execution_count": 80
        }
      ]
    },
    {
      "cell_type": "markdown",
      "source": [
        "As we  see there is very low recall in both train and val."
      ],
      "metadata": {
        "id": "JqGf9h9DE6QB"
      }
    },
    {
      "cell_type": "code",
      "source": [
        "from sklearn.metrics import roc_curve ,auc"
      ],
      "metadata": {
        "id": "oa0t8RCHY_Sv"
      },
      "execution_count": null,
      "outputs": []
    },
    {
      "cell_type": "code",
      "source": [
        "# ROC and AUC:\n",
        "\n",
        "fpr, tpr, threshold = roc_curve(Y_train, train_preds_prob)\n",
        "roc_auc = auc(fpr, tpr)"
      ],
      "metadata": {
        "id": "MPex7UTsY_PU"
      },
      "execution_count": null,
      "outputs": []
    },
    {
      "cell_type": "code",
      "source": [
        "%matplotlib notebook\n",
        "plot.figure()\n",
        "plot.plot([0,1],[0,1],color='navy', lw=2, linestyle='--')\n",
        "plot.plot(fpr,tpr,color='orange', lw=3, label='ROC curve (area = %0.2f)' % roc_auc)\n",
        "\n",
        "plot.xlabel('FPR')\n",
        "plot.ylabel('TPR')\n",
        "plot.legend(loc=\"lower right\")"
      ],
      "metadata": {
        "id": "TgshAfdWgtqT",
        "colab": {
          "base_uri": "https://localhost:8080/",
          "height": 34
        },
        "outputId": "e7359d08-ab09-4395-a94d-8629cf6b22b5"
      },
      "execution_count": null,
      "outputs": [
        {
          "output_type": "display_data",
          "data": {
            "text/plain": [
              "<IPython.core.display.Javascript object>"
            ],
            "application/javascript": [
              "/* Put everything inside the global mpl namespace */\n",
              "window.mpl = {};\n",
              "\n",
              "\n",
              "mpl.get_websocket_type = function() {\n",
              "    if (typeof(WebSocket) !== 'undefined') {\n",
              "        return WebSocket;\n",
              "    } else if (typeof(MozWebSocket) !== 'undefined') {\n",
              "        return MozWebSocket;\n",
              "    } else {\n",
              "        alert('Your browser does not have WebSocket support. ' +\n",
              "              'Please try Chrome, Safari or Firefox ≥ 6. ' +\n",
              "              'Firefox 4 and 5 are also supported but you ' +\n",
              "              'have to enable WebSockets in about:config.');\n",
              "    };\n",
              "}\n",
              "\n",
              "mpl.figure = function(figure_id, websocket, ondownload, parent_element) {\n",
              "    this.id = figure_id;\n",
              "\n",
              "    this.ws = websocket;\n",
              "\n",
              "    this.supports_binary = (this.ws.binaryType != undefined);\n",
              "\n",
              "    if (!this.supports_binary) {\n",
              "        var warnings = document.getElementById(\"mpl-warnings\");\n",
              "        if (warnings) {\n",
              "            warnings.style.display = 'block';\n",
              "            warnings.textContent = (\n",
              "                \"This browser does not support binary websocket messages. \" +\n",
              "                    \"Performance may be slow.\");\n",
              "        }\n",
              "    }\n",
              "\n",
              "    this.imageObj = new Image();\n",
              "\n",
              "    this.context = undefined;\n",
              "    this.message = undefined;\n",
              "    this.canvas = undefined;\n",
              "    this.rubberband_canvas = undefined;\n",
              "    this.rubberband_context = undefined;\n",
              "    this.format_dropdown = undefined;\n",
              "\n",
              "    this.image_mode = 'full';\n",
              "\n",
              "    this.root = $('<div/>');\n",
              "    this._root_extra_style(this.root)\n",
              "    this.root.attr('style', 'display: inline-block');\n",
              "\n",
              "    $(parent_element).append(this.root);\n",
              "\n",
              "    this._init_header(this);\n",
              "    this._init_canvas(this);\n",
              "    this._init_toolbar(this);\n",
              "\n",
              "    var fig = this;\n",
              "\n",
              "    this.waiting = false;\n",
              "\n",
              "    this.ws.onopen =  function () {\n",
              "            fig.send_message(\"supports_binary\", {value: fig.supports_binary});\n",
              "            fig.send_message(\"send_image_mode\", {});\n",
              "            if (mpl.ratio != 1) {\n",
              "                fig.send_message(\"set_dpi_ratio\", {'dpi_ratio': mpl.ratio});\n",
              "            }\n",
              "            fig.send_message(\"refresh\", {});\n",
              "        }\n",
              "\n",
              "    this.imageObj.onload = function() {\n",
              "            if (fig.image_mode == 'full') {\n",
              "                // Full images could contain transparency (where diff images\n",
              "                // almost always do), so we need to clear the canvas so that\n",
              "                // there is no ghosting.\n",
              "                fig.context.clearRect(0, 0, fig.canvas.width, fig.canvas.height);\n",
              "            }\n",
              "            fig.context.drawImage(fig.imageObj, 0, 0);\n",
              "        };\n",
              "\n",
              "    this.imageObj.onunload = function() {\n",
              "        fig.ws.close();\n",
              "    }\n",
              "\n",
              "    this.ws.onmessage = this._make_on_message_function(this);\n",
              "\n",
              "    this.ondownload = ondownload;\n",
              "}\n",
              "\n",
              "mpl.figure.prototype._init_header = function() {\n",
              "    var titlebar = $(\n",
              "        '<div class=\"ui-dialog-titlebar ui-widget-header ui-corner-all ' +\n",
              "        'ui-helper-clearfix\"/>');\n",
              "    var titletext = $(\n",
              "        '<div class=\"ui-dialog-title\" style=\"width: 100%; ' +\n",
              "        'text-align: center; padding: 3px;\"/>');\n",
              "    titlebar.append(titletext)\n",
              "    this.root.append(titlebar);\n",
              "    this.header = titletext[0];\n",
              "}\n",
              "\n",
              "\n",
              "\n",
              "mpl.figure.prototype._canvas_extra_style = function(canvas_div) {\n",
              "\n",
              "}\n",
              "\n",
              "\n",
              "mpl.figure.prototype._root_extra_style = function(canvas_div) {\n",
              "\n",
              "}\n",
              "\n",
              "mpl.figure.prototype._init_canvas = function() {\n",
              "    var fig = this;\n",
              "\n",
              "    var canvas_div = $('<div/>');\n",
              "\n",
              "    canvas_div.attr('style', 'position: relative; clear: both; outline: 0');\n",
              "\n",
              "    function canvas_keyboard_event(event) {\n",
              "        return fig.key_event(event, event['data']);\n",
              "    }\n",
              "\n",
              "    canvas_div.keydown('key_press', canvas_keyboard_event);\n",
              "    canvas_div.keyup('key_release', canvas_keyboard_event);\n",
              "    this.canvas_div = canvas_div\n",
              "    this._canvas_extra_style(canvas_div)\n",
              "    this.root.append(canvas_div);\n",
              "\n",
              "    var canvas = $('<canvas/>');\n",
              "    canvas.addClass('mpl-canvas');\n",
              "    canvas.attr('style', \"left: 0; top: 0; z-index: 0; outline: 0\")\n",
              "\n",
              "    this.canvas = canvas[0];\n",
              "    this.context = canvas[0].getContext(\"2d\");\n",
              "\n",
              "    var backingStore = this.context.backingStorePixelRatio ||\n",
              "\tthis.context.webkitBackingStorePixelRatio ||\n",
              "\tthis.context.mozBackingStorePixelRatio ||\n",
              "\tthis.context.msBackingStorePixelRatio ||\n",
              "\tthis.context.oBackingStorePixelRatio ||\n",
              "\tthis.context.backingStorePixelRatio || 1;\n",
              "\n",
              "    mpl.ratio = (window.devicePixelRatio || 1) / backingStore;\n",
              "\n",
              "    var rubberband = $('<canvas/>');\n",
              "    rubberband.attr('style', \"position: absolute; left: 0; top: 0; z-index: 1;\")\n",
              "\n",
              "    var pass_mouse_events = true;\n",
              "\n",
              "    canvas_div.resizable({\n",
              "        start: function(event, ui) {\n",
              "            pass_mouse_events = false;\n",
              "        },\n",
              "        resize: function(event, ui) {\n",
              "            fig.request_resize(ui.size.width, ui.size.height);\n",
              "        },\n",
              "        stop: function(event, ui) {\n",
              "            pass_mouse_events = true;\n",
              "            fig.request_resize(ui.size.width, ui.size.height);\n",
              "        },\n",
              "    });\n",
              "\n",
              "    function mouse_event_fn(event) {\n",
              "        if (pass_mouse_events)\n",
              "            return fig.mouse_event(event, event['data']);\n",
              "    }\n",
              "\n",
              "    rubberband.mousedown('button_press', mouse_event_fn);\n",
              "    rubberband.mouseup('button_release', mouse_event_fn);\n",
              "    // Throttle sequential mouse events to 1 every 20ms.\n",
              "    rubberband.mousemove('motion_notify', mouse_event_fn);\n",
              "\n",
              "    rubberband.mouseenter('figure_enter', mouse_event_fn);\n",
              "    rubberband.mouseleave('figure_leave', mouse_event_fn);\n",
              "\n",
              "    canvas_div.on(\"wheel\", function (event) {\n",
              "        event = event.originalEvent;\n",
              "        event['data'] = 'scroll'\n",
              "        if (event.deltaY < 0) {\n",
              "            event.step = 1;\n",
              "        } else {\n",
              "            event.step = -1;\n",
              "        }\n",
              "        mouse_event_fn(event);\n",
              "    });\n",
              "\n",
              "    canvas_div.append(canvas);\n",
              "    canvas_div.append(rubberband);\n",
              "\n",
              "    this.rubberband = rubberband;\n",
              "    this.rubberband_canvas = rubberband[0];\n",
              "    this.rubberband_context = rubberband[0].getContext(\"2d\");\n",
              "    this.rubberband_context.strokeStyle = \"#000000\";\n",
              "\n",
              "    this._resize_canvas = function(width, height) {\n",
              "        // Keep the size of the canvas, canvas container, and rubber band\n",
              "        // canvas in synch.\n",
              "        canvas_div.css('width', width)\n",
              "        canvas_div.css('height', height)\n",
              "\n",
              "        canvas.attr('width', width * mpl.ratio);\n",
              "        canvas.attr('height', height * mpl.ratio);\n",
              "        canvas.attr('style', 'width: ' + width + 'px; height: ' + height + 'px;');\n",
              "\n",
              "        rubberband.attr('width', width);\n",
              "        rubberband.attr('height', height);\n",
              "    }\n",
              "\n",
              "    // Set the figure to an initial 600x600px, this will subsequently be updated\n",
              "    // upon first draw.\n",
              "    this._resize_canvas(600, 600);\n",
              "\n",
              "    // Disable right mouse context menu.\n",
              "    $(this.rubberband_canvas).bind(\"contextmenu\",function(e){\n",
              "        return false;\n",
              "    });\n",
              "\n",
              "    function set_focus () {\n",
              "        canvas.focus();\n",
              "        canvas_div.focus();\n",
              "    }\n",
              "\n",
              "    window.setTimeout(set_focus, 100);\n",
              "}\n",
              "\n",
              "mpl.figure.prototype._init_toolbar = function() {\n",
              "    var fig = this;\n",
              "\n",
              "    var nav_element = $('<div/>');\n",
              "    nav_element.attr('style', 'width: 100%');\n",
              "    this.root.append(nav_element);\n",
              "\n",
              "    // Define a callback function for later on.\n",
              "    function toolbar_event(event) {\n",
              "        return fig.toolbar_button_onclick(event['data']);\n",
              "    }\n",
              "    function toolbar_mouse_event(event) {\n",
              "        return fig.toolbar_button_onmouseover(event['data']);\n",
              "    }\n",
              "\n",
              "    for(var toolbar_ind in mpl.toolbar_items) {\n",
              "        var name = mpl.toolbar_items[toolbar_ind][0];\n",
              "        var tooltip = mpl.toolbar_items[toolbar_ind][1];\n",
              "        var image = mpl.toolbar_items[toolbar_ind][2];\n",
              "        var method_name = mpl.toolbar_items[toolbar_ind][3];\n",
              "\n",
              "        if (!name) {\n",
              "            // put a spacer in here.\n",
              "            continue;\n",
              "        }\n",
              "        var button = $('<button/>');\n",
              "        button.addClass('ui-button ui-widget ui-state-default ui-corner-all ' +\n",
              "                        'ui-button-icon-only');\n",
              "        button.attr('role', 'button');\n",
              "        button.attr('aria-disabled', 'false');\n",
              "        button.click(method_name, toolbar_event);\n",
              "        button.mouseover(tooltip, toolbar_mouse_event);\n",
              "\n",
              "        var icon_img = $('<span/>');\n",
              "        icon_img.addClass('ui-button-icon-primary ui-icon');\n",
              "        icon_img.addClass(image);\n",
              "        icon_img.addClass('ui-corner-all');\n",
              "\n",
              "        var tooltip_span = $('<span/>');\n",
              "        tooltip_span.addClass('ui-button-text');\n",
              "        tooltip_span.html(tooltip);\n",
              "\n",
              "        button.append(icon_img);\n",
              "        button.append(tooltip_span);\n",
              "\n",
              "        nav_element.append(button);\n",
              "    }\n",
              "\n",
              "    var fmt_picker_span = $('<span/>');\n",
              "\n",
              "    var fmt_picker = $('<select/>');\n",
              "    fmt_picker.addClass('mpl-toolbar-option ui-widget ui-widget-content');\n",
              "    fmt_picker_span.append(fmt_picker);\n",
              "    nav_element.append(fmt_picker_span);\n",
              "    this.format_dropdown = fmt_picker[0];\n",
              "\n",
              "    for (var ind in mpl.extensions) {\n",
              "        var fmt = mpl.extensions[ind];\n",
              "        var option = $(\n",
              "            '<option/>', {selected: fmt === mpl.default_extension}).html(fmt);\n",
              "        fmt_picker.append(option);\n",
              "    }\n",
              "\n",
              "    // Add hover states to the ui-buttons\n",
              "    $( \".ui-button\" ).hover(\n",
              "        function() { $(this).addClass(\"ui-state-hover\");},\n",
              "        function() { $(this).removeClass(\"ui-state-hover\");}\n",
              "    );\n",
              "\n",
              "    var status_bar = $('<span class=\"mpl-message\"/>');\n",
              "    nav_element.append(status_bar);\n",
              "    this.message = status_bar[0];\n",
              "}\n",
              "\n",
              "mpl.figure.prototype.request_resize = function(x_pixels, y_pixels) {\n",
              "    // Request matplotlib to resize the figure. Matplotlib will then trigger a resize in the client,\n",
              "    // which will in turn request a refresh of the image.\n",
              "    this.send_message('resize', {'width': x_pixels, 'height': y_pixels});\n",
              "}\n",
              "\n",
              "mpl.figure.prototype.send_message = function(type, properties) {\n",
              "    properties['type'] = type;\n",
              "    properties['figure_id'] = this.id;\n",
              "    this.ws.send(JSON.stringify(properties));\n",
              "}\n",
              "\n",
              "mpl.figure.prototype.send_draw_message = function() {\n",
              "    if (!this.waiting) {\n",
              "        this.waiting = true;\n",
              "        this.ws.send(JSON.stringify({type: \"draw\", figure_id: this.id}));\n",
              "    }\n",
              "}\n",
              "\n",
              "\n",
              "mpl.figure.prototype.handle_save = function(fig, msg) {\n",
              "    var format_dropdown = fig.format_dropdown;\n",
              "    var format = format_dropdown.options[format_dropdown.selectedIndex].value;\n",
              "    fig.ondownload(fig, format);\n",
              "}\n",
              "\n",
              "\n",
              "mpl.figure.prototype.handle_resize = function(fig, msg) {\n",
              "    var size = msg['size'];\n",
              "    if (size[0] != fig.canvas.width || size[1] != fig.canvas.height) {\n",
              "        fig._resize_canvas(size[0], size[1]);\n",
              "        fig.send_message(\"refresh\", {});\n",
              "    };\n",
              "}\n",
              "\n",
              "mpl.figure.prototype.handle_rubberband = function(fig, msg) {\n",
              "    var x0 = msg['x0'] / mpl.ratio;\n",
              "    var y0 = (fig.canvas.height - msg['y0']) / mpl.ratio;\n",
              "    var x1 = msg['x1'] / mpl.ratio;\n",
              "    var y1 = (fig.canvas.height - msg['y1']) / mpl.ratio;\n",
              "    x0 = Math.floor(x0) + 0.5;\n",
              "    y0 = Math.floor(y0) + 0.5;\n",
              "    x1 = Math.floor(x1) + 0.5;\n",
              "    y1 = Math.floor(y1) + 0.5;\n",
              "    var min_x = Math.min(x0, x1);\n",
              "    var min_y = Math.min(y0, y1);\n",
              "    var width = Math.abs(x1 - x0);\n",
              "    var height = Math.abs(y1 - y0);\n",
              "\n",
              "    fig.rubberband_context.clearRect(\n",
              "        0, 0, fig.canvas.width / mpl.ratio, fig.canvas.height / mpl.ratio);\n",
              "\n",
              "    fig.rubberband_context.strokeRect(min_x, min_y, width, height);\n",
              "}\n",
              "\n",
              "mpl.figure.prototype.handle_figure_label = function(fig, msg) {\n",
              "    // Updates the figure title.\n",
              "    fig.header.textContent = msg['label'];\n",
              "}\n",
              "\n",
              "mpl.figure.prototype.handle_cursor = function(fig, msg) {\n",
              "    var cursor = msg['cursor'];\n",
              "    switch(cursor)\n",
              "    {\n",
              "    case 0:\n",
              "        cursor = 'pointer';\n",
              "        break;\n",
              "    case 1:\n",
              "        cursor = 'default';\n",
              "        break;\n",
              "    case 2:\n",
              "        cursor = 'crosshair';\n",
              "        break;\n",
              "    case 3:\n",
              "        cursor = 'move';\n",
              "        break;\n",
              "    }\n",
              "    fig.rubberband_canvas.style.cursor = cursor;\n",
              "}\n",
              "\n",
              "mpl.figure.prototype.handle_message = function(fig, msg) {\n",
              "    fig.message.textContent = msg['message'];\n",
              "}\n",
              "\n",
              "mpl.figure.prototype.handle_draw = function(fig, msg) {\n",
              "    // Request the server to send over a new figure.\n",
              "    fig.send_draw_message();\n",
              "}\n",
              "\n",
              "mpl.figure.prototype.handle_image_mode = function(fig, msg) {\n",
              "    fig.image_mode = msg['mode'];\n",
              "}\n",
              "\n",
              "mpl.figure.prototype.updated_canvas_event = function() {\n",
              "    // Called whenever the canvas gets updated.\n",
              "    this.send_message(\"ack\", {});\n",
              "}\n",
              "\n",
              "// A function to construct a web socket function for onmessage handling.\n",
              "// Called in the figure constructor.\n",
              "mpl.figure.prototype._make_on_message_function = function(fig) {\n",
              "    return function socket_on_message(evt) {\n",
              "        if (evt.data instanceof Blob) {\n",
              "            /* FIXME: We get \"Resource interpreted as Image but\n",
              "             * transferred with MIME type text/plain:\" errors on\n",
              "             * Chrome.  But how to set the MIME type?  It doesn't seem\n",
              "             * to be part of the websocket stream */\n",
              "            evt.data.type = \"image/png\";\n",
              "\n",
              "            /* Free the memory for the previous frames */\n",
              "            if (fig.imageObj.src) {\n",
              "                (window.URL || window.webkitURL).revokeObjectURL(\n",
              "                    fig.imageObj.src);\n",
              "            }\n",
              "\n",
              "            fig.imageObj.src = (window.URL || window.webkitURL).createObjectURL(\n",
              "                evt.data);\n",
              "            fig.updated_canvas_event();\n",
              "            fig.waiting = false;\n",
              "            return;\n",
              "        }\n",
              "        else if (typeof evt.data === 'string' && evt.data.slice(0, 21) == \"data:image/png;base64\") {\n",
              "            fig.imageObj.src = evt.data;\n",
              "            fig.updated_canvas_event();\n",
              "            fig.waiting = false;\n",
              "            return;\n",
              "        }\n",
              "\n",
              "        var msg = JSON.parse(evt.data);\n",
              "        var msg_type = msg['type'];\n",
              "\n",
              "        // Call the  \"handle_{type}\" callback, which takes\n",
              "        // the figure and JSON message as its only arguments.\n",
              "        try {\n",
              "            var callback = fig[\"handle_\" + msg_type];\n",
              "        } catch (e) {\n",
              "            console.log(\"No handler for the '\" + msg_type + \"' message type: \", msg);\n",
              "            return;\n",
              "        }\n",
              "\n",
              "        if (callback) {\n",
              "            try {\n",
              "                // console.log(\"Handling '\" + msg_type + \"' message: \", msg);\n",
              "                callback(fig, msg);\n",
              "            } catch (e) {\n",
              "                console.log(\"Exception inside the 'handler_\" + msg_type + \"' callback:\", e, e.stack, msg);\n",
              "            }\n",
              "        }\n",
              "    };\n",
              "}\n",
              "\n",
              "// from http://stackoverflow.com/questions/1114465/getting-mouse-location-in-canvas\n",
              "mpl.findpos = function(e) {\n",
              "    //this section is from http://www.quirksmode.org/js/events_properties.html\n",
              "    var targ;\n",
              "    if (!e)\n",
              "        e = window.event;\n",
              "    if (e.target)\n",
              "        targ = e.target;\n",
              "    else if (e.srcElement)\n",
              "        targ = e.srcElement;\n",
              "    if (targ.nodeType == 3) // defeat Safari bug\n",
              "        targ = targ.parentNode;\n",
              "\n",
              "    // jQuery normalizes the pageX and pageY\n",
              "    // pageX,Y are the mouse positions relative to the document\n",
              "    // offset() returns the position of the element relative to the document\n",
              "    var x = e.pageX - $(targ).offset().left;\n",
              "    var y = e.pageY - $(targ).offset().top;\n",
              "\n",
              "    return {\"x\": x, \"y\": y};\n",
              "};\n",
              "\n",
              "/*\n",
              " * return a copy of an object with only non-object keys\n",
              " * we need this to avoid circular references\n",
              " * http://stackoverflow.com/a/24161582/3208463\n",
              " */\n",
              "function simpleKeys (original) {\n",
              "  return Object.keys(original).reduce(function (obj, key) {\n",
              "    if (typeof original[key] !== 'object')\n",
              "        obj[key] = original[key]\n",
              "    return obj;\n",
              "  }, {});\n",
              "}\n",
              "\n",
              "mpl.figure.prototype.mouse_event = function(event, name) {\n",
              "    var canvas_pos = mpl.findpos(event)\n",
              "\n",
              "    if (name === 'button_press')\n",
              "    {\n",
              "        this.canvas.focus();\n",
              "        this.canvas_div.focus();\n",
              "    }\n",
              "\n",
              "    var x = canvas_pos.x * mpl.ratio;\n",
              "    var y = canvas_pos.y * mpl.ratio;\n",
              "\n",
              "    this.send_message(name, {x: x, y: y, button: event.button,\n",
              "                             step: event.step,\n",
              "                             guiEvent: simpleKeys(event)});\n",
              "\n",
              "    /* This prevents the web browser from automatically changing to\n",
              "     * the text insertion cursor when the button is pressed.  We want\n",
              "     * to control all of the cursor setting manually through the\n",
              "     * 'cursor' event from matplotlib */\n",
              "    event.preventDefault();\n",
              "    return false;\n",
              "}\n",
              "\n",
              "mpl.figure.prototype._key_event_extra = function(event, name) {\n",
              "    // Handle any extra behaviour associated with a key event\n",
              "}\n",
              "\n",
              "mpl.figure.prototype.key_event = function(event, name) {\n",
              "\n",
              "    // Prevent repeat events\n",
              "    if (name == 'key_press')\n",
              "    {\n",
              "        if (event.which === this._key)\n",
              "            return;\n",
              "        else\n",
              "            this._key = event.which;\n",
              "    }\n",
              "    if (name == 'key_release')\n",
              "        this._key = null;\n",
              "\n",
              "    var value = '';\n",
              "    if (event.ctrlKey && event.which != 17)\n",
              "        value += \"ctrl+\";\n",
              "    if (event.altKey && event.which != 18)\n",
              "        value += \"alt+\";\n",
              "    if (event.shiftKey && event.which != 16)\n",
              "        value += \"shift+\";\n",
              "\n",
              "    value += 'k';\n",
              "    value += event.which.toString();\n",
              "\n",
              "    this._key_event_extra(event, name);\n",
              "\n",
              "    this.send_message(name, {key: value,\n",
              "                             guiEvent: simpleKeys(event)});\n",
              "    return false;\n",
              "}\n",
              "\n",
              "mpl.figure.prototype.toolbar_button_onclick = function(name) {\n",
              "    if (name == 'download') {\n",
              "        this.handle_save(this, null);\n",
              "    } else {\n",
              "        this.send_message(\"toolbar_button\", {name: name});\n",
              "    }\n",
              "};\n",
              "\n",
              "mpl.figure.prototype.toolbar_button_onmouseover = function(tooltip) {\n",
              "    this.message.textContent = tooltip;\n",
              "};\n",
              "mpl.toolbar_items = [[\"Home\", \"Reset original view\", \"fa fa-home icon-home\", \"home\"], [\"Back\", \"Back to previous view\", \"fa fa-arrow-left icon-arrow-left\", \"back\"], [\"Forward\", \"Forward to next view\", \"fa fa-arrow-right icon-arrow-right\", \"forward\"], [\"\", \"\", \"\", \"\"], [\"Pan\", \"Pan axes with left mouse, zoom with right\", \"fa fa-arrows icon-move\", \"pan\"], [\"Zoom\", \"Zoom to rectangle\", \"fa fa-square-o icon-check-empty\", \"zoom\"], [\"\", \"\", \"\", \"\"], [\"Download\", \"Download plot\", \"fa fa-floppy-o icon-save\", \"download\"]];\n",
              "\n",
              "mpl.extensions = [\"eps\", \"jpeg\", \"pdf\", \"png\", \"ps\", \"raw\", \"svg\", \"tif\"];\n",
              "\n",
              "mpl.default_extension = \"png\";var comm_websocket_adapter = function(comm) {\n",
              "    // Create a \"websocket\"-like object which calls the given IPython comm\n",
              "    // object with the appropriate methods. Currently this is a non binary\n",
              "    // socket, so there is still some room for performance tuning.\n",
              "    var ws = {};\n",
              "\n",
              "    ws.close = function() {\n",
              "        comm.close()\n",
              "    };\n",
              "    ws.send = function(m) {\n",
              "        //console.log('sending', m);\n",
              "        comm.send(m);\n",
              "    };\n",
              "    // Register the callback with on_msg.\n",
              "    comm.on_msg(function(msg) {\n",
              "        //console.log('receiving', msg['content']['data'], msg);\n",
              "        // Pass the mpl event to the overridden (by mpl) onmessage function.\n",
              "        ws.onmessage(msg['content']['data'])\n",
              "    });\n",
              "    return ws;\n",
              "}\n",
              "\n",
              "mpl.mpl_figure_comm = function(comm, msg) {\n",
              "    // This is the function which gets called when the mpl process\n",
              "    // starts-up an IPython Comm through the \"matplotlib\" channel.\n",
              "\n",
              "    var id = msg.content.data.id;\n",
              "    // Get hold of the div created by the display call when the Comm\n",
              "    // socket was opened in Python.\n",
              "    var element = $(\"#\" + id);\n",
              "    var ws_proxy = comm_websocket_adapter(comm)\n",
              "\n",
              "    function ondownload(figure, format) {\n",
              "        window.open(figure.imageObj.src);\n",
              "    }\n",
              "\n",
              "    var fig = new mpl.figure(id, ws_proxy,\n",
              "                           ondownload,\n",
              "                           element.get(0));\n",
              "\n",
              "    // Call onopen now - mpl needs it, as it is assuming we've passed it a real\n",
              "    // web socket which is closed, not our websocket->open comm proxy.\n",
              "    ws_proxy.onopen();\n",
              "\n",
              "    fig.parent_element = element.get(0);\n",
              "    fig.cell_info = mpl.find_output_cell(\"<div id='\" + id + \"'></div>\");\n",
              "    if (!fig.cell_info) {\n",
              "        console.error(\"Failed to find cell for figure\", id, fig);\n",
              "        return;\n",
              "    }\n",
              "\n",
              "    var output_index = fig.cell_info[2]\n",
              "    var cell = fig.cell_info[0];\n",
              "\n",
              "};\n",
              "\n",
              "mpl.figure.prototype.handle_close = function(fig, msg) {\n",
              "    var width = fig.canvas.width/mpl.ratio\n",
              "    fig.root.unbind('remove')\n",
              "\n",
              "    // Update the output cell to use the data from the current canvas.\n",
              "    fig.push_to_output();\n",
              "    var dataURL = fig.canvas.toDataURL();\n",
              "    // Re-enable the keyboard manager in IPython - without this line, in FF,\n",
              "    // the notebook keyboard shortcuts fail.\n",
              "    IPython.keyboard_manager.enable()\n",
              "    $(fig.parent_element).html('<img src=\"' + dataURL + '\" width=\"' + width + '\">');\n",
              "    fig.close_ws(fig, msg);\n",
              "}\n",
              "\n",
              "mpl.figure.prototype.close_ws = function(fig, msg){\n",
              "    fig.send_message('closing', msg);\n",
              "    // fig.ws.close()\n",
              "}\n",
              "\n",
              "mpl.figure.prototype.push_to_output = function(remove_interactive) {\n",
              "    // Turn the data on the canvas into data in the output cell.\n",
              "    var width = this.canvas.width/mpl.ratio\n",
              "    var dataURL = this.canvas.toDataURL();\n",
              "    this.cell_info[1]['text/html'] = '<img src=\"' + dataURL + '\" width=\"' + width + '\">';\n",
              "}\n",
              "\n",
              "mpl.figure.prototype.updated_canvas_event = function() {\n",
              "    // Tell IPython that the notebook contents must change.\n",
              "    IPython.notebook.set_dirty(true);\n",
              "    this.send_message(\"ack\", {});\n",
              "    var fig = this;\n",
              "    // Wait a second, then push the new image to the DOM so\n",
              "    // that it is saved nicely (might be nice to debounce this).\n",
              "    setTimeout(function () { fig.push_to_output() }, 1000);\n",
              "}\n",
              "\n",
              "mpl.figure.prototype._init_toolbar = function() {\n",
              "    var fig = this;\n",
              "\n",
              "    var nav_element = $('<div/>');\n",
              "    nav_element.attr('style', 'width: 100%');\n",
              "    this.root.append(nav_element);\n",
              "\n",
              "    // Define a callback function for later on.\n",
              "    function toolbar_event(event) {\n",
              "        return fig.toolbar_button_onclick(event['data']);\n",
              "    }\n",
              "    function toolbar_mouse_event(event) {\n",
              "        return fig.toolbar_button_onmouseover(event['data']);\n",
              "    }\n",
              "\n",
              "    for(var toolbar_ind in mpl.toolbar_items){\n",
              "        var name = mpl.toolbar_items[toolbar_ind][0];\n",
              "        var tooltip = mpl.toolbar_items[toolbar_ind][1];\n",
              "        var image = mpl.toolbar_items[toolbar_ind][2];\n",
              "        var method_name = mpl.toolbar_items[toolbar_ind][3];\n",
              "\n",
              "        if (!name) { continue; };\n",
              "\n",
              "        var button = $('<button class=\"btn btn-default\" href=\"#\" title=\"' + name + '\"><i class=\"fa ' + image + ' fa-lg\"></i></button>');\n",
              "        button.click(method_name, toolbar_event);\n",
              "        button.mouseover(tooltip, toolbar_mouse_event);\n",
              "        nav_element.append(button);\n",
              "    }\n",
              "\n",
              "    // Add the status bar.\n",
              "    var status_bar = $('<span class=\"mpl-message\" style=\"text-align:right; float: right;\"/>');\n",
              "    nav_element.append(status_bar);\n",
              "    this.message = status_bar[0];\n",
              "\n",
              "    // Add the close button to the window.\n",
              "    var buttongrp = $('<div class=\"btn-group inline pull-right\"></div>');\n",
              "    var button = $('<button class=\"btn btn-mini btn-primary\" href=\"#\" title=\"Stop Interaction\"><i class=\"fa fa-power-off icon-remove icon-large\"></i></button>');\n",
              "    button.click(function (evt) { fig.handle_close(fig, {}); } );\n",
              "    button.mouseover('Stop Interaction', toolbar_mouse_event);\n",
              "    buttongrp.append(button);\n",
              "    var titlebar = this.root.find($('.ui-dialog-titlebar'));\n",
              "    titlebar.prepend(buttongrp);\n",
              "}\n",
              "\n",
              "mpl.figure.prototype._root_extra_style = function(el){\n",
              "    var fig = this\n",
              "    el.on(\"remove\", function(){\n",
              "\tfig.close_ws(fig, {});\n",
              "    });\n",
              "}\n",
              "\n",
              "mpl.figure.prototype._canvas_extra_style = function(el){\n",
              "    // this is important to make the div 'focusable\n",
              "    el.attr('tabindex', 0)\n",
              "    // reach out to IPython and tell the keyboard manager to turn it's self\n",
              "    // off when our div gets focus\n",
              "\n",
              "    // location in version 3\n",
              "    if (IPython.notebook.keyboard_manager) {\n",
              "        IPython.notebook.keyboard_manager.register_events(el);\n",
              "    }\n",
              "    else {\n",
              "        // location in version 2\n",
              "        IPython.keyboard_manager.register_events(el);\n",
              "    }\n",
              "\n",
              "}\n",
              "\n",
              "mpl.figure.prototype._key_event_extra = function(event, name) {\n",
              "    var manager = IPython.notebook.keyboard_manager;\n",
              "    if (!manager)\n",
              "        manager = IPython.keyboard_manager;\n",
              "\n",
              "    // Check for shift+enter\n",
              "    if (event.shiftKey && event.which == 13) {\n",
              "        this.canvas_div.blur();\n",
              "        // select the cell after this one\n",
              "        var index = IPython.notebook.find_cell_index(this.cell_info[0]);\n",
              "        IPython.notebook.select(index + 1);\n",
              "    }\n",
              "}\n",
              "\n",
              "mpl.figure.prototype.handle_save = function(fig, msg) {\n",
              "    fig.ondownload(fig, null);\n",
              "}\n",
              "\n",
              "\n",
              "mpl.find_output_cell = function(html_output) {\n",
              "    // Return the cell and output element which can be found *uniquely* in the notebook.\n",
              "    // Note - this is a bit hacky, but it is done because the \"notebook_saving.Notebook\"\n",
              "    // IPython event is triggered only after the cells have been serialised, which for\n",
              "    // our purposes (turning an active figure into a static one), is too late.\n",
              "    var cells = IPython.notebook.get_cells();\n",
              "    var ncells = cells.length;\n",
              "    for (var i=0; i<ncells; i++) {\n",
              "        var cell = cells[i];\n",
              "        if (cell.cell_type === 'code'){\n",
              "            for (var j=0; j<cell.output_area.outputs.length; j++) {\n",
              "                var data = cell.output_area.outputs[j];\n",
              "                if (data.data) {\n",
              "                    // IPython >= 3 moved mimebundle to data attribute of output\n",
              "                    data = data.data;\n",
              "                }\n",
              "                if (data['text/html'] == html_output) {\n",
              "                    return [cell, data, j];\n",
              "                }\n",
              "            }\n",
              "        }\n",
              "    }\n",
              "}\n",
              "\n",
              "// Register the function which deals with the matplotlib target/channel.\n",
              "// The kernel may be null if the page has been refreshed.\n",
              "if (IPython.notebook.kernel != null) {\n",
              "    IPython.notebook.kernel.comm_manager.register_target('matplotlib', mpl.mpl_figure_comm);\n",
              "}\n"
            ]
          },
          "metadata": {}
        },
        {
          "output_type": "display_data",
          "data": {
            "text/plain": [
              "<IPython.core.display.HTML object>"
            ],
            "text/html": [
              "<div id='e70683af-c683-4892-87fc-5580b1870aff'></div>"
            ]
          },
          "metadata": {}
        },
        {
          "output_type": "execute_result",
          "data": {
            "text/plain": [
              "<matplotlib.legend.Legend at 0x7f0dd42a6a90>"
            ]
          },
          "metadata": {},
          "execution_count": 83
        },
        {
          "output_type": "display_data",
          "data": {
            "text/plain": [
              "<IPython.core.display.Javascript object>"
            ],
            "application/javascript": [
              "/* Put everything inside the global mpl namespace */\n",
              "window.mpl = {};\n",
              "\n",
              "\n",
              "mpl.get_websocket_type = function() {\n",
              "    if (typeof(WebSocket) !== 'undefined') {\n",
              "        return WebSocket;\n",
              "    } else if (typeof(MozWebSocket) !== 'undefined') {\n",
              "        return MozWebSocket;\n",
              "    } else {\n",
              "        alert('Your browser does not have WebSocket support. ' +\n",
              "              'Please try Chrome, Safari or Firefox ≥ 6. ' +\n",
              "              'Firefox 4 and 5 are also supported but you ' +\n",
              "              'have to enable WebSockets in about:config.');\n",
              "    };\n",
              "}\n",
              "\n",
              "mpl.figure = function(figure_id, websocket, ondownload, parent_element) {\n",
              "    this.id = figure_id;\n",
              "\n",
              "    this.ws = websocket;\n",
              "\n",
              "    this.supports_binary = (this.ws.binaryType != undefined);\n",
              "\n",
              "    if (!this.supports_binary) {\n",
              "        var warnings = document.getElementById(\"mpl-warnings\");\n",
              "        if (warnings) {\n",
              "            warnings.style.display = 'block';\n",
              "            warnings.textContent = (\n",
              "                \"This browser does not support binary websocket messages. \" +\n",
              "                    \"Performance may be slow.\");\n",
              "        }\n",
              "    }\n",
              "\n",
              "    this.imageObj = new Image();\n",
              "\n",
              "    this.context = undefined;\n",
              "    this.message = undefined;\n",
              "    this.canvas = undefined;\n",
              "    this.rubberband_canvas = undefined;\n",
              "    this.rubberband_context = undefined;\n",
              "    this.format_dropdown = undefined;\n",
              "\n",
              "    this.image_mode = 'full';\n",
              "\n",
              "    this.root = $('<div/>');\n",
              "    this._root_extra_style(this.root)\n",
              "    this.root.attr('style', 'display: inline-block');\n",
              "\n",
              "    $(parent_element).append(this.root);\n",
              "\n",
              "    this._init_header(this);\n",
              "    this._init_canvas(this);\n",
              "    this._init_toolbar(this);\n",
              "\n",
              "    var fig = this;\n",
              "\n",
              "    this.waiting = false;\n",
              "\n",
              "    this.ws.onopen =  function () {\n",
              "            fig.send_message(\"supports_binary\", {value: fig.supports_binary});\n",
              "            fig.send_message(\"send_image_mode\", {});\n",
              "            if (mpl.ratio != 1) {\n",
              "                fig.send_message(\"set_dpi_ratio\", {'dpi_ratio': mpl.ratio});\n",
              "            }\n",
              "            fig.send_message(\"refresh\", {});\n",
              "        }\n",
              "\n",
              "    this.imageObj.onload = function() {\n",
              "            if (fig.image_mode == 'full') {\n",
              "                // Full images could contain transparency (where diff images\n",
              "                // almost always do), so we need to clear the canvas so that\n",
              "                // there is no ghosting.\n",
              "                fig.context.clearRect(0, 0, fig.canvas.width, fig.canvas.height);\n",
              "            }\n",
              "            fig.context.drawImage(fig.imageObj, 0, 0);\n",
              "        };\n",
              "\n",
              "    this.imageObj.onunload = function() {\n",
              "        fig.ws.close();\n",
              "    }\n",
              "\n",
              "    this.ws.onmessage = this._make_on_message_function(this);\n",
              "\n",
              "    this.ondownload = ondownload;\n",
              "}\n",
              "\n",
              "mpl.figure.prototype._init_header = function() {\n",
              "    var titlebar = $(\n",
              "        '<div class=\"ui-dialog-titlebar ui-widget-header ui-corner-all ' +\n",
              "        'ui-helper-clearfix\"/>');\n",
              "    var titletext = $(\n",
              "        '<div class=\"ui-dialog-title\" style=\"width: 100%; ' +\n",
              "        'text-align: center; padding: 3px;\"/>');\n",
              "    titlebar.append(titletext)\n",
              "    this.root.append(titlebar);\n",
              "    this.header = titletext[0];\n",
              "}\n",
              "\n",
              "\n",
              "\n",
              "mpl.figure.prototype._canvas_extra_style = function(canvas_div) {\n",
              "\n",
              "}\n",
              "\n",
              "\n",
              "mpl.figure.prototype._root_extra_style = function(canvas_div) {\n",
              "\n",
              "}\n",
              "\n",
              "mpl.figure.prototype._init_canvas = function() {\n",
              "    var fig = this;\n",
              "\n",
              "    var canvas_div = $('<div/>');\n",
              "\n",
              "    canvas_div.attr('style', 'position: relative; clear: both; outline: 0');\n",
              "\n",
              "    function canvas_keyboard_event(event) {\n",
              "        return fig.key_event(event, event['data']);\n",
              "    }\n",
              "\n",
              "    canvas_div.keydown('key_press', canvas_keyboard_event);\n",
              "    canvas_div.keyup('key_release', canvas_keyboard_event);\n",
              "    this.canvas_div = canvas_div\n",
              "    this._canvas_extra_style(canvas_div)\n",
              "    this.root.append(canvas_div);\n",
              "\n",
              "    var canvas = $('<canvas/>');\n",
              "    canvas.addClass('mpl-canvas');\n",
              "    canvas.attr('style', \"left: 0; top: 0; z-index: 0; outline: 0\")\n",
              "\n",
              "    this.canvas = canvas[0];\n",
              "    this.context = canvas[0].getContext(\"2d\");\n",
              "\n",
              "    var backingStore = this.context.backingStorePixelRatio ||\n",
              "\tthis.context.webkitBackingStorePixelRatio ||\n",
              "\tthis.context.mozBackingStorePixelRatio ||\n",
              "\tthis.context.msBackingStorePixelRatio ||\n",
              "\tthis.context.oBackingStorePixelRatio ||\n",
              "\tthis.context.backingStorePixelRatio || 1;\n",
              "\n",
              "    mpl.ratio = (window.devicePixelRatio || 1) / backingStore;\n",
              "\n",
              "    var rubberband = $('<canvas/>');\n",
              "    rubberband.attr('style', \"position: absolute; left: 0; top: 0; z-index: 1;\")\n",
              "\n",
              "    var pass_mouse_events = true;\n",
              "\n",
              "    canvas_div.resizable({\n",
              "        start: function(event, ui) {\n",
              "            pass_mouse_events = false;\n",
              "        },\n",
              "        resize: function(event, ui) {\n",
              "            fig.request_resize(ui.size.width, ui.size.height);\n",
              "        },\n",
              "        stop: function(event, ui) {\n",
              "            pass_mouse_events = true;\n",
              "            fig.request_resize(ui.size.width, ui.size.height);\n",
              "        },\n",
              "    });\n",
              "\n",
              "    function mouse_event_fn(event) {\n",
              "        if (pass_mouse_events)\n",
              "            return fig.mouse_event(event, event['data']);\n",
              "    }\n",
              "\n",
              "    rubberband.mousedown('button_press', mouse_event_fn);\n",
              "    rubberband.mouseup('button_release', mouse_event_fn);\n",
              "    // Throttle sequential mouse events to 1 every 20ms.\n",
              "    rubberband.mousemove('motion_notify', mouse_event_fn);\n",
              "\n",
              "    rubberband.mouseenter('figure_enter', mouse_event_fn);\n",
              "    rubberband.mouseleave('figure_leave', mouse_event_fn);\n",
              "\n",
              "    canvas_div.on(\"wheel\", function (event) {\n",
              "        event = event.originalEvent;\n",
              "        event['data'] = 'scroll'\n",
              "        if (event.deltaY < 0) {\n",
              "            event.step = 1;\n",
              "        } else {\n",
              "            event.step = -1;\n",
              "        }\n",
              "        mouse_event_fn(event);\n",
              "    });\n",
              "\n",
              "    canvas_div.append(canvas);\n",
              "    canvas_div.append(rubberband);\n",
              "\n",
              "    this.rubberband = rubberband;\n",
              "    this.rubberband_canvas = rubberband[0];\n",
              "    this.rubberband_context = rubberband[0].getContext(\"2d\");\n",
              "    this.rubberband_context.strokeStyle = \"#000000\";\n",
              "\n",
              "    this._resize_canvas = function(width, height) {\n",
              "        // Keep the size of the canvas, canvas container, and rubber band\n",
              "        // canvas in synch.\n",
              "        canvas_div.css('width', width)\n",
              "        canvas_div.css('height', height)\n",
              "\n",
              "        canvas.attr('width', width * mpl.ratio);\n",
              "        canvas.attr('height', height * mpl.ratio);\n",
              "        canvas.attr('style', 'width: ' + width + 'px; height: ' + height + 'px;');\n",
              "\n",
              "        rubberband.attr('width', width);\n",
              "        rubberband.attr('height', height);\n",
              "    }\n",
              "\n",
              "    // Set the figure to an initial 600x600px, this will subsequently be updated\n",
              "    // upon first draw.\n",
              "    this._resize_canvas(600, 600);\n",
              "\n",
              "    // Disable right mouse context menu.\n",
              "    $(this.rubberband_canvas).bind(\"contextmenu\",function(e){\n",
              "        return false;\n",
              "    });\n",
              "\n",
              "    function set_focus () {\n",
              "        canvas.focus();\n",
              "        canvas_div.focus();\n",
              "    }\n",
              "\n",
              "    window.setTimeout(set_focus, 100);\n",
              "}\n",
              "\n",
              "mpl.figure.prototype._init_toolbar = function() {\n",
              "    var fig = this;\n",
              "\n",
              "    var nav_element = $('<div/>');\n",
              "    nav_element.attr('style', 'width: 100%');\n",
              "    this.root.append(nav_element);\n",
              "\n",
              "    // Define a callback function for later on.\n",
              "    function toolbar_event(event) {\n",
              "        return fig.toolbar_button_onclick(event['data']);\n",
              "    }\n",
              "    function toolbar_mouse_event(event) {\n",
              "        return fig.toolbar_button_onmouseover(event['data']);\n",
              "    }\n",
              "\n",
              "    for(var toolbar_ind in mpl.toolbar_items) {\n",
              "        var name = mpl.toolbar_items[toolbar_ind][0];\n",
              "        var tooltip = mpl.toolbar_items[toolbar_ind][1];\n",
              "        var image = mpl.toolbar_items[toolbar_ind][2];\n",
              "        var method_name = mpl.toolbar_items[toolbar_ind][3];\n",
              "\n",
              "        if (!name) {\n",
              "            // put a spacer in here.\n",
              "            continue;\n",
              "        }\n",
              "        var button = $('<button/>');\n",
              "        button.addClass('ui-button ui-widget ui-state-default ui-corner-all ' +\n",
              "                        'ui-button-icon-only');\n",
              "        button.attr('role', 'button');\n",
              "        button.attr('aria-disabled', 'false');\n",
              "        button.click(method_name, toolbar_event);\n",
              "        button.mouseover(tooltip, toolbar_mouse_event);\n",
              "\n",
              "        var icon_img = $('<span/>');\n",
              "        icon_img.addClass('ui-button-icon-primary ui-icon');\n",
              "        icon_img.addClass(image);\n",
              "        icon_img.addClass('ui-corner-all');\n",
              "\n",
              "        var tooltip_span = $('<span/>');\n",
              "        tooltip_span.addClass('ui-button-text');\n",
              "        tooltip_span.html(tooltip);\n",
              "\n",
              "        button.append(icon_img);\n",
              "        button.append(tooltip_span);\n",
              "\n",
              "        nav_element.append(button);\n",
              "    }\n",
              "\n",
              "    var fmt_picker_span = $('<span/>');\n",
              "\n",
              "    var fmt_picker = $('<select/>');\n",
              "    fmt_picker.addClass('mpl-toolbar-option ui-widget ui-widget-content');\n",
              "    fmt_picker_span.append(fmt_picker);\n",
              "    nav_element.append(fmt_picker_span);\n",
              "    this.format_dropdown = fmt_picker[0];\n",
              "\n",
              "    for (var ind in mpl.extensions) {\n",
              "        var fmt = mpl.extensions[ind];\n",
              "        var option = $(\n",
              "            '<option/>', {selected: fmt === mpl.default_extension}).html(fmt);\n",
              "        fmt_picker.append(option);\n",
              "    }\n",
              "\n",
              "    // Add hover states to the ui-buttons\n",
              "    $( \".ui-button\" ).hover(\n",
              "        function() { $(this).addClass(\"ui-state-hover\");},\n",
              "        function() { $(this).removeClass(\"ui-state-hover\");}\n",
              "    );\n",
              "\n",
              "    var status_bar = $('<span class=\"mpl-message\"/>');\n",
              "    nav_element.append(status_bar);\n",
              "    this.message = status_bar[0];\n",
              "}\n",
              "\n",
              "mpl.figure.prototype.request_resize = function(x_pixels, y_pixels) {\n",
              "    // Request matplotlib to resize the figure. Matplotlib will then trigger a resize in the client,\n",
              "    // which will in turn request a refresh of the image.\n",
              "    this.send_message('resize', {'width': x_pixels, 'height': y_pixels});\n",
              "}\n",
              "\n",
              "mpl.figure.prototype.send_message = function(type, properties) {\n",
              "    properties['type'] = type;\n",
              "    properties['figure_id'] = this.id;\n",
              "    this.ws.send(JSON.stringify(properties));\n",
              "}\n",
              "\n",
              "mpl.figure.prototype.send_draw_message = function() {\n",
              "    if (!this.waiting) {\n",
              "        this.waiting = true;\n",
              "        this.ws.send(JSON.stringify({type: \"draw\", figure_id: this.id}));\n",
              "    }\n",
              "}\n",
              "\n",
              "\n",
              "mpl.figure.prototype.handle_save = function(fig, msg) {\n",
              "    var format_dropdown = fig.format_dropdown;\n",
              "    var format = format_dropdown.options[format_dropdown.selectedIndex].value;\n",
              "    fig.ondownload(fig, format);\n",
              "}\n",
              "\n",
              "\n",
              "mpl.figure.prototype.handle_resize = function(fig, msg) {\n",
              "    var size = msg['size'];\n",
              "    if (size[0] != fig.canvas.width || size[1] != fig.canvas.height) {\n",
              "        fig._resize_canvas(size[0], size[1]);\n",
              "        fig.send_message(\"refresh\", {});\n",
              "    };\n",
              "}\n",
              "\n",
              "mpl.figure.prototype.handle_rubberband = function(fig, msg) {\n",
              "    var x0 = msg['x0'] / mpl.ratio;\n",
              "    var y0 = (fig.canvas.height - msg['y0']) / mpl.ratio;\n",
              "    var x1 = msg['x1'] / mpl.ratio;\n",
              "    var y1 = (fig.canvas.height - msg['y1']) / mpl.ratio;\n",
              "    x0 = Math.floor(x0) + 0.5;\n",
              "    y0 = Math.floor(y0) + 0.5;\n",
              "    x1 = Math.floor(x1) + 0.5;\n",
              "    y1 = Math.floor(y1) + 0.5;\n",
              "    var min_x = Math.min(x0, x1);\n",
              "    var min_y = Math.min(y0, y1);\n",
              "    var width = Math.abs(x1 - x0);\n",
              "    var height = Math.abs(y1 - y0);\n",
              "\n",
              "    fig.rubberband_context.clearRect(\n",
              "        0, 0, fig.canvas.width / mpl.ratio, fig.canvas.height / mpl.ratio);\n",
              "\n",
              "    fig.rubberband_context.strokeRect(min_x, min_y, width, height);\n",
              "}\n",
              "\n",
              "mpl.figure.prototype.handle_figure_label = function(fig, msg) {\n",
              "    // Updates the figure title.\n",
              "    fig.header.textContent = msg['label'];\n",
              "}\n",
              "\n",
              "mpl.figure.prototype.handle_cursor = function(fig, msg) {\n",
              "    var cursor = msg['cursor'];\n",
              "    switch(cursor)\n",
              "    {\n",
              "    case 0:\n",
              "        cursor = 'pointer';\n",
              "        break;\n",
              "    case 1:\n",
              "        cursor = 'default';\n",
              "        break;\n",
              "    case 2:\n",
              "        cursor = 'crosshair';\n",
              "        break;\n",
              "    case 3:\n",
              "        cursor = 'move';\n",
              "        break;\n",
              "    }\n",
              "    fig.rubberband_canvas.style.cursor = cursor;\n",
              "}\n",
              "\n",
              "mpl.figure.prototype.handle_message = function(fig, msg) {\n",
              "    fig.message.textContent = msg['message'];\n",
              "}\n",
              "\n",
              "mpl.figure.prototype.handle_draw = function(fig, msg) {\n",
              "    // Request the server to send over a new figure.\n",
              "    fig.send_draw_message();\n",
              "}\n",
              "\n",
              "mpl.figure.prototype.handle_image_mode = function(fig, msg) {\n",
              "    fig.image_mode = msg['mode'];\n",
              "}\n",
              "\n",
              "mpl.figure.prototype.updated_canvas_event = function() {\n",
              "    // Called whenever the canvas gets updated.\n",
              "    this.send_message(\"ack\", {});\n",
              "}\n",
              "\n",
              "// A function to construct a web socket function for onmessage handling.\n",
              "// Called in the figure constructor.\n",
              "mpl.figure.prototype._make_on_message_function = function(fig) {\n",
              "    return function socket_on_message(evt) {\n",
              "        if (evt.data instanceof Blob) {\n",
              "            /* FIXME: We get \"Resource interpreted as Image but\n",
              "             * transferred with MIME type text/plain:\" errors on\n",
              "             * Chrome.  But how to set the MIME type?  It doesn't seem\n",
              "             * to be part of the websocket stream */\n",
              "            evt.data.type = \"image/png\";\n",
              "\n",
              "            /* Free the memory for the previous frames */\n",
              "            if (fig.imageObj.src) {\n",
              "                (window.URL || window.webkitURL).revokeObjectURL(\n",
              "                    fig.imageObj.src);\n",
              "            }\n",
              "\n",
              "            fig.imageObj.src = (window.URL || window.webkitURL).createObjectURL(\n",
              "                evt.data);\n",
              "            fig.updated_canvas_event();\n",
              "            fig.waiting = false;\n",
              "            return;\n",
              "        }\n",
              "        else if (typeof evt.data === 'string' && evt.data.slice(0, 21) == \"data:image/png;base64\") {\n",
              "            fig.imageObj.src = evt.data;\n",
              "            fig.updated_canvas_event();\n",
              "            fig.waiting = false;\n",
              "            return;\n",
              "        }\n",
              "\n",
              "        var msg = JSON.parse(evt.data);\n",
              "        var msg_type = msg['type'];\n",
              "\n",
              "        // Call the  \"handle_{type}\" callback, which takes\n",
              "        // the figure and JSON message as its only arguments.\n",
              "        try {\n",
              "            var callback = fig[\"handle_\" + msg_type];\n",
              "        } catch (e) {\n",
              "            console.log(\"No handler for the '\" + msg_type + \"' message type: \", msg);\n",
              "            return;\n",
              "        }\n",
              "\n",
              "        if (callback) {\n",
              "            try {\n",
              "                // console.log(\"Handling '\" + msg_type + \"' message: \", msg);\n",
              "                callback(fig, msg);\n",
              "            } catch (e) {\n",
              "                console.log(\"Exception inside the 'handler_\" + msg_type + \"' callback:\", e, e.stack, msg);\n",
              "            }\n",
              "        }\n",
              "    };\n",
              "}\n",
              "\n",
              "// from http://stackoverflow.com/questions/1114465/getting-mouse-location-in-canvas\n",
              "mpl.findpos = function(e) {\n",
              "    //this section is from http://www.quirksmode.org/js/events_properties.html\n",
              "    var targ;\n",
              "    if (!e)\n",
              "        e = window.event;\n",
              "    if (e.target)\n",
              "        targ = e.target;\n",
              "    else if (e.srcElement)\n",
              "        targ = e.srcElement;\n",
              "    if (targ.nodeType == 3) // defeat Safari bug\n",
              "        targ = targ.parentNode;\n",
              "\n",
              "    // jQuery normalizes the pageX and pageY\n",
              "    // pageX,Y are the mouse positions relative to the document\n",
              "    // offset() returns the position of the element relative to the document\n",
              "    var x = e.pageX - $(targ).offset().left;\n",
              "    var y = e.pageY - $(targ).offset().top;\n",
              "\n",
              "    return {\"x\": x, \"y\": y};\n",
              "};\n",
              "\n",
              "/*\n",
              " * return a copy of an object with only non-object keys\n",
              " * we need this to avoid circular references\n",
              " * http://stackoverflow.com/a/24161582/3208463\n",
              " */\n",
              "function simpleKeys (original) {\n",
              "  return Object.keys(original).reduce(function (obj, key) {\n",
              "    if (typeof original[key] !== 'object')\n",
              "        obj[key] = original[key]\n",
              "    return obj;\n",
              "  }, {});\n",
              "}\n",
              "\n",
              "mpl.figure.prototype.mouse_event = function(event, name) {\n",
              "    var canvas_pos = mpl.findpos(event)\n",
              "\n",
              "    if (name === 'button_press')\n",
              "    {\n",
              "        this.canvas.focus();\n",
              "        this.canvas_div.focus();\n",
              "    }\n",
              "\n",
              "    var x = canvas_pos.x * mpl.ratio;\n",
              "    var y = canvas_pos.y * mpl.ratio;\n",
              "\n",
              "    this.send_message(name, {x: x, y: y, button: event.button,\n",
              "                             step: event.step,\n",
              "                             guiEvent: simpleKeys(event)});\n",
              "\n",
              "    /* This prevents the web browser from automatically changing to\n",
              "     * the text insertion cursor when the button is pressed.  We want\n",
              "     * to control all of the cursor setting manually through the\n",
              "     * 'cursor' event from matplotlib */\n",
              "    event.preventDefault();\n",
              "    return false;\n",
              "}\n",
              "\n",
              "mpl.figure.prototype._key_event_extra = function(event, name) {\n",
              "    // Handle any extra behaviour associated with a key event\n",
              "}\n",
              "\n",
              "mpl.figure.prototype.key_event = function(event, name) {\n",
              "\n",
              "    // Prevent repeat events\n",
              "    if (name == 'key_press')\n",
              "    {\n",
              "        if (event.which === this._key)\n",
              "            return;\n",
              "        else\n",
              "            this._key = event.which;\n",
              "    }\n",
              "    if (name == 'key_release')\n",
              "        this._key = null;\n",
              "\n",
              "    var value = '';\n",
              "    if (event.ctrlKey && event.which != 17)\n",
              "        value += \"ctrl+\";\n",
              "    if (event.altKey && event.which != 18)\n",
              "        value += \"alt+\";\n",
              "    if (event.shiftKey && event.which != 16)\n",
              "        value += \"shift+\";\n",
              "\n",
              "    value += 'k';\n",
              "    value += event.which.toString();\n",
              "\n",
              "    this._key_event_extra(event, name);\n",
              "\n",
              "    this.send_message(name, {key: value,\n",
              "                             guiEvent: simpleKeys(event)});\n",
              "    return false;\n",
              "}\n",
              "\n",
              "mpl.figure.prototype.toolbar_button_onclick = function(name) {\n",
              "    if (name == 'download') {\n",
              "        this.handle_save(this, null);\n",
              "    } else {\n",
              "        this.send_message(\"toolbar_button\", {name: name});\n",
              "    }\n",
              "};\n",
              "\n",
              "mpl.figure.prototype.toolbar_button_onmouseover = function(tooltip) {\n",
              "    this.message.textContent = tooltip;\n",
              "};\n",
              "mpl.toolbar_items = [[\"Home\", \"Reset original view\", \"fa fa-home icon-home\", \"home\"], [\"Back\", \"Back to previous view\", \"fa fa-arrow-left icon-arrow-left\", \"back\"], [\"Forward\", \"Forward to next view\", \"fa fa-arrow-right icon-arrow-right\", \"forward\"], [\"\", \"\", \"\", \"\"], [\"Pan\", \"Pan axes with left mouse, zoom with right\", \"fa fa-arrows icon-move\", \"pan\"], [\"Zoom\", \"Zoom to rectangle\", \"fa fa-square-o icon-check-empty\", \"zoom\"], [\"\", \"\", \"\", \"\"], [\"Download\", \"Download plot\", \"fa fa-floppy-o icon-save\", \"download\"]];\n",
              "\n",
              "mpl.extensions = [\"eps\", \"jpeg\", \"pdf\", \"png\", \"ps\", \"raw\", \"svg\", \"tif\"];\n",
              "\n",
              "mpl.default_extension = \"png\";var comm_websocket_adapter = function(comm) {\n",
              "    // Create a \"websocket\"-like object which calls the given IPython comm\n",
              "    // object with the appropriate methods. Currently this is a non binary\n",
              "    // socket, so there is still some room for performance tuning.\n",
              "    var ws = {};\n",
              "\n",
              "    ws.close = function() {\n",
              "        comm.close()\n",
              "    };\n",
              "    ws.send = function(m) {\n",
              "        //console.log('sending', m);\n",
              "        comm.send(m);\n",
              "    };\n",
              "    // Register the callback with on_msg.\n",
              "    comm.on_msg(function(msg) {\n",
              "        //console.log('receiving', msg['content']['data'], msg);\n",
              "        // Pass the mpl event to the overridden (by mpl) onmessage function.\n",
              "        ws.onmessage(msg['content']['data'])\n",
              "    });\n",
              "    return ws;\n",
              "}\n",
              "\n",
              "mpl.mpl_figure_comm = function(comm, msg) {\n",
              "    // This is the function which gets called when the mpl process\n",
              "    // starts-up an IPython Comm through the \"matplotlib\" channel.\n",
              "\n",
              "    var id = msg.content.data.id;\n",
              "    // Get hold of the div created by the display call when the Comm\n",
              "    // socket was opened in Python.\n",
              "    var element = $(\"#\" + id);\n",
              "    var ws_proxy = comm_websocket_adapter(comm)\n",
              "\n",
              "    function ondownload(figure, format) {\n",
              "        window.open(figure.imageObj.src);\n",
              "    }\n",
              "\n",
              "    var fig = new mpl.figure(id, ws_proxy,\n",
              "                           ondownload,\n",
              "                           element.get(0));\n",
              "\n",
              "    // Call onopen now - mpl needs it, as it is assuming we've passed it a real\n",
              "    // web socket which is closed, not our websocket->open comm proxy.\n",
              "    ws_proxy.onopen();\n",
              "\n",
              "    fig.parent_element = element.get(0);\n",
              "    fig.cell_info = mpl.find_output_cell(\"<div id='\" + id + \"'></div>\");\n",
              "    if (!fig.cell_info) {\n",
              "        console.error(\"Failed to find cell for figure\", id, fig);\n",
              "        return;\n",
              "    }\n",
              "\n",
              "    var output_index = fig.cell_info[2]\n",
              "    var cell = fig.cell_info[0];\n",
              "\n",
              "};\n",
              "\n",
              "mpl.figure.prototype.handle_close = function(fig, msg) {\n",
              "    var width = fig.canvas.width/mpl.ratio\n",
              "    fig.root.unbind('remove')\n",
              "\n",
              "    // Update the output cell to use the data from the current canvas.\n",
              "    fig.push_to_output();\n",
              "    var dataURL = fig.canvas.toDataURL();\n",
              "    // Re-enable the keyboard manager in IPython - without this line, in FF,\n",
              "    // the notebook keyboard shortcuts fail.\n",
              "    IPython.keyboard_manager.enable()\n",
              "    $(fig.parent_element).html('<img src=\"' + dataURL + '\" width=\"' + width + '\">');\n",
              "    fig.close_ws(fig, msg);\n",
              "}\n",
              "\n",
              "mpl.figure.prototype.close_ws = function(fig, msg){\n",
              "    fig.send_message('closing', msg);\n",
              "    // fig.ws.close()\n",
              "}\n",
              "\n",
              "mpl.figure.prototype.push_to_output = function(remove_interactive) {\n",
              "    // Turn the data on the canvas into data in the output cell.\n",
              "    var width = this.canvas.width/mpl.ratio\n",
              "    var dataURL = this.canvas.toDataURL();\n",
              "    this.cell_info[1]['text/html'] = '<img src=\"' + dataURL + '\" width=\"' + width + '\">';\n",
              "}\n",
              "\n",
              "mpl.figure.prototype.updated_canvas_event = function() {\n",
              "    // Tell IPython that the notebook contents must change.\n",
              "    IPython.notebook.set_dirty(true);\n",
              "    this.send_message(\"ack\", {});\n",
              "    var fig = this;\n",
              "    // Wait a second, then push the new image to the DOM so\n",
              "    // that it is saved nicely (might be nice to debounce this).\n",
              "    setTimeout(function () { fig.push_to_output() }, 1000);\n",
              "}\n",
              "\n",
              "mpl.figure.prototype._init_toolbar = function() {\n",
              "    var fig = this;\n",
              "\n",
              "    var nav_element = $('<div/>');\n",
              "    nav_element.attr('style', 'width: 100%');\n",
              "    this.root.append(nav_element);\n",
              "\n",
              "    // Define a callback function for later on.\n",
              "    function toolbar_event(event) {\n",
              "        return fig.toolbar_button_onclick(event['data']);\n",
              "    }\n",
              "    function toolbar_mouse_event(event) {\n",
              "        return fig.toolbar_button_onmouseover(event['data']);\n",
              "    }\n",
              "\n",
              "    for(var toolbar_ind in mpl.toolbar_items){\n",
              "        var name = mpl.toolbar_items[toolbar_ind][0];\n",
              "        var tooltip = mpl.toolbar_items[toolbar_ind][1];\n",
              "        var image = mpl.toolbar_items[toolbar_ind][2];\n",
              "        var method_name = mpl.toolbar_items[toolbar_ind][3];\n",
              "\n",
              "        if (!name) { continue; };\n",
              "\n",
              "        var button = $('<button class=\"btn btn-default\" href=\"#\" title=\"' + name + '\"><i class=\"fa ' + image + ' fa-lg\"></i></button>');\n",
              "        button.click(method_name, toolbar_event);\n",
              "        button.mouseover(tooltip, toolbar_mouse_event);\n",
              "        nav_element.append(button);\n",
              "    }\n",
              "\n",
              "    // Add the status bar.\n",
              "    var status_bar = $('<span class=\"mpl-message\" style=\"text-align:right; float: right;\"/>');\n",
              "    nav_element.append(status_bar);\n",
              "    this.message = status_bar[0];\n",
              "\n",
              "    // Add the close button to the window.\n",
              "    var buttongrp = $('<div class=\"btn-group inline pull-right\"></div>');\n",
              "    var button = $('<button class=\"btn btn-mini btn-primary\" href=\"#\" title=\"Stop Interaction\"><i class=\"fa fa-power-off icon-remove icon-large\"></i></button>');\n",
              "    button.click(function (evt) { fig.handle_close(fig, {}); } );\n",
              "    button.mouseover('Stop Interaction', toolbar_mouse_event);\n",
              "    buttongrp.append(button);\n",
              "    var titlebar = this.root.find($('.ui-dialog-titlebar'));\n",
              "    titlebar.prepend(buttongrp);\n",
              "}\n",
              "\n",
              "mpl.figure.prototype._root_extra_style = function(el){\n",
              "    var fig = this\n",
              "    el.on(\"remove\", function(){\n",
              "\tfig.close_ws(fig, {});\n",
              "    });\n",
              "}\n",
              "\n",
              "mpl.figure.prototype._canvas_extra_style = function(el){\n",
              "    // this is important to make the div 'focusable\n",
              "    el.attr('tabindex', 0)\n",
              "    // reach out to IPython and tell the keyboard manager to turn it's self\n",
              "    // off when our div gets focus\n",
              "\n",
              "    // location in version 3\n",
              "    if (IPython.notebook.keyboard_manager) {\n",
              "        IPython.notebook.keyboard_manager.register_events(el);\n",
              "    }\n",
              "    else {\n",
              "        // location in version 2\n",
              "        IPython.keyboard_manager.register_events(el);\n",
              "    }\n",
              "\n",
              "}\n",
              "\n",
              "mpl.figure.prototype._key_event_extra = function(event, name) {\n",
              "    var manager = IPython.notebook.keyboard_manager;\n",
              "    if (!manager)\n",
              "        manager = IPython.keyboard_manager;\n",
              "\n",
              "    // Check for shift+enter\n",
              "    if (event.shiftKey && event.which == 13) {\n",
              "        this.canvas_div.blur();\n",
              "        // select the cell after this one\n",
              "        var index = IPython.notebook.find_cell_index(this.cell_info[0]);\n",
              "        IPython.notebook.select(index + 1);\n",
              "    }\n",
              "}\n",
              "\n",
              "mpl.figure.prototype.handle_save = function(fig, msg) {\n",
              "    fig.ondownload(fig, null);\n",
              "}\n",
              "\n",
              "\n",
              "mpl.find_output_cell = function(html_output) {\n",
              "    // Return the cell and output element which can be found *uniquely* in the notebook.\n",
              "    // Note - this is a bit hacky, but it is done because the \"notebook_saving.Notebook\"\n",
              "    // IPython event is triggered only after the cells have been serialised, which for\n",
              "    // our purposes (turning an active figure into a static one), is too late.\n",
              "    var cells = IPython.notebook.get_cells();\n",
              "    var ncells = cells.length;\n",
              "    for (var i=0; i<ncells; i++) {\n",
              "        var cell = cells[i];\n",
              "        if (cell.cell_type === 'code'){\n",
              "            for (var j=0; j<cell.output_area.outputs.length; j++) {\n",
              "                var data = cell.output_area.outputs[j];\n",
              "                if (data.data) {\n",
              "                    // IPython >= 3 moved mimebundle to data attribute of output\n",
              "                    data = data.data;\n",
              "                }\n",
              "                if (data['text/html'] == html_output) {\n",
              "                    return [cell, data, j];\n",
              "                }\n",
              "            }\n",
              "        }\n",
              "    }\n",
              "}\n",
              "\n",
              "// Register the function which deals with the matplotlib target/channel.\n",
              "// The kernel may be null if the page has been refreshed.\n",
              "if (IPython.notebook.kernel != null) {\n",
              "    IPython.notebook.kernel.comm_manager.register_target('matplotlib', mpl.mpl_figure_comm);\n",
              "}\n"
            ]
          },
          "metadata": {}
        },
        {
          "output_type": "display_data",
          "data": {
            "text/plain": [
              "<IPython.core.display.HTML object>"
            ],
            "text/html": [
              "<div id='3a4c5176-06e0-417b-9fdf-d797986ec60c'></div>"
            ]
          },
          "metadata": {}
        }
      ]
    },
    {
      "cell_type": "markdown",
      "source": [
        "# lasso regularization technique is used for feature selection at model level"
      ],
      "metadata": {
        "id": "UfocQn5Sdy5p"
      }
    },
    {
      "cell_type": "code",
      "source": [
        "X_train1=X_train.copy()"
      ],
      "metadata": {
        "id": "sx24XQ3QhFJX"
      },
      "execution_count": null,
      "outputs": []
    },
    {
      "cell_type": "code",
      "source": [
        "X_test1=X_test.copy()"
      ],
      "metadata": {
        "id": "WzIsz0qdhMWI"
      },
      "execution_count": null,
      "outputs": []
    },
    {
      "cell_type": "code",
      "source": [
        "X_train.columns"
      ],
      "metadata": {
        "id": "DeY2yXCjiBNO",
        "colab": {
          "base_uri": "https://localhost:8080/"
        },
        "outputId": "d7f2cd13-23d9-4ca1-c1d0-41a3e042884d"
      },
      "execution_count": null,
      "outputs": [
        {
          "output_type": "execute_result",
          "data": {
            "text/plain": [
              "Index(['Total.Day.Minutes', 'Total.Day.Calls', 'Total.Day.Charge',\n",
              "       'Total.Eve.Minutes', 'Total.Eve.Calls', 'Total.Eve.Charge',\n",
              "       'Total.Night.Minutes', 'Total.Night.Calls', 'Total.Night.Charge',\n",
              "       'Total.Intl.Minutes', 'Total.Intl.Calls', 'Total.Intl.Charge',\n",
              "       'X..Vmail.Messages', 'X..customer.Service.Calls',\n",
              "       'International.Plan_yes', 'Voice.Mail.Plan_yes'],\n",
              "      dtype='object')"
            ]
          },
          "metadata": {},
          "execution_count": 86
        }
      ]
    },
    {
      "cell_type": "code",
      "source": [
        "logistic_model=LogisticRegression(penalty='l1',solver=\"saga\",class_weight=\"balanced\")"
      ],
      "metadata": {
        "id": "LbLVIaU6Ykx-"
      },
      "execution_count": null,
      "outputs": []
    },
    {
      "cell_type": "code",
      "source": [
        "logistic_model.fit(X_train,Y_train)"
      ],
      "metadata": {
        "id": "h61Nio-bYkvM",
        "colab": {
          "base_uri": "https://localhost:8080/"
        },
        "outputId": "b8d125ca-ca66-40c9-edcb-b2900b33cde5"
      },
      "execution_count": null,
      "outputs": [
        {
          "output_type": "execute_result",
          "data": {
            "text/plain": [
              "LogisticRegression(class_weight='balanced', penalty='l1', solver='saga')"
            ]
          },
          "metadata": {},
          "execution_count": 88
        }
      ]
    },
    {
      "cell_type": "code",
      "source": [
        "train_preds = logistic_model.predict(X_train)\n",
        "train_preds_prob=logistic_model.predict_proba(X_train)[:,1]\n",
        "val_preds = logistic_model.predict(X_val)\n",
        "val_preds_prob=logistic_model.predict_proba(X_val)[:,1]"
      ],
      "metadata": {
        "id": "r1GnLgCkYksf"
      },
      "execution_count": null,
      "outputs": []
    },
    {
      "cell_type": "code",
      "source": [
        "np.round(logistic_model.coef_,3)"
      ],
      "metadata": {
        "id": "VOJm6dDeevf6",
        "colab": {
          "base_uri": "https://localhost:8080/"
        },
        "outputId": "bd2c3e0e-872c-4b75-db6c-01ebc2ea0cfd"
      },
      "execution_count": null,
      "outputs": [
        {
          "output_type": "execute_result",
          "data": {
            "text/plain": [
              "array([[ 0.332, -0.022,  0.319,  0.178,  0.089,  0.161,  0.139, -0.032,\n",
              "         0.089,  0.143, -0.096,  0.083,  0.647,  0.785,  2.563, -2.426]])"
            ]
          },
          "metadata": {},
          "execution_count": 90
        }
      ]
    },
    {
      "cell_type": "code",
      "source": [
        "X_train.columns"
      ],
      "metadata": {
        "id": "Qurl8KJNevbe",
        "colab": {
          "base_uri": "https://localhost:8080/"
        },
        "outputId": "db0dcd0a-6e53-418c-ba8e-e3861a753fa0"
      },
      "execution_count": null,
      "outputs": [
        {
          "output_type": "execute_result",
          "data": {
            "text/plain": [
              "Index(['Total.Day.Minutes', 'Total.Day.Calls', 'Total.Day.Charge',\n",
              "       'Total.Eve.Minutes', 'Total.Eve.Calls', 'Total.Eve.Charge',\n",
              "       'Total.Night.Minutes', 'Total.Night.Calls', 'Total.Night.Charge',\n",
              "       'Total.Intl.Minutes', 'Total.Intl.Calls', 'Total.Intl.Charge',\n",
              "       'X..Vmail.Messages', 'X..customer.Service.Calls',\n",
              "       'International.Plan_yes', 'Voice.Mail.Plan_yes'],\n",
              "      dtype='object')"
            ]
          },
          "metadata": {},
          "execution_count": 91
        }
      ]
    },
    {
      "cell_type": "code",
      "source": [
        "train_accuracy_2= accuracy_score(Y_train,train_preds)\n",
        "train_recall_2= recall_score(Y_train,train_preds)\n",
        "train_precision_2= precision_score(Y_train,train_preds)\n",
        "\n",
        "val_accuracy_2= accuracy_score(Y_val,val_preds)\n",
        "val_recall_2= recall_score(Y_val,val_preds)\n",
        "val_precision_2= precision_score(Y_val,val_preds)"
      ],
      "metadata": {
        "id": "ScDff3vhe1SE"
      },
      "execution_count": null,
      "outputs": []
    },
    {
      "cell_type": "code",
      "source": [
        "print(classification_report(Y_train,train_preds))"
      ],
      "metadata": {
        "id": "KaANdBuRe1PH",
        "colab": {
          "base_uri": "https://localhost:8080/"
        },
        "outputId": "1804b9ab-d003-4d57-c578-a8d1ca23845f"
      },
      "execution_count": null,
      "outputs": [
        {
          "output_type": "stream",
          "name": "stdout",
          "text": [
            "              precision    recall  f1-score   support\n",
            "\n",
            "           0       0.95      0.78      0.86      2099\n",
            "           1       0.37      0.76      0.50       351\n",
            "\n",
            "    accuracy                           0.78      2450\n",
            "   macro avg       0.66      0.77      0.68      2450\n",
            "weighted avg       0.87      0.78      0.81      2450\n",
            "\n"
          ]
        }
      ]
    },
    {
      "cell_type": "code",
      "source": [
        "\n",
        "print(classification_report(Y_val,val_preds))"
      ],
      "metadata": {
        "id": "3iefguEBe1Ly",
        "colab": {
          "base_uri": "https://localhost:8080/"
        },
        "outputId": "c753e4a1-a185-488d-8bba-fc46d90122ad"
      },
      "execution_count": null,
      "outputs": [
        {
          "output_type": "stream",
          "name": "stdout",
          "text": [
            "              precision    recall  f1-score   support\n",
            "\n",
            "           0       0.95      0.76      0.85       899\n",
            "           1       0.35      0.78      0.49       151\n",
            "\n",
            "    accuracy                           0.76      1050\n",
            "   macro avg       0.65      0.77      0.67      1050\n",
            "weighted avg       0.87      0.76      0.79      1050\n",
            "\n"
          ]
        }
      ]
    },
    {
      "cell_type": "code",
      "source": [
        "lasso = np.array(['Logistic - L1',train_accuracy_2,train_recall_2,\n",
        "                          train_precision_2,val_accuracy_2,val_recall_2,\n",
        "                          val_precision_2]).reshape(1,7)\n",
        "model_performance = model_performance.append(pd.DataFrame(lasso,columns=model_performance.columns))"
      ],
      "metadata": {
        "id": "qei4-4O3fND_"
      },
      "execution_count": null,
      "outputs": []
    },
    {
      "cell_type": "code",
      "source": [
        "model_performance"
      ],
      "metadata": {
        "id": "-DEqyNYhfNAj",
        "colab": {
          "base_uri": "https://localhost:8080/",
          "height": 112
        },
        "outputId": "24c3d140-657f-466f-9137-de00610b5723"
      },
      "execution_count": null,
      "outputs": [
        {
          "output_type": "execute_result",
          "data": {
            "text/plain": [
              "                  Model      Train Accuracy         Train Recall  \\\n",
              "0  Logistic - Reg_Ridge  0.8636734693877551  0.21082621082621084   \n",
              "0         Logistic - L1  0.7804081632653062   0.7606837606837606   \n",
              "\n",
              "       Train Precision        Val Accuracy           Val Recall  \\\n",
              "0   0.5648854961832062  0.8561904761904762  0.23178807947019867   \n",
              "0  0.37031900138696255  0.7638095238095238   0.7814569536423841   \n",
              "\n",
              "         Val Precision  \n",
              "0                  0.5  \n",
              "0  0.35435435435435436  "
            ],
            "text/html": [
              "\n",
              "  <div id=\"df-b82f4c5e-b6c2-487a-a69a-7ec5ada1ceb0\">\n",
              "    <div class=\"colab-df-container\">\n",
              "      <div>\n",
              "<style scoped>\n",
              "    .dataframe tbody tr th:only-of-type {\n",
              "        vertical-align: middle;\n",
              "    }\n",
              "\n",
              "    .dataframe tbody tr th {\n",
              "        vertical-align: top;\n",
              "    }\n",
              "\n",
              "    .dataframe thead th {\n",
              "        text-align: right;\n",
              "    }\n",
              "</style>\n",
              "<table border=\"1\" class=\"dataframe\">\n",
              "  <thead>\n",
              "    <tr style=\"text-align: right;\">\n",
              "      <th></th>\n",
              "      <th>Model</th>\n",
              "      <th>Train Accuracy</th>\n",
              "      <th>Train Recall</th>\n",
              "      <th>Train Precision</th>\n",
              "      <th>Val Accuracy</th>\n",
              "      <th>Val Recall</th>\n",
              "      <th>Val Precision</th>\n",
              "    </tr>\n",
              "  </thead>\n",
              "  <tbody>\n",
              "    <tr>\n",
              "      <th>0</th>\n",
              "      <td>Logistic - Reg_Ridge</td>\n",
              "      <td>0.8636734693877551</td>\n",
              "      <td>0.21082621082621084</td>\n",
              "      <td>0.5648854961832062</td>\n",
              "      <td>0.8561904761904762</td>\n",
              "      <td>0.23178807947019867</td>\n",
              "      <td>0.5</td>\n",
              "    </tr>\n",
              "    <tr>\n",
              "      <th>0</th>\n",
              "      <td>Logistic - L1</td>\n",
              "      <td>0.7804081632653062</td>\n",
              "      <td>0.7606837606837606</td>\n",
              "      <td>0.37031900138696255</td>\n",
              "      <td>0.7638095238095238</td>\n",
              "      <td>0.7814569536423841</td>\n",
              "      <td>0.35435435435435436</td>\n",
              "    </tr>\n",
              "  </tbody>\n",
              "</table>\n",
              "</div>\n",
              "      <button class=\"colab-df-convert\" onclick=\"convertToInteractive('df-b82f4c5e-b6c2-487a-a69a-7ec5ada1ceb0')\"\n",
              "              title=\"Convert this dataframe to an interactive table.\"\n",
              "              style=\"display:none;\">\n",
              "        \n",
              "  <svg xmlns=\"http://www.w3.org/2000/svg\" height=\"24px\"viewBox=\"0 0 24 24\"\n",
              "       width=\"24px\">\n",
              "    <path d=\"M0 0h24v24H0V0z\" fill=\"none\"/>\n",
              "    <path d=\"M18.56 5.44l.94 2.06.94-2.06 2.06-.94-2.06-.94-.94-2.06-.94 2.06-2.06.94zm-11 1L8.5 8.5l.94-2.06 2.06-.94-2.06-.94L8.5 2.5l-.94 2.06-2.06.94zm10 10l.94 2.06.94-2.06 2.06-.94-2.06-.94-.94-2.06-.94 2.06-2.06.94z\"/><path d=\"M17.41 7.96l-1.37-1.37c-.4-.4-.92-.59-1.43-.59-.52 0-1.04.2-1.43.59L10.3 9.45l-7.72 7.72c-.78.78-.78 2.05 0 2.83L4 21.41c.39.39.9.59 1.41.59.51 0 1.02-.2 1.41-.59l7.78-7.78 2.81-2.81c.8-.78.8-2.07 0-2.86zM5.41 20L4 18.59l7.72-7.72 1.47 1.35L5.41 20z\"/>\n",
              "  </svg>\n",
              "      </button>\n",
              "      \n",
              "  <style>\n",
              "    .colab-df-container {\n",
              "      display:flex;\n",
              "      flex-wrap:wrap;\n",
              "      gap: 12px;\n",
              "    }\n",
              "\n",
              "    .colab-df-convert {\n",
              "      background-color: #E8F0FE;\n",
              "      border: none;\n",
              "      border-radius: 50%;\n",
              "      cursor: pointer;\n",
              "      display: none;\n",
              "      fill: #1967D2;\n",
              "      height: 32px;\n",
              "      padding: 0 0 0 0;\n",
              "      width: 32px;\n",
              "    }\n",
              "\n",
              "    .colab-df-convert:hover {\n",
              "      background-color: #E2EBFA;\n",
              "      box-shadow: 0px 1px 2px rgba(60, 64, 67, 0.3), 0px 1px 3px 1px rgba(60, 64, 67, 0.15);\n",
              "      fill: #174EA6;\n",
              "    }\n",
              "\n",
              "    [theme=dark] .colab-df-convert {\n",
              "      background-color: #3B4455;\n",
              "      fill: #D2E3FC;\n",
              "    }\n",
              "\n",
              "    [theme=dark] .colab-df-convert:hover {\n",
              "      background-color: #434B5C;\n",
              "      box-shadow: 0px 1px 3px 1px rgba(0, 0, 0, 0.15);\n",
              "      filter: drop-shadow(0px 1px 2px rgba(0, 0, 0, 0.3));\n",
              "      fill: #FFFFFF;\n",
              "    }\n",
              "  </style>\n",
              "\n",
              "      <script>\n",
              "        const buttonEl =\n",
              "          document.querySelector('#df-b82f4c5e-b6c2-487a-a69a-7ec5ada1ceb0 button.colab-df-convert');\n",
              "        buttonEl.style.display =\n",
              "          google.colab.kernel.accessAllowed ? 'block' : 'none';\n",
              "\n",
              "        async function convertToInteractive(key) {\n",
              "          const element = document.querySelector('#df-b82f4c5e-b6c2-487a-a69a-7ec5ada1ceb0');\n",
              "          const dataTable =\n",
              "            await google.colab.kernel.invokeFunction('convertToInteractive',\n",
              "                                                     [key], {});\n",
              "          if (!dataTable) return;\n",
              "\n",
              "          const docLinkHtml = 'Like what you see? Visit the ' +\n",
              "            '<a target=\"_blank\" href=https://colab.research.google.com/notebooks/data_table.ipynb>data table notebook</a>'\n",
              "            + ' to learn more about interactive tables.';\n",
              "          element.innerHTML = '';\n",
              "          dataTable['output_type'] = 'display_data';\n",
              "          await google.colab.output.renderOutput(dataTable, element);\n",
              "          const docLink = document.createElement('div');\n",
              "          docLink.innerHTML = docLinkHtml;\n",
              "          element.appendChild(docLink);\n",
              "        }\n",
              "      </script>\n",
              "    </div>\n",
              "  </div>\n",
              "  "
            ]
          },
          "metadata": {},
          "execution_count": 96
        }
      ]
    },
    {
      "cell_type": "markdown",
      "source": [
        "DECISIONTREE CLASSIFIER"
      ],
      "metadata": {
        "id": "QLkadCKiNFW7"
      }
    },
    {
      "cell_type": "code",
      "source": [
        "from sklearn.tree import DecisionTreeClassifier,export_graphviz\n",
        "import graphviz\n",
        "from sklearn.model_selection import GridSearchCV\n"
      ],
      "metadata": {
        "id": "9BtM59wwSNOB"
      },
      "execution_count": null,
      "outputs": []
    },
    {
      "cell_type": "code",
      "source": [
        "dtclf = DecisionTreeClassifier()"
      ],
      "metadata": {
        "id": "kb0-VSvhRa6f"
      },
      "execution_count": null,
      "outputs": []
    },
    {
      "cell_type": "code",
      "source": [
        "dtclf.fit(X_train,Y_train)"
      ],
      "metadata": {
        "colab": {
          "base_uri": "https://localhost:8080/"
        },
        "id": "7IEmSuLPIwMv",
        "outputId": "4d141b03-8170-4ca7-d522-73d1a8042c1c"
      },
      "execution_count": null,
      "outputs": [
        {
          "output_type": "execute_result",
          "data": {
            "text/plain": [
              "DecisionTreeClassifier()"
            ]
          },
          "metadata": {},
          "execution_count": 99
        }
      ]
    },
    {
      "cell_type": "code",
      "source": [
        "importances = dtclf.feature_importances_\n",
        "importances"
      ],
      "metadata": {
        "id": "EI-vTCqXTILC",
        "colab": {
          "base_uri": "https://localhost:8080/"
        },
        "outputId": "e2cc3212-4cc5-46de-a024-e58decdda4e1"
      },
      "execution_count": null,
      "outputs": [
        {
          "output_type": "execute_result",
          "data": {
            "text/plain": [
              "array([0.14207667, 0.03772588, 0.10330739, 0.0707462 , 0.02740371,\n",
              "       0.06130432, 0.03402049, 0.0216895 , 0.029703  , 0.0218888 ,\n",
              "       0.08161691, 0.0974603 , 0.05016591, 0.11333637, 0.08359447,\n",
              "       0.02396008])"
            ]
          },
          "metadata": {},
          "execution_count": 100
        }
      ]
    },
    {
      "cell_type": "code",
      "source": [
        "indices = np.argsort(importances)[::-1]\n",
        "ind_attr_names = X_train.columns\n",
        "pd.DataFrame([ind_attr_names[indices], np.sort(importances)[::-1]])"
      ],
      "metadata": {
        "id": "xYSCuLv5TNz5",
        "colab": {
          "base_uri": "https://localhost:8080/",
          "height": 176
        },
        "outputId": "d4a03e5c-1c5c-42eb-a5bf-ac6a19772a31"
      },
      "execution_count": null,
      "outputs": [
        {
          "output_type": "execute_result",
          "data": {
            "text/plain": [
              "                  0                          1                 2   \\\n",
              "0  Total.Day.Minutes  X..customer.Service.Calls  Total.Day.Charge   \n",
              "1           0.142077                   0.113336          0.103307   \n",
              "\n",
              "                  3                       4                 5   \\\n",
              "0  Total.Intl.Charge  International.Plan_yes  Total.Intl.Calls   \n",
              "1            0.09746                0.083594          0.081617   \n",
              "\n",
              "                  6                 7                  8                9   \\\n",
              "0  Total.Eve.Minutes  Total.Eve.Charge  X..Vmail.Messages  Total.Day.Calls   \n",
              "1           0.070746          0.061304           0.050166         0.037726   \n",
              "\n",
              "                    10                  11               12  \\\n",
              "0  Total.Night.Minutes  Total.Night.Charge  Total.Eve.Calls   \n",
              "1              0.03402            0.029703         0.027404   \n",
              "\n",
              "                    13                  14                 15  \n",
              "0  Voice.Mail.Plan_yes  Total.Intl.Minutes  Total.Night.Calls  \n",
              "1              0.02396            0.021889            0.02169  "
            ],
            "text/html": [
              "\n",
              "  <div id=\"df-776cc184-87da-4080-94c2-d3d09c0c1f0f\">\n",
              "    <div class=\"colab-df-container\">\n",
              "      <div>\n",
              "<style scoped>\n",
              "    .dataframe tbody tr th:only-of-type {\n",
              "        vertical-align: middle;\n",
              "    }\n",
              "\n",
              "    .dataframe tbody tr th {\n",
              "        vertical-align: top;\n",
              "    }\n",
              "\n",
              "    .dataframe thead th {\n",
              "        text-align: right;\n",
              "    }\n",
              "</style>\n",
              "<table border=\"1\" class=\"dataframe\">\n",
              "  <thead>\n",
              "    <tr style=\"text-align: right;\">\n",
              "      <th></th>\n",
              "      <th>0</th>\n",
              "      <th>1</th>\n",
              "      <th>2</th>\n",
              "      <th>3</th>\n",
              "      <th>4</th>\n",
              "      <th>5</th>\n",
              "      <th>6</th>\n",
              "      <th>7</th>\n",
              "      <th>8</th>\n",
              "      <th>9</th>\n",
              "      <th>10</th>\n",
              "      <th>11</th>\n",
              "      <th>12</th>\n",
              "      <th>13</th>\n",
              "      <th>14</th>\n",
              "      <th>15</th>\n",
              "    </tr>\n",
              "  </thead>\n",
              "  <tbody>\n",
              "    <tr>\n",
              "      <th>0</th>\n",
              "      <td>Total.Day.Minutes</td>\n",
              "      <td>X..customer.Service.Calls</td>\n",
              "      <td>Total.Day.Charge</td>\n",
              "      <td>Total.Intl.Charge</td>\n",
              "      <td>International.Plan_yes</td>\n",
              "      <td>Total.Intl.Calls</td>\n",
              "      <td>Total.Eve.Minutes</td>\n",
              "      <td>Total.Eve.Charge</td>\n",
              "      <td>X..Vmail.Messages</td>\n",
              "      <td>Total.Day.Calls</td>\n",
              "      <td>Total.Night.Minutes</td>\n",
              "      <td>Total.Night.Charge</td>\n",
              "      <td>Total.Eve.Calls</td>\n",
              "      <td>Voice.Mail.Plan_yes</td>\n",
              "      <td>Total.Intl.Minutes</td>\n",
              "      <td>Total.Night.Calls</td>\n",
              "    </tr>\n",
              "    <tr>\n",
              "      <th>1</th>\n",
              "      <td>0.142077</td>\n",
              "      <td>0.113336</td>\n",
              "      <td>0.103307</td>\n",
              "      <td>0.09746</td>\n",
              "      <td>0.083594</td>\n",
              "      <td>0.081617</td>\n",
              "      <td>0.070746</td>\n",
              "      <td>0.061304</td>\n",
              "      <td>0.050166</td>\n",
              "      <td>0.037726</td>\n",
              "      <td>0.03402</td>\n",
              "      <td>0.029703</td>\n",
              "      <td>0.027404</td>\n",
              "      <td>0.02396</td>\n",
              "      <td>0.021889</td>\n",
              "      <td>0.02169</td>\n",
              "    </tr>\n",
              "  </tbody>\n",
              "</table>\n",
              "</div>\n",
              "      <button class=\"colab-df-convert\" onclick=\"convertToInteractive('df-776cc184-87da-4080-94c2-d3d09c0c1f0f')\"\n",
              "              title=\"Convert this dataframe to an interactive table.\"\n",
              "              style=\"display:none;\">\n",
              "        \n",
              "  <svg xmlns=\"http://www.w3.org/2000/svg\" height=\"24px\"viewBox=\"0 0 24 24\"\n",
              "       width=\"24px\">\n",
              "    <path d=\"M0 0h24v24H0V0z\" fill=\"none\"/>\n",
              "    <path d=\"M18.56 5.44l.94 2.06.94-2.06 2.06-.94-2.06-.94-.94-2.06-.94 2.06-2.06.94zm-11 1L8.5 8.5l.94-2.06 2.06-.94-2.06-.94L8.5 2.5l-.94 2.06-2.06.94zm10 10l.94 2.06.94-2.06 2.06-.94-2.06-.94-.94-2.06-.94 2.06-2.06.94z\"/><path d=\"M17.41 7.96l-1.37-1.37c-.4-.4-.92-.59-1.43-.59-.52 0-1.04.2-1.43.59L10.3 9.45l-7.72 7.72c-.78.78-.78 2.05 0 2.83L4 21.41c.39.39.9.59 1.41.59.51 0 1.02-.2 1.41-.59l7.78-7.78 2.81-2.81c.8-.78.8-2.07 0-2.86zM5.41 20L4 18.59l7.72-7.72 1.47 1.35L5.41 20z\"/>\n",
              "  </svg>\n",
              "      </button>\n",
              "      \n",
              "  <style>\n",
              "    .colab-df-container {\n",
              "      display:flex;\n",
              "      flex-wrap:wrap;\n",
              "      gap: 12px;\n",
              "    }\n",
              "\n",
              "    .colab-df-convert {\n",
              "      background-color: #E8F0FE;\n",
              "      border: none;\n",
              "      border-radius: 50%;\n",
              "      cursor: pointer;\n",
              "      display: none;\n",
              "      fill: #1967D2;\n",
              "      height: 32px;\n",
              "      padding: 0 0 0 0;\n",
              "      width: 32px;\n",
              "    }\n",
              "\n",
              "    .colab-df-convert:hover {\n",
              "      background-color: #E2EBFA;\n",
              "      box-shadow: 0px 1px 2px rgba(60, 64, 67, 0.3), 0px 1px 3px 1px rgba(60, 64, 67, 0.15);\n",
              "      fill: #174EA6;\n",
              "    }\n",
              "\n",
              "    [theme=dark] .colab-df-convert {\n",
              "      background-color: #3B4455;\n",
              "      fill: #D2E3FC;\n",
              "    }\n",
              "\n",
              "    [theme=dark] .colab-df-convert:hover {\n",
              "      background-color: #434B5C;\n",
              "      box-shadow: 0px 1px 3px 1px rgba(0, 0, 0, 0.15);\n",
              "      filter: drop-shadow(0px 1px 2px rgba(0, 0, 0, 0.3));\n",
              "      fill: #FFFFFF;\n",
              "    }\n",
              "  </style>\n",
              "\n",
              "      <script>\n",
              "        const buttonEl =\n",
              "          document.querySelector('#df-776cc184-87da-4080-94c2-d3d09c0c1f0f button.colab-df-convert');\n",
              "        buttonEl.style.display =\n",
              "          google.colab.kernel.accessAllowed ? 'block' : 'none';\n",
              "\n",
              "        async function convertToInteractive(key) {\n",
              "          const element = document.querySelector('#df-776cc184-87da-4080-94c2-d3d09c0c1f0f');\n",
              "          const dataTable =\n",
              "            await google.colab.kernel.invokeFunction('convertToInteractive',\n",
              "                                                     [key], {});\n",
              "          if (!dataTable) return;\n",
              "\n",
              "          const docLinkHtml = 'Like what you see? Visit the ' +\n",
              "            '<a target=\"_blank\" href=https://colab.research.google.com/notebooks/data_table.ipynb>data table notebook</a>'\n",
              "            + ' to learn more about interactive tables.';\n",
              "          element.innerHTML = '';\n",
              "          dataTable['output_type'] = 'display_data';\n",
              "          await google.colab.output.renderOutput(dataTable, element);\n",
              "          const docLink = document.createElement('div');\n",
              "          docLink.innerHTML = docLinkHtml;\n",
              "          element.appendChild(docLink);\n",
              "        }\n",
              "      </script>\n",
              "    </div>\n",
              "  </div>\n",
              "  "
            ]
          },
          "metadata": {},
          "execution_count": 101
        }
      ]
    },
    {
      "cell_type": "code",
      "source": [
        "dot_data = export_graphviz(dtclf, \n",
        "                           feature_names=ind_attr_names,\n",
        "                           class_names=['No', 'Yes'], \n",
        "                           filled=True) \n",
        "\n",
        "graph = graphviz.Source(dot_data) \n",
        "\n",
        "graph.render(\"/content/drive/My Drive/ML_Project1/Decision_Trees/ClassificationTree\", view=True) "
      ],
      "metadata": {
        "id": "fCMKKw4cTVXd",
        "colab": {
          "base_uri": "https://localhost:8080/",
          "height": 35
        },
        "outputId": "31e738e7-1915-4865-be08-1ecc858c07a8"
      },
      "execution_count": null,
      "outputs": [
        {
          "output_type": "execute_result",
          "data": {
            "text/plain": [
              "'/content/drive/My Drive/ML_Project1/Decision_Trees/ClassificationTree.pdf'"
            ],
            "application/vnd.google.colaboratory.intrinsic+json": {
              "type": "string"
            }
          },
          "metadata": {},
          "execution_count": 102
        }
      ]
    },
    {
      "cell_type": "code",
      "source": [
        "dtclf2 = DecisionTreeClassifier(max_depth=3) \n",
        "dtclf2.fit(X_train, Y_train)\n",
        "dot_data2 = export_graphviz(dtclf2, \n",
        "                           feature_names=ind_attr_names,\n",
        "                           class_names=['No', 'Yes'], \n",
        "                           filled=True) \n",
        "\n",
        "graph2 = graphviz.Source(dot_data2) \n",
        "graph2"
      ],
      "metadata": {
        "id": "7KscwgdoTzq7",
        "colab": {
          "base_uri": "https://localhost:8080/",
          "height": 619
        },
        "outputId": "1b58b386-24d8-45c8-b4a4-5541c7e6aaa7"
      },
      "execution_count": null,
      "outputs": [
        {
          "output_type": "execute_result",
          "data": {
            "text/plain": [
              "<graphviz.files.Source at 0x7f0dd3edce80>"
            ],
            "image/svg+xml": "<?xml version=\"1.0\" encoding=\"UTF-8\" standalone=\"no\"?>\n<!DOCTYPE svg PUBLIC \"-//W3C//DTD SVG 1.1//EN\"\n \"http://www.w3.org/Graphics/SVG/1.1/DTD/svg11.dtd\">\n<!-- Generated by graphviz version 2.40.1 (20161225.0304)\n -->\n<!-- Title: Tree Pages: 1 -->\n<svg width=\"1065pt\" height=\"433pt\"\n viewBox=\"0.00 0.00 1064.50 433.00\" xmlns=\"http://www.w3.org/2000/svg\" xmlns:xlink=\"http://www.w3.org/1999/xlink\">\n<g id=\"graph0\" class=\"graph\" transform=\"scale(1 1) rotate(0) translate(4 429)\">\n<title>Tree</title>\n<polygon fill=\"#ffffff\" stroke=\"transparent\" points=\"-4,4 -4,-429 1060.5,-429 1060.5,4 -4,4\"/>\n<!-- 0 -->\n<g id=\"node1\" class=\"node\">\n<title>0</title>\n<polygon fill=\"#e9965a\" stroke=\"#000000\" points=\"644,-425 452,-425 452,-342 644,-342 644,-425\"/>\n<text text-anchor=\"middle\" x=\"548\" y=\"-409.8\" font-family=\"Helvetica,sans-Serif\" font-size=\"14.00\" fill=\"#000000\">Total.Day.Minutes &lt;= 1.581</text>\n<text text-anchor=\"middle\" x=\"548\" y=\"-394.8\" font-family=\"Helvetica,sans-Serif\" font-size=\"14.00\" fill=\"#000000\">gini = 0.245</text>\n<text text-anchor=\"middle\" x=\"548\" y=\"-379.8\" font-family=\"Helvetica,sans-Serif\" font-size=\"14.00\" fill=\"#000000\">samples = 2450</text>\n<text text-anchor=\"middle\" x=\"548\" y=\"-364.8\" font-family=\"Helvetica,sans-Serif\" font-size=\"14.00\" fill=\"#000000\">value = [2099, 351]</text>\n<text text-anchor=\"middle\" x=\"548\" y=\"-349.8\" font-family=\"Helvetica,sans-Serif\" font-size=\"14.00\" fill=\"#000000\">class = No</text>\n</g>\n<!-- 1 -->\n<g id=\"node2\" class=\"node\">\n<title>1</title>\n<polygon fill=\"#e89152\" stroke=\"#000000\" points=\"548,-306 306,-306 306,-223 548,-223 548,-306\"/>\n<text text-anchor=\"middle\" x=\"427\" y=\"-290.8\" font-family=\"Helvetica,sans-Serif\" font-size=\"14.00\" fill=\"#000000\">X..customer.Service.Calls &lt;= 1.511</text>\n<text text-anchor=\"middle\" x=\"427\" y=\"-275.8\" font-family=\"Helvetica,sans-Serif\" font-size=\"14.00\" fill=\"#000000\">gini = 0.201</text>\n<text text-anchor=\"middle\" x=\"427\" y=\"-260.8\" font-family=\"Helvetica,sans-Serif\" font-size=\"14.00\" fill=\"#000000\">samples = 2299</text>\n<text text-anchor=\"middle\" x=\"427\" y=\"-245.8\" font-family=\"Helvetica,sans-Serif\" font-size=\"14.00\" fill=\"#000000\">value = [2038, 261]</text>\n<text text-anchor=\"middle\" x=\"427\" y=\"-230.8\" font-family=\"Helvetica,sans-Serif\" font-size=\"14.00\" fill=\"#000000\">class = No</text>\n</g>\n<!-- 0&#45;&gt;1 -->\n<g id=\"edge1\" class=\"edge\">\n<title>0&#45;&gt;1</title>\n<path fill=\"none\" stroke=\"#000000\" d=\"M505.6801,-341.8796C496.3392,-332.6931 486.361,-322.8798 476.756,-313.4336\"/>\n<polygon fill=\"#000000\" stroke=\"#000000\" points=\"479.0845,-310.8146 469.5006,-306.2981 474.1762,-315.8054 479.0845,-310.8146\"/>\n<text text-anchor=\"middle\" x=\"469.7089\" y=\"-327.5972\" font-family=\"Helvetica,sans-Serif\" font-size=\"14.00\" fill=\"#000000\">True</text>\n</g>\n<!-- 8 -->\n<g id=\"node9\" class=\"node\">\n<title>8</title>\n<polygon fill=\"#bfdff7\" stroke=\"#000000\" points=\"772,-306 566,-306 566,-223 772,-223 772,-306\"/>\n<text text-anchor=\"middle\" x=\"669\" y=\"-290.8\" font-family=\"Helvetica,sans-Serif\" font-size=\"14.00\" fill=\"#000000\">X..Vmail.Messages &lt;= &#45;0.078</text>\n<text text-anchor=\"middle\" x=\"669\" y=\"-275.8\" font-family=\"Helvetica,sans-Serif\" font-size=\"14.00\" fill=\"#000000\">gini = 0.482</text>\n<text text-anchor=\"middle\" x=\"669\" y=\"-260.8\" font-family=\"Helvetica,sans-Serif\" font-size=\"14.00\" fill=\"#000000\">samples = 151</text>\n<text text-anchor=\"middle\" x=\"669\" y=\"-245.8\" font-family=\"Helvetica,sans-Serif\" font-size=\"14.00\" fill=\"#000000\">value = [61, 90]</text>\n<text text-anchor=\"middle\" x=\"669\" y=\"-230.8\" font-family=\"Helvetica,sans-Serif\" font-size=\"14.00\" fill=\"#000000\">class = Yes</text>\n</g>\n<!-- 0&#45;&gt;8 -->\n<g id=\"edge8\" class=\"edge\">\n<title>0&#45;&gt;8</title>\n<path fill=\"none\" stroke=\"#000000\" d=\"M590.3199,-341.8796C599.6608,-332.6931 609.639,-322.8798 619.244,-313.4336\"/>\n<polygon fill=\"#000000\" stroke=\"#000000\" points=\"621.8238,-315.8054 626.4994,-306.2981 616.9155,-310.8146 621.8238,-315.8054\"/>\n<text text-anchor=\"middle\" x=\"626.2911\" y=\"-327.5972\" font-family=\"Helvetica,sans-Serif\" font-size=\"14.00\" fill=\"#000000\">False</text>\n</g>\n<!-- 2 -->\n<g id=\"node3\" class=\"node\">\n<title>2</title>\n<polygon fill=\"#e78c4b\" stroke=\"#000000\" points=\"313.5,-187 108.5,-187 108.5,-104 313.5,-104 313.5,-187\"/>\n<text text-anchor=\"middle\" x=\"211\" y=\"-171.8\" font-family=\"Helvetica,sans-Serif\" font-size=\"14.00\" fill=\"#000000\">International.Plan_yes &lt;= 0.5</text>\n<text text-anchor=\"middle\" x=\"211\" y=\"-156.8\" font-family=\"Helvetica,sans-Serif\" font-size=\"14.00\" fill=\"#000000\">gini = 0.15</text>\n<text text-anchor=\"middle\" x=\"211\" y=\"-141.8\" font-family=\"Helvetica,sans-Serif\" font-size=\"14.00\" fill=\"#000000\">samples = 2128</text>\n<text text-anchor=\"middle\" x=\"211\" y=\"-126.8\" font-family=\"Helvetica,sans-Serif\" font-size=\"14.00\" fill=\"#000000\">value = [1954, 174]</text>\n<text text-anchor=\"middle\" x=\"211\" y=\"-111.8\" font-family=\"Helvetica,sans-Serif\" font-size=\"14.00\" fill=\"#000000\">class = No</text>\n</g>\n<!-- 1&#45;&gt;2 -->\n<g id=\"edge2\" class=\"edge\">\n<title>1&#45;&gt;2</title>\n<path fill=\"none\" stroke=\"#000000\" d=\"M351.4537,-222.8796C333.3668,-212.915 313.9411,-202.2129 295.4793,-192.0418\"/>\n<polygon fill=\"#000000\" stroke=\"#000000\" points=\"296.9513,-188.8568 286.5037,-187.0969 293.5735,-194.9879 296.9513,-188.8568\"/>\n</g>\n<!-- 5 -->\n<g id=\"node6\" class=\"node\">\n<title>5</title>\n<polygon fill=\"#f8fcfe\" stroke=\"#000000\" points=\"525,-187 331,-187 331,-104 525,-104 525,-187\"/>\n<text text-anchor=\"middle\" x=\"428\" y=\"-171.8\" font-family=\"Helvetica,sans-Serif\" font-size=\"14.00\" fill=\"#000000\">Total.Day.Charge &lt;= &#45;0.367</text>\n<text text-anchor=\"middle\" x=\"428\" y=\"-156.8\" font-family=\"Helvetica,sans-Serif\" font-size=\"14.00\" fill=\"#000000\">gini = 0.5</text>\n<text text-anchor=\"middle\" x=\"428\" y=\"-141.8\" font-family=\"Helvetica,sans-Serif\" font-size=\"14.00\" fill=\"#000000\">samples = 171</text>\n<text text-anchor=\"middle\" x=\"428\" y=\"-126.8\" font-family=\"Helvetica,sans-Serif\" font-size=\"14.00\" fill=\"#000000\">value = [84, 87]</text>\n<text text-anchor=\"middle\" x=\"428\" y=\"-111.8\" font-family=\"Helvetica,sans-Serif\" font-size=\"14.00\" fill=\"#000000\">class = Yes</text>\n</g>\n<!-- 1&#45;&gt;5 -->\n<g id=\"edge5\" class=\"edge\">\n<title>1&#45;&gt;5</title>\n<path fill=\"none\" stroke=\"#000000\" d=\"M427.3498,-222.8796C427.4186,-214.6838 427.4917,-205.9891 427.563,-197.5013\"/>\n<polygon fill=\"#000000\" stroke=\"#000000\" points=\"431.0645,-197.3272 427.6488,-187.2981 424.0648,-197.2683 431.0645,-197.3272\"/>\n</g>\n<!-- 3 -->\n<g id=\"node4\" class=\"node\">\n<title>3</title>\n<polygon fill=\"#e68743\" stroke=\"#000000\" points=\"132,-68 0,-68 0,0 132,0 132,-68\"/>\n<text text-anchor=\"middle\" x=\"66\" y=\"-52.8\" font-family=\"Helvetica,sans-Serif\" font-size=\"14.00\" fill=\"#000000\">gini = 0.089</text>\n<text text-anchor=\"middle\" x=\"66\" y=\"-37.8\" font-family=\"Helvetica,sans-Serif\" font-size=\"14.00\" fill=\"#000000\">samples = 1917</text>\n<text text-anchor=\"middle\" x=\"66\" y=\"-22.8\" font-family=\"Helvetica,sans-Serif\" font-size=\"14.00\" fill=\"#000000\">value = [1828, 89]</text>\n<text text-anchor=\"middle\" x=\"66\" y=\"-7.8\" font-family=\"Helvetica,sans-Serif\" font-size=\"14.00\" fill=\"#000000\">class = No</text>\n</g>\n<!-- 2&#45;&gt;3 -->\n<g id=\"edge3\" class=\"edge\">\n<title>2&#45;&gt;3</title>\n<path fill=\"none\" stroke=\"#000000\" d=\"M157.0074,-103.9815C144.4578,-94.3313 131.1153,-84.0714 118.6256,-74.4673\"/>\n<polygon fill=\"#000000\" stroke=\"#000000\" points=\"120.619,-71.585 110.5581,-68.2637 116.3519,-77.134 120.619,-71.585\"/>\n</g>\n<!-- 4 -->\n<g id=\"node5\" class=\"node\">\n<title>4</title>\n<polygon fill=\"#f7d6bf\" stroke=\"#000000\" points=\"274,-68 150,-68 150,0 274,0 274,-68\"/>\n<text text-anchor=\"middle\" x=\"212\" y=\"-52.8\" font-family=\"Helvetica,sans-Serif\" font-size=\"14.00\" fill=\"#000000\">gini = 0.481</text>\n<text text-anchor=\"middle\" x=\"212\" y=\"-37.8\" font-family=\"Helvetica,sans-Serif\" font-size=\"14.00\" fill=\"#000000\">samples = 211</text>\n<text text-anchor=\"middle\" x=\"212\" y=\"-22.8\" font-family=\"Helvetica,sans-Serif\" font-size=\"14.00\" fill=\"#000000\">value = [126, 85]</text>\n<text text-anchor=\"middle\" x=\"212\" y=\"-7.8\" font-family=\"Helvetica,sans-Serif\" font-size=\"14.00\" fill=\"#000000\">class = No</text>\n</g>\n<!-- 2&#45;&gt;4 -->\n<g id=\"edge4\" class=\"edge\">\n<title>2&#45;&gt;4</title>\n<path fill=\"none\" stroke=\"#000000\" d=\"M211.3724,-103.9815C211.4474,-95.618 211.5265,-86.7965 211.6023,-78.3409\"/>\n<polygon fill=\"#000000\" stroke=\"#000000\" points=\"215.1028,-78.2947 211.6927,-68.2637 208.1031,-78.2318 215.1028,-78.2947\"/>\n</g>\n<!-- 6 -->\n<g id=\"node7\" class=\"node\">\n<title>6</title>\n<polygon fill=\"#4ca6e7\" stroke=\"#000000\" points=\"411.5,-68 304.5,-68 304.5,0 411.5,0 411.5,-68\"/>\n<text text-anchor=\"middle\" x=\"358\" y=\"-52.8\" font-family=\"Helvetica,sans-Serif\" font-size=\"14.00\" fill=\"#000000\">gini = 0.159</text>\n<text text-anchor=\"middle\" x=\"358\" y=\"-37.8\" font-family=\"Helvetica,sans-Serif\" font-size=\"14.00\" fill=\"#000000\">samples = 69</text>\n<text text-anchor=\"middle\" x=\"358\" y=\"-22.8\" font-family=\"Helvetica,sans-Serif\" font-size=\"14.00\" fill=\"#000000\">value = [6, 63]</text>\n<text text-anchor=\"middle\" x=\"358\" y=\"-7.8\" font-family=\"Helvetica,sans-Serif\" font-size=\"14.00\" fill=\"#000000\">class = Yes</text>\n</g>\n<!-- 5&#45;&gt;6 -->\n<g id=\"edge6\" class=\"edge\">\n<title>5&#45;&gt;6</title>\n<path fill=\"none\" stroke=\"#000000\" d=\"M401.9346,-103.9815C396.3955,-95.1585 390.5364,-85.8258 384.9645,-76.9506\"/>\n<polygon fill=\"#000000\" stroke=\"#000000\" points=\"387.7922,-74.872 379.5108,-68.2637 381.8637,-78.594 387.7922,-74.872\"/>\n</g>\n<!-- 7 -->\n<g id=\"node8\" class=\"node\">\n<title>7</title>\n<polygon fill=\"#eda876\" stroke=\"#000000\" points=\"546,-68 430,-68 430,0 546,0 546,-68\"/>\n<text text-anchor=\"middle\" x=\"488\" y=\"-52.8\" font-family=\"Helvetica,sans-Serif\" font-size=\"14.00\" fill=\"#000000\">gini = 0.36</text>\n<text text-anchor=\"middle\" x=\"488\" y=\"-37.8\" font-family=\"Helvetica,sans-Serif\" font-size=\"14.00\" fill=\"#000000\">samples = 102</text>\n<text text-anchor=\"middle\" x=\"488\" y=\"-22.8\" font-family=\"Helvetica,sans-Serif\" font-size=\"14.00\" fill=\"#000000\">value = [78, 24]</text>\n<text text-anchor=\"middle\" x=\"488\" y=\"-7.8\" font-family=\"Helvetica,sans-Serif\" font-size=\"14.00\" fill=\"#000000\">class = No</text>\n</g>\n<!-- 5&#45;&gt;7 -->\n<g id=\"edge7\" class=\"edge\">\n<title>5&#45;&gt;7</title>\n<path fill=\"none\" stroke=\"#000000\" d=\"M450.3418,-103.9815C455.0402,-95.2504 460.0071,-86.0202 464.7383,-77.2281\"/>\n<polygon fill=\"#000000\" stroke=\"#000000\" points=\"467.9056,-78.7282 469.5621,-68.2637 461.7414,-75.4111 467.9056,-78.7282\"/>\n</g>\n<!-- 9 -->\n<g id=\"node10\" class=\"node\">\n<title>9</title>\n<polygon fill=\"#80c0ee\" stroke=\"#000000\" points=\"765.5,-187 568.5,-187 568.5,-104 765.5,-104 765.5,-187\"/>\n<text text-anchor=\"middle\" x=\"667\" y=\"-171.8\" font-family=\"Helvetica,sans-Serif\" font-size=\"14.00\" fill=\"#000000\">Total.Eve.Minutes &lt;= &#45;0.212</text>\n<text text-anchor=\"middle\" x=\"667\" y=\"-156.8\" font-family=\"Helvetica,sans-Serif\" font-size=\"14.00\" fill=\"#000000\">gini = 0.39</text>\n<text text-anchor=\"middle\" x=\"667\" y=\"-141.8\" font-family=\"Helvetica,sans-Serif\" font-size=\"14.00\" fill=\"#000000\">samples = 117</text>\n<text text-anchor=\"middle\" x=\"667\" y=\"-126.8\" font-family=\"Helvetica,sans-Serif\" font-size=\"14.00\" fill=\"#000000\">value = [31, 86]</text>\n<text text-anchor=\"middle\" x=\"667\" y=\"-111.8\" font-family=\"Helvetica,sans-Serif\" font-size=\"14.00\" fill=\"#000000\">class = Yes</text>\n</g>\n<!-- 8&#45;&gt;9 -->\n<g id=\"edge9\" class=\"edge\">\n<title>8&#45;&gt;9</title>\n<path fill=\"none\" stroke=\"#000000\" d=\"M668.3005,-222.8796C668.1628,-214.6838 668.0166,-205.9891 667.874,-197.5013\"/>\n<polygon fill=\"#000000\" stroke=\"#000000\" points=\"671.3701,-197.2378 667.7025,-187.2981 664.3711,-197.3555 671.3701,-197.2378\"/>\n</g>\n<!-- 12 -->\n<g id=\"node13\" class=\"node\">\n<title>12</title>\n<polygon fill=\"#e89253\" stroke=\"#000000\" points=\"988.5,-187 783.5,-187 783.5,-104 988.5,-104 988.5,-187\"/>\n<text text-anchor=\"middle\" x=\"886\" y=\"-171.8\" font-family=\"Helvetica,sans-Serif\" font-size=\"14.00\" fill=\"#000000\">International.Plan_yes &lt;= 0.5</text>\n<text text-anchor=\"middle\" x=\"886\" y=\"-156.8\" font-family=\"Helvetica,sans-Serif\" font-size=\"14.00\" fill=\"#000000\">gini = 0.208</text>\n<text text-anchor=\"middle\" x=\"886\" y=\"-141.8\" font-family=\"Helvetica,sans-Serif\" font-size=\"14.00\" fill=\"#000000\">samples = 34</text>\n<text text-anchor=\"middle\" x=\"886\" y=\"-126.8\" font-family=\"Helvetica,sans-Serif\" font-size=\"14.00\" fill=\"#000000\">value = [30, 4]</text>\n<text text-anchor=\"middle\" x=\"886\" y=\"-111.8\" font-family=\"Helvetica,sans-Serif\" font-size=\"14.00\" fill=\"#000000\">class = No</text>\n</g>\n<!-- 8&#45;&gt;12 -->\n<g id=\"edge12\" class=\"edge\">\n<title>8&#45;&gt;12</title>\n<path fill=\"none\" stroke=\"#000000\" d=\"M744.8961,-222.8796C763.0667,-212.915 782.5823,-202.2129 801.1296,-192.0418\"/>\n<polygon fill=\"#000000\" stroke=\"#000000\" points=\"803.0616,-194.9741 810.1468,-187.0969 799.6957,-188.8365 803.0616,-194.9741\"/>\n</g>\n<!-- 10 -->\n<g id=\"node11\" class=\"node\">\n<title>10</title>\n<polygon fill=\"#fcf2eb\" stroke=\"#000000\" points=\"686,-68 570,-68 570,0 686,0 686,-68\"/>\n<text text-anchor=\"middle\" x=\"628\" y=\"-52.8\" font-family=\"Helvetica,sans-Serif\" font-size=\"14.00\" fill=\"#000000\">gini = 0.499</text>\n<text text-anchor=\"middle\" x=\"628\" y=\"-37.8\" font-family=\"Helvetica,sans-Serif\" font-size=\"14.00\" fill=\"#000000\">samples = 55</text>\n<text text-anchor=\"middle\" x=\"628\" y=\"-22.8\" font-family=\"Helvetica,sans-Serif\" font-size=\"14.00\" fill=\"#000000\">value = [29, 26]</text>\n<text text-anchor=\"middle\" x=\"628\" y=\"-7.8\" font-family=\"Helvetica,sans-Serif\" font-size=\"14.00\" fill=\"#000000\">class = No</text>\n</g>\n<!-- 9&#45;&gt;10 -->\n<g id=\"edge10\" class=\"edge\">\n<title>9&#45;&gt;10</title>\n<path fill=\"none\" stroke=\"#000000\" d=\"M652.4778,-103.9815C649.4882,-95.4342 646.3312,-86.4086 643.3146,-77.7839\"/>\n<polygon fill=\"#000000\" stroke=\"#000000\" points=\"646.59,-76.5473 639.9846,-68.2637 639.9826,-78.8585 646.59,-76.5473\"/>\n</g>\n<!-- 11 -->\n<g id=\"node12\" class=\"node\">\n<title>11</title>\n<polygon fill=\"#40a0e6\" stroke=\"#000000\" points=\"811.5,-68 704.5,-68 704.5,0 811.5,0 811.5,-68\"/>\n<text text-anchor=\"middle\" x=\"758\" y=\"-52.8\" font-family=\"Helvetica,sans-Serif\" font-size=\"14.00\" fill=\"#000000\">gini = 0.062</text>\n<text text-anchor=\"middle\" x=\"758\" y=\"-37.8\" font-family=\"Helvetica,sans-Serif\" font-size=\"14.00\" fill=\"#000000\">samples = 62</text>\n<text text-anchor=\"middle\" x=\"758\" y=\"-22.8\" font-family=\"Helvetica,sans-Serif\" font-size=\"14.00\" fill=\"#000000\">value = [2, 60]</text>\n<text text-anchor=\"middle\" x=\"758\" y=\"-7.8\" font-family=\"Helvetica,sans-Serif\" font-size=\"14.00\" fill=\"#000000\">class = Yes</text>\n</g>\n<!-- 9&#45;&gt;11 -->\n<g id=\"edge11\" class=\"edge\">\n<title>9&#45;&gt;11</title>\n<path fill=\"none\" stroke=\"#000000\" d=\"M700.885,-103.9815C708.3109,-94.8828 716.1792,-85.242 723.6241,-76.1199\"/>\n<polygon fill=\"#000000\" stroke=\"#000000\" points=\"726.4245,-78.224 730.0359,-68.2637 721.0014,-73.798 726.4245,-78.224\"/>\n</g>\n<!-- 13 -->\n<g id=\"node14\" class=\"node\">\n<title>13</title>\n<polygon fill=\"#e78a47\" stroke=\"#000000\" points=\"939.5,-68 832.5,-68 832.5,0 939.5,0 939.5,-68\"/>\n<text text-anchor=\"middle\" x=\"886\" y=\"-52.8\" font-family=\"Helvetica,sans-Serif\" font-size=\"14.00\" fill=\"#000000\">gini = 0.121</text>\n<text text-anchor=\"middle\" x=\"886\" y=\"-37.8\" font-family=\"Helvetica,sans-Serif\" font-size=\"14.00\" fill=\"#000000\">samples = 31</text>\n<text text-anchor=\"middle\" x=\"886\" y=\"-22.8\" font-family=\"Helvetica,sans-Serif\" font-size=\"14.00\" fill=\"#000000\">value = [29, 2]</text>\n<text text-anchor=\"middle\" x=\"886\" y=\"-7.8\" font-family=\"Helvetica,sans-Serif\" font-size=\"14.00\" fill=\"#000000\">class = No</text>\n</g>\n<!-- 12&#45;&gt;13 -->\n<g id=\"edge13\" class=\"edge\">\n<title>12&#45;&gt;13</title>\n<path fill=\"none\" stroke=\"#000000\" d=\"M886,-103.9815C886,-95.618 886,-86.7965 886,-78.3409\"/>\n<polygon fill=\"#000000\" stroke=\"#000000\" points=\"889.5001,-78.2636 886,-68.2637 882.5001,-78.2637 889.5001,-78.2636\"/>\n</g>\n<!-- 14 -->\n<g id=\"node15\" class=\"node\">\n<title>14</title>\n<polygon fill=\"#9ccef2\" stroke=\"#000000\" points=\"1056.5,-68 957.5,-68 957.5,0 1056.5,0 1056.5,-68\"/>\n<text text-anchor=\"middle\" x=\"1007\" y=\"-52.8\" font-family=\"Helvetica,sans-Serif\" font-size=\"14.00\" fill=\"#000000\">gini = 0.444</text>\n<text text-anchor=\"middle\" x=\"1007\" y=\"-37.8\" font-family=\"Helvetica,sans-Serif\" font-size=\"14.00\" fill=\"#000000\">samples = 3</text>\n<text text-anchor=\"middle\" x=\"1007\" y=\"-22.8\" font-family=\"Helvetica,sans-Serif\" font-size=\"14.00\" fill=\"#000000\">value = [1, 2]</text>\n<text text-anchor=\"middle\" x=\"1007\" y=\"-7.8\" font-family=\"Helvetica,sans-Serif\" font-size=\"14.00\" fill=\"#000000\">class = Yes</text>\n</g>\n<!-- 12&#45;&gt;14 -->\n<g id=\"edge14\" class=\"edge\">\n<title>12&#45;&gt;14</title>\n<path fill=\"none\" stroke=\"#000000\" d=\"M931.0559,-103.9815C941.2291,-94.607 952.0267,-84.6572 962.1898,-75.2921\"/>\n<polygon fill=\"#000000\" stroke=\"#000000\" points=\"964.8349,-77.6141 969.817,-68.2637 960.0913,-72.4663 964.8349,-77.6141\"/>\n</g>\n</g>\n</svg>\n"
          },
          "metadata": {},
          "execution_count": 103
        }
      ]
    },
    {
      "cell_type": "code",
      "source": [
        "train_pred_dt = dtclf.predict(X_train)\n",
        "val_pred_dt = dtclf.predict(X_val)"
      ],
      "metadata": {
        "id": "mFw-ubK4T67u"
      },
      "execution_count": null,
      "outputs": []
    },
    {
      "cell_type": "code",
      "source": [
        "print(\"--Train--\")\n",
        "evaluate_model(Y_train, train_pred_dt)\n",
        "print(\"--Val--\")\n",
        "evaluate_model(Y_val, val_pred_dt)"
      ],
      "metadata": {
        "id": "NmPf5lSyUNCl",
        "colab": {
          "base_uri": "https://localhost:8080/"
        },
        "outputId": "aaaeb1be-757f-4c25-a05c-324225e6614e"
      },
      "execution_count": null,
      "outputs": [
        {
          "output_type": "stream",
          "name": "stdout",
          "text": [
            "--Train--\n",
            "Confusion Matrix \n",
            " [[2099    0]\n",
            " [   0  351]]\n",
            "Accurcay :  1.0\n",
            "Recall   :  1.0\n",
            "Precision:  1.0\n",
            "--Val--\n",
            "Confusion Matrix \n",
            " [[844  55]\n",
            " [ 47 104]]\n",
            "Accurcay :  0.9028571428571428\n",
            "Recall   :  0.6887417218543046\n",
            "Precision:  0.6540880503144654\n"
          ]
        }
      ]
    },
    {
      "cell_type": "code",
      "source": [
        "print(classification_report(Y_train,train_pred_dt))"
      ],
      "metadata": {
        "colab": {
          "base_uri": "https://localhost:8080/"
        },
        "id": "8OfFljhRM7Li",
        "outputId": "f517d68d-cac0-4d48-ef6e-6ecbfa988784"
      },
      "execution_count": null,
      "outputs": [
        {
          "output_type": "stream",
          "name": "stdout",
          "text": [
            "              precision    recall  f1-score   support\n",
            "\n",
            "           0       1.00      1.00      1.00      2099\n",
            "           1       1.00      1.00      1.00       351\n",
            "\n",
            "    accuracy                           1.00      2450\n",
            "   macro avg       1.00      1.00      1.00      2450\n",
            "weighted avg       1.00      1.00      1.00      2450\n",
            "\n"
          ]
        }
      ]
    },
    {
      "cell_type": "code",
      "source": [
        "\n",
        "print(classification_report(Y_val,val_pred_dt))"
      ],
      "metadata": {
        "colab": {
          "base_uri": "https://localhost:8080/"
        },
        "id": "2eESoxedM69z",
        "outputId": "96b8efd5-c775-427d-9ca2-e9e46cb97dc4"
      },
      "execution_count": null,
      "outputs": [
        {
          "output_type": "stream",
          "name": "stdout",
          "text": [
            "              precision    recall  f1-score   support\n",
            "\n",
            "           0       0.95      0.94      0.94       899\n",
            "           1       0.65      0.69      0.67       151\n",
            "\n",
            "    accuracy                           0.90      1050\n",
            "   macro avg       0.80      0.81      0.81      1050\n",
            "weighted avg       0.91      0.90      0.90      1050\n",
            "\n"
          ]
        }
      ]
    },
    {
      "cell_type": "code",
      "source": [
        "train_accuracy_dt= accuracy_score(Y_train,train_pred_dt)\n",
        "train_recall_dt= recall_score(Y_train,train_pred_dt)\n",
        "train_precision_dt= precision_score(Y_train,train_pred_dt)\n",
        "\n",
        "val_accuracy_dt= accuracy_score(Y_val,val_pred_dt)\n",
        "val_recall_dt= recall_score(Y_val,val_pred_dt)\n",
        "val_precision_dt= precision_score(Y_val,val_pred_dt)"
      ],
      "metadata": {
        "id": "vQYC2PryUVDp"
      },
      "execution_count": null,
      "outputs": []
    },
    {
      "cell_type": "code",
      "source": [
        "Decision_tree = np.array(['DT',train_accuracy_dt,train_recall_dt,\n",
        "                          train_precision_dt,val_accuracy_dt,val_recall_dt,\n",
        "                          val_precision_dt]).reshape(1,7)\n",
        "model_performance = model_performance.append(pd.DataFrame(Decision_tree,columns=model_performance.columns))"
      ],
      "metadata": {
        "id": "zrmUGkgTBtZ7"
      },
      "execution_count": null,
      "outputs": []
    },
    {
      "cell_type": "code",
      "source": [
        "model_performance"
      ],
      "metadata": {
        "id": "1XBBuatlCyVg",
        "colab": {
          "base_uri": "https://localhost:8080/",
          "height": 143
        },
        "outputId": "d6079c82-4a11-4e13-c984-7889c9d3f40c"
      },
      "execution_count": null,
      "outputs": [
        {
          "output_type": "execute_result",
          "data": {
            "text/plain": [
              "                  Model      Train Accuracy         Train Recall  \\\n",
              "0  Logistic - Reg_Ridge  0.8636734693877551  0.21082621082621084   \n",
              "0         Logistic - L1  0.7804081632653062   0.7606837606837606   \n",
              "0                    DT                 1.0                  1.0   \n",
              "\n",
              "       Train Precision        Val Accuracy           Val Recall  \\\n",
              "0   0.5648854961832062  0.8561904761904762  0.23178807947019867   \n",
              "0  0.37031900138696255  0.7638095238095238   0.7814569536423841   \n",
              "0                  1.0  0.9028571428571428   0.6887417218543046   \n",
              "\n",
              "         Val Precision  \n",
              "0                  0.5  \n",
              "0  0.35435435435435436  \n",
              "0   0.6540880503144654  "
            ],
            "text/html": [
              "\n",
              "  <div id=\"df-c3a0148b-925e-40aa-9ffc-ac0bac65fff4\">\n",
              "    <div class=\"colab-df-container\">\n",
              "      <div>\n",
              "<style scoped>\n",
              "    .dataframe tbody tr th:only-of-type {\n",
              "        vertical-align: middle;\n",
              "    }\n",
              "\n",
              "    .dataframe tbody tr th {\n",
              "        vertical-align: top;\n",
              "    }\n",
              "\n",
              "    .dataframe thead th {\n",
              "        text-align: right;\n",
              "    }\n",
              "</style>\n",
              "<table border=\"1\" class=\"dataframe\">\n",
              "  <thead>\n",
              "    <tr style=\"text-align: right;\">\n",
              "      <th></th>\n",
              "      <th>Model</th>\n",
              "      <th>Train Accuracy</th>\n",
              "      <th>Train Recall</th>\n",
              "      <th>Train Precision</th>\n",
              "      <th>Val Accuracy</th>\n",
              "      <th>Val Recall</th>\n",
              "      <th>Val Precision</th>\n",
              "    </tr>\n",
              "  </thead>\n",
              "  <tbody>\n",
              "    <tr>\n",
              "      <th>0</th>\n",
              "      <td>Logistic - Reg_Ridge</td>\n",
              "      <td>0.8636734693877551</td>\n",
              "      <td>0.21082621082621084</td>\n",
              "      <td>0.5648854961832062</td>\n",
              "      <td>0.8561904761904762</td>\n",
              "      <td>0.23178807947019867</td>\n",
              "      <td>0.5</td>\n",
              "    </tr>\n",
              "    <tr>\n",
              "      <th>0</th>\n",
              "      <td>Logistic - L1</td>\n",
              "      <td>0.7804081632653062</td>\n",
              "      <td>0.7606837606837606</td>\n",
              "      <td>0.37031900138696255</td>\n",
              "      <td>0.7638095238095238</td>\n",
              "      <td>0.7814569536423841</td>\n",
              "      <td>0.35435435435435436</td>\n",
              "    </tr>\n",
              "    <tr>\n",
              "      <th>0</th>\n",
              "      <td>DT</td>\n",
              "      <td>1.0</td>\n",
              "      <td>1.0</td>\n",
              "      <td>1.0</td>\n",
              "      <td>0.9028571428571428</td>\n",
              "      <td>0.6887417218543046</td>\n",
              "      <td>0.6540880503144654</td>\n",
              "    </tr>\n",
              "  </tbody>\n",
              "</table>\n",
              "</div>\n",
              "      <button class=\"colab-df-convert\" onclick=\"convertToInteractive('df-c3a0148b-925e-40aa-9ffc-ac0bac65fff4')\"\n",
              "              title=\"Convert this dataframe to an interactive table.\"\n",
              "              style=\"display:none;\">\n",
              "        \n",
              "  <svg xmlns=\"http://www.w3.org/2000/svg\" height=\"24px\"viewBox=\"0 0 24 24\"\n",
              "       width=\"24px\">\n",
              "    <path d=\"M0 0h24v24H0V0z\" fill=\"none\"/>\n",
              "    <path d=\"M18.56 5.44l.94 2.06.94-2.06 2.06-.94-2.06-.94-.94-2.06-.94 2.06-2.06.94zm-11 1L8.5 8.5l.94-2.06 2.06-.94-2.06-.94L8.5 2.5l-.94 2.06-2.06.94zm10 10l.94 2.06.94-2.06 2.06-.94-2.06-.94-.94-2.06-.94 2.06-2.06.94z\"/><path d=\"M17.41 7.96l-1.37-1.37c-.4-.4-.92-.59-1.43-.59-.52 0-1.04.2-1.43.59L10.3 9.45l-7.72 7.72c-.78.78-.78 2.05 0 2.83L4 21.41c.39.39.9.59 1.41.59.51 0 1.02-.2 1.41-.59l7.78-7.78 2.81-2.81c.8-.78.8-2.07 0-2.86zM5.41 20L4 18.59l7.72-7.72 1.47 1.35L5.41 20z\"/>\n",
              "  </svg>\n",
              "      </button>\n",
              "      \n",
              "  <style>\n",
              "    .colab-df-container {\n",
              "      display:flex;\n",
              "      flex-wrap:wrap;\n",
              "      gap: 12px;\n",
              "    }\n",
              "\n",
              "    .colab-df-convert {\n",
              "      background-color: #E8F0FE;\n",
              "      border: none;\n",
              "      border-radius: 50%;\n",
              "      cursor: pointer;\n",
              "      display: none;\n",
              "      fill: #1967D2;\n",
              "      height: 32px;\n",
              "      padding: 0 0 0 0;\n",
              "      width: 32px;\n",
              "    }\n",
              "\n",
              "    .colab-df-convert:hover {\n",
              "      background-color: #E2EBFA;\n",
              "      box-shadow: 0px 1px 2px rgba(60, 64, 67, 0.3), 0px 1px 3px 1px rgba(60, 64, 67, 0.15);\n",
              "      fill: #174EA6;\n",
              "    }\n",
              "\n",
              "    [theme=dark] .colab-df-convert {\n",
              "      background-color: #3B4455;\n",
              "      fill: #D2E3FC;\n",
              "    }\n",
              "\n",
              "    [theme=dark] .colab-df-convert:hover {\n",
              "      background-color: #434B5C;\n",
              "      box-shadow: 0px 1px 3px 1px rgba(0, 0, 0, 0.15);\n",
              "      filter: drop-shadow(0px 1px 2px rgba(0, 0, 0, 0.3));\n",
              "      fill: #FFFFFF;\n",
              "    }\n",
              "  </style>\n",
              "\n",
              "      <script>\n",
              "        const buttonEl =\n",
              "          document.querySelector('#df-c3a0148b-925e-40aa-9ffc-ac0bac65fff4 button.colab-df-convert');\n",
              "        buttonEl.style.display =\n",
              "          google.colab.kernel.accessAllowed ? 'block' : 'none';\n",
              "\n",
              "        async function convertToInteractive(key) {\n",
              "          const element = document.querySelector('#df-c3a0148b-925e-40aa-9ffc-ac0bac65fff4');\n",
              "          const dataTable =\n",
              "            await google.colab.kernel.invokeFunction('convertToInteractive',\n",
              "                                                     [key], {});\n",
              "          if (!dataTable) return;\n",
              "\n",
              "          const docLinkHtml = 'Like what you see? Visit the ' +\n",
              "            '<a target=\"_blank\" href=https://colab.research.google.com/notebooks/data_table.ipynb>data table notebook</a>'\n",
              "            + ' to learn more about interactive tables.';\n",
              "          element.innerHTML = '';\n",
              "          dataTable['output_type'] = 'display_data';\n",
              "          await google.colab.output.renderOutput(dataTable, element);\n",
              "          const docLink = document.createElement('div');\n",
              "          docLink.innerHTML = docLinkHtml;\n",
              "          element.appendChild(docLink);\n",
              "        }\n",
              "      </script>\n",
              "    </div>\n",
              "  </div>\n",
              "  "
            ]
          },
          "metadata": {},
          "execution_count": 110
        }
      ]
    },
    {
      "cell_type": "markdown",
      "source": [
        "As we have class imbalance in data in taraget column we see alomst 85% of data for not churnig and 15% for churning out.So lets try to upsample minority class using SMOTE"
      ],
      "metadata": {
        "id": "DT1lJDrsJQx8"
      }
    },
    {
      "cell_type": "code",
      "source": [
        "from imblearn.over_sampling import SMOTE\n",
        "\n",
        "from sklearn.model_selection import GridSearchCV"
      ],
      "metadata": {
        "id": "dahnBlvLC1vG"
      },
      "execution_count": null,
      "outputs": []
    },
    {
      "cell_type": "code",
      "source": [
        "from numpy.random.mtrand import random\n",
        "smote=SMOTE(random_state=123)"
      ],
      "metadata": {
        "id": "8IfkWqLjHPjo"
      },
      "execution_count": null,
      "outputs": []
    },
    {
      "cell_type": "code",
      "source": [
        "X_train_sm, y_train_sm = smote.fit_resample(X_train, Y_train)"
      ],
      "metadata": {
        "id": "dnUIgrBhHrx3"
      },
      "execution_count": null,
      "outputs": []
    },
    {
      "cell_type": "code",
      "source": [
        "DT1=DecisionTreeClassifier()"
      ],
      "metadata": {
        "id": "VJUOQYdyHxxi"
      },
      "execution_count": null,
      "outputs": []
    },
    {
      "cell_type": "code",
      "source": [
        "param_grid = {\"criterion\": [\"gini\", \"entropy\"],\n",
        "              \"min_samples_split\": [2,4,5],\n",
        "              \"max_depth\": [1,2,3,4],\n",
        "              \"min_samples_leaf\": [1, 2,5]\n",
        "             }"
      ],
      "metadata": {
        "id": "WHRMI16SIhzy"
      },
      "execution_count": null,
      "outputs": []
    },
    {
      "cell_type": "code",
      "source": [
        "dtclf_grid = GridSearchCV(DT1,param_grid,cv=3)"
      ],
      "metadata": {
        "id": "uhF5v9kQInDF"
      },
      "execution_count": null,
      "outputs": []
    },
    {
      "cell_type": "code",
      "source": [
        "dtclf_grid.fit(X_train_sm, y_train_sm)"
      ],
      "metadata": {
        "id": "rrwuSTvQIGi-",
        "colab": {
          "base_uri": "https://localhost:8080/"
        },
        "outputId": "4b113a6b-3b48-49c3-8fda-d9204790d3c1"
      },
      "execution_count": null,
      "outputs": [
        {
          "output_type": "execute_result",
          "data": {
            "text/plain": [
              "GridSearchCV(cv=3, estimator=DecisionTreeClassifier(),\n",
              "             param_grid={'criterion': ['gini', 'entropy'],\n",
              "                         'max_depth': [1, 2, 3, 4],\n",
              "                         'min_samples_leaf': [1, 2, 5],\n",
              "                         'min_samples_split': [2, 4, 5]})"
            ]
          },
          "metadata": {},
          "execution_count": 117
        }
      ]
    },
    {
      "cell_type": "code",
      "source": [
        "dtclf_grid.best_params_"
      ],
      "metadata": {
        "colab": {
          "base_uri": "https://localhost:8080/"
        },
        "id": "s3lihqzsKqWX",
        "outputId": "97df9bea-50ef-40f1-eadb-c3acfd954ad3"
      },
      "execution_count": null,
      "outputs": [
        {
          "output_type": "execute_result",
          "data": {
            "text/plain": [
              "{'criterion': 'entropy',\n",
              " 'max_depth': 3,\n",
              " 'min_samples_leaf': 1,\n",
              " 'min_samples_split': 2}"
            ]
          },
          "metadata": {},
          "execution_count": 118
        }
      ]
    },
    {
      "cell_type": "code",
      "source": [
        "train_pred_dt1 = dtclf_grid.predict(X_train_sm)\n",
        "val_pred_dt1 = dtclf_grid.predict(X_val)"
      ],
      "metadata": {
        "id": "tv0W7whMIRdX"
      },
      "execution_count": null,
      "outputs": []
    },
    {
      "cell_type": "code",
      "source": [
        "print(\"--Train--\")\n",
        "evaluate_model(y_train_sm, train_pred_dt1)\n",
        "print(\"--val--\")\n",
        "evaluate_model(Y_val, val_pred_dt1)"
      ],
      "metadata": {
        "id": "qsdss4orIleD",
        "colab": {
          "base_uri": "https://localhost:8080/"
        },
        "outputId": "6654cae9-51cb-4271-e5cc-21f31518218d"
      },
      "execution_count": null,
      "outputs": [
        {
          "output_type": "stream",
          "name": "stdout",
          "text": [
            "--Train--\n",
            "Confusion Matrix \n",
            " [[1826  273]\n",
            " [ 575 1524]]\n",
            "Accurcay :  0.7979990471653168\n",
            "Recall   :  0.7260600285850405\n",
            "Precision:  0.8480801335559266\n",
            "--val--\n",
            "Confusion Matrix \n",
            " [[781 118]\n",
            " [ 33 118]]\n",
            "Accurcay :  0.8561904761904762\n",
            "Recall   :  0.7814569536423841\n",
            "Precision:  0.5\n"
          ]
        }
      ]
    },
    {
      "cell_type": "code",
      "source": [
        "print(classification_report(Y_train,train_pred_dt))"
      ],
      "metadata": {
        "colab": {
          "base_uri": "https://localhost:8080/"
        },
        "id": "q6tXrsBsNJXQ",
        "outputId": "8c11f604-da95-4cf6-e07d-de4c27e2ecec"
      },
      "execution_count": null,
      "outputs": [
        {
          "output_type": "stream",
          "name": "stdout",
          "text": [
            "              precision    recall  f1-score   support\n",
            "\n",
            "           0       1.00      1.00      1.00      2099\n",
            "           1       1.00      1.00      1.00       351\n",
            "\n",
            "    accuracy                           1.00      2450\n",
            "   macro avg       1.00      1.00      1.00      2450\n",
            "weighted avg       1.00      1.00      1.00      2450\n",
            "\n"
          ]
        }
      ]
    },
    {
      "cell_type": "code",
      "source": [
        "print(classification_report(Y_val,val_pred_dt1))"
      ],
      "metadata": {
        "colab": {
          "base_uri": "https://localhost:8080/"
        },
        "id": "ayPm3UfkNJF-",
        "outputId": "4710561d-af61-4d74-ebe7-ebd5563e2db2"
      },
      "execution_count": null,
      "outputs": [
        {
          "output_type": "stream",
          "name": "stdout",
          "text": [
            "              precision    recall  f1-score   support\n",
            "\n",
            "           0       0.96      0.87      0.91       899\n",
            "           1       0.50      0.78      0.61       151\n",
            "\n",
            "    accuracy                           0.86      1050\n",
            "   macro avg       0.73      0.83      0.76      1050\n",
            "weighted avg       0.89      0.86      0.87      1050\n",
            "\n"
          ]
        }
      ]
    },
    {
      "cell_type": "markdown",
      "source": [
        "Above model is overfitting.."
      ],
      "metadata": {
        "id": "HjYfm6ZJ5KOQ"
      }
    },
    {
      "cell_type": "code",
      "source": [
        "train_accuracy_dt_sm= accuracy_score(y_train_sm,train_pred_dt1)\n",
        "train_recall_dt_sm= recall_score(y_train_sm,train_pred_dt1)\n",
        "train_precision_dt_sm= precision_score(y_train_sm,train_pred_dt1)\n",
        "\n",
        "val_accuracy_dt_sm= accuracy_score(Y_val,val_pred_dt1)\n",
        "val_recall_dt_sm= recall_score(Y_val,val_pred_dt1)\n",
        "val_precision_dt_sm= precision_score(Y_val,val_pred_dt1)"
      ],
      "metadata": {
        "id": "KU4KKvtIL4uh"
      },
      "execution_count": null,
      "outputs": []
    },
    {
      "cell_type": "code",
      "source": [
        "Decision_tree_sm = np.array(['DT_sm',train_accuracy_dt_sm,train_recall_dt_sm,\n",
        "                          train_precision_dt_sm,val_accuracy_dt_sm,val_recall_dt_sm,\n",
        "                          val_precision_dt_sm]).reshape(1,7)\n",
        "model_performance = model_performance.append(pd.DataFrame(Decision_tree_sm,columns=model_performance.columns))"
      ],
      "metadata": {
        "id": "yA0505_ZIve6"
      },
      "execution_count": null,
      "outputs": []
    },
    {
      "cell_type": "code",
      "source": [
        "model_performance"
      ],
      "metadata": {
        "id": "4Ni5at1mMaQG",
        "colab": {
          "base_uri": "https://localhost:8080/",
          "height": 175
        },
        "outputId": "bf6061c7-307d-4eb1-c1cd-2e8a19790223"
      },
      "execution_count": null,
      "outputs": [
        {
          "output_type": "execute_result",
          "data": {
            "text/plain": [
              "                  Model      Train Accuracy         Train Recall  \\\n",
              "0  Logistic - Reg_Ridge  0.8636734693877551  0.21082621082621084   \n",
              "0         Logistic - L1  0.7804081632653062   0.7606837606837606   \n",
              "0                    DT                 1.0                  1.0   \n",
              "0                 DT_sm  0.7979990471653168   0.7260600285850405   \n",
              "\n",
              "       Train Precision        Val Accuracy           Val Recall  \\\n",
              "0   0.5648854961832062  0.8561904761904762  0.23178807947019867   \n",
              "0  0.37031900138696255  0.7638095238095238   0.7814569536423841   \n",
              "0                  1.0  0.9028571428571428   0.6887417218543046   \n",
              "0   0.8480801335559266  0.8561904761904762   0.7814569536423841   \n",
              "\n",
              "         Val Precision  \n",
              "0                  0.5  \n",
              "0  0.35435435435435436  \n",
              "0   0.6540880503144654  \n",
              "0                  0.5  "
            ],
            "text/html": [
              "\n",
              "  <div id=\"df-a0164c7c-7ff8-47cb-82e0-0642840b843d\">\n",
              "    <div class=\"colab-df-container\">\n",
              "      <div>\n",
              "<style scoped>\n",
              "    .dataframe tbody tr th:only-of-type {\n",
              "        vertical-align: middle;\n",
              "    }\n",
              "\n",
              "    .dataframe tbody tr th {\n",
              "        vertical-align: top;\n",
              "    }\n",
              "\n",
              "    .dataframe thead th {\n",
              "        text-align: right;\n",
              "    }\n",
              "</style>\n",
              "<table border=\"1\" class=\"dataframe\">\n",
              "  <thead>\n",
              "    <tr style=\"text-align: right;\">\n",
              "      <th></th>\n",
              "      <th>Model</th>\n",
              "      <th>Train Accuracy</th>\n",
              "      <th>Train Recall</th>\n",
              "      <th>Train Precision</th>\n",
              "      <th>Val Accuracy</th>\n",
              "      <th>Val Recall</th>\n",
              "      <th>Val Precision</th>\n",
              "    </tr>\n",
              "  </thead>\n",
              "  <tbody>\n",
              "    <tr>\n",
              "      <th>0</th>\n",
              "      <td>Logistic - Reg_Ridge</td>\n",
              "      <td>0.8636734693877551</td>\n",
              "      <td>0.21082621082621084</td>\n",
              "      <td>0.5648854961832062</td>\n",
              "      <td>0.8561904761904762</td>\n",
              "      <td>0.23178807947019867</td>\n",
              "      <td>0.5</td>\n",
              "    </tr>\n",
              "    <tr>\n",
              "      <th>0</th>\n",
              "      <td>Logistic - L1</td>\n",
              "      <td>0.7804081632653062</td>\n",
              "      <td>0.7606837606837606</td>\n",
              "      <td>0.37031900138696255</td>\n",
              "      <td>0.7638095238095238</td>\n",
              "      <td>0.7814569536423841</td>\n",
              "      <td>0.35435435435435436</td>\n",
              "    </tr>\n",
              "    <tr>\n",
              "      <th>0</th>\n",
              "      <td>DT</td>\n",
              "      <td>1.0</td>\n",
              "      <td>1.0</td>\n",
              "      <td>1.0</td>\n",
              "      <td>0.9028571428571428</td>\n",
              "      <td>0.6887417218543046</td>\n",
              "      <td>0.6540880503144654</td>\n",
              "    </tr>\n",
              "    <tr>\n",
              "      <th>0</th>\n",
              "      <td>DT_sm</td>\n",
              "      <td>0.7979990471653168</td>\n",
              "      <td>0.7260600285850405</td>\n",
              "      <td>0.8480801335559266</td>\n",
              "      <td>0.8561904761904762</td>\n",
              "      <td>0.7814569536423841</td>\n",
              "      <td>0.5</td>\n",
              "    </tr>\n",
              "  </tbody>\n",
              "</table>\n",
              "</div>\n",
              "      <button class=\"colab-df-convert\" onclick=\"convertToInteractive('df-a0164c7c-7ff8-47cb-82e0-0642840b843d')\"\n",
              "              title=\"Convert this dataframe to an interactive table.\"\n",
              "              style=\"display:none;\">\n",
              "        \n",
              "  <svg xmlns=\"http://www.w3.org/2000/svg\" height=\"24px\"viewBox=\"0 0 24 24\"\n",
              "       width=\"24px\">\n",
              "    <path d=\"M0 0h24v24H0V0z\" fill=\"none\"/>\n",
              "    <path d=\"M18.56 5.44l.94 2.06.94-2.06 2.06-.94-2.06-.94-.94-2.06-.94 2.06-2.06.94zm-11 1L8.5 8.5l.94-2.06 2.06-.94-2.06-.94L8.5 2.5l-.94 2.06-2.06.94zm10 10l.94 2.06.94-2.06 2.06-.94-2.06-.94-.94-2.06-.94 2.06-2.06.94z\"/><path d=\"M17.41 7.96l-1.37-1.37c-.4-.4-.92-.59-1.43-.59-.52 0-1.04.2-1.43.59L10.3 9.45l-7.72 7.72c-.78.78-.78 2.05 0 2.83L4 21.41c.39.39.9.59 1.41.59.51 0 1.02-.2 1.41-.59l7.78-7.78 2.81-2.81c.8-.78.8-2.07 0-2.86zM5.41 20L4 18.59l7.72-7.72 1.47 1.35L5.41 20z\"/>\n",
              "  </svg>\n",
              "      </button>\n",
              "      \n",
              "  <style>\n",
              "    .colab-df-container {\n",
              "      display:flex;\n",
              "      flex-wrap:wrap;\n",
              "      gap: 12px;\n",
              "    }\n",
              "\n",
              "    .colab-df-convert {\n",
              "      background-color: #E8F0FE;\n",
              "      border: none;\n",
              "      border-radius: 50%;\n",
              "      cursor: pointer;\n",
              "      display: none;\n",
              "      fill: #1967D2;\n",
              "      height: 32px;\n",
              "      padding: 0 0 0 0;\n",
              "      width: 32px;\n",
              "    }\n",
              "\n",
              "    .colab-df-convert:hover {\n",
              "      background-color: #E2EBFA;\n",
              "      box-shadow: 0px 1px 2px rgba(60, 64, 67, 0.3), 0px 1px 3px 1px rgba(60, 64, 67, 0.15);\n",
              "      fill: #174EA6;\n",
              "    }\n",
              "\n",
              "    [theme=dark] .colab-df-convert {\n",
              "      background-color: #3B4455;\n",
              "      fill: #D2E3FC;\n",
              "    }\n",
              "\n",
              "    [theme=dark] .colab-df-convert:hover {\n",
              "      background-color: #434B5C;\n",
              "      box-shadow: 0px 1px 3px 1px rgba(0, 0, 0, 0.15);\n",
              "      filter: drop-shadow(0px 1px 2px rgba(0, 0, 0, 0.3));\n",
              "      fill: #FFFFFF;\n",
              "    }\n",
              "  </style>\n",
              "\n",
              "      <script>\n",
              "        const buttonEl =\n",
              "          document.querySelector('#df-a0164c7c-7ff8-47cb-82e0-0642840b843d button.colab-df-convert');\n",
              "        buttonEl.style.display =\n",
              "          google.colab.kernel.accessAllowed ? 'block' : 'none';\n",
              "\n",
              "        async function convertToInteractive(key) {\n",
              "          const element = document.querySelector('#df-a0164c7c-7ff8-47cb-82e0-0642840b843d');\n",
              "          const dataTable =\n",
              "            await google.colab.kernel.invokeFunction('convertToInteractive',\n",
              "                                                     [key], {});\n",
              "          if (!dataTable) return;\n",
              "\n",
              "          const docLinkHtml = 'Like what you see? Visit the ' +\n",
              "            '<a target=\"_blank\" href=https://colab.research.google.com/notebooks/data_table.ipynb>data table notebook</a>'\n",
              "            + ' to learn more about interactive tables.';\n",
              "          element.innerHTML = '';\n",
              "          dataTable['output_type'] = 'display_data';\n",
              "          await google.colab.output.renderOutput(dataTable, element);\n",
              "          const docLink = document.createElement('div');\n",
              "          docLink.innerHTML = docLinkHtml;\n",
              "          element.appendChild(docLink);\n",
              "        }\n",
              "      </script>\n",
              "    </div>\n",
              "  </div>\n",
              "  "
            ]
          },
          "metadata": {},
          "execution_count": 125
        }
      ]
    },
    {
      "cell_type": "markdown",
      "source": [
        "RandomForest classifier"
      ],
      "metadata": {
        "id": "JWdV4dYgNJq-"
      }
    },
    {
      "cell_type": "code",
      "source": [
        "from sklearn.ensemble import   RandomForestClassifier\n"
      ],
      "metadata": {
        "id": "-3fNQNeANXnt"
      },
      "execution_count": null,
      "outputs": []
    },
    {
      "cell_type": "code",
      "source": [
        "RFC = RandomForestClassifier(n_estimators = 100,max_depth=6,criterion='gini',)"
      ],
      "metadata": {
        "id": "4DnJ58s8NI5G"
      },
      "execution_count": null,
      "outputs": []
    },
    {
      "cell_type": "code",
      "source": [
        "\n",
        "RFC.fit(X_train, Y_train)"
      ],
      "metadata": {
        "id": "aHRQStL7MhmA",
        "colab": {
          "base_uri": "https://localhost:8080/"
        },
        "outputId": "23bfbe22-f8c7-4b39-b092-89e510d6b465"
      },
      "execution_count": null,
      "outputs": [
        {
          "output_type": "execute_result",
          "data": {
            "text/plain": [
              "RandomForestClassifier(max_depth=6)"
            ]
          },
          "metadata": {},
          "execution_count": 128
        }
      ]
    },
    {
      "cell_type": "code",
      "source": [
        "\n",
        "train_pred_rfc = RFC.predict(X_train)\n",
        "val_pred_rfc = RFC.predict(X_val)"
      ],
      "metadata": {
        "id": "eey4ZyQHNkjd"
      },
      "execution_count": null,
      "outputs": []
    },
    {
      "cell_type": "code",
      "source": [
        "print(\"--Train--\")\n",
        "evaluate_model(Y_train, train_pred_rfc)\n",
        "print(\"--Test--\")\n",
        "evaluate_model(Y_val, val_pred_rfc)"
      ],
      "metadata": {
        "id": "kyICQ3oDN0FX",
        "colab": {
          "base_uri": "https://localhost:8080/"
        },
        "outputId": "601b68b1-7d31-4599-a552-e5e618d33243"
      },
      "execution_count": null,
      "outputs": [
        {
          "output_type": "stream",
          "name": "stdout",
          "text": [
            "--Train--\n",
            "Confusion Matrix \n",
            " [[2099    0]\n",
            " [ 110  241]]\n",
            "Accurcay :  0.9551020408163265\n",
            "Recall   :  0.6866096866096866\n",
            "Precision:  1.0\n",
            "--Test--\n",
            "Confusion Matrix \n",
            " [[895   4]\n",
            " [ 66  85]]\n",
            "Accurcay :  0.9333333333333333\n",
            "Recall   :  0.5629139072847682\n",
            "Precision:  0.9550561797752809\n"
          ]
        }
      ]
    },
    {
      "cell_type": "code",
      "source": [
        "print(classification_report(Y_train,train_pred_rfc))"
      ],
      "metadata": {
        "colab": {
          "base_uri": "https://localhost:8080/"
        },
        "id": "qsVQ12BONXLC",
        "outputId": "595ed107-1469-4791-b1c8-102fbdb9807b"
      },
      "execution_count": null,
      "outputs": [
        {
          "output_type": "stream",
          "name": "stdout",
          "text": [
            "              precision    recall  f1-score   support\n",
            "\n",
            "           0       0.95      1.00      0.97      2099\n",
            "           1       1.00      0.69      0.81       351\n",
            "\n",
            "    accuracy                           0.96      2450\n",
            "   macro avg       0.98      0.84      0.89      2450\n",
            "weighted avg       0.96      0.96      0.95      2450\n",
            "\n"
          ]
        }
      ]
    },
    {
      "cell_type": "code",
      "source": [
        "\n",
        "print(classification_report(Y_val,val_pred_rfc))"
      ],
      "metadata": {
        "colab": {
          "base_uri": "https://localhost:8080/"
        },
        "id": "wY79HPWANW0p",
        "outputId": "64143a54-a39e-4a41-b593-876e80d16c28"
      },
      "execution_count": null,
      "outputs": [
        {
          "output_type": "stream",
          "name": "stdout",
          "text": [
            "              precision    recall  f1-score   support\n",
            "\n",
            "           0       0.93      1.00      0.96       899\n",
            "           1       0.96      0.56      0.71       151\n",
            "\n",
            "    accuracy                           0.93      1050\n",
            "   macro avg       0.94      0.78      0.84      1050\n",
            "weighted avg       0.93      0.93      0.93      1050\n",
            "\n"
          ]
        }
      ]
    },
    {
      "cell_type": "code",
      "source": [
        "train_accuracy_rfc= accuracy_score(Y_train,train_pred_rfc)\n",
        "train_recall_rfc= recall_score(Y_train,train_pred_rfc)\n",
        "train_precision_rfc= precision_score(Y_train,train_pred_rfc)\n",
        "\n",
        "val_accuracy_rfc= accuracy_score(Y_val,val_pred_rfc)\n",
        "val_recall_rfc= recall_score(Y_val,val_pred_rfc)\n",
        "val_precision_rfc= precision_score(Y_val,val_pred_rfc)"
      ],
      "metadata": {
        "id": "v6S8pyUDODnj"
      },
      "execution_count": null,
      "outputs": []
    },
    {
      "cell_type": "code",
      "source": [
        "RFC = np.array(['RFC',train_accuracy_rfc,train_recall_rfc,\n",
        "                          train_precision_rfc,val_accuracy_rfc,val_recall_rfc,\n",
        "                          val_precision_rfc]).reshape(1,7)\n",
        "model_performance = model_performance.append(pd.DataFrame(RFC,columns=model_performance.columns))"
      ],
      "metadata": {
        "id": "z6yZ2R3TTzxA"
      },
      "execution_count": null,
      "outputs": []
    },
    {
      "cell_type": "code",
      "source": [
        "model_performance"
      ],
      "metadata": {
        "id": "vmGwCmd_Ubc-",
        "colab": {
          "base_uri": "https://localhost:8080/",
          "height": 206
        },
        "outputId": "778779a9-dd27-4c26-a6ac-619724d8860d"
      },
      "execution_count": null,
      "outputs": [
        {
          "output_type": "execute_result",
          "data": {
            "text/plain": [
              "                  Model      Train Accuracy         Train Recall  \\\n",
              "0  Logistic - Reg_Ridge  0.8636734693877551  0.21082621082621084   \n",
              "0         Logistic - L1  0.7804081632653062   0.7606837606837606   \n",
              "0                    DT                 1.0                  1.0   \n",
              "0                 DT_sm  0.7979990471653168   0.7260600285850405   \n",
              "0                   RFC  0.9551020408163265   0.6866096866096866   \n",
              "\n",
              "       Train Precision        Val Accuracy           Val Recall  \\\n",
              "0   0.5648854961832062  0.8561904761904762  0.23178807947019867   \n",
              "0  0.37031900138696255  0.7638095238095238   0.7814569536423841   \n",
              "0                  1.0  0.9028571428571428   0.6887417218543046   \n",
              "0   0.8480801335559266  0.8561904761904762   0.7814569536423841   \n",
              "0                  1.0  0.9333333333333333   0.5629139072847682   \n",
              "\n",
              "         Val Precision  \n",
              "0                  0.5  \n",
              "0  0.35435435435435436  \n",
              "0   0.6540880503144654  \n",
              "0                  0.5  \n",
              "0   0.9550561797752809  "
            ],
            "text/html": [
              "\n",
              "  <div id=\"df-e1df6a91-2048-4e2c-a335-8e662775af61\">\n",
              "    <div class=\"colab-df-container\">\n",
              "      <div>\n",
              "<style scoped>\n",
              "    .dataframe tbody tr th:only-of-type {\n",
              "        vertical-align: middle;\n",
              "    }\n",
              "\n",
              "    .dataframe tbody tr th {\n",
              "        vertical-align: top;\n",
              "    }\n",
              "\n",
              "    .dataframe thead th {\n",
              "        text-align: right;\n",
              "    }\n",
              "</style>\n",
              "<table border=\"1\" class=\"dataframe\">\n",
              "  <thead>\n",
              "    <tr style=\"text-align: right;\">\n",
              "      <th></th>\n",
              "      <th>Model</th>\n",
              "      <th>Train Accuracy</th>\n",
              "      <th>Train Recall</th>\n",
              "      <th>Train Precision</th>\n",
              "      <th>Val Accuracy</th>\n",
              "      <th>Val Recall</th>\n",
              "      <th>Val Precision</th>\n",
              "    </tr>\n",
              "  </thead>\n",
              "  <tbody>\n",
              "    <tr>\n",
              "      <th>0</th>\n",
              "      <td>Logistic - Reg_Ridge</td>\n",
              "      <td>0.8636734693877551</td>\n",
              "      <td>0.21082621082621084</td>\n",
              "      <td>0.5648854961832062</td>\n",
              "      <td>0.8561904761904762</td>\n",
              "      <td>0.23178807947019867</td>\n",
              "      <td>0.5</td>\n",
              "    </tr>\n",
              "    <tr>\n",
              "      <th>0</th>\n",
              "      <td>Logistic - L1</td>\n",
              "      <td>0.7804081632653062</td>\n",
              "      <td>0.7606837606837606</td>\n",
              "      <td>0.37031900138696255</td>\n",
              "      <td>0.7638095238095238</td>\n",
              "      <td>0.7814569536423841</td>\n",
              "      <td>0.35435435435435436</td>\n",
              "    </tr>\n",
              "    <tr>\n",
              "      <th>0</th>\n",
              "      <td>DT</td>\n",
              "      <td>1.0</td>\n",
              "      <td>1.0</td>\n",
              "      <td>1.0</td>\n",
              "      <td>0.9028571428571428</td>\n",
              "      <td>0.6887417218543046</td>\n",
              "      <td>0.6540880503144654</td>\n",
              "    </tr>\n",
              "    <tr>\n",
              "      <th>0</th>\n",
              "      <td>DT_sm</td>\n",
              "      <td>0.7979990471653168</td>\n",
              "      <td>0.7260600285850405</td>\n",
              "      <td>0.8480801335559266</td>\n",
              "      <td>0.8561904761904762</td>\n",
              "      <td>0.7814569536423841</td>\n",
              "      <td>0.5</td>\n",
              "    </tr>\n",
              "    <tr>\n",
              "      <th>0</th>\n",
              "      <td>RFC</td>\n",
              "      <td>0.9551020408163265</td>\n",
              "      <td>0.6866096866096866</td>\n",
              "      <td>1.0</td>\n",
              "      <td>0.9333333333333333</td>\n",
              "      <td>0.5629139072847682</td>\n",
              "      <td>0.9550561797752809</td>\n",
              "    </tr>\n",
              "  </tbody>\n",
              "</table>\n",
              "</div>\n",
              "      <button class=\"colab-df-convert\" onclick=\"convertToInteractive('df-e1df6a91-2048-4e2c-a335-8e662775af61')\"\n",
              "              title=\"Convert this dataframe to an interactive table.\"\n",
              "              style=\"display:none;\">\n",
              "        \n",
              "  <svg xmlns=\"http://www.w3.org/2000/svg\" height=\"24px\"viewBox=\"0 0 24 24\"\n",
              "       width=\"24px\">\n",
              "    <path d=\"M0 0h24v24H0V0z\" fill=\"none\"/>\n",
              "    <path d=\"M18.56 5.44l.94 2.06.94-2.06 2.06-.94-2.06-.94-.94-2.06-.94 2.06-2.06.94zm-11 1L8.5 8.5l.94-2.06 2.06-.94-2.06-.94L8.5 2.5l-.94 2.06-2.06.94zm10 10l.94 2.06.94-2.06 2.06-.94-2.06-.94-.94-2.06-.94 2.06-2.06.94z\"/><path d=\"M17.41 7.96l-1.37-1.37c-.4-.4-.92-.59-1.43-.59-.52 0-1.04.2-1.43.59L10.3 9.45l-7.72 7.72c-.78.78-.78 2.05 0 2.83L4 21.41c.39.39.9.59 1.41.59.51 0 1.02-.2 1.41-.59l7.78-7.78 2.81-2.81c.8-.78.8-2.07 0-2.86zM5.41 20L4 18.59l7.72-7.72 1.47 1.35L5.41 20z\"/>\n",
              "  </svg>\n",
              "      </button>\n",
              "      \n",
              "  <style>\n",
              "    .colab-df-container {\n",
              "      display:flex;\n",
              "      flex-wrap:wrap;\n",
              "      gap: 12px;\n",
              "    }\n",
              "\n",
              "    .colab-df-convert {\n",
              "      background-color: #E8F0FE;\n",
              "      border: none;\n",
              "      border-radius: 50%;\n",
              "      cursor: pointer;\n",
              "      display: none;\n",
              "      fill: #1967D2;\n",
              "      height: 32px;\n",
              "      padding: 0 0 0 0;\n",
              "      width: 32px;\n",
              "    }\n",
              "\n",
              "    .colab-df-convert:hover {\n",
              "      background-color: #E2EBFA;\n",
              "      box-shadow: 0px 1px 2px rgba(60, 64, 67, 0.3), 0px 1px 3px 1px rgba(60, 64, 67, 0.15);\n",
              "      fill: #174EA6;\n",
              "    }\n",
              "\n",
              "    [theme=dark] .colab-df-convert {\n",
              "      background-color: #3B4455;\n",
              "      fill: #D2E3FC;\n",
              "    }\n",
              "\n",
              "    [theme=dark] .colab-df-convert:hover {\n",
              "      background-color: #434B5C;\n",
              "      box-shadow: 0px 1px 3px 1px rgba(0, 0, 0, 0.15);\n",
              "      filter: drop-shadow(0px 1px 2px rgba(0, 0, 0, 0.3));\n",
              "      fill: #FFFFFF;\n",
              "    }\n",
              "  </style>\n",
              "\n",
              "      <script>\n",
              "        const buttonEl =\n",
              "          document.querySelector('#df-e1df6a91-2048-4e2c-a335-8e662775af61 button.colab-df-convert');\n",
              "        buttonEl.style.display =\n",
              "          google.colab.kernel.accessAllowed ? 'block' : 'none';\n",
              "\n",
              "        async function convertToInteractive(key) {\n",
              "          const element = document.querySelector('#df-e1df6a91-2048-4e2c-a335-8e662775af61');\n",
              "          const dataTable =\n",
              "            await google.colab.kernel.invokeFunction('convertToInteractive',\n",
              "                                                     [key], {});\n",
              "          if (!dataTable) return;\n",
              "\n",
              "          const docLinkHtml = 'Like what you see? Visit the ' +\n",
              "            '<a target=\"_blank\" href=https://colab.research.google.com/notebooks/data_table.ipynb>data table notebook</a>'\n",
              "            + ' to learn more about interactive tables.';\n",
              "          element.innerHTML = '';\n",
              "          dataTable['output_type'] = 'display_data';\n",
              "          await google.colab.output.renderOutput(dataTable, element);\n",
              "          const docLink = document.createElement('div');\n",
              "          docLink.innerHTML = docLinkHtml;\n",
              "          element.appendChild(docLink);\n",
              "        }\n",
              "      </script>\n",
              "    </div>\n",
              "  </div>\n",
              "  "
            ]
          },
          "metadata": {},
          "execution_count": 135
        }
      ]
    },
    {
      "cell_type": "markdown",
      "source": [
        "RandomClassifier with tuning hyperparameters.\n"
      ],
      "metadata": {
        "id": "u_BFomxQRNa9"
      }
    },
    {
      "cell_type": "code",
      "source": [
        "param_grid = {\"n_estimators\" : [50, 100],\n",
        "              \"max_depth\" : [1,3,5],\n",
        "              \"max_features\" : [3,7,5,6],\n",
        "              \"min_samples_leaf\" : [1, 2, 4]}"
      ],
      "metadata": {
        "id": "Yg_BnmMpTb_Q"
      },
      "execution_count": null,
      "outputs": []
    },
    {
      "cell_type": "code",
      "source": [
        "RFC1=RandomForestClassifier()"
      ],
      "metadata": {
        "id": "fwrAyFdHT8ux"
      },
      "execution_count": null,
      "outputs": []
    },
    {
      "cell_type": "code",
      "source": [
        "RFC_grid = GridSearchCV(RFC1,param_grid,cv=2)"
      ],
      "metadata": {
        "id": "UWtUtEknT2_C"
      },
      "execution_count": null,
      "outputs": []
    },
    {
      "cell_type": "code",
      "source": [
        "RFC_grid.fit(X_train, Y_train)"
      ],
      "metadata": {
        "colab": {
          "base_uri": "https://localhost:8080/"
        },
        "id": "Ej7RQYwnUQ1H",
        "outputId": "2d9f3840-4647-4c95-8b5a-ead9589a93e1"
      },
      "execution_count": null,
      "outputs": [
        {
          "output_type": "execute_result",
          "data": {
            "text/plain": [
              "GridSearchCV(cv=2, estimator=RandomForestClassifier(),\n",
              "             param_grid={'max_depth': [1, 3, 5], 'max_features': [3, 7, 5, 6],\n",
              "                         'min_samples_leaf': [1, 2, 4],\n",
              "                         'n_estimators': [50, 100]})"
            ]
          },
          "metadata": {},
          "execution_count": 139
        }
      ]
    },
    {
      "cell_type": "code",
      "source": [
        "RFC_grid.best_params_"
      ],
      "metadata": {
        "colab": {
          "base_uri": "https://localhost:8080/"
        },
        "id": "33t8dJC5Una4",
        "outputId": "1b455aa4-baa3-448d-e761-ed5f9b4728d6"
      },
      "execution_count": null,
      "outputs": [
        {
          "output_type": "execute_result",
          "data": {
            "text/plain": [
              "{'max_depth': 5, 'max_features': 7, 'min_samples_leaf': 2, 'n_estimators': 100}"
            ]
          },
          "metadata": {},
          "execution_count": 140
        }
      ]
    },
    {
      "cell_type": "code",
      "source": [
        "train_pred_rfc_best = RFC_grid.predict(X_train)\n",
        "val_pred_rfc_best= RFC_grid.predict(X_val)"
      ],
      "metadata": {
        "id": "7wFEkITXUnIh"
      },
      "execution_count": null,
      "outputs": []
    },
    {
      "cell_type": "code",
      "source": [
        "print(\"--Train--\")\n",
        "evaluate_model(Y_train, train_pred_rfc_best)\n",
        "print(\"--val--\")\n",
        "evaluate_model(Y_val, val_pred_rfc_best)"
      ],
      "metadata": {
        "colab": {
          "base_uri": "https://localhost:8080/"
        },
        "id": "RODorExtVGpo",
        "outputId": "1041ee4f-78a4-45c3-8fd5-c9a4b4cd5a2c"
      },
      "execution_count": null,
      "outputs": [
        {
          "output_type": "stream",
          "name": "stdout",
          "text": [
            "--Train--\n",
            "Confusion Matrix \n",
            " [[2095    4]\n",
            " [ 110  241]]\n",
            "Accurcay :  0.953469387755102\n",
            "Recall   :  0.6866096866096866\n",
            "Precision:  0.9836734693877551\n",
            "--val--\n",
            "Confusion Matrix \n",
            " [[894   5]\n",
            " [ 65  86]]\n",
            "Accurcay :  0.9333333333333333\n",
            "Recall   :  0.5695364238410596\n",
            "Precision:  0.945054945054945\n"
          ]
        }
      ]
    },
    {
      "cell_type": "code",
      "source": [
        "print(classification_report(Y_train,train_pred_rfc_best))"
      ],
      "metadata": {
        "colab": {
          "base_uri": "https://localhost:8080/"
        },
        "id": "bHXRFKdsNhns",
        "outputId": "350b4f25-26a3-473b-d293-93e9cbc1e8ef"
      },
      "execution_count": null,
      "outputs": [
        {
          "output_type": "stream",
          "name": "stdout",
          "text": [
            "              precision    recall  f1-score   support\n",
            "\n",
            "           0       0.95      1.00      0.97      2099\n",
            "           1       0.98      0.69      0.81       351\n",
            "\n",
            "    accuracy                           0.95      2450\n",
            "   macro avg       0.97      0.84      0.89      2450\n",
            "weighted avg       0.95      0.95      0.95      2450\n",
            "\n"
          ]
        }
      ]
    },
    {
      "cell_type": "code",
      "source": [
        "\n",
        "print(classification_report(Y_val,val_pred_rfc_best))"
      ],
      "metadata": {
        "colab": {
          "base_uri": "https://localhost:8080/"
        },
        "id": "HMRQTyGyNhjm",
        "outputId": "97c6772c-c82a-466c-bc43-cf5038ecdf85"
      },
      "execution_count": null,
      "outputs": [
        {
          "output_type": "stream",
          "name": "stdout",
          "text": [
            "              precision    recall  f1-score   support\n",
            "\n",
            "           0       0.93      0.99      0.96       899\n",
            "           1       0.95      0.57      0.71       151\n",
            "\n",
            "    accuracy                           0.93      1050\n",
            "   macro avg       0.94      0.78      0.84      1050\n",
            "weighted avg       0.93      0.93      0.93      1050\n",
            "\n"
          ]
        }
      ]
    },
    {
      "cell_type": "code",
      "source": [
        "train_accuracy_rfc_best= accuracy_score(Y_train,train_pred_rfc_best)\n",
        "train_recall_rfc_best= recall_score(Y_train,train_pred_rfc_best)\n",
        "train_precision_rfc_best= precision_score(Y_train,train_pred_rfc_best)\n",
        "\n",
        "val_accuracy_rfc_best= accuracy_score(Y_val,val_pred_rfc_best)\n",
        "val_recall_rfc_best= recall_score(Y_val,val_pred_rfc_best)\n",
        "val_precision_rfc_best= precision_score(Y_val,val_pred_rfc_best)"
      ],
      "metadata": {
        "id": "CQ7m57vnqktZ"
      },
      "execution_count": null,
      "outputs": []
    },
    {
      "cell_type": "code",
      "source": [
        "RFC_grid_best= np.array(['RFC_grid',train_accuracy_rfc_best,train_recall_rfc_best,\n",
        "                          train_precision_rfc_best,val_accuracy_rfc_best,val_recall_rfc_best,\n",
        "                          val_precision_rfc_best]).reshape(1,7)\n",
        "model_performance = model_performance.append(pd.DataFrame(RFC_grid_best,columns=model_performance.columns))"
      ],
      "metadata": {
        "id": "9tupORQQp-Ye"
      },
      "execution_count": null,
      "outputs": []
    },
    {
      "cell_type": "code",
      "source": [
        "model_performance"
      ],
      "metadata": {
        "colab": {
          "base_uri": "https://localhost:8080/",
          "height": 238
        },
        "id": "wVsLUBF1rZDm",
        "outputId": "12c6dc62-9b5e-4e71-a706-8d8d22c236c6"
      },
      "execution_count": null,
      "outputs": [
        {
          "output_type": "execute_result",
          "data": {
            "text/plain": [
              "                  Model      Train Accuracy         Train Recall  \\\n",
              "0  Logistic - Reg_Ridge  0.8636734693877551  0.21082621082621084   \n",
              "0         Logistic - L1  0.7804081632653062   0.7606837606837606   \n",
              "0                    DT                 1.0                  1.0   \n",
              "0                 DT_sm  0.7979990471653168   0.7260600285850405   \n",
              "0                   RFC  0.9551020408163265   0.6866096866096866   \n",
              "0              RFC_grid   0.953469387755102   0.6866096866096866   \n",
              "\n",
              "       Train Precision        Val Accuracy           Val Recall  \\\n",
              "0   0.5648854961832062  0.8561904761904762  0.23178807947019867   \n",
              "0  0.37031900138696255  0.7638095238095238   0.7814569536423841   \n",
              "0                  1.0  0.9028571428571428   0.6887417218543046   \n",
              "0   0.8480801335559266  0.8561904761904762   0.7814569536423841   \n",
              "0                  1.0  0.9333333333333333   0.5629139072847682   \n",
              "0   0.9836734693877551  0.9333333333333333   0.5695364238410596   \n",
              "\n",
              "         Val Precision  \n",
              "0                  0.5  \n",
              "0  0.35435435435435436  \n",
              "0   0.6540880503144654  \n",
              "0                  0.5  \n",
              "0   0.9550561797752809  \n",
              "0    0.945054945054945  "
            ],
            "text/html": [
              "\n",
              "  <div id=\"df-0f9823b5-54e1-4121-8a83-ec6219012a84\">\n",
              "    <div class=\"colab-df-container\">\n",
              "      <div>\n",
              "<style scoped>\n",
              "    .dataframe tbody tr th:only-of-type {\n",
              "        vertical-align: middle;\n",
              "    }\n",
              "\n",
              "    .dataframe tbody tr th {\n",
              "        vertical-align: top;\n",
              "    }\n",
              "\n",
              "    .dataframe thead th {\n",
              "        text-align: right;\n",
              "    }\n",
              "</style>\n",
              "<table border=\"1\" class=\"dataframe\">\n",
              "  <thead>\n",
              "    <tr style=\"text-align: right;\">\n",
              "      <th></th>\n",
              "      <th>Model</th>\n",
              "      <th>Train Accuracy</th>\n",
              "      <th>Train Recall</th>\n",
              "      <th>Train Precision</th>\n",
              "      <th>Val Accuracy</th>\n",
              "      <th>Val Recall</th>\n",
              "      <th>Val Precision</th>\n",
              "    </tr>\n",
              "  </thead>\n",
              "  <tbody>\n",
              "    <tr>\n",
              "      <th>0</th>\n",
              "      <td>Logistic - Reg_Ridge</td>\n",
              "      <td>0.8636734693877551</td>\n",
              "      <td>0.21082621082621084</td>\n",
              "      <td>0.5648854961832062</td>\n",
              "      <td>0.8561904761904762</td>\n",
              "      <td>0.23178807947019867</td>\n",
              "      <td>0.5</td>\n",
              "    </tr>\n",
              "    <tr>\n",
              "      <th>0</th>\n",
              "      <td>Logistic - L1</td>\n",
              "      <td>0.7804081632653062</td>\n",
              "      <td>0.7606837606837606</td>\n",
              "      <td>0.37031900138696255</td>\n",
              "      <td>0.7638095238095238</td>\n",
              "      <td>0.7814569536423841</td>\n",
              "      <td>0.35435435435435436</td>\n",
              "    </tr>\n",
              "    <tr>\n",
              "      <th>0</th>\n",
              "      <td>DT</td>\n",
              "      <td>1.0</td>\n",
              "      <td>1.0</td>\n",
              "      <td>1.0</td>\n",
              "      <td>0.9028571428571428</td>\n",
              "      <td>0.6887417218543046</td>\n",
              "      <td>0.6540880503144654</td>\n",
              "    </tr>\n",
              "    <tr>\n",
              "      <th>0</th>\n",
              "      <td>DT_sm</td>\n",
              "      <td>0.7979990471653168</td>\n",
              "      <td>0.7260600285850405</td>\n",
              "      <td>0.8480801335559266</td>\n",
              "      <td>0.8561904761904762</td>\n",
              "      <td>0.7814569536423841</td>\n",
              "      <td>0.5</td>\n",
              "    </tr>\n",
              "    <tr>\n",
              "      <th>0</th>\n",
              "      <td>RFC</td>\n",
              "      <td>0.9551020408163265</td>\n",
              "      <td>0.6866096866096866</td>\n",
              "      <td>1.0</td>\n",
              "      <td>0.9333333333333333</td>\n",
              "      <td>0.5629139072847682</td>\n",
              "      <td>0.9550561797752809</td>\n",
              "    </tr>\n",
              "    <tr>\n",
              "      <th>0</th>\n",
              "      <td>RFC_grid</td>\n",
              "      <td>0.953469387755102</td>\n",
              "      <td>0.6866096866096866</td>\n",
              "      <td>0.9836734693877551</td>\n",
              "      <td>0.9333333333333333</td>\n",
              "      <td>0.5695364238410596</td>\n",
              "      <td>0.945054945054945</td>\n",
              "    </tr>\n",
              "  </tbody>\n",
              "</table>\n",
              "</div>\n",
              "      <button class=\"colab-df-convert\" onclick=\"convertToInteractive('df-0f9823b5-54e1-4121-8a83-ec6219012a84')\"\n",
              "              title=\"Convert this dataframe to an interactive table.\"\n",
              "              style=\"display:none;\">\n",
              "        \n",
              "  <svg xmlns=\"http://www.w3.org/2000/svg\" height=\"24px\"viewBox=\"0 0 24 24\"\n",
              "       width=\"24px\">\n",
              "    <path d=\"M0 0h24v24H0V0z\" fill=\"none\"/>\n",
              "    <path d=\"M18.56 5.44l.94 2.06.94-2.06 2.06-.94-2.06-.94-.94-2.06-.94 2.06-2.06.94zm-11 1L8.5 8.5l.94-2.06 2.06-.94-2.06-.94L8.5 2.5l-.94 2.06-2.06.94zm10 10l.94 2.06.94-2.06 2.06-.94-2.06-.94-.94-2.06-.94 2.06-2.06.94z\"/><path d=\"M17.41 7.96l-1.37-1.37c-.4-.4-.92-.59-1.43-.59-.52 0-1.04.2-1.43.59L10.3 9.45l-7.72 7.72c-.78.78-.78 2.05 0 2.83L4 21.41c.39.39.9.59 1.41.59.51 0 1.02-.2 1.41-.59l7.78-7.78 2.81-2.81c.8-.78.8-2.07 0-2.86zM5.41 20L4 18.59l7.72-7.72 1.47 1.35L5.41 20z\"/>\n",
              "  </svg>\n",
              "      </button>\n",
              "      \n",
              "  <style>\n",
              "    .colab-df-container {\n",
              "      display:flex;\n",
              "      flex-wrap:wrap;\n",
              "      gap: 12px;\n",
              "    }\n",
              "\n",
              "    .colab-df-convert {\n",
              "      background-color: #E8F0FE;\n",
              "      border: none;\n",
              "      border-radius: 50%;\n",
              "      cursor: pointer;\n",
              "      display: none;\n",
              "      fill: #1967D2;\n",
              "      height: 32px;\n",
              "      padding: 0 0 0 0;\n",
              "      width: 32px;\n",
              "    }\n",
              "\n",
              "    .colab-df-convert:hover {\n",
              "      background-color: #E2EBFA;\n",
              "      box-shadow: 0px 1px 2px rgba(60, 64, 67, 0.3), 0px 1px 3px 1px rgba(60, 64, 67, 0.15);\n",
              "      fill: #174EA6;\n",
              "    }\n",
              "\n",
              "    [theme=dark] .colab-df-convert {\n",
              "      background-color: #3B4455;\n",
              "      fill: #D2E3FC;\n",
              "    }\n",
              "\n",
              "    [theme=dark] .colab-df-convert:hover {\n",
              "      background-color: #434B5C;\n",
              "      box-shadow: 0px 1px 3px 1px rgba(0, 0, 0, 0.15);\n",
              "      filter: drop-shadow(0px 1px 2px rgba(0, 0, 0, 0.3));\n",
              "      fill: #FFFFFF;\n",
              "    }\n",
              "  </style>\n",
              "\n",
              "      <script>\n",
              "        const buttonEl =\n",
              "          document.querySelector('#df-0f9823b5-54e1-4121-8a83-ec6219012a84 button.colab-df-convert');\n",
              "        buttonEl.style.display =\n",
              "          google.colab.kernel.accessAllowed ? 'block' : 'none';\n",
              "\n",
              "        async function convertToInteractive(key) {\n",
              "          const element = document.querySelector('#df-0f9823b5-54e1-4121-8a83-ec6219012a84');\n",
              "          const dataTable =\n",
              "            await google.colab.kernel.invokeFunction('convertToInteractive',\n",
              "                                                     [key], {});\n",
              "          if (!dataTable) return;\n",
              "\n",
              "          const docLinkHtml = 'Like what you see? Visit the ' +\n",
              "            '<a target=\"_blank\" href=https://colab.research.google.com/notebooks/data_table.ipynb>data table notebook</a>'\n",
              "            + ' to learn more about interactive tables.';\n",
              "          element.innerHTML = '';\n",
              "          dataTable['output_type'] = 'display_data';\n",
              "          await google.colab.output.renderOutput(dataTable, element);\n",
              "          const docLink = document.createElement('div');\n",
              "          docLink.innerHTML = docLinkHtml;\n",
              "          element.appendChild(docLink);\n",
              "        }\n",
              "      </script>\n",
              "    </div>\n",
              "  </div>\n",
              "  "
            ]
          },
          "metadata": {},
          "execution_count": 147
        }
      ]
    },
    {
      "cell_type": "markdown",
      "source": [
        "ADABOOST"
      ],
      "metadata": {
        "id": "PSfBHlWFVBLQ"
      }
    },
    {
      "cell_type": "code",
      "source": [
        "from sklearn.ensemble import AdaBoostClassifier\n"
      ],
      "metadata": {
        "id": "VoRRp7AxVJVx"
      },
      "execution_count": null,
      "outputs": []
    },
    {
      "cell_type": "code",
      "source": [
        "adaboost =  AdaBoostClassifier()"
      ],
      "metadata": {
        "id": "NW0XRr4eVAzA"
      },
      "execution_count": null,
      "outputs": []
    },
    {
      "cell_type": "code",
      "source": [
        "adaboost.fit(X_train, Y_train)"
      ],
      "metadata": {
        "id": "MQkUYkI8UgjF",
        "colab": {
          "base_uri": "https://localhost:8080/"
        },
        "outputId": "74ef25d3-878a-4fe3-db39-488f8da7706e"
      },
      "execution_count": null,
      "outputs": [
        {
          "output_type": "execute_result",
          "data": {
            "text/plain": [
              "AdaBoostClassifier()"
            ]
          },
          "metadata": {},
          "execution_count": 150
        }
      ]
    },
    {
      "cell_type": "code",
      "source": [
        "train_pred_adb = adaboost.predict(X_train)\n",
        "val_pred_adb = adaboost.predict(X_val)"
      ],
      "metadata": {
        "id": "7A6gCRO7VS4b"
      },
      "execution_count": null,
      "outputs": []
    },
    {
      "cell_type": "code",
      "source": [
        "print(\"--Train--\")\n",
        "evaluate_model(Y_train, train_pred_adb)\n",
        "print(\"--val--\")\n",
        "evaluate_model(Y_val, val_pred_adb)"
      ],
      "metadata": {
        "id": "0teP2broVZpf",
        "colab": {
          "base_uri": "https://localhost:8080/"
        },
        "outputId": "a9e94d9a-d69c-44fc-c719-1008611ab735"
      },
      "execution_count": null,
      "outputs": [
        {
          "output_type": "stream",
          "name": "stdout",
          "text": [
            "--Train--\n",
            "Confusion Matrix \n",
            " [[2034   65]\n",
            " [ 199  152]]\n",
            "Accurcay :  0.8922448979591837\n",
            "Recall   :  0.43304843304843305\n",
            "Precision:  0.7004608294930875\n",
            "--val--\n",
            "Confusion Matrix \n",
            " [[861  38]\n",
            " [ 90  61]]\n",
            "Accurcay :  0.878095238095238\n",
            "Recall   :  0.40397350993377484\n",
            "Precision:  0.6161616161616161\n"
          ]
        }
      ]
    },
    {
      "cell_type": "code",
      "source": [
        "print(classification_report(Y_train,train_pred_adb))"
      ],
      "metadata": {
        "colab": {
          "base_uri": "https://localhost:8080/"
        },
        "id": "vcI4ZHsCNryG",
        "outputId": "8477c663-6721-474b-90f6-3411d9f8fe9e"
      },
      "execution_count": null,
      "outputs": [
        {
          "output_type": "stream",
          "name": "stdout",
          "text": [
            "              precision    recall  f1-score   support\n",
            "\n",
            "           0       0.91      0.97      0.94      2099\n",
            "           1       0.70      0.43      0.54       351\n",
            "\n",
            "    accuracy                           0.89      2450\n",
            "   macro avg       0.81      0.70      0.74      2450\n",
            "weighted avg       0.88      0.89      0.88      2450\n",
            "\n"
          ]
        }
      ]
    },
    {
      "cell_type": "code",
      "source": [
        "\n",
        "print(classification_report(Y_val,val_pred_adb))"
      ],
      "metadata": {
        "colab": {
          "base_uri": "https://localhost:8080/"
        },
        "id": "-ycquE3wNrjb",
        "outputId": "975ce635-4f80-48cf-d243-f9d7db2a340e"
      },
      "execution_count": null,
      "outputs": [
        {
          "output_type": "stream",
          "name": "stdout",
          "text": [
            "              precision    recall  f1-score   support\n",
            "\n",
            "           0       0.91      0.96      0.93       899\n",
            "           1       0.62      0.40      0.49       151\n",
            "\n",
            "    accuracy                           0.88      1050\n",
            "   macro avg       0.76      0.68      0.71      1050\n",
            "weighted avg       0.86      0.88      0.87      1050\n",
            "\n"
          ]
        }
      ]
    },
    {
      "cell_type": "code",
      "source": [
        "train_accuracy_adb= accuracy_score(Y_train,train_pred_adb)\n",
        "train_recall_abd= recall_score(Y_train,train_pred_adb)\n",
        "train_precision_adb= precision_score(Y_train,train_pred_adb)\n",
        "\n",
        "val_accuracy_adb= accuracy_score(Y_val,val_pred_adb)\n",
        "val_recall_adb= recall_score(Y_val,val_pred_adb)\n",
        "val_precision_adb= precision_score(Y_val,val_pred_adb)"
      ],
      "metadata": {
        "id": "ZDQ19tNgsOLM"
      },
      "execution_count": null,
      "outputs": []
    },
    {
      "cell_type": "code",
      "source": [
        "Adaboost= np.array(['Adaboost',train_accuracy_adb,train_recall_abd,\n",
        "                          train_precision_adb,val_accuracy_adb,val_recall_adb,\n",
        "                          val_precision_adb]).reshape(1,7)\n",
        "model_performance = model_performance.append(pd.DataFrame(Adaboost,columns=model_performance.columns))"
      ],
      "metadata": {
        "id": "bQUGYlDXssOQ"
      },
      "execution_count": null,
      "outputs": []
    },
    {
      "cell_type": "code",
      "source": [
        "model_performance"
      ],
      "metadata": {
        "colab": {
          "base_uri": "https://localhost:8080/",
          "height": 269
        },
        "id": "hVC8GOLVr3oo",
        "outputId": "e4f5e557-6428-4d6b-cccd-ff4e2b920cce"
      },
      "execution_count": null,
      "outputs": [
        {
          "output_type": "execute_result",
          "data": {
            "text/plain": [
              "                  Model      Train Accuracy         Train Recall  \\\n",
              "0  Logistic - Reg_Ridge  0.8636734693877551  0.21082621082621084   \n",
              "0         Logistic - L1  0.7804081632653062   0.7606837606837606   \n",
              "0                    DT                 1.0                  1.0   \n",
              "0                 DT_sm  0.7979990471653168   0.7260600285850405   \n",
              "0                   RFC  0.9551020408163265   0.6866096866096866   \n",
              "0              RFC_grid   0.953469387755102   0.6866096866096866   \n",
              "0              Adaboost  0.8922448979591837  0.43304843304843305   \n",
              "\n",
              "       Train Precision        Val Accuracy           Val Recall  \\\n",
              "0   0.5648854961832062  0.8561904761904762  0.23178807947019867   \n",
              "0  0.37031900138696255  0.7638095238095238   0.7814569536423841   \n",
              "0                  1.0  0.9028571428571428   0.6887417218543046   \n",
              "0   0.8480801335559266  0.8561904761904762   0.7814569536423841   \n",
              "0                  1.0  0.9333333333333333   0.5629139072847682   \n",
              "0   0.9836734693877551  0.9333333333333333   0.5695364238410596   \n",
              "0   0.7004608294930875   0.878095238095238  0.40397350993377484   \n",
              "\n",
              "         Val Precision  \n",
              "0                  0.5  \n",
              "0  0.35435435435435436  \n",
              "0   0.6540880503144654  \n",
              "0                  0.5  \n",
              "0   0.9550561797752809  \n",
              "0    0.945054945054945  \n",
              "0   0.6161616161616161  "
            ],
            "text/html": [
              "\n",
              "  <div id=\"df-ac4544d5-6725-43af-8e35-d0795d9b6b06\">\n",
              "    <div class=\"colab-df-container\">\n",
              "      <div>\n",
              "<style scoped>\n",
              "    .dataframe tbody tr th:only-of-type {\n",
              "        vertical-align: middle;\n",
              "    }\n",
              "\n",
              "    .dataframe tbody tr th {\n",
              "        vertical-align: top;\n",
              "    }\n",
              "\n",
              "    .dataframe thead th {\n",
              "        text-align: right;\n",
              "    }\n",
              "</style>\n",
              "<table border=\"1\" class=\"dataframe\">\n",
              "  <thead>\n",
              "    <tr style=\"text-align: right;\">\n",
              "      <th></th>\n",
              "      <th>Model</th>\n",
              "      <th>Train Accuracy</th>\n",
              "      <th>Train Recall</th>\n",
              "      <th>Train Precision</th>\n",
              "      <th>Val Accuracy</th>\n",
              "      <th>Val Recall</th>\n",
              "      <th>Val Precision</th>\n",
              "    </tr>\n",
              "  </thead>\n",
              "  <tbody>\n",
              "    <tr>\n",
              "      <th>0</th>\n",
              "      <td>Logistic - Reg_Ridge</td>\n",
              "      <td>0.8636734693877551</td>\n",
              "      <td>0.21082621082621084</td>\n",
              "      <td>0.5648854961832062</td>\n",
              "      <td>0.8561904761904762</td>\n",
              "      <td>0.23178807947019867</td>\n",
              "      <td>0.5</td>\n",
              "    </tr>\n",
              "    <tr>\n",
              "      <th>0</th>\n",
              "      <td>Logistic - L1</td>\n",
              "      <td>0.7804081632653062</td>\n",
              "      <td>0.7606837606837606</td>\n",
              "      <td>0.37031900138696255</td>\n",
              "      <td>0.7638095238095238</td>\n",
              "      <td>0.7814569536423841</td>\n",
              "      <td>0.35435435435435436</td>\n",
              "    </tr>\n",
              "    <tr>\n",
              "      <th>0</th>\n",
              "      <td>DT</td>\n",
              "      <td>1.0</td>\n",
              "      <td>1.0</td>\n",
              "      <td>1.0</td>\n",
              "      <td>0.9028571428571428</td>\n",
              "      <td>0.6887417218543046</td>\n",
              "      <td>0.6540880503144654</td>\n",
              "    </tr>\n",
              "    <tr>\n",
              "      <th>0</th>\n",
              "      <td>DT_sm</td>\n",
              "      <td>0.7979990471653168</td>\n",
              "      <td>0.7260600285850405</td>\n",
              "      <td>0.8480801335559266</td>\n",
              "      <td>0.8561904761904762</td>\n",
              "      <td>0.7814569536423841</td>\n",
              "      <td>0.5</td>\n",
              "    </tr>\n",
              "    <tr>\n",
              "      <th>0</th>\n",
              "      <td>RFC</td>\n",
              "      <td>0.9551020408163265</td>\n",
              "      <td>0.6866096866096866</td>\n",
              "      <td>1.0</td>\n",
              "      <td>0.9333333333333333</td>\n",
              "      <td>0.5629139072847682</td>\n",
              "      <td>0.9550561797752809</td>\n",
              "    </tr>\n",
              "    <tr>\n",
              "      <th>0</th>\n",
              "      <td>RFC_grid</td>\n",
              "      <td>0.953469387755102</td>\n",
              "      <td>0.6866096866096866</td>\n",
              "      <td>0.9836734693877551</td>\n",
              "      <td>0.9333333333333333</td>\n",
              "      <td>0.5695364238410596</td>\n",
              "      <td>0.945054945054945</td>\n",
              "    </tr>\n",
              "    <tr>\n",
              "      <th>0</th>\n",
              "      <td>Adaboost</td>\n",
              "      <td>0.8922448979591837</td>\n",
              "      <td>0.43304843304843305</td>\n",
              "      <td>0.7004608294930875</td>\n",
              "      <td>0.878095238095238</td>\n",
              "      <td>0.40397350993377484</td>\n",
              "      <td>0.6161616161616161</td>\n",
              "    </tr>\n",
              "  </tbody>\n",
              "</table>\n",
              "</div>\n",
              "      <button class=\"colab-df-convert\" onclick=\"convertToInteractive('df-ac4544d5-6725-43af-8e35-d0795d9b6b06')\"\n",
              "              title=\"Convert this dataframe to an interactive table.\"\n",
              "              style=\"display:none;\">\n",
              "        \n",
              "  <svg xmlns=\"http://www.w3.org/2000/svg\" height=\"24px\"viewBox=\"0 0 24 24\"\n",
              "       width=\"24px\">\n",
              "    <path d=\"M0 0h24v24H0V0z\" fill=\"none\"/>\n",
              "    <path d=\"M18.56 5.44l.94 2.06.94-2.06 2.06-.94-2.06-.94-.94-2.06-.94 2.06-2.06.94zm-11 1L8.5 8.5l.94-2.06 2.06-.94-2.06-.94L8.5 2.5l-.94 2.06-2.06.94zm10 10l.94 2.06.94-2.06 2.06-.94-2.06-.94-.94-2.06-.94 2.06-2.06.94z\"/><path d=\"M17.41 7.96l-1.37-1.37c-.4-.4-.92-.59-1.43-.59-.52 0-1.04.2-1.43.59L10.3 9.45l-7.72 7.72c-.78.78-.78 2.05 0 2.83L4 21.41c.39.39.9.59 1.41.59.51 0 1.02-.2 1.41-.59l7.78-7.78 2.81-2.81c.8-.78.8-2.07 0-2.86zM5.41 20L4 18.59l7.72-7.72 1.47 1.35L5.41 20z\"/>\n",
              "  </svg>\n",
              "      </button>\n",
              "      \n",
              "  <style>\n",
              "    .colab-df-container {\n",
              "      display:flex;\n",
              "      flex-wrap:wrap;\n",
              "      gap: 12px;\n",
              "    }\n",
              "\n",
              "    .colab-df-convert {\n",
              "      background-color: #E8F0FE;\n",
              "      border: none;\n",
              "      border-radius: 50%;\n",
              "      cursor: pointer;\n",
              "      display: none;\n",
              "      fill: #1967D2;\n",
              "      height: 32px;\n",
              "      padding: 0 0 0 0;\n",
              "      width: 32px;\n",
              "    }\n",
              "\n",
              "    .colab-df-convert:hover {\n",
              "      background-color: #E2EBFA;\n",
              "      box-shadow: 0px 1px 2px rgba(60, 64, 67, 0.3), 0px 1px 3px 1px rgba(60, 64, 67, 0.15);\n",
              "      fill: #174EA6;\n",
              "    }\n",
              "\n",
              "    [theme=dark] .colab-df-convert {\n",
              "      background-color: #3B4455;\n",
              "      fill: #D2E3FC;\n",
              "    }\n",
              "\n",
              "    [theme=dark] .colab-df-convert:hover {\n",
              "      background-color: #434B5C;\n",
              "      box-shadow: 0px 1px 3px 1px rgba(0, 0, 0, 0.15);\n",
              "      filter: drop-shadow(0px 1px 2px rgba(0, 0, 0, 0.3));\n",
              "      fill: #FFFFFF;\n",
              "    }\n",
              "  </style>\n",
              "\n",
              "      <script>\n",
              "        const buttonEl =\n",
              "          document.querySelector('#df-ac4544d5-6725-43af-8e35-d0795d9b6b06 button.colab-df-convert');\n",
              "        buttonEl.style.display =\n",
              "          google.colab.kernel.accessAllowed ? 'block' : 'none';\n",
              "\n",
              "        async function convertToInteractive(key) {\n",
              "          const element = document.querySelector('#df-ac4544d5-6725-43af-8e35-d0795d9b6b06');\n",
              "          const dataTable =\n",
              "            await google.colab.kernel.invokeFunction('convertToInteractive',\n",
              "                                                     [key], {});\n",
              "          if (!dataTable) return;\n",
              "\n",
              "          const docLinkHtml = 'Like what you see? Visit the ' +\n",
              "            '<a target=\"_blank\" href=https://colab.research.google.com/notebooks/data_table.ipynb>data table notebook</a>'\n",
              "            + ' to learn more about interactive tables.';\n",
              "          element.innerHTML = '';\n",
              "          dataTable['output_type'] = 'display_data';\n",
              "          await google.colab.output.renderOutput(dataTable, element);\n",
              "          const docLink = document.createElement('div');\n",
              "          docLink.innerHTML = docLinkHtml;\n",
              "          element.appendChild(docLink);\n",
              "        }\n",
              "      </script>\n",
              "    </div>\n",
              "  </div>\n",
              "  "
            ]
          },
          "metadata": {},
          "execution_count": 157
        }
      ]
    },
    {
      "cell_type": "markdown",
      "source": [
        "Adabost using SMOTE "
      ],
      "metadata": {
        "id": "2CBkmxO5Jr-q"
      }
    },
    {
      "cell_type": "code",
      "source": [
        "adaboost=AdaBoostClassifier()"
      ],
      "metadata": {
        "id": "4SY3MERoJro6"
      },
      "execution_count": null,
      "outputs": []
    },
    {
      "cell_type": "code",
      "source": [
        "adaboost.fit(X_train_sm, y_train_sm)"
      ],
      "metadata": {
        "id": "r734uqC6Vibw",
        "colab": {
          "base_uri": "https://localhost:8080/"
        },
        "outputId": "2e549b66-6529-4611-9d12-3ebb48783250"
      },
      "execution_count": null,
      "outputs": [
        {
          "output_type": "execute_result",
          "data": {
            "text/plain": [
              "AdaBoostClassifier()"
            ]
          },
          "metadata": {},
          "execution_count": 159
        }
      ]
    },
    {
      "cell_type": "code",
      "source": [
        "train_pred_adb_sm= adaboost.predict(X_train_sm)\n",
        "val_pred_adb_sm= adaboost.predict(X_val)"
      ],
      "metadata": {
        "id": "htlstWzkWFvP"
      },
      "execution_count": null,
      "outputs": []
    },
    {
      "cell_type": "code",
      "source": [
        "print(\"--Train--\")\n",
        "evaluate_model(y_train_sm, train_pred_adb_sm)\n",
        "print(\"--Val--\")\n",
        "evaluate_model(Y_val, val_pred_adb_sm)"
      ],
      "metadata": {
        "id": "X_6dYjGkWLME",
        "colab": {
          "base_uri": "https://localhost:8080/"
        },
        "outputId": "c2592e67-aae9-41de-8558-8284df659cc5"
      },
      "execution_count": null,
      "outputs": [
        {
          "output_type": "stream",
          "name": "stdout",
          "text": [
            "--Train--\n",
            "Confusion Matrix \n",
            " [[1885  214]\n",
            " [ 276 1823]]\n",
            "Accurcay :  0.8832777513101477\n",
            "Recall   :  0.8685088137208195\n",
            "Precision:  0.8949435444280806\n",
            "--Val--\n",
            "Confusion Matrix \n",
            " [[797 102]\n",
            " [ 44 107]]\n",
            "Accurcay :  0.8609523809523809\n",
            "Recall   :  0.7086092715231788\n",
            "Precision:  0.5119617224880383\n"
          ]
        }
      ]
    },
    {
      "cell_type": "code",
      "source": [
        "print(classification_report(y_train_sm,train_pred_adb_sm))"
      ],
      "metadata": {
        "colab": {
          "base_uri": "https://localhost:8080/"
        },
        "id": "o6JN2sKXN1eR",
        "outputId": "6eaf29fc-24d3-443f-a29a-23c92e184772"
      },
      "execution_count": null,
      "outputs": [
        {
          "output_type": "stream",
          "name": "stdout",
          "text": [
            "              precision    recall  f1-score   support\n",
            "\n",
            "           0       0.87      0.90      0.88      2099\n",
            "           1       0.89      0.87      0.88      2099\n",
            "\n",
            "    accuracy                           0.88      4198\n",
            "   macro avg       0.88      0.88      0.88      4198\n",
            "weighted avg       0.88      0.88      0.88      4198\n",
            "\n"
          ]
        }
      ]
    },
    {
      "cell_type": "code",
      "source": [
        "print(classification_report(Y_val,val_pred_adb_sm))"
      ],
      "metadata": {
        "colab": {
          "base_uri": "https://localhost:8080/"
        },
        "id": "7zd8JJbSN1Mb",
        "outputId": "7adb43d4-eac4-413a-af19-26a608d2f6fd"
      },
      "execution_count": null,
      "outputs": [
        {
          "output_type": "stream",
          "name": "stdout",
          "text": [
            "              precision    recall  f1-score   support\n",
            "\n",
            "           0       0.95      0.89      0.92       899\n",
            "           1       0.51      0.71      0.59       151\n",
            "\n",
            "    accuracy                           0.86      1050\n",
            "   macro avg       0.73      0.80      0.76      1050\n",
            "weighted avg       0.89      0.86      0.87      1050\n",
            "\n"
          ]
        }
      ]
    },
    {
      "cell_type": "code",
      "source": [
        "train_accuracy_adbs= accuracy_score(y_train_sm,train_pred_adb_sm)\n",
        "train_recall_abds= recall_score(y_train_sm,train_pred_adb_sm)\n",
        "train_precision_adbs= precision_score(y_train_sm,train_pred_adb_sm)\n",
        "\n",
        "val_accuracy_adbs= accuracy_score(Y_val,val_pred_adb_sm)\n",
        "val_recall_adbs= recall_score(Y_val,val_pred_adb_sm)\n",
        "val_precision_adbs= precision_score(Y_val,val_pred_adb_sm)"
      ],
      "metadata": {
        "id": "8oC3OWwTtNBh"
      },
      "execution_count": null,
      "outputs": []
    },
    {
      "cell_type": "code",
      "source": [
        "Adaboost_sm= np.array(['Adaboost_sm',train_accuracy_adbs,train_recall_abds,\n",
        "                          train_precision_adbs,val_accuracy_adbs,val_recall_adbs,\n",
        "                          val_precision_adbs]).reshape(1,7)\n",
        "model_performance = model_performance.append(pd.DataFrame(Adaboost_sm,columns=model_performance.columns))"
      ],
      "metadata": {
        "id": "vviEFsoxtRWX"
      },
      "execution_count": null,
      "outputs": []
    },
    {
      "cell_type": "code",
      "source": [
        "model_performance"
      ],
      "metadata": {
        "colab": {
          "base_uri": "https://localhost:8080/",
          "height": 300
        },
        "id": "RhhEtUuZsalY",
        "outputId": "6c750c0a-5570-4b21-e7c1-b53c5c007973"
      },
      "execution_count": null,
      "outputs": [
        {
          "output_type": "execute_result",
          "data": {
            "text/plain": [
              "                  Model      Train Accuracy         Train Recall  \\\n",
              "0  Logistic - Reg_Ridge  0.8636734693877551  0.21082621082621084   \n",
              "0         Logistic - L1  0.7804081632653062   0.7606837606837606   \n",
              "0                    DT                 1.0                  1.0   \n",
              "0                 DT_sm  0.7979990471653168   0.7260600285850405   \n",
              "0                   RFC  0.9551020408163265   0.6866096866096866   \n",
              "0              RFC_grid   0.953469387755102   0.6866096866096866   \n",
              "0              Adaboost  0.8922448979591837  0.43304843304843305   \n",
              "0           Adaboost_sm  0.8832777513101477   0.8685088137208195   \n",
              "\n",
              "       Train Precision        Val Accuracy           Val Recall  \\\n",
              "0   0.5648854961832062  0.8561904761904762  0.23178807947019867   \n",
              "0  0.37031900138696255  0.7638095238095238   0.7814569536423841   \n",
              "0                  1.0  0.9028571428571428   0.6887417218543046   \n",
              "0   0.8480801335559266  0.8561904761904762   0.7814569536423841   \n",
              "0                  1.0  0.9333333333333333   0.5629139072847682   \n",
              "0   0.9836734693877551  0.9333333333333333   0.5695364238410596   \n",
              "0   0.7004608294930875   0.878095238095238  0.40397350993377484   \n",
              "0   0.8949435444280806  0.8609523809523809   0.7086092715231788   \n",
              "\n",
              "         Val Precision  \n",
              "0                  0.5  \n",
              "0  0.35435435435435436  \n",
              "0   0.6540880503144654  \n",
              "0                  0.5  \n",
              "0   0.9550561797752809  \n",
              "0    0.945054945054945  \n",
              "0   0.6161616161616161  \n",
              "0   0.5119617224880383  "
            ],
            "text/html": [
              "\n",
              "  <div id=\"df-ef002c1b-8dbb-43df-918b-10b6f19cff91\">\n",
              "    <div class=\"colab-df-container\">\n",
              "      <div>\n",
              "<style scoped>\n",
              "    .dataframe tbody tr th:only-of-type {\n",
              "        vertical-align: middle;\n",
              "    }\n",
              "\n",
              "    .dataframe tbody tr th {\n",
              "        vertical-align: top;\n",
              "    }\n",
              "\n",
              "    .dataframe thead th {\n",
              "        text-align: right;\n",
              "    }\n",
              "</style>\n",
              "<table border=\"1\" class=\"dataframe\">\n",
              "  <thead>\n",
              "    <tr style=\"text-align: right;\">\n",
              "      <th></th>\n",
              "      <th>Model</th>\n",
              "      <th>Train Accuracy</th>\n",
              "      <th>Train Recall</th>\n",
              "      <th>Train Precision</th>\n",
              "      <th>Val Accuracy</th>\n",
              "      <th>Val Recall</th>\n",
              "      <th>Val Precision</th>\n",
              "    </tr>\n",
              "  </thead>\n",
              "  <tbody>\n",
              "    <tr>\n",
              "      <th>0</th>\n",
              "      <td>Logistic - Reg_Ridge</td>\n",
              "      <td>0.8636734693877551</td>\n",
              "      <td>0.21082621082621084</td>\n",
              "      <td>0.5648854961832062</td>\n",
              "      <td>0.8561904761904762</td>\n",
              "      <td>0.23178807947019867</td>\n",
              "      <td>0.5</td>\n",
              "    </tr>\n",
              "    <tr>\n",
              "      <th>0</th>\n",
              "      <td>Logistic - L1</td>\n",
              "      <td>0.7804081632653062</td>\n",
              "      <td>0.7606837606837606</td>\n",
              "      <td>0.37031900138696255</td>\n",
              "      <td>0.7638095238095238</td>\n",
              "      <td>0.7814569536423841</td>\n",
              "      <td>0.35435435435435436</td>\n",
              "    </tr>\n",
              "    <tr>\n",
              "      <th>0</th>\n",
              "      <td>DT</td>\n",
              "      <td>1.0</td>\n",
              "      <td>1.0</td>\n",
              "      <td>1.0</td>\n",
              "      <td>0.9028571428571428</td>\n",
              "      <td>0.6887417218543046</td>\n",
              "      <td>0.6540880503144654</td>\n",
              "    </tr>\n",
              "    <tr>\n",
              "      <th>0</th>\n",
              "      <td>DT_sm</td>\n",
              "      <td>0.7979990471653168</td>\n",
              "      <td>0.7260600285850405</td>\n",
              "      <td>0.8480801335559266</td>\n",
              "      <td>0.8561904761904762</td>\n",
              "      <td>0.7814569536423841</td>\n",
              "      <td>0.5</td>\n",
              "    </tr>\n",
              "    <tr>\n",
              "      <th>0</th>\n",
              "      <td>RFC</td>\n",
              "      <td>0.9551020408163265</td>\n",
              "      <td>0.6866096866096866</td>\n",
              "      <td>1.0</td>\n",
              "      <td>0.9333333333333333</td>\n",
              "      <td>0.5629139072847682</td>\n",
              "      <td>0.9550561797752809</td>\n",
              "    </tr>\n",
              "    <tr>\n",
              "      <th>0</th>\n",
              "      <td>RFC_grid</td>\n",
              "      <td>0.953469387755102</td>\n",
              "      <td>0.6866096866096866</td>\n",
              "      <td>0.9836734693877551</td>\n",
              "      <td>0.9333333333333333</td>\n",
              "      <td>0.5695364238410596</td>\n",
              "      <td>0.945054945054945</td>\n",
              "    </tr>\n",
              "    <tr>\n",
              "      <th>0</th>\n",
              "      <td>Adaboost</td>\n",
              "      <td>0.8922448979591837</td>\n",
              "      <td>0.43304843304843305</td>\n",
              "      <td>0.7004608294930875</td>\n",
              "      <td>0.878095238095238</td>\n",
              "      <td>0.40397350993377484</td>\n",
              "      <td>0.6161616161616161</td>\n",
              "    </tr>\n",
              "    <tr>\n",
              "      <th>0</th>\n",
              "      <td>Adaboost_sm</td>\n",
              "      <td>0.8832777513101477</td>\n",
              "      <td>0.8685088137208195</td>\n",
              "      <td>0.8949435444280806</td>\n",
              "      <td>0.8609523809523809</td>\n",
              "      <td>0.7086092715231788</td>\n",
              "      <td>0.5119617224880383</td>\n",
              "    </tr>\n",
              "  </tbody>\n",
              "</table>\n",
              "</div>\n",
              "      <button class=\"colab-df-convert\" onclick=\"convertToInteractive('df-ef002c1b-8dbb-43df-918b-10b6f19cff91')\"\n",
              "              title=\"Convert this dataframe to an interactive table.\"\n",
              "              style=\"display:none;\">\n",
              "        \n",
              "  <svg xmlns=\"http://www.w3.org/2000/svg\" height=\"24px\"viewBox=\"0 0 24 24\"\n",
              "       width=\"24px\">\n",
              "    <path d=\"M0 0h24v24H0V0z\" fill=\"none\"/>\n",
              "    <path d=\"M18.56 5.44l.94 2.06.94-2.06 2.06-.94-2.06-.94-.94-2.06-.94 2.06-2.06.94zm-11 1L8.5 8.5l.94-2.06 2.06-.94-2.06-.94L8.5 2.5l-.94 2.06-2.06.94zm10 10l.94 2.06.94-2.06 2.06-.94-2.06-.94-.94-2.06-.94 2.06-2.06.94z\"/><path d=\"M17.41 7.96l-1.37-1.37c-.4-.4-.92-.59-1.43-.59-.52 0-1.04.2-1.43.59L10.3 9.45l-7.72 7.72c-.78.78-.78 2.05 0 2.83L4 21.41c.39.39.9.59 1.41.59.51 0 1.02-.2 1.41-.59l7.78-7.78 2.81-2.81c.8-.78.8-2.07 0-2.86zM5.41 20L4 18.59l7.72-7.72 1.47 1.35L5.41 20z\"/>\n",
              "  </svg>\n",
              "      </button>\n",
              "      \n",
              "  <style>\n",
              "    .colab-df-container {\n",
              "      display:flex;\n",
              "      flex-wrap:wrap;\n",
              "      gap: 12px;\n",
              "    }\n",
              "\n",
              "    .colab-df-convert {\n",
              "      background-color: #E8F0FE;\n",
              "      border: none;\n",
              "      border-radius: 50%;\n",
              "      cursor: pointer;\n",
              "      display: none;\n",
              "      fill: #1967D2;\n",
              "      height: 32px;\n",
              "      padding: 0 0 0 0;\n",
              "      width: 32px;\n",
              "    }\n",
              "\n",
              "    .colab-df-convert:hover {\n",
              "      background-color: #E2EBFA;\n",
              "      box-shadow: 0px 1px 2px rgba(60, 64, 67, 0.3), 0px 1px 3px 1px rgba(60, 64, 67, 0.15);\n",
              "      fill: #174EA6;\n",
              "    }\n",
              "\n",
              "    [theme=dark] .colab-df-convert {\n",
              "      background-color: #3B4455;\n",
              "      fill: #D2E3FC;\n",
              "    }\n",
              "\n",
              "    [theme=dark] .colab-df-convert:hover {\n",
              "      background-color: #434B5C;\n",
              "      box-shadow: 0px 1px 3px 1px rgba(0, 0, 0, 0.15);\n",
              "      filter: drop-shadow(0px 1px 2px rgba(0, 0, 0, 0.3));\n",
              "      fill: #FFFFFF;\n",
              "    }\n",
              "  </style>\n",
              "\n",
              "      <script>\n",
              "        const buttonEl =\n",
              "          document.querySelector('#df-ef002c1b-8dbb-43df-918b-10b6f19cff91 button.colab-df-convert');\n",
              "        buttonEl.style.display =\n",
              "          google.colab.kernel.accessAllowed ? 'block' : 'none';\n",
              "\n",
              "        async function convertToInteractive(key) {\n",
              "          const element = document.querySelector('#df-ef002c1b-8dbb-43df-918b-10b6f19cff91');\n",
              "          const dataTable =\n",
              "            await google.colab.kernel.invokeFunction('convertToInteractive',\n",
              "                                                     [key], {});\n",
              "          if (!dataTable) return;\n",
              "\n",
              "          const docLinkHtml = 'Like what you see? Visit the ' +\n",
              "            '<a target=\"_blank\" href=https://colab.research.google.com/notebooks/data_table.ipynb>data table notebook</a>'\n",
              "            + ' to learn more about interactive tables.';\n",
              "          element.innerHTML = '';\n",
              "          dataTable['output_type'] = 'display_data';\n",
              "          await google.colab.output.renderOutput(dataTable, element);\n",
              "          const docLink = document.createElement('div');\n",
              "          docLink.innerHTML = docLinkHtml;\n",
              "          element.appendChild(docLink);\n",
              "        }\n",
              "      </script>\n",
              "    </div>\n",
              "  </div>\n",
              "  "
            ]
          },
          "metadata": {},
          "execution_count": 166
        }
      ]
    },
    {
      "cell_type": "markdown",
      "source": [
        "Gradient Boosting"
      ],
      "metadata": {
        "id": "z2ZDaipixxMC"
      }
    },
    {
      "cell_type": "code",
      "source": [
        "from sklearn.ensemble import GradientBoostingClassifier\n",
        "\n"
      ],
      "metadata": {
        "id": "w-dPaaTCxuHQ"
      },
      "execution_count": null,
      "outputs": []
    },
    {
      "cell_type": "code",
      "source": [
        "GB=GradientBoostingClassifier()"
      ],
      "metadata": {
        "id": "H8HvWPxSxqE5"
      },
      "execution_count": null,
      "outputs": []
    },
    {
      "cell_type": "code",
      "source": [
        "GB.fit(X_train,Y_train)"
      ],
      "metadata": {
        "colab": {
          "base_uri": "https://localhost:8080/"
        },
        "id": "mEQT-JNZyGd6",
        "outputId": "58867990-0a49-4506-9f44-eeb161917248"
      },
      "execution_count": null,
      "outputs": [
        {
          "output_type": "execute_result",
          "data": {
            "text/plain": [
              "GradientBoostingClassifier()"
            ]
          },
          "metadata": {},
          "execution_count": 169
        }
      ]
    },
    {
      "cell_type": "code",
      "source": [
        "train_pred_gb=GB.predict(X_train)\n",
        "val_pred_gb=GB.predict(X_val)"
      ],
      "metadata": {
        "id": "paJHUvO2yGPF"
      },
      "execution_count": null,
      "outputs": []
    },
    {
      "cell_type": "code",
      "source": [
        "print(\"--Train--\")\n",
        "evaluate_model(Y_train, train_pred_gb)\n",
        "print(\"--Val--\")\n",
        "evaluate_model(Y_val, val_pred_gb)"
      ],
      "metadata": {
        "colab": {
          "base_uri": "https://localhost:8080/"
        },
        "id": "D7HFXmmFysTd",
        "outputId": "4de9e114-38d3-49d4-a4b6-322d4bb20c69"
      },
      "execution_count": null,
      "outputs": [
        {
          "output_type": "stream",
          "name": "stdout",
          "text": [
            "--Train--\n",
            "Confusion Matrix \n",
            " [[2097    2]\n",
            " [  69  282]]\n",
            "Accurcay :  0.9710204081632653\n",
            "Recall   :  0.8034188034188035\n",
            "Precision:  0.9929577464788732\n",
            "--Val--\n",
            "Confusion Matrix \n",
            " [[888  11]\n",
            " [ 39 112]]\n",
            "Accurcay :  0.9523809523809523\n",
            "Recall   :  0.7417218543046358\n",
            "Precision:  0.9105691056910569\n"
          ]
        }
      ]
    },
    {
      "cell_type": "code",
      "source": [
        "print(classification_report(Y_train,train_pred_gb))"
      ],
      "metadata": {
        "id": "T5j7go4lysG6",
        "colab": {
          "base_uri": "https://localhost:8080/"
        },
        "outputId": "c397a312-d1de-4dbd-c21e-eef4e4c06990"
      },
      "execution_count": null,
      "outputs": [
        {
          "output_type": "stream",
          "name": "stdout",
          "text": [
            "              precision    recall  f1-score   support\n",
            "\n",
            "           0       0.97      1.00      0.98      2099\n",
            "           1       0.99      0.80      0.89       351\n",
            "\n",
            "    accuracy                           0.97      2450\n",
            "   macro avg       0.98      0.90      0.94      2450\n",
            "weighted avg       0.97      0.97      0.97      2450\n",
            "\n"
          ]
        }
      ]
    },
    {
      "cell_type": "code",
      "source": [
        "\n",
        "print(classification_report(Y_val,val_pred_gb))"
      ],
      "metadata": {
        "colab": {
          "base_uri": "https://localhost:8080/"
        },
        "id": "jOtSTXe-OH68",
        "outputId": "707736bd-db56-4ded-e2ed-a985aa3c3980"
      },
      "execution_count": null,
      "outputs": [
        {
          "output_type": "stream",
          "name": "stdout",
          "text": [
            "              precision    recall  f1-score   support\n",
            "\n",
            "           0       0.96      0.99      0.97       899\n",
            "           1       0.91      0.74      0.82       151\n",
            "\n",
            "    accuracy                           0.95      1050\n",
            "   macro avg       0.93      0.86      0.90      1050\n",
            "weighted avg       0.95      0.95      0.95      1050\n",
            "\n"
          ]
        }
      ]
    },
    {
      "cell_type": "code",
      "source": [
        "train_accuracy_gb= accuracy_score(Y_train,train_pred_gb)\n",
        "train_recall_gb= recall_score(Y_train,train_pred_gb)\n",
        "train_precision_gb= precision_score(Y_train,train_pred_gb)\n",
        "\n",
        "val_accuracy_gb= accuracy_score(Y_val,val_pred_gb)\n",
        "val_recall_gb= recall_score(Y_val,val_pred_gb)\n",
        "val_precision_gb= precision_score(Y_val,val_pred_gb)"
      ],
      "metadata": {
        "id": "taUjEPN5OP7S"
      },
      "execution_count": null,
      "outputs": []
    },
    {
      "cell_type": "code",
      "source": [
        "Grad_boost= np.array(['Gradient_Boosting',train_accuracy_gb,train_recall_gb,\n",
        "                          train_precision_gb,val_accuracy_gb,val_recall_gb,\n",
        "                          val_precision_gb]).reshape(1,7)\n",
        "model_performance = model_performance.append(pd.DataFrame(Grad_boost,columns=model_performance.columns))"
      ],
      "metadata": {
        "id": "Dt_4_x_IOPrr"
      },
      "execution_count": null,
      "outputs": []
    },
    {
      "cell_type": "code",
      "source": [
        "model_performance"
      ],
      "metadata": {
        "colab": {
          "base_uri": "https://localhost:8080/",
          "height": 332
        },
        "id": "_7LX4qLfhLGu",
        "outputId": "a4de8be2-f43c-4755-d399-b78f04cc0f95"
      },
      "execution_count": null,
      "outputs": [
        {
          "output_type": "execute_result",
          "data": {
            "text/plain": [
              "                  Model      Train Accuracy         Train Recall  \\\n",
              "0  Logistic - Reg_Ridge  0.8636734693877551  0.21082621082621084   \n",
              "0         Logistic - L1  0.7804081632653062   0.7606837606837606   \n",
              "0                    DT                 1.0                  1.0   \n",
              "0                 DT_sm  0.7979990471653168   0.7260600285850405   \n",
              "0                   RFC  0.9551020408163265   0.6866096866096866   \n",
              "0              RFC_grid   0.953469387755102   0.6866096866096866   \n",
              "0              Adaboost  0.8922448979591837  0.43304843304843305   \n",
              "0           Adaboost_sm  0.8832777513101477   0.8685088137208195   \n",
              "0     Gradient_Boosting  0.9710204081632653   0.8034188034188035   \n",
              "\n",
              "       Train Precision        Val Accuracy           Val Recall  \\\n",
              "0   0.5648854961832062  0.8561904761904762  0.23178807947019867   \n",
              "0  0.37031900138696255  0.7638095238095238   0.7814569536423841   \n",
              "0                  1.0  0.9028571428571428   0.6887417218543046   \n",
              "0   0.8480801335559266  0.8561904761904762   0.7814569536423841   \n",
              "0                  1.0  0.9333333333333333   0.5629139072847682   \n",
              "0   0.9836734693877551  0.9333333333333333   0.5695364238410596   \n",
              "0   0.7004608294930875   0.878095238095238  0.40397350993377484   \n",
              "0   0.8949435444280806  0.8609523809523809   0.7086092715231788   \n",
              "0   0.9929577464788732  0.9523809523809523   0.7417218543046358   \n",
              "\n",
              "         Val Precision  \n",
              "0                  0.5  \n",
              "0  0.35435435435435436  \n",
              "0   0.6540880503144654  \n",
              "0                  0.5  \n",
              "0   0.9550561797752809  \n",
              "0    0.945054945054945  \n",
              "0   0.6161616161616161  \n",
              "0   0.5119617224880383  \n",
              "0   0.9105691056910569  "
            ],
            "text/html": [
              "\n",
              "  <div id=\"df-306fd55f-5996-4df8-81f9-b56fcf5c945d\">\n",
              "    <div class=\"colab-df-container\">\n",
              "      <div>\n",
              "<style scoped>\n",
              "    .dataframe tbody tr th:only-of-type {\n",
              "        vertical-align: middle;\n",
              "    }\n",
              "\n",
              "    .dataframe tbody tr th {\n",
              "        vertical-align: top;\n",
              "    }\n",
              "\n",
              "    .dataframe thead th {\n",
              "        text-align: right;\n",
              "    }\n",
              "</style>\n",
              "<table border=\"1\" class=\"dataframe\">\n",
              "  <thead>\n",
              "    <tr style=\"text-align: right;\">\n",
              "      <th></th>\n",
              "      <th>Model</th>\n",
              "      <th>Train Accuracy</th>\n",
              "      <th>Train Recall</th>\n",
              "      <th>Train Precision</th>\n",
              "      <th>Val Accuracy</th>\n",
              "      <th>Val Recall</th>\n",
              "      <th>Val Precision</th>\n",
              "    </tr>\n",
              "  </thead>\n",
              "  <tbody>\n",
              "    <tr>\n",
              "      <th>0</th>\n",
              "      <td>Logistic - Reg_Ridge</td>\n",
              "      <td>0.8636734693877551</td>\n",
              "      <td>0.21082621082621084</td>\n",
              "      <td>0.5648854961832062</td>\n",
              "      <td>0.8561904761904762</td>\n",
              "      <td>0.23178807947019867</td>\n",
              "      <td>0.5</td>\n",
              "    </tr>\n",
              "    <tr>\n",
              "      <th>0</th>\n",
              "      <td>Logistic - L1</td>\n",
              "      <td>0.7804081632653062</td>\n",
              "      <td>0.7606837606837606</td>\n",
              "      <td>0.37031900138696255</td>\n",
              "      <td>0.7638095238095238</td>\n",
              "      <td>0.7814569536423841</td>\n",
              "      <td>0.35435435435435436</td>\n",
              "    </tr>\n",
              "    <tr>\n",
              "      <th>0</th>\n",
              "      <td>DT</td>\n",
              "      <td>1.0</td>\n",
              "      <td>1.0</td>\n",
              "      <td>1.0</td>\n",
              "      <td>0.9028571428571428</td>\n",
              "      <td>0.6887417218543046</td>\n",
              "      <td>0.6540880503144654</td>\n",
              "    </tr>\n",
              "    <tr>\n",
              "      <th>0</th>\n",
              "      <td>DT_sm</td>\n",
              "      <td>0.7979990471653168</td>\n",
              "      <td>0.7260600285850405</td>\n",
              "      <td>0.8480801335559266</td>\n",
              "      <td>0.8561904761904762</td>\n",
              "      <td>0.7814569536423841</td>\n",
              "      <td>0.5</td>\n",
              "    </tr>\n",
              "    <tr>\n",
              "      <th>0</th>\n",
              "      <td>RFC</td>\n",
              "      <td>0.9551020408163265</td>\n",
              "      <td>0.6866096866096866</td>\n",
              "      <td>1.0</td>\n",
              "      <td>0.9333333333333333</td>\n",
              "      <td>0.5629139072847682</td>\n",
              "      <td>0.9550561797752809</td>\n",
              "    </tr>\n",
              "    <tr>\n",
              "      <th>0</th>\n",
              "      <td>RFC_grid</td>\n",
              "      <td>0.953469387755102</td>\n",
              "      <td>0.6866096866096866</td>\n",
              "      <td>0.9836734693877551</td>\n",
              "      <td>0.9333333333333333</td>\n",
              "      <td>0.5695364238410596</td>\n",
              "      <td>0.945054945054945</td>\n",
              "    </tr>\n",
              "    <tr>\n",
              "      <th>0</th>\n",
              "      <td>Adaboost</td>\n",
              "      <td>0.8922448979591837</td>\n",
              "      <td>0.43304843304843305</td>\n",
              "      <td>0.7004608294930875</td>\n",
              "      <td>0.878095238095238</td>\n",
              "      <td>0.40397350993377484</td>\n",
              "      <td>0.6161616161616161</td>\n",
              "    </tr>\n",
              "    <tr>\n",
              "      <th>0</th>\n",
              "      <td>Adaboost_sm</td>\n",
              "      <td>0.8832777513101477</td>\n",
              "      <td>0.8685088137208195</td>\n",
              "      <td>0.8949435444280806</td>\n",
              "      <td>0.8609523809523809</td>\n",
              "      <td>0.7086092715231788</td>\n",
              "      <td>0.5119617224880383</td>\n",
              "    </tr>\n",
              "    <tr>\n",
              "      <th>0</th>\n",
              "      <td>Gradient_Boosting</td>\n",
              "      <td>0.9710204081632653</td>\n",
              "      <td>0.8034188034188035</td>\n",
              "      <td>0.9929577464788732</td>\n",
              "      <td>0.9523809523809523</td>\n",
              "      <td>0.7417218543046358</td>\n",
              "      <td>0.9105691056910569</td>\n",
              "    </tr>\n",
              "  </tbody>\n",
              "</table>\n",
              "</div>\n",
              "      <button class=\"colab-df-convert\" onclick=\"convertToInteractive('df-306fd55f-5996-4df8-81f9-b56fcf5c945d')\"\n",
              "              title=\"Convert this dataframe to an interactive table.\"\n",
              "              style=\"display:none;\">\n",
              "        \n",
              "  <svg xmlns=\"http://www.w3.org/2000/svg\" height=\"24px\"viewBox=\"0 0 24 24\"\n",
              "       width=\"24px\">\n",
              "    <path d=\"M0 0h24v24H0V0z\" fill=\"none\"/>\n",
              "    <path d=\"M18.56 5.44l.94 2.06.94-2.06 2.06-.94-2.06-.94-.94-2.06-.94 2.06-2.06.94zm-11 1L8.5 8.5l.94-2.06 2.06-.94-2.06-.94L8.5 2.5l-.94 2.06-2.06.94zm10 10l.94 2.06.94-2.06 2.06-.94-2.06-.94-.94-2.06-.94 2.06-2.06.94z\"/><path d=\"M17.41 7.96l-1.37-1.37c-.4-.4-.92-.59-1.43-.59-.52 0-1.04.2-1.43.59L10.3 9.45l-7.72 7.72c-.78.78-.78 2.05 0 2.83L4 21.41c.39.39.9.59 1.41.59.51 0 1.02-.2 1.41-.59l7.78-7.78 2.81-2.81c.8-.78.8-2.07 0-2.86zM5.41 20L4 18.59l7.72-7.72 1.47 1.35L5.41 20z\"/>\n",
              "  </svg>\n",
              "      </button>\n",
              "      \n",
              "  <style>\n",
              "    .colab-df-container {\n",
              "      display:flex;\n",
              "      flex-wrap:wrap;\n",
              "      gap: 12px;\n",
              "    }\n",
              "\n",
              "    .colab-df-convert {\n",
              "      background-color: #E8F0FE;\n",
              "      border: none;\n",
              "      border-radius: 50%;\n",
              "      cursor: pointer;\n",
              "      display: none;\n",
              "      fill: #1967D2;\n",
              "      height: 32px;\n",
              "      padding: 0 0 0 0;\n",
              "      width: 32px;\n",
              "    }\n",
              "\n",
              "    .colab-df-convert:hover {\n",
              "      background-color: #E2EBFA;\n",
              "      box-shadow: 0px 1px 2px rgba(60, 64, 67, 0.3), 0px 1px 3px 1px rgba(60, 64, 67, 0.15);\n",
              "      fill: #174EA6;\n",
              "    }\n",
              "\n",
              "    [theme=dark] .colab-df-convert {\n",
              "      background-color: #3B4455;\n",
              "      fill: #D2E3FC;\n",
              "    }\n",
              "\n",
              "    [theme=dark] .colab-df-convert:hover {\n",
              "      background-color: #434B5C;\n",
              "      box-shadow: 0px 1px 3px 1px rgba(0, 0, 0, 0.15);\n",
              "      filter: drop-shadow(0px 1px 2px rgba(0, 0, 0, 0.3));\n",
              "      fill: #FFFFFF;\n",
              "    }\n",
              "  </style>\n",
              "\n",
              "      <script>\n",
              "        const buttonEl =\n",
              "          document.querySelector('#df-306fd55f-5996-4df8-81f9-b56fcf5c945d button.colab-df-convert');\n",
              "        buttonEl.style.display =\n",
              "          google.colab.kernel.accessAllowed ? 'block' : 'none';\n",
              "\n",
              "        async function convertToInteractive(key) {\n",
              "          const element = document.querySelector('#df-306fd55f-5996-4df8-81f9-b56fcf5c945d');\n",
              "          const dataTable =\n",
              "            await google.colab.kernel.invokeFunction('convertToInteractive',\n",
              "                                                     [key], {});\n",
              "          if (!dataTable) return;\n",
              "\n",
              "          const docLinkHtml = 'Like what you see? Visit the ' +\n",
              "            '<a target=\"_blank\" href=https://colab.research.google.com/notebooks/data_table.ipynb>data table notebook</a>'\n",
              "            + ' to learn more about interactive tables.';\n",
              "          element.innerHTML = '';\n",
              "          dataTable['output_type'] = 'display_data';\n",
              "          await google.colab.output.renderOutput(dataTable, element);\n",
              "          const docLink = document.createElement('div');\n",
              "          docLink.innerHTML = docLinkHtml;\n",
              "          element.appendChild(docLink);\n",
              "        }\n",
              "      </script>\n",
              "    </div>\n",
              "  </div>\n",
              "  "
            ]
          },
          "metadata": {},
          "execution_count": 176
        }
      ]
    },
    {
      "cell_type": "markdown",
      "source": [
        "XGBOOST"
      ],
      "metadata": {
        "id": "6IimeMVsWqIA"
      }
    },
    {
      "cell_type": "code",
      "source": [
        "from xgboost import XGBClassifier\n"
      ],
      "metadata": {
        "id": "K_fBi_snW3Xz"
      },
      "execution_count": null,
      "outputs": []
    },
    {
      "cell_type": "code",
      "source": [
        "xgb = XGBClassifier()"
      ],
      "metadata": {
        "id": "LflmyDGCWWOM"
      },
      "execution_count": null,
      "outputs": []
    },
    {
      "cell_type": "code",
      "source": [
        "param_grid = {\n",
        "    'colsample_bytree': np.linspace(0.6, 0.8, 2),\n",
        "    'n_estimators': [50, 100],\n",
        "    'max_depth': [5, 6]}\n",
        "\n",
        "CV_XGB = GridSearchCV(estimator=xgb, param_grid=param_grid, cv=3)"
      ],
      "metadata": {
        "id": "fV_XHqnrcc-s"
      },
      "execution_count": null,
      "outputs": []
    },
    {
      "cell_type": "code",
      "source": [
        "CV_XGB.fit(X_train,Y_train)"
      ],
      "metadata": {
        "id": "y0ZmtAMxWug8",
        "colab": {
          "base_uri": "https://localhost:8080/"
        },
        "outputId": "cc2b79e9-2435-4f07-813e-f9b7542d33ef"
      },
      "execution_count": null,
      "outputs": [
        {
          "output_type": "execute_result",
          "data": {
            "text/plain": [
              "GridSearchCV(cv=3, estimator=XGBClassifier(),\n",
              "             param_grid={'colsample_bytree': array([0.6, 0.8]),\n",
              "                         'max_depth': [5, 6], 'n_estimators': [50, 100]})"
            ]
          },
          "metadata": {},
          "execution_count": 180
        }
      ]
    },
    {
      "cell_type": "code",
      "source": [
        "train_pred_xgb=CV_XGB.predict(X_train)\n",
        "val_pred_xgb= CV_XGB.predict(X_val)"
      ],
      "metadata": {
        "id": "tnCXlAZmXA5s"
      },
      "execution_count": null,
      "outputs": []
    },
    {
      "cell_type": "code",
      "source": [
        "print(\"--Train--\")\n",
        "evaluate_model(Y_train, train_pred_xgb)\n",
        "print(\"--val--\")\n",
        "evaluate_model(Y_val, val_pred_xgb)"
      ],
      "metadata": {
        "id": "LYCQR1SqXGNv",
        "colab": {
          "base_uri": "https://localhost:8080/"
        },
        "outputId": "7e842d7c-3bc6-4d0b-f68e-12e184650ed0"
      },
      "execution_count": null,
      "outputs": [
        {
          "output_type": "stream",
          "name": "stdout",
          "text": [
            "--Train--\n",
            "Confusion Matrix \n",
            " [[2099    0]\n",
            " [  58  293]]\n",
            "Accurcay :  0.976326530612245\n",
            "Recall   :  0.8347578347578347\n",
            "Precision:  1.0\n",
            "--val--\n",
            "Confusion Matrix \n",
            " [[893   6]\n",
            " [ 37 114]]\n",
            "Accurcay :  0.959047619047619\n",
            "Recall   :  0.7549668874172185\n",
            "Precision:  0.95\n"
          ]
        }
      ]
    },
    {
      "cell_type": "code",
      "source": [
        "print(classification_report(Y_train,train_pred_xgb))"
      ],
      "metadata": {
        "colab": {
          "base_uri": "https://localhost:8080/"
        },
        "id": "fOvH7YYTQMOZ",
        "outputId": "c397f2f7-246a-4a25-b07f-7b50f071ded9"
      },
      "execution_count": null,
      "outputs": [
        {
          "output_type": "stream",
          "name": "stdout",
          "text": [
            "              precision    recall  f1-score   support\n",
            "\n",
            "           0       0.97      1.00      0.99      2099\n",
            "           1       1.00      0.83      0.91       351\n",
            "\n",
            "    accuracy                           0.98      2450\n",
            "   macro avg       0.99      0.92      0.95      2450\n",
            "weighted avg       0.98      0.98      0.98      2450\n",
            "\n"
          ]
        }
      ]
    },
    {
      "cell_type": "code",
      "source": [
        "\n",
        "print(classification_report(Y_val,val_pred_xgb))"
      ],
      "metadata": {
        "colab": {
          "base_uri": "https://localhost:8080/"
        },
        "id": "HjUBilTmQL_g",
        "outputId": "073520dd-1731-4549-b85d-1760a3f45717"
      },
      "execution_count": null,
      "outputs": [
        {
          "output_type": "stream",
          "name": "stdout",
          "text": [
            "              precision    recall  f1-score   support\n",
            "\n",
            "           0       0.96      0.99      0.98       899\n",
            "           1       0.95      0.75      0.84       151\n",
            "\n",
            "    accuracy                           0.96      1050\n",
            "   macro avg       0.96      0.87      0.91      1050\n",
            "weighted avg       0.96      0.96      0.96      1050\n",
            "\n"
          ]
        }
      ]
    },
    {
      "cell_type": "code",
      "source": [
        "train_accuracy_xg= accuracy_score(Y_train,train_pred_xgb)\n",
        "train_recall_xg= recall_score(Y_train,train_pred_xgb)\n",
        "train_precision_xg= precision_score(Y_train,train_pred_xgb)\n",
        "\n",
        "val_accuracy_xg= accuracy_score(Y_val,val_pred_xgb)\n",
        "val_recall_xg= recall_score(Y_val,val_pred_xgb)\n",
        "val_precision_xg= precision_score(Y_val,val_pred_xgb)"
      ],
      "metadata": {
        "id": "5WRc8KlbXj27"
      },
      "execution_count": null,
      "outputs": []
    },
    {
      "cell_type": "code",
      "source": [
        "XGB= np.array(['XGB',train_accuracy_xg,train_recall_xg,\n",
        "                          train_precision_xg,val_accuracy_xg,val_recall_xg,\n",
        "                          val_precision_xg]).reshape(1,7)\n",
        "model_performance = model_performance.append(pd.DataFrame(XGB,columns=model_performance.columns))"
      ],
      "metadata": {
        "id": "LiATnnxRuT77"
      },
      "execution_count": null,
      "outputs": []
    },
    {
      "cell_type": "code",
      "source": [
        "model_performance"
      ],
      "metadata": {
        "colab": {
          "base_uri": "https://localhost:8080/",
          "height": 363
        },
        "id": "aXo9IrYMFfII",
        "outputId": "ba8d7574-be31-4f67-c424-e4dc04878ac3"
      },
      "execution_count": null,
      "outputs": [
        {
          "output_type": "execute_result",
          "data": {
            "text/plain": [
              "                  Model      Train Accuracy         Train Recall  \\\n",
              "0  Logistic - Reg_Ridge  0.8636734693877551  0.21082621082621084   \n",
              "0         Logistic - L1  0.7804081632653062   0.7606837606837606   \n",
              "0                    DT                 1.0                  1.0   \n",
              "0                 DT_sm  0.7979990471653168   0.7260600285850405   \n",
              "0                   RFC  0.9551020408163265   0.6866096866096866   \n",
              "0              RFC_grid   0.953469387755102   0.6866096866096866   \n",
              "0              Adaboost  0.8922448979591837  0.43304843304843305   \n",
              "0           Adaboost_sm  0.8832777513101477   0.8685088137208195   \n",
              "0     Gradient_Boosting  0.9710204081632653   0.8034188034188035   \n",
              "0                   XGB   0.976326530612245   0.8347578347578347   \n",
              "\n",
              "       Train Precision        Val Accuracy           Val Recall  \\\n",
              "0   0.5648854961832062  0.8561904761904762  0.23178807947019867   \n",
              "0  0.37031900138696255  0.7638095238095238   0.7814569536423841   \n",
              "0                  1.0  0.9028571428571428   0.6887417218543046   \n",
              "0   0.8480801335559266  0.8561904761904762   0.7814569536423841   \n",
              "0                  1.0  0.9333333333333333   0.5629139072847682   \n",
              "0   0.9836734693877551  0.9333333333333333   0.5695364238410596   \n",
              "0   0.7004608294930875   0.878095238095238  0.40397350993377484   \n",
              "0   0.8949435444280806  0.8609523809523809   0.7086092715231788   \n",
              "0   0.9929577464788732  0.9523809523809523   0.7417218543046358   \n",
              "0                  1.0   0.959047619047619   0.7549668874172185   \n",
              "\n",
              "         Val Precision  \n",
              "0                  0.5  \n",
              "0  0.35435435435435436  \n",
              "0   0.6540880503144654  \n",
              "0                  0.5  \n",
              "0   0.9550561797752809  \n",
              "0    0.945054945054945  \n",
              "0   0.6161616161616161  \n",
              "0   0.5119617224880383  \n",
              "0   0.9105691056910569  \n",
              "0                 0.95  "
            ],
            "text/html": [
              "\n",
              "  <div id=\"df-7442401f-67ea-47d3-934f-32e449bc03eb\">\n",
              "    <div class=\"colab-df-container\">\n",
              "      <div>\n",
              "<style scoped>\n",
              "    .dataframe tbody tr th:only-of-type {\n",
              "        vertical-align: middle;\n",
              "    }\n",
              "\n",
              "    .dataframe tbody tr th {\n",
              "        vertical-align: top;\n",
              "    }\n",
              "\n",
              "    .dataframe thead th {\n",
              "        text-align: right;\n",
              "    }\n",
              "</style>\n",
              "<table border=\"1\" class=\"dataframe\">\n",
              "  <thead>\n",
              "    <tr style=\"text-align: right;\">\n",
              "      <th></th>\n",
              "      <th>Model</th>\n",
              "      <th>Train Accuracy</th>\n",
              "      <th>Train Recall</th>\n",
              "      <th>Train Precision</th>\n",
              "      <th>Val Accuracy</th>\n",
              "      <th>Val Recall</th>\n",
              "      <th>Val Precision</th>\n",
              "    </tr>\n",
              "  </thead>\n",
              "  <tbody>\n",
              "    <tr>\n",
              "      <th>0</th>\n",
              "      <td>Logistic - Reg_Ridge</td>\n",
              "      <td>0.8636734693877551</td>\n",
              "      <td>0.21082621082621084</td>\n",
              "      <td>0.5648854961832062</td>\n",
              "      <td>0.8561904761904762</td>\n",
              "      <td>0.23178807947019867</td>\n",
              "      <td>0.5</td>\n",
              "    </tr>\n",
              "    <tr>\n",
              "      <th>0</th>\n",
              "      <td>Logistic - L1</td>\n",
              "      <td>0.7804081632653062</td>\n",
              "      <td>0.7606837606837606</td>\n",
              "      <td>0.37031900138696255</td>\n",
              "      <td>0.7638095238095238</td>\n",
              "      <td>0.7814569536423841</td>\n",
              "      <td>0.35435435435435436</td>\n",
              "    </tr>\n",
              "    <tr>\n",
              "      <th>0</th>\n",
              "      <td>DT</td>\n",
              "      <td>1.0</td>\n",
              "      <td>1.0</td>\n",
              "      <td>1.0</td>\n",
              "      <td>0.9028571428571428</td>\n",
              "      <td>0.6887417218543046</td>\n",
              "      <td>0.6540880503144654</td>\n",
              "    </tr>\n",
              "    <tr>\n",
              "      <th>0</th>\n",
              "      <td>DT_sm</td>\n",
              "      <td>0.7979990471653168</td>\n",
              "      <td>0.7260600285850405</td>\n",
              "      <td>0.8480801335559266</td>\n",
              "      <td>0.8561904761904762</td>\n",
              "      <td>0.7814569536423841</td>\n",
              "      <td>0.5</td>\n",
              "    </tr>\n",
              "    <tr>\n",
              "      <th>0</th>\n",
              "      <td>RFC</td>\n",
              "      <td>0.9551020408163265</td>\n",
              "      <td>0.6866096866096866</td>\n",
              "      <td>1.0</td>\n",
              "      <td>0.9333333333333333</td>\n",
              "      <td>0.5629139072847682</td>\n",
              "      <td>0.9550561797752809</td>\n",
              "    </tr>\n",
              "    <tr>\n",
              "      <th>0</th>\n",
              "      <td>RFC_grid</td>\n",
              "      <td>0.953469387755102</td>\n",
              "      <td>0.6866096866096866</td>\n",
              "      <td>0.9836734693877551</td>\n",
              "      <td>0.9333333333333333</td>\n",
              "      <td>0.5695364238410596</td>\n",
              "      <td>0.945054945054945</td>\n",
              "    </tr>\n",
              "    <tr>\n",
              "      <th>0</th>\n",
              "      <td>Adaboost</td>\n",
              "      <td>0.8922448979591837</td>\n",
              "      <td>0.43304843304843305</td>\n",
              "      <td>0.7004608294930875</td>\n",
              "      <td>0.878095238095238</td>\n",
              "      <td>0.40397350993377484</td>\n",
              "      <td>0.6161616161616161</td>\n",
              "    </tr>\n",
              "    <tr>\n",
              "      <th>0</th>\n",
              "      <td>Adaboost_sm</td>\n",
              "      <td>0.8832777513101477</td>\n",
              "      <td>0.8685088137208195</td>\n",
              "      <td>0.8949435444280806</td>\n",
              "      <td>0.8609523809523809</td>\n",
              "      <td>0.7086092715231788</td>\n",
              "      <td>0.5119617224880383</td>\n",
              "    </tr>\n",
              "    <tr>\n",
              "      <th>0</th>\n",
              "      <td>Gradient_Boosting</td>\n",
              "      <td>0.9710204081632653</td>\n",
              "      <td>0.8034188034188035</td>\n",
              "      <td>0.9929577464788732</td>\n",
              "      <td>0.9523809523809523</td>\n",
              "      <td>0.7417218543046358</td>\n",
              "      <td>0.9105691056910569</td>\n",
              "    </tr>\n",
              "    <tr>\n",
              "      <th>0</th>\n",
              "      <td>XGB</td>\n",
              "      <td>0.976326530612245</td>\n",
              "      <td>0.8347578347578347</td>\n",
              "      <td>1.0</td>\n",
              "      <td>0.959047619047619</td>\n",
              "      <td>0.7549668874172185</td>\n",
              "      <td>0.95</td>\n",
              "    </tr>\n",
              "  </tbody>\n",
              "</table>\n",
              "</div>\n",
              "      <button class=\"colab-df-convert\" onclick=\"convertToInteractive('df-7442401f-67ea-47d3-934f-32e449bc03eb')\"\n",
              "              title=\"Convert this dataframe to an interactive table.\"\n",
              "              style=\"display:none;\">\n",
              "        \n",
              "  <svg xmlns=\"http://www.w3.org/2000/svg\" height=\"24px\"viewBox=\"0 0 24 24\"\n",
              "       width=\"24px\">\n",
              "    <path d=\"M0 0h24v24H0V0z\" fill=\"none\"/>\n",
              "    <path d=\"M18.56 5.44l.94 2.06.94-2.06 2.06-.94-2.06-.94-.94-2.06-.94 2.06-2.06.94zm-11 1L8.5 8.5l.94-2.06 2.06-.94-2.06-.94L8.5 2.5l-.94 2.06-2.06.94zm10 10l.94 2.06.94-2.06 2.06-.94-2.06-.94-.94-2.06-.94 2.06-2.06.94z\"/><path d=\"M17.41 7.96l-1.37-1.37c-.4-.4-.92-.59-1.43-.59-.52 0-1.04.2-1.43.59L10.3 9.45l-7.72 7.72c-.78.78-.78 2.05 0 2.83L4 21.41c.39.39.9.59 1.41.59.51 0 1.02-.2 1.41-.59l7.78-7.78 2.81-2.81c.8-.78.8-2.07 0-2.86zM5.41 20L4 18.59l7.72-7.72 1.47 1.35L5.41 20z\"/>\n",
              "  </svg>\n",
              "      </button>\n",
              "      \n",
              "  <style>\n",
              "    .colab-df-container {\n",
              "      display:flex;\n",
              "      flex-wrap:wrap;\n",
              "      gap: 12px;\n",
              "    }\n",
              "\n",
              "    .colab-df-convert {\n",
              "      background-color: #E8F0FE;\n",
              "      border: none;\n",
              "      border-radius: 50%;\n",
              "      cursor: pointer;\n",
              "      display: none;\n",
              "      fill: #1967D2;\n",
              "      height: 32px;\n",
              "      padding: 0 0 0 0;\n",
              "      width: 32px;\n",
              "    }\n",
              "\n",
              "    .colab-df-convert:hover {\n",
              "      background-color: #E2EBFA;\n",
              "      box-shadow: 0px 1px 2px rgba(60, 64, 67, 0.3), 0px 1px 3px 1px rgba(60, 64, 67, 0.15);\n",
              "      fill: #174EA6;\n",
              "    }\n",
              "\n",
              "    [theme=dark] .colab-df-convert {\n",
              "      background-color: #3B4455;\n",
              "      fill: #D2E3FC;\n",
              "    }\n",
              "\n",
              "    [theme=dark] .colab-df-convert:hover {\n",
              "      background-color: #434B5C;\n",
              "      box-shadow: 0px 1px 3px 1px rgba(0, 0, 0, 0.15);\n",
              "      filter: drop-shadow(0px 1px 2px rgba(0, 0, 0, 0.3));\n",
              "      fill: #FFFFFF;\n",
              "    }\n",
              "  </style>\n",
              "\n",
              "      <script>\n",
              "        const buttonEl =\n",
              "          document.querySelector('#df-7442401f-67ea-47d3-934f-32e449bc03eb button.colab-df-convert');\n",
              "        buttonEl.style.display =\n",
              "          google.colab.kernel.accessAllowed ? 'block' : 'none';\n",
              "\n",
              "        async function convertToInteractive(key) {\n",
              "          const element = document.querySelector('#df-7442401f-67ea-47d3-934f-32e449bc03eb');\n",
              "          const dataTable =\n",
              "            await google.colab.kernel.invokeFunction('convertToInteractive',\n",
              "                                                     [key], {});\n",
              "          if (!dataTable) return;\n",
              "\n",
              "          const docLinkHtml = 'Like what you see? Visit the ' +\n",
              "            '<a target=\"_blank\" href=https://colab.research.google.com/notebooks/data_table.ipynb>data table notebook</a>'\n",
              "            + ' to learn more about interactive tables.';\n",
              "          element.innerHTML = '';\n",
              "          dataTable['output_type'] = 'display_data';\n",
              "          await google.colab.output.renderOutput(dataTable, element);\n",
              "          const docLink = document.createElement('div');\n",
              "          docLink.innerHTML = docLinkHtml;\n",
              "          element.appendChild(docLink);\n",
              "        }\n",
              "      </script>\n",
              "    </div>\n",
              "  </div>\n",
              "  "
            ]
          },
          "metadata": {},
          "execution_count": 187
        }
      ]
    },
    {
      "cell_type": "markdown",
      "source": [
        "SUPPORT VACTOR MACHINE."
      ],
      "metadata": {
        "id": "bcl9vZarvlOq"
      }
    },
    {
      "cell_type": "code",
      "source": [
        "from sklearn.svm import SVC\n"
      ],
      "metadata": {
        "id": "nOhSh3qjv2Xh"
      },
      "execution_count": null,
      "outputs": []
    },
    {
      "cell_type": "code",
      "source": [
        "linear_svm = SVC(kernel='rbf',C=1)"
      ],
      "metadata": {
        "id": "GJgcdINDvk1T"
      },
      "execution_count": null,
      "outputs": []
    },
    {
      "cell_type": "code",
      "source": [
        "linear_svm.fit(X_train, Y_train)"
      ],
      "metadata": {
        "id": "r4rDOJ9Ovkx6",
        "colab": {
          "base_uri": "https://localhost:8080/"
        },
        "outputId": "9be8488a-e677-424d-ee69-6080f7d40be3"
      },
      "execution_count": null,
      "outputs": [
        {
          "output_type": "execute_result",
          "data": {
            "text/plain": [
              "SVC(C=1)"
            ]
          },
          "metadata": {},
          "execution_count": 190
        }
      ]
    },
    {
      "cell_type": "code",
      "source": [
        "train_pred = linear_svm.predict(X_train)\n",
        "val_pred = linear_svm.predict(X_val)"
      ],
      "metadata": {
        "id": "YbfKyZaqvku3"
      },
      "execution_count": null,
      "outputs": []
    },
    {
      "cell_type": "code",
      "source": [
        "\n",
        "### Train data accuracy\n",
        "evaluate_model(Y_train, train_pred)\n",
        "\n",
        "### val data accuracy\n",
        "evaluate_model(Y_val,val_pred)"
      ],
      "metadata": {
        "id": "Bh2IGGaiwTWw",
        "colab": {
          "base_uri": "https://localhost:8080/"
        },
        "outputId": "aa378607-3453-4716-dde4-c52f5318e4fc"
      },
      "execution_count": null,
      "outputs": [
        {
          "output_type": "stream",
          "name": "stdout",
          "text": [
            "Confusion Matrix \n",
            " [[2094    5]\n",
            " [ 147  204]]\n",
            "Accurcay :  0.9379591836734694\n",
            "Recall   :  0.5811965811965812\n",
            "Precision:  0.9760765550239234\n",
            "Confusion Matrix \n",
            " [[892   7]\n",
            " [ 83  68]]\n",
            "Accurcay :  0.9142857142857143\n",
            "Recall   :  0.4503311258278146\n",
            "Precision:  0.9066666666666666\n"
          ]
        }
      ]
    },
    {
      "cell_type": "code",
      "source": [
        "svc_grid = SVC()\n",
        " \n",
        "param_grid = { \n",
        "                'C': [0.001, 0.1],\n",
        "                'gamma': [0.001, 10], \n",
        "                'kernel':['rbf','poly']\n",
        "             }\n",
        "\n",
        "svc_cv_grid = GridSearchCV(estimator = svc_grid, param_grid =param_grid, cv = 3)"
      ],
      "metadata": {
        "id": "Aa0z86R2wjRK"
      },
      "execution_count": null,
      "outputs": []
    },
    {
      "cell_type": "code",
      "source": [
        "svc_cv_grid.fit(X_train,Y_train)"
      ],
      "metadata": {
        "colab": {
          "base_uri": "https://localhost:8080/"
        },
        "id": "LHPKl1HtK4sa",
        "outputId": "78a49d8c-942d-4014-c3ed-5579e035accd"
      },
      "execution_count": null,
      "outputs": [
        {
          "output_type": "execute_result",
          "data": {
            "text/plain": [
              "GridSearchCV(cv=3, estimator=SVC(),\n",
              "             param_grid={'C': [0.001, 0.1], 'gamma': [0.001, 10],\n",
              "                         'kernel': ['rbf', 'poly']})"
            ]
          },
          "metadata": {},
          "execution_count": 194
        }
      ]
    },
    {
      "cell_type": "code",
      "source": [
        "svc_cv_grid.best_params_"
      ],
      "metadata": {
        "id": "Th2GYQWXw_Hw",
        "colab": {
          "base_uri": "https://localhost:8080/"
        },
        "outputId": "3aca36c5-b43a-4532-b250-fe4dea5314b7"
      },
      "execution_count": null,
      "outputs": [
        {
          "output_type": "execute_result",
          "data": {
            "text/plain": [
              "{'C': 0.001, 'gamma': 0.001, 'kernel': 'rbf'}"
            ]
          },
          "metadata": {},
          "execution_count": 195
        }
      ]
    },
    {
      "cell_type": "code",
      "source": [
        "train_preds=svc_cv_grid.predict(X_train) \n",
        "test_preds=svc_cv_grid.predict(X_test)                           "
      ],
      "metadata": {
        "id": "sJ224DwhSSQh"
      },
      "execution_count": null,
      "outputs": []
    },
    {
      "cell_type": "code",
      "source": [
        "print(classification_report(Y_train,train_preds))"
      ],
      "metadata": {
        "colab": {
          "base_uri": "https://localhost:8080/"
        },
        "id": "hnfnKoqBSvEt",
        "outputId": "0c8ca151-e0fd-49ee-adba-91d71b961919"
      },
      "execution_count": null,
      "outputs": [
        {
          "output_type": "stream",
          "name": "stdout",
          "text": [
            "              precision    recall  f1-score   support\n",
            "\n",
            "           0       0.86      1.00      0.92      2099\n",
            "           1       0.00      0.00      0.00       351\n",
            "\n",
            "    accuracy                           0.86      2450\n",
            "   macro avg       0.43      0.50      0.46      2450\n",
            "weighted avg       0.73      0.86      0.79      2450\n",
            "\n"
          ]
        }
      ]
    },
    {
      "cell_type": "code",
      "source": [
        "print(classification_report(Y_val,val_preds))"
      ],
      "metadata": {
        "colab": {
          "base_uri": "https://localhost:8080/"
        },
        "id": "KgIQDEgBS1Wr",
        "outputId": "9df51730-0029-446b-c192-a11dc2fd59f6"
      },
      "execution_count": null,
      "outputs": [
        {
          "output_type": "stream",
          "name": "stdout",
          "text": [
            "              precision    recall  f1-score   support\n",
            "\n",
            "           0       0.95      0.76      0.85       899\n",
            "           1       0.35      0.78      0.49       151\n",
            "\n",
            "    accuracy                           0.76      1050\n",
            "   macro avg       0.65      0.77      0.67      1050\n",
            "weighted avg       0.87      0.76      0.79      1050\n",
            "\n"
          ]
        }
      ]
    },
    {
      "cell_type": "code",
      "source": [
        "train_accuracy_svm= accuracy_score(Y_train,train_preds)\n",
        "train_recall_svm= recall_score(Y_train,train_preds)\n",
        "train_precision_svm= precision_score(Y_train,train_preds)\n",
        "\n",
        "val_accuracy_svm= accuracy_score(Y_val,val_preds)\n",
        "val_recall_svm= recall_score(Y_val,val_preds)\n",
        "val_precision_svm= precision_score(Y_val,val_preds)"
      ],
      "metadata": {
        "id": "lGuIwSjlS4Ib"
      },
      "execution_count": null,
      "outputs": []
    },
    {
      "cell_type": "code",
      "source": [
        "SVM= np.array(['SVM',train_accuracy_svm,train_recall_svm,\n",
        "                          train_precision_svm,val_accuracy_svm,val_recall_svm,\n",
        "                          val_precision_svm]).reshape(1,7)\n",
        "model_performance = model_performance.append(pd.DataFrame(SVM,columns=model_performance.columns))"
      ],
      "metadata": {
        "id": "HqVyMc3YTVp0"
      },
      "execution_count": null,
      "outputs": []
    },
    {
      "cell_type": "code",
      "source": [
        "model_performance"
      ],
      "metadata": {
        "colab": {
          "base_uri": "https://localhost:8080/",
          "height": 394
        },
        "id": "77KukKlSc1yh",
        "outputId": "05925a7b-1b35-4b84-ed63-14768e31a382"
      },
      "execution_count": null,
      "outputs": [
        {
          "output_type": "execute_result",
          "data": {
            "text/plain": [
              "                  Model      Train Accuracy         Train Recall  \\\n",
              "0  Logistic - Reg_Ridge  0.8636734693877551  0.21082621082621084   \n",
              "0         Logistic - L1  0.7804081632653062   0.7606837606837606   \n",
              "0                    DT                 1.0                  1.0   \n",
              "0                 DT_sm  0.7979990471653168   0.7260600285850405   \n",
              "0                   RFC  0.9551020408163265   0.6866096866096866   \n",
              "0              RFC_grid   0.953469387755102   0.6866096866096866   \n",
              "0              Adaboost  0.8922448979591837  0.43304843304843305   \n",
              "0           Adaboost_sm  0.8832777513101477   0.8685088137208195   \n",
              "0     Gradient_Boosting  0.9710204081632653   0.8034188034188035   \n",
              "0                   XGB   0.976326530612245   0.8347578347578347   \n",
              "0                   SVM   0.856734693877551                  0.0   \n",
              "\n",
              "       Train Precision        Val Accuracy           Val Recall  \\\n",
              "0   0.5648854961832062  0.8561904761904762  0.23178807947019867   \n",
              "0  0.37031900138696255  0.7638095238095238   0.7814569536423841   \n",
              "0                  1.0  0.9028571428571428   0.6887417218543046   \n",
              "0   0.8480801335559266  0.8561904761904762   0.7814569536423841   \n",
              "0                  1.0  0.9333333333333333   0.5629139072847682   \n",
              "0   0.9836734693877551  0.9333333333333333   0.5695364238410596   \n",
              "0   0.7004608294930875   0.878095238095238  0.40397350993377484   \n",
              "0   0.8949435444280806  0.8609523809523809   0.7086092715231788   \n",
              "0   0.9929577464788732  0.9523809523809523   0.7417218543046358   \n",
              "0                  1.0   0.959047619047619   0.7549668874172185   \n",
              "0                  0.0  0.7638095238095238   0.7814569536423841   \n",
              "\n",
              "         Val Precision  \n",
              "0                  0.5  \n",
              "0  0.35435435435435436  \n",
              "0   0.6540880503144654  \n",
              "0                  0.5  \n",
              "0   0.9550561797752809  \n",
              "0    0.945054945054945  \n",
              "0   0.6161616161616161  \n",
              "0   0.5119617224880383  \n",
              "0   0.9105691056910569  \n",
              "0                 0.95  \n",
              "0  0.35435435435435436  "
            ],
            "text/html": [
              "\n",
              "  <div id=\"df-c67b6019-ce0f-473e-8550-4d3c66b439e5\">\n",
              "    <div class=\"colab-df-container\">\n",
              "      <div>\n",
              "<style scoped>\n",
              "    .dataframe tbody tr th:only-of-type {\n",
              "        vertical-align: middle;\n",
              "    }\n",
              "\n",
              "    .dataframe tbody tr th {\n",
              "        vertical-align: top;\n",
              "    }\n",
              "\n",
              "    .dataframe thead th {\n",
              "        text-align: right;\n",
              "    }\n",
              "</style>\n",
              "<table border=\"1\" class=\"dataframe\">\n",
              "  <thead>\n",
              "    <tr style=\"text-align: right;\">\n",
              "      <th></th>\n",
              "      <th>Model</th>\n",
              "      <th>Train Accuracy</th>\n",
              "      <th>Train Recall</th>\n",
              "      <th>Train Precision</th>\n",
              "      <th>Val Accuracy</th>\n",
              "      <th>Val Recall</th>\n",
              "      <th>Val Precision</th>\n",
              "    </tr>\n",
              "  </thead>\n",
              "  <tbody>\n",
              "    <tr>\n",
              "      <th>0</th>\n",
              "      <td>Logistic - Reg_Ridge</td>\n",
              "      <td>0.8636734693877551</td>\n",
              "      <td>0.21082621082621084</td>\n",
              "      <td>0.5648854961832062</td>\n",
              "      <td>0.8561904761904762</td>\n",
              "      <td>0.23178807947019867</td>\n",
              "      <td>0.5</td>\n",
              "    </tr>\n",
              "    <tr>\n",
              "      <th>0</th>\n",
              "      <td>Logistic - L1</td>\n",
              "      <td>0.7804081632653062</td>\n",
              "      <td>0.7606837606837606</td>\n",
              "      <td>0.37031900138696255</td>\n",
              "      <td>0.7638095238095238</td>\n",
              "      <td>0.7814569536423841</td>\n",
              "      <td>0.35435435435435436</td>\n",
              "    </tr>\n",
              "    <tr>\n",
              "      <th>0</th>\n",
              "      <td>DT</td>\n",
              "      <td>1.0</td>\n",
              "      <td>1.0</td>\n",
              "      <td>1.0</td>\n",
              "      <td>0.9028571428571428</td>\n",
              "      <td>0.6887417218543046</td>\n",
              "      <td>0.6540880503144654</td>\n",
              "    </tr>\n",
              "    <tr>\n",
              "      <th>0</th>\n",
              "      <td>DT_sm</td>\n",
              "      <td>0.7979990471653168</td>\n",
              "      <td>0.7260600285850405</td>\n",
              "      <td>0.8480801335559266</td>\n",
              "      <td>0.8561904761904762</td>\n",
              "      <td>0.7814569536423841</td>\n",
              "      <td>0.5</td>\n",
              "    </tr>\n",
              "    <tr>\n",
              "      <th>0</th>\n",
              "      <td>RFC</td>\n",
              "      <td>0.9551020408163265</td>\n",
              "      <td>0.6866096866096866</td>\n",
              "      <td>1.0</td>\n",
              "      <td>0.9333333333333333</td>\n",
              "      <td>0.5629139072847682</td>\n",
              "      <td>0.9550561797752809</td>\n",
              "    </tr>\n",
              "    <tr>\n",
              "      <th>0</th>\n",
              "      <td>RFC_grid</td>\n",
              "      <td>0.953469387755102</td>\n",
              "      <td>0.6866096866096866</td>\n",
              "      <td>0.9836734693877551</td>\n",
              "      <td>0.9333333333333333</td>\n",
              "      <td>0.5695364238410596</td>\n",
              "      <td>0.945054945054945</td>\n",
              "    </tr>\n",
              "    <tr>\n",
              "      <th>0</th>\n",
              "      <td>Adaboost</td>\n",
              "      <td>0.8922448979591837</td>\n",
              "      <td>0.43304843304843305</td>\n",
              "      <td>0.7004608294930875</td>\n",
              "      <td>0.878095238095238</td>\n",
              "      <td>0.40397350993377484</td>\n",
              "      <td>0.6161616161616161</td>\n",
              "    </tr>\n",
              "    <tr>\n",
              "      <th>0</th>\n",
              "      <td>Adaboost_sm</td>\n",
              "      <td>0.8832777513101477</td>\n",
              "      <td>0.8685088137208195</td>\n",
              "      <td>0.8949435444280806</td>\n",
              "      <td>0.8609523809523809</td>\n",
              "      <td>0.7086092715231788</td>\n",
              "      <td>0.5119617224880383</td>\n",
              "    </tr>\n",
              "    <tr>\n",
              "      <th>0</th>\n",
              "      <td>Gradient_Boosting</td>\n",
              "      <td>0.9710204081632653</td>\n",
              "      <td>0.8034188034188035</td>\n",
              "      <td>0.9929577464788732</td>\n",
              "      <td>0.9523809523809523</td>\n",
              "      <td>0.7417218543046358</td>\n",
              "      <td>0.9105691056910569</td>\n",
              "    </tr>\n",
              "    <tr>\n",
              "      <th>0</th>\n",
              "      <td>XGB</td>\n",
              "      <td>0.976326530612245</td>\n",
              "      <td>0.8347578347578347</td>\n",
              "      <td>1.0</td>\n",
              "      <td>0.959047619047619</td>\n",
              "      <td>0.7549668874172185</td>\n",
              "      <td>0.95</td>\n",
              "    </tr>\n",
              "    <tr>\n",
              "      <th>0</th>\n",
              "      <td>SVM</td>\n",
              "      <td>0.856734693877551</td>\n",
              "      <td>0.0</td>\n",
              "      <td>0.0</td>\n",
              "      <td>0.7638095238095238</td>\n",
              "      <td>0.7814569536423841</td>\n",
              "      <td>0.35435435435435436</td>\n",
              "    </tr>\n",
              "  </tbody>\n",
              "</table>\n",
              "</div>\n",
              "      <button class=\"colab-df-convert\" onclick=\"convertToInteractive('df-c67b6019-ce0f-473e-8550-4d3c66b439e5')\"\n",
              "              title=\"Convert this dataframe to an interactive table.\"\n",
              "              style=\"display:none;\">\n",
              "        \n",
              "  <svg xmlns=\"http://www.w3.org/2000/svg\" height=\"24px\"viewBox=\"0 0 24 24\"\n",
              "       width=\"24px\">\n",
              "    <path d=\"M0 0h24v24H0V0z\" fill=\"none\"/>\n",
              "    <path d=\"M18.56 5.44l.94 2.06.94-2.06 2.06-.94-2.06-.94-.94-2.06-.94 2.06-2.06.94zm-11 1L8.5 8.5l.94-2.06 2.06-.94-2.06-.94L8.5 2.5l-.94 2.06-2.06.94zm10 10l.94 2.06.94-2.06 2.06-.94-2.06-.94-.94-2.06-.94 2.06-2.06.94z\"/><path d=\"M17.41 7.96l-1.37-1.37c-.4-.4-.92-.59-1.43-.59-.52 0-1.04.2-1.43.59L10.3 9.45l-7.72 7.72c-.78.78-.78 2.05 0 2.83L4 21.41c.39.39.9.59 1.41.59.51 0 1.02-.2 1.41-.59l7.78-7.78 2.81-2.81c.8-.78.8-2.07 0-2.86zM5.41 20L4 18.59l7.72-7.72 1.47 1.35L5.41 20z\"/>\n",
              "  </svg>\n",
              "      </button>\n",
              "      \n",
              "  <style>\n",
              "    .colab-df-container {\n",
              "      display:flex;\n",
              "      flex-wrap:wrap;\n",
              "      gap: 12px;\n",
              "    }\n",
              "\n",
              "    .colab-df-convert {\n",
              "      background-color: #E8F0FE;\n",
              "      border: none;\n",
              "      border-radius: 50%;\n",
              "      cursor: pointer;\n",
              "      display: none;\n",
              "      fill: #1967D2;\n",
              "      height: 32px;\n",
              "      padding: 0 0 0 0;\n",
              "      width: 32px;\n",
              "    }\n",
              "\n",
              "    .colab-df-convert:hover {\n",
              "      background-color: #E2EBFA;\n",
              "      box-shadow: 0px 1px 2px rgba(60, 64, 67, 0.3), 0px 1px 3px 1px rgba(60, 64, 67, 0.15);\n",
              "      fill: #174EA6;\n",
              "    }\n",
              "\n",
              "    [theme=dark] .colab-df-convert {\n",
              "      background-color: #3B4455;\n",
              "      fill: #D2E3FC;\n",
              "    }\n",
              "\n",
              "    [theme=dark] .colab-df-convert:hover {\n",
              "      background-color: #434B5C;\n",
              "      box-shadow: 0px 1px 3px 1px rgba(0, 0, 0, 0.15);\n",
              "      filter: drop-shadow(0px 1px 2px rgba(0, 0, 0, 0.3));\n",
              "      fill: #FFFFFF;\n",
              "    }\n",
              "  </style>\n",
              "\n",
              "      <script>\n",
              "        const buttonEl =\n",
              "          document.querySelector('#df-c67b6019-ce0f-473e-8550-4d3c66b439e5 button.colab-df-convert');\n",
              "        buttonEl.style.display =\n",
              "          google.colab.kernel.accessAllowed ? 'block' : 'none';\n",
              "\n",
              "        async function convertToInteractive(key) {\n",
              "          const element = document.querySelector('#df-c67b6019-ce0f-473e-8550-4d3c66b439e5');\n",
              "          const dataTable =\n",
              "            await google.colab.kernel.invokeFunction('convertToInteractive',\n",
              "                                                     [key], {});\n",
              "          if (!dataTable) return;\n",
              "\n",
              "          const docLinkHtml = 'Like what you see? Visit the ' +\n",
              "            '<a target=\"_blank\" href=https://colab.research.google.com/notebooks/data_table.ipynb>data table notebook</a>'\n",
              "            + ' to learn more about interactive tables.';\n",
              "          element.innerHTML = '';\n",
              "          dataTable['output_type'] = 'display_data';\n",
              "          await google.colab.output.renderOutput(dataTable, element);\n",
              "          const docLink = document.createElement('div');\n",
              "          docLink.innerHTML = docLinkHtml;\n",
              "          element.appendChild(docLink);\n",
              "        }\n",
              "      </script>\n",
              "    </div>\n",
              "  </div>\n",
              "  "
            ]
          },
          "metadata": {},
          "execution_count": 201
        }
      ]
    },
    {
      "cell_type": "code",
      "source": [],
      "metadata": {
        "id": "p444sYbidb_P"
      },
      "execution_count": null,
      "outputs": []
    },
    {
      "cell_type": "markdown",
      "source": [
        "From all the above model Gradient Boosting and  Extreme Gradient Boosting giving better perforamce .So lets predict for test data using this two algorithms .### Here we have to give importance for recall of 1's."
      ],
      "metadata": {
        "id": "wv0qZl7KmMS8"
      }
    },
    {
      "cell_type": "markdown",
      "source": [
        "***Extreme Gradient Boosting predictions on Test Data***"
      ],
      "metadata": {
        "id": "VkIR0WEbnRGA"
      }
    },
    {
      "cell_type": "code",
      "source": [
        "Test_preds=CV_XGB.predict(X_test)"
      ],
      "metadata": {
        "id": "p5ptxszDnPPM"
      },
      "execution_count": null,
      "outputs": []
    },
    {
      "cell_type": "markdown",
      "source": [
        "*AS we have test  set target values .so lets see performance of selected Algorithm*"
      ],
      "metadata": {
        "id": "CakmnIZ5oEyq"
      }
    },
    {
      "cell_type": "code",
      "source": [
        "print(classification_report(Y_test,Test_preds))"
      ],
      "metadata": {
        "colab": {
          "base_uri": "https://localhost:8080/"
        },
        "id": "FA5yjo5In93S",
        "outputId": "ef0ee639-01b2-4caa-8ab6-c3b2f66a0900"
      },
      "execution_count": null,
      "outputs": [
        {
          "output_type": "stream",
          "name": "stdout",
          "text": [
            "              precision    recall  f1-score   support\n",
            "\n",
            "           0       0.97      0.99      0.98      1295\n",
            "           1       0.92      0.80      0.85       205\n",
            "\n",
            "    accuracy                           0.96      1500\n",
            "   macro avg       0.94      0.89      0.92      1500\n",
            "weighted avg       0.96      0.96      0.96      1500\n",
            "\n"
          ]
        }
      ]
    },
    {
      "cell_type": "code",
      "source": [
        "print(classification_report(Y_train,train_pred_xgb))"
      ],
      "metadata": {
        "colab": {
          "base_uri": "https://localhost:8080/"
        },
        "id": "Byp9QE-XsMF8",
        "outputId": "b1511419-4515-49c4-d8ef-9bb238f6f04e"
      },
      "execution_count": null,
      "outputs": [
        {
          "output_type": "stream",
          "name": "stdout",
          "text": [
            "              precision    recall  f1-score   support\n",
            "\n",
            "           0       0.97      1.00      0.99      2099\n",
            "           1       1.00      0.83      0.91       351\n",
            "\n",
            "    accuracy                           0.98      2450\n",
            "   macro avg       0.99      0.92      0.95      2450\n",
            "weighted avg       0.98      0.98      0.98      2450\n",
            "\n"
          ]
        }
      ]
    },
    {
      "cell_type": "markdown",
      "source": [
        "# ***`Project Report`***"
      ],
      "metadata": {
        "id": "2AuHaWJayrgK"
      }
    },
    {
      "cell_type": "markdown",
      "source": [
        "**Who**?\n",
        "From above information we can find Who is churning out from company with 80% .\n",
        "**Why**?\n",
        "\n",
        "This inforamtion  lead to help us to find why they  are  churning .\n",
        "\n",
        "**When**?\n",
        "\n",
        "Based o this we can also find when there going to churm Out.\n",
        "\n",
        "***With this information,  we all set to reduce customer churn and improve retention***. \n"
      ],
      "metadata": {
        "id": "Jg5GsU7cvuH4"
      }
    },
    {
      "cell_type": "code",
      "source": [],
      "metadata": {
        "id": "ZBsEpiNAuS2T"
      },
      "execution_count": null,
      "outputs": []
    }
  ]
}